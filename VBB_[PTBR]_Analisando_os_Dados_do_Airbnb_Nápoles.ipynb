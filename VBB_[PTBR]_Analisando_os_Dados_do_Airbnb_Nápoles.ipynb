{
  "nbformat": 4,
  "nbformat_minor": 0,
  "metadata": {
    "colab": {
      "name": "VBB [PTBR] - Analisando os Dados do Airbnb - Nápoles.ipynb",
      "provenance": [],
      "collapsed_sections": [],
      "include_colab_link": true
    },
    "kernelspec": {
      "name": "python3",
      "display_name": "Python 3"
    }
  },
  "cells": [
    {
      "cell_type": "markdown",
      "metadata": {
        "id": "view-in-github",
        "colab_type": "text"
      },
      "source": [
        "<a href=\"https://colab.research.google.com/github/viniciusbohn/data_science/blob/main/VBB_%5BPTBR%5D_Analisando_os_Dados_do_Airbnb_N%C3%A1poles.ipynb\" target=\"_parent\"><img src=\"https://colab.research.google.com/assets/colab-badge.svg\" alt=\"Open In Colab\"/></a>"
      ]
    },
    {
      "cell_type": "markdown",
      "metadata": {
        "id": "kLI0gJtzDGuQ"
      },
      "source": [
        "<img alt=\"Colaboratory logo\" width=\"15%\" src=\"https://raw.githubusercontent.com/carlosfab/escola-data-science/master/img/novo_logo_bg_claro.png\">\n",
        "\n",
        "#### **Data Science na Prática 3.0**\n",
        "*by [sigmoidal.ai](https://sigmoidal.ai)*\n",
        "\n",
        "---\n",
        "\n",
        "# Análise dos Dados do Airbnb - Nápoles *(Naples)*\n",
        "\n",
        "## Um *case* de sucesso: *Airbnb*\n",
        "\n",
        "Você sabia que a denominada **maior empresa hoteleira da atualidade não possui nenhum hotel?** Não? Pois conheça a plataforma inovadora da [Airbnb](https://www.airbnb.com.br/).\n",
        "\n",
        "O Airbnb foi criado em 2007 quando dois anfitriões receberam três convidados em sua casa em *San Francisco, CA, USA*. Desde então a plataforma cresceu exponencialmente, através dela cerca de 4 milhões de anfitriões abriram as portas de seus estabelecimentos para mais de 1 bilhão de hóspedes.\n",
        "\n",
        "O conceito da plataforma visa proporcionar praticidade e qualidade na experiência do usuário, seja ele um anfitrião ou hospéde. É esse conceito, até então, tem conquistado os clientes. Mais de US$ 150.000.000,00 já foram arrecadados por anfitriões, desde a implantação da plataforma (dados de fevereiro de 2022).\n",
        "\n",
        "Uma das iniciativas mais interessantes por parte do Airbnb é disponibilizar dados de hospedagem de algumas das principais cidades do mundo. Por meio do portal [Inside Airbnb](http://insideairbnb.com/get-the-data.html), é possível baixar uma grande quantidade de dados para desenvolver projetos e soluções de *Data Science*.\n",
        "\n",
        "<center><img alt=\"Analisando Airbnb\" width=\"10%\" src=\"https://www.area360.com.au/wp-content/uploads/2017/09/airbnb-logo.jpg\"></center>\n",
        "\n",
        "## *La meravigliosa Napoli*\n",
        "\n",
        "A cidade de Nápoles é repleta de atrações turísticas e paisagens exuberantes, agradando tanto os apaixonados pela história, com seus museus e catedrais, quanto aqueles que preferem aproveitar uma praia. A região é famosa também pela sua culinária, sendo responsável pela criação da nossa querida pizza. O quê melhor do que saborear a mais tradicional pizza em seu local de criação?\n",
        "\n",
        "<br>\n",
        "<center><img alt=\"Castel dell'Ovo\" width=\"70%\" src=\"https://dynamic-media-cdn.tripadvisor.com/media/photo-o/1b/43/11/1e/nice-area-to-stroll-at.jpg?w=1200&h=-1&s=1\"></center>\n",
        "<center><i>Castel dell'Ovo</i>, em Nápoles</center>\n",
        "<br>\n",
        "\n",
        "Napóles é a terceira maior cidade da Itália, depois de Roma e Milão, e é a capital da região da Campânia. A cidade também respira o futebol, sendo a casa da *Società Sportiva Calcio Napoli*, famosa equipe italiana por onde brilharam estrelas do esporte como *Edinson Cavani*, Careca e *Diego Armando Maradona*, este último que também dá o nome ao estádio onde o time manda seus jogos.\n",
        "\n",
        "<br>\n",
        "<br>\n",
        "\n",
        "<center><img alt=\"Estádio Diego Armando Maradona\" width=\"70%\" src=\"https://istoe.com.br/wp-content/uploads/sites/14/2020/12/san-paolo-scaled.jpg\"></center>\n",
        "<center>Estádio <i>Diego Armando Maradona</i>, em Nápoles</center>\n"
      ]
    },
    {
      "cell_type": "markdown",
      "source": [
        "Agora que já fomos introduzidos ao Airbnb e à cidade de Nápoles, iremos analisar dados de hospedagens na cidade, extraídos diretamente da plataforma do Airbnb. Os dados retirados do site são brutos, portanto serão realizadas uma série de operações com os dados, visando a obtenção de *insights* mais confiáveis e relevantes."
      ],
      "metadata": {
        "id": "tC_iAc21bYQD"
      }
    },
    {
      "cell_type": "markdown",
      "metadata": {
        "id": "0zxQHhIUDF_2"
      },
      "source": [
        "## Obtenção dos Dados\n"
      ]
    },
    {
      "cell_type": "markdown",
      "source": [
        "Os dados serão obtidos através da *Inside Airbnb*, mecanismo em que a plataforma *Airbnb* disponibiliza os dados de hospedagem de maneira pública. Para esta análise será utilizado o arquivo: listings.csv - Summary information and metrics for listings in Naples (good for visualisations)."
      ],
      "metadata": {
        "id": "zZMLS2Ktcet7"
      }
    },
    {
      "cell_type": "code",
      "metadata": {
        "id": "Vhp2wMPgJ6zX"
      },
      "source": [
        "# Importação dos pacotes necessários\n",
        "import pandas as pd\n",
        "import matplotlib.pyplot as plt\n",
        "import seaborn as sns\n",
        "import numpy as np\n",
        "\n",
        "%matplotlib inline"
      ],
      "execution_count": 66,
      "outputs": []
    },
    {
      "cell_type": "code",
      "metadata": {
        "id": "tUmoAT8DLQ5T"
      },
      "source": [
        "# Importação do arquivo 'listings.csv' do Inside Airbnb\n",
        "df = pd.read_csv('http://data.insideairbnb.com/italy/campania/naples/2021-12-15/visualisations/listings.csv')"
      ],
      "execution_count": 67,
      "outputs": []
    },
    {
      "cell_type": "markdown",
      "metadata": {
        "id": "qb5By2nIMS6m"
      },
      "source": [
        "## Análise dos Dados\n"
      ]
    },
    {
      "cell_type": "markdown",
      "source": [
        "Abaixo está fornecido o dicionário com todas as variáveis utilizadas nesta análise, de forma a facilitar o entendimento da estruturação dos dados. Este recurso pode ser utilizado para consulta posterior no decorrer da análise."
      ],
      "metadata": {
        "id": "qQJ_QlnndqSV"
      }
    },
    {
      "cell_type": "markdown",
      "metadata": {
        "id": "RYgvuebKNg8-"
      },
      "source": [
        "**Dicionário das variáveis**\n",
        "\n",
        "* `id` - número de id gerado para identificar o imóvel\n",
        "* `name` - nome da propriedade anunciada\n",
        "* `host_id` - número de id do proprietário (anfitrião) da propriedade\n",
        "* `host_name` - nome do anfitrião\n",
        "* `neighbourhood_group` - esta coluna não contém nenhum valor válido\n",
        "* `neighbourhood` - nome do bairro\n",
        "* `latitude` - coordenada da latitude da propriedade\n",
        "* `longitude` - coordenada da longitude da propriedade\n",
        "* `room_type` - informa o tipo de quarto que é oferecido\n",
        "* `price` - preço para alugar o imóvel\n",
        "* `minimum_nights` - quantidade mínima de noites para reservar\n",
        "* `number_of_reviews` - número de reviews que a propriedade possui\n",
        "* `last_review` - data do último review\n",
        "* `reviews_per_month` - quantidade de reviews por mês\n",
        "* `calculated_host_listings_count` - quantidade de imóveis do mesmo anfitrião\n",
        "* `availability_365` - número de dias de disponibilidade dentro de 365 dias\n",
        "\n",
        "Antes de iniciar qualquer análise, vamos verificar a cara do nosso *dataset*, analisando as 5 primeiras entradas."
      ]
    },
    {
      "cell_type": "code",
      "metadata": {
        "id": "2iS_dae7YQtO",
        "outputId": "4f6edb47-87e3-446f-817c-fa19e9c4a1ee",
        "colab": {
          "base_uri": "https://localhost:8080/",
          "height": 600
        }
      },
      "source": [
        "df.head()"
      ],
      "execution_count": 68,
      "outputs": [
        {
          "output_type": "execute_result",
          "data": {
            "text/html": [
              "\n",
              "  <div id=\"df-9317a608-5bc7-473d-9cd9-2b710112d437\">\n",
              "    <div class=\"colab-df-container\">\n",
              "      <div>\n",
              "<style scoped>\n",
              "    .dataframe tbody tr th:only-of-type {\n",
              "        vertical-align: middle;\n",
              "    }\n",
              "\n",
              "    .dataframe tbody tr th {\n",
              "        vertical-align: top;\n",
              "    }\n",
              "\n",
              "    .dataframe thead th {\n",
              "        text-align: right;\n",
              "    }\n",
              "</style>\n",
              "<table border=\"1\" class=\"dataframe\">\n",
              "  <thead>\n",
              "    <tr style=\"text-align: right;\">\n",
              "      <th></th>\n",
              "      <th>id</th>\n",
              "      <th>name</th>\n",
              "      <th>host_id</th>\n",
              "      <th>host_name</th>\n",
              "      <th>neighbourhood_group</th>\n",
              "      <th>neighbourhood</th>\n",
              "      <th>latitude</th>\n",
              "      <th>longitude</th>\n",
              "      <th>room_type</th>\n",
              "      <th>price</th>\n",
              "      <th>minimum_nights</th>\n",
              "      <th>number_of_reviews</th>\n",
              "      <th>last_review</th>\n",
              "      <th>reviews_per_month</th>\n",
              "      <th>calculated_host_listings_count</th>\n",
              "      <th>availability_365</th>\n",
              "      <th>number_of_reviews_ltm</th>\n",
              "      <th>license</th>\n",
              "    </tr>\n",
              "  </thead>\n",
              "  <tbody>\n",
              "    <tr>\n",
              "      <th>0</th>\n",
              "      <td>30466</td>\n",
              "      <td>Naturists rooms in the heart of city</td>\n",
              "      <td>14169118</td>\n",
              "      <td>Gigi</td>\n",
              "      <td>NaN</td>\n",
              "      <td>San Carlo all'Arena</td>\n",
              "      <td>40.85759</td>\n",
              "      <td>14.25943</td>\n",
              "      <td>Private room</td>\n",
              "      <td>52</td>\n",
              "      <td>2</td>\n",
              "      <td>0</td>\n",
              "      <td>NaN</td>\n",
              "      <td>NaN</td>\n",
              "      <td>8</td>\n",
              "      <td>1</td>\n",
              "      <td>0</td>\n",
              "      <td>NaN</td>\n",
              "    </tr>\n",
              "    <tr>\n",
              "      <th>1</th>\n",
              "      <td>30536</td>\n",
              "      <td>cosy room to let  in naples</td>\n",
              "      <td>14169118</td>\n",
              "      <td>Gigi</td>\n",
              "      <td>NaN</td>\n",
              "      <td>San Lorenzo</td>\n",
              "      <td>40.85543</td>\n",
              "      <td>14.25812</td>\n",
              "      <td>Private room</td>\n",
              "      <td>41</td>\n",
              "      <td>2</td>\n",
              "      <td>17</td>\n",
              "      <td>2017-11-27</td>\n",
              "      <td>0.12</td>\n",
              "      <td>8</td>\n",
              "      <td>43</td>\n",
              "      <td>0</td>\n",
              "      <td>NaN</td>\n",
              "    </tr>\n",
              "    <tr>\n",
              "      <th>2</th>\n",
              "      <td>63413</td>\n",
              "      <td>Charming Room on Riviera di Chiaia</td>\n",
              "      <td>309483</td>\n",
              "      <td>Paola</td>\n",
              "      <td>NaN</td>\n",
              "      <td>Chiaia</td>\n",
              "      <td>40.83319</td>\n",
              "      <td>14.22613</td>\n",
              "      <td>Entire home/apt</td>\n",
              "      <td>50</td>\n",
              "      <td>2</td>\n",
              "      <td>70</td>\n",
              "      <td>2021-11-14</td>\n",
              "      <td>0.71</td>\n",
              "      <td>1</td>\n",
              "      <td>350</td>\n",
              "      <td>9</td>\n",
              "      <td>NaN</td>\n",
              "    </tr>\n",
              "    <tr>\n",
              "      <th>3</th>\n",
              "      <td>74364</td>\n",
              "      <td>Cozy place in a princely Palace inside Old Town</td>\n",
              "      <td>289412</td>\n",
              "      <td>Davide</td>\n",
              "      <td>NaN</td>\n",
              "      <td>San Lorenzo</td>\n",
              "      <td>40.85120</td>\n",
              "      <td>14.25217</td>\n",
              "      <td>Entire home/apt</td>\n",
              "      <td>41</td>\n",
              "      <td>4</td>\n",
              "      <td>183</td>\n",
              "      <td>2021-11-16</td>\n",
              "      <td>1.43</td>\n",
              "      <td>8</td>\n",
              "      <td>222</td>\n",
              "      <td>23</td>\n",
              "      <td>NaN</td>\n",
              "    </tr>\n",
              "    <tr>\n",
              "      <th>4</th>\n",
              "      <td>76993</td>\n",
              "      <td>Central Cebollitas B&amp;B, spacious private ensuite.</td>\n",
              "      <td>411650</td>\n",
              "      <td>Cebollitas</td>\n",
              "      <td>NaN</td>\n",
              "      <td>Vomero</td>\n",
              "      <td>40.84568</td>\n",
              "      <td>14.22618</td>\n",
              "      <td>Private room</td>\n",
              "      <td>41</td>\n",
              "      <td>3</td>\n",
              "      <td>14</td>\n",
              "      <td>2021-10-22</td>\n",
              "      <td>0.16</td>\n",
              "      <td>4</td>\n",
              "      <td>338</td>\n",
              "      <td>4</td>\n",
              "      <td>NaN</td>\n",
              "    </tr>\n",
              "  </tbody>\n",
              "</table>\n",
              "</div>\n",
              "      <button class=\"colab-df-convert\" onclick=\"convertToInteractive('df-9317a608-5bc7-473d-9cd9-2b710112d437')\"\n",
              "              title=\"Convert this dataframe to an interactive table.\"\n",
              "              style=\"display:none;\">\n",
              "        \n",
              "  <svg xmlns=\"http://www.w3.org/2000/svg\" height=\"24px\"viewBox=\"0 0 24 24\"\n",
              "       width=\"24px\">\n",
              "    <path d=\"M0 0h24v24H0V0z\" fill=\"none\"/>\n",
              "    <path d=\"M18.56 5.44l.94 2.06.94-2.06 2.06-.94-2.06-.94-.94-2.06-.94 2.06-2.06.94zm-11 1L8.5 8.5l.94-2.06 2.06-.94-2.06-.94L8.5 2.5l-.94 2.06-2.06.94zm10 10l.94 2.06.94-2.06 2.06-.94-2.06-.94-.94-2.06-.94 2.06-2.06.94z\"/><path d=\"M17.41 7.96l-1.37-1.37c-.4-.4-.92-.59-1.43-.59-.52 0-1.04.2-1.43.59L10.3 9.45l-7.72 7.72c-.78.78-.78 2.05 0 2.83L4 21.41c.39.39.9.59 1.41.59.51 0 1.02-.2 1.41-.59l7.78-7.78 2.81-2.81c.8-.78.8-2.07 0-2.86zM5.41 20L4 18.59l7.72-7.72 1.47 1.35L5.41 20z\"/>\n",
              "  </svg>\n",
              "      </button>\n",
              "      \n",
              "  <style>\n",
              "    .colab-df-container {\n",
              "      display:flex;\n",
              "      flex-wrap:wrap;\n",
              "      gap: 12px;\n",
              "    }\n",
              "\n",
              "    .colab-df-convert {\n",
              "      background-color: #E8F0FE;\n",
              "      border: none;\n",
              "      border-radius: 50%;\n",
              "      cursor: pointer;\n",
              "      display: none;\n",
              "      fill: #1967D2;\n",
              "      height: 32px;\n",
              "      padding: 0 0 0 0;\n",
              "      width: 32px;\n",
              "    }\n",
              "\n",
              "    .colab-df-convert:hover {\n",
              "      background-color: #E2EBFA;\n",
              "      box-shadow: 0px 1px 2px rgba(60, 64, 67, 0.3), 0px 1px 3px 1px rgba(60, 64, 67, 0.15);\n",
              "      fill: #174EA6;\n",
              "    }\n",
              "\n",
              "    [theme=dark] .colab-df-convert {\n",
              "      background-color: #3B4455;\n",
              "      fill: #D2E3FC;\n",
              "    }\n",
              "\n",
              "    [theme=dark] .colab-df-convert:hover {\n",
              "      background-color: #434B5C;\n",
              "      box-shadow: 0px 1px 3px 1px rgba(0, 0, 0, 0.15);\n",
              "      filter: drop-shadow(0px 1px 2px rgba(0, 0, 0, 0.3));\n",
              "      fill: #FFFFFF;\n",
              "    }\n",
              "  </style>\n",
              "\n",
              "      <script>\n",
              "        const buttonEl =\n",
              "          document.querySelector('#df-9317a608-5bc7-473d-9cd9-2b710112d437 button.colab-df-convert');\n",
              "        buttonEl.style.display =\n",
              "          google.colab.kernel.accessAllowed ? 'block' : 'none';\n",
              "\n",
              "        async function convertToInteractive(key) {\n",
              "          const element = document.querySelector('#df-9317a608-5bc7-473d-9cd9-2b710112d437');\n",
              "          const dataTable =\n",
              "            await google.colab.kernel.invokeFunction('convertToInteractive',\n",
              "                                                     [key], {});\n",
              "          if (!dataTable) return;\n",
              "\n",
              "          const docLinkHtml = 'Like what you see? Visit the ' +\n",
              "            '<a target=\"_blank\" href=https://colab.research.google.com/notebooks/data_table.ipynb>data table notebook</a>'\n",
              "            + ' to learn more about interactive tables.';\n",
              "          element.innerHTML = '';\n",
              "          dataTable['output_type'] = 'display_data';\n",
              "          await google.colab.output.renderOutput(dataTable, element);\n",
              "          const docLink = document.createElement('div');\n",
              "          docLink.innerHTML = docLinkHtml;\n",
              "          element.appendChild(docLink);\n",
              "        }\n",
              "      </script>\n",
              "    </div>\n",
              "  </div>\n",
              "  "
            ],
            "text/plain": [
              "      id                                               name   host_id  \\\n",
              "0  30466               Naturists rooms in the heart of city  14169118   \n",
              "1  30536                        cosy room to let  in naples  14169118   \n",
              "2  63413                 Charming Room on Riviera di Chiaia    309483   \n",
              "3  74364    Cozy place in a princely Palace inside Old Town    289412   \n",
              "4  76993  Central Cebollitas B&B, spacious private ensuite.    411650   \n",
              "\n",
              "    host_name  neighbourhood_group        neighbourhood  latitude  longitude  \\\n",
              "0        Gigi                  NaN  San Carlo all'Arena  40.85759   14.25943   \n",
              "1        Gigi                  NaN          San Lorenzo  40.85543   14.25812   \n",
              "2       Paola                  NaN               Chiaia  40.83319   14.22613   \n",
              "3      Davide                  NaN          San Lorenzo  40.85120   14.25217   \n",
              "4  Cebollitas                  NaN               Vomero  40.84568   14.22618   \n",
              "\n",
              "         room_type  price  minimum_nights  number_of_reviews last_review  \\\n",
              "0     Private room     52               2                  0         NaN   \n",
              "1     Private room     41               2                 17  2017-11-27   \n",
              "2  Entire home/apt     50               2                 70  2021-11-14   \n",
              "3  Entire home/apt     41               4                183  2021-11-16   \n",
              "4     Private room     41               3                 14  2021-10-22   \n",
              "\n",
              "   reviews_per_month  calculated_host_listings_count  availability_365  \\\n",
              "0                NaN                               8                 1   \n",
              "1               0.12                               8                43   \n",
              "2               0.71                               1               350   \n",
              "3               1.43                               8               222   \n",
              "4               0.16                               4               338   \n",
              "\n",
              "   number_of_reviews_ltm license  \n",
              "0                      0     NaN  \n",
              "1                      0     NaN  \n",
              "2                      9     NaN  \n",
              "3                     23     NaN  \n",
              "4                      4     NaN  "
            ]
          },
          "metadata": {},
          "execution_count": 68
        }
      ]
    },
    {
      "cell_type": "markdown",
      "source": [
        "### Análise Preliminar dos Dados"
      ],
      "metadata": {
        "id": "Re-kVBJYgZmU"
      }
    },
    {
      "cell_type": "markdown",
      "source": [
        "Inicialmente, vamos verificar a quantidade de entradas e variáveis do nosso DataFrame. Em seguida será verificada o tipo de cada variável, com o intuito de identificar um possível problema na formatação dos dados."
      ],
      "metadata": {
        "id": "dSPJwDELrCbZ"
      }
    },
    {
      "cell_type": "code",
      "metadata": {
        "id": "TFRK0tniLV-G",
        "outputId": "320a7477-7f8e-4595-b2dd-486ee5b2c2db",
        "colab": {
          "base_uri": "https://localhost:8080/"
        }
      },
      "source": [
        "# identificar o volume de dados do DataFrame\n",
        "print('Entradas:', df.shape[0])\n",
        "print('Variáveis:', df.shape[1])"
      ],
      "execution_count": 69,
      "outputs": [
        {
          "output_type": "stream",
          "name": "stdout",
          "text": [
            "Entradas: 7151\n",
            "Variáveis: 18\n"
          ]
        }
      ]
    },
    {
      "cell_type": "code",
      "source": [
        "display(df.dtypes)"
      ],
      "metadata": {
        "id": "8mBcVGhHriGL",
        "outputId": "5ef7e6d9-abfb-4872-9051-3f3d02f3b9dc",
        "colab": {
          "base_uri": "https://localhost:8080/",
          "height": 347
        }
      },
      "execution_count": 70,
      "outputs": [
        {
          "output_type": "display_data",
          "data": {
            "text/plain": [
              "id                                  int64\n",
              "name                               object\n",
              "host_id                             int64\n",
              "host_name                          object\n",
              "neighbourhood_group               float64\n",
              "neighbourhood                      object\n",
              "latitude                          float64\n",
              "longitude                         float64\n",
              "room_type                          object\n",
              "price                               int64\n",
              "minimum_nights                      int64\n",
              "number_of_reviews                   int64\n",
              "last_review                        object\n",
              "reviews_per_month                 float64\n",
              "calculated_host_listings_count      int64\n",
              "availability_365                    int64\n",
              "number_of_reviews_ltm               int64\n",
              "license                            object\n",
              "dtype: object"
            ]
          },
          "metadata": {}
        }
      ]
    },
    {
      "cell_type": "markdown",
      "source": [
        "A qualidade de um dataset está diretamente relacionada à quantidade de valores ausentes. É importante entender logo no início se esses valores nulos são significativos comparados ao total de entradas."
      ],
      "metadata": {
        "id": "6s_Aho3dsD7Z"
      }
    },
    {
      "cell_type": "code",
      "metadata": {
        "id": "plk2FjbCXOqP",
        "outputId": "55fab673-5466-408e-f3b9-6b1b618f2935",
        "colab": {
          "base_uri": "https://localhost:8080/"
        }
      },
      "source": [
        "# ordenar em ordem decrescente as variáveis por seus valores ausentes\n",
        "(df.isnull().sum()/df.shape[0]).sort_values(ascending=False)"
      ],
      "execution_count": 71,
      "outputs": [
        {
          "output_type": "execute_result",
          "data": {
            "text/plain": [
              "neighbourhood_group               1.000000\n",
              "license                           0.958328\n",
              "reviews_per_month                 0.239687\n",
              "last_review                       0.239687\n",
              "minimum_nights                    0.000000\n",
              "number_of_reviews_ltm             0.000000\n",
              "availability_365                  0.000000\n",
              "calculated_host_listings_count    0.000000\n",
              "number_of_reviews                 0.000000\n",
              "id                                0.000000\n",
              "name                              0.000000\n",
              "room_type                         0.000000\n",
              "longitude                         0.000000\n",
              "latitude                          0.000000\n",
              "neighbourhood                     0.000000\n",
              "host_name                         0.000000\n",
              "host_id                           0.000000\n",
              "price                             0.000000\n",
              "dtype: float64"
            ]
          },
          "metadata": {},
          "execution_count": 71
        }
      ]
    },
    {
      "cell_type": "markdown",
      "source": [
        "Através da análise realizada é possível afirmar que:\n",
        "\n",
        "*   Os valores da coluna `neighbourhood_group` são 100% nulos/faltantes;\n",
        "*   A coluna `license` possui cerca de 95,83% de valores nulos/faltantes;\n",
        "*   As colunas `reviews_per_month` e `last_review` possuem cerca de 23,97% de valores nulos/faltantes.\n",
        "\n",
        "Fazendo uma \"dupla verificação\" através da quantidade de valores de cada coluna, pode-se visualizar a mesma informação através de valores brutos:\n",
        "\n",
        "\n"
      ],
      "metadata": {
        "id": "uluzvuHLsde4"
      }
    },
    {
      "cell_type": "code",
      "source": [
        "df.count().sort_values(ascending=False)"
      ],
      "metadata": {
        "colab": {
          "base_uri": "https://localhost:8080/"
        },
        "id": "rRMJv1-Euar3",
        "outputId": "89c6f7d9-b5bc-4460-a52a-aff2efccc9bb"
      },
      "execution_count": 72,
      "outputs": [
        {
          "output_type": "execute_result",
          "data": {
            "text/plain": [
              "id                                7151\n",
              "room_type                         7151\n",
              "number_of_reviews_ltm             7151\n",
              "availability_365                  7151\n",
              "calculated_host_listings_count    7151\n",
              "number_of_reviews                 7151\n",
              "minimum_nights                    7151\n",
              "name                              7151\n",
              "price                             7151\n",
              "longitude                         7151\n",
              "latitude                          7151\n",
              "neighbourhood                     7151\n",
              "host_name                         7151\n",
              "host_id                           7151\n",
              "last_review                       5437\n",
              "reviews_per_month                 5437\n",
              "license                            298\n",
              "neighbourhood_group                  0\n",
              "dtype: int64"
            ]
          },
          "metadata": {},
          "execution_count": 72
        }
      ]
    },
    {
      "cell_type": "markdown",
      "source": [
        "### Tratamento dos Valores Ausentes"
      ],
      "metadata": {
        "id": "EJl8guAZvan-"
      }
    },
    {
      "cell_type": "markdown",
      "source": [
        "Conforme verificado nas etapas anteriores, possuímos quatro colunas que apresentam valores ausentes, são elas:\n",
        "\n",
        "* `neighbourhood_group`\n",
        "* `licenses`\n",
        "* `last_review` - data do último review\n",
        "* `reviews_per_month` - quantidade de reviews por mês\n"
      ],
      "metadata": {
        "id": "vX7Di_uLvpjn"
      }
    },
    {
      "cell_type": "markdown",
      "source": [
        "A coluna `neighbourhood_group` será excluída sem impacto à análise, visto que não apresenta nenhum dado.\n",
        "\n",
        "A coluna `licenses` será excluída sem impacto à análise, visto que os (poucos) dados contidos na coluna não são relevantes ao estudo."
      ],
      "metadata": {
        "id": "pvgGboF54JAh"
      }
    },
    {
      "cell_type": "markdown",
      "source": [
        "Primeiramente vamos criar uma cópia do DataFrame original (`df` - original | `df_np` - cópia), evitando executar alterações definitivas na nossa fonte de dados válida."
      ],
      "metadata": {
        "id": "X56KHVX68Od7"
      }
    },
    {
      "cell_type": "code",
      "source": [
        "df_np = df.copy()"
      ],
      "metadata": {
        "id": "4fZQE0F88NqP"
      },
      "execution_count": 73,
      "outputs": []
    },
    {
      "cell_type": "code",
      "source": [
        "df_np.drop(columns=['neighbourhood_group', 'license'], inplace=True)\n",
        "df_np.count().sort_values(ascending=False)"
      ],
      "metadata": {
        "colab": {
          "base_uri": "https://localhost:8080/"
        },
        "id": "S3ywAlEXAMUW",
        "outputId": "cf98bd85-67c8-49d4-a591-3a8b37e9ee09"
      },
      "execution_count": 74,
      "outputs": [
        {
          "output_type": "execute_result",
          "data": {
            "text/plain": [
              "id                                7151\n",
              "name                              7151\n",
              "host_id                           7151\n",
              "host_name                         7151\n",
              "neighbourhood                     7151\n",
              "latitude                          7151\n",
              "longitude                         7151\n",
              "room_type                         7151\n",
              "price                             7151\n",
              "minimum_nights                    7151\n",
              "number_of_reviews                 7151\n",
              "calculated_host_listings_count    7151\n",
              "availability_365                  7151\n",
              "number_of_reviews_ltm             7151\n",
              "last_review                       5437\n",
              "reviews_per_month                 5437\n",
              "dtype: int64"
            ]
          },
          "metadata": {},
          "execution_count": 74
        }
      ]
    },
    {
      "cell_type": "markdown",
      "source": [
        "Note que ambas as colunas foram removidas da listagem."
      ],
      "metadata": {
        "id": "Zm5j4ZCkAW6M"
      }
    },
    {
      "cell_type": "markdown",
      "source": [
        "Para entendermos melhor os dados ausentes nas colunas `last_review` e `reviews_per_month`, vamos executar uma série de testes. Para isso vamos criar uma cópia do nosso DataFrame `df_np`."
      ],
      "metadata": {
        "id": "7-CI0WcA76GT"
      }
    },
    {
      "cell_type": "code",
      "source": [
        "df_teste = df_np.copy()"
      ],
      "metadata": {
        "id": "ioIW7jUeArdi"
      },
      "execution_count": 75,
      "outputs": []
    },
    {
      "cell_type": "code",
      "source": [
        "# removendo todas as linhas em que a coluna last_review possuí valores nulos\n",
        "df_teste.dropna(subset = ['last_review'], inplace = True)\n",
        "\n",
        "# fazendo nova contabilização dos valores em cada coluna\n",
        "df_teste.count().sort_values(ascending=False)\n"
      ],
      "metadata": {
        "colab": {
          "base_uri": "https://localhost:8080/"
        },
        "id": "VdMDxgjK5j8B",
        "outputId": "982ac308-7b6e-40d4-cc0a-5c00335dd0e0"
      },
      "execution_count": 76,
      "outputs": [
        {
          "output_type": "execute_result",
          "data": {
            "text/plain": [
              "id                                5437\n",
              "name                              5437\n",
              "host_id                           5437\n",
              "host_name                         5437\n",
              "neighbourhood                     5437\n",
              "latitude                          5437\n",
              "longitude                         5437\n",
              "room_type                         5437\n",
              "price                             5437\n",
              "minimum_nights                    5437\n",
              "number_of_reviews                 5437\n",
              "last_review                       5437\n",
              "reviews_per_month                 5437\n",
              "calculated_host_listings_count    5437\n",
              "availability_365                  5437\n",
              "number_of_reviews_ltm             5437\n",
              "dtype: int64"
            ]
          },
          "metadata": {},
          "execution_count": 76
        }
      ]
    },
    {
      "cell_type": "markdown",
      "source": [
        "Note que ao remover todas as linhas cujo valor da coluna `last_review` é nulo, ficamos com a mesma quantidade de valores para as colunas `last_review` e `reviews_per_month`. Com base nisso, podemos fazer a seguinte leitura: as entradas (linhas) que possuem valores nulos em ambas colunas, são hospedagens que nunca receberam nenhuma revisão (*review*), portanto possuem valores nulos para \"última revisão\" (`last_review`) e \"revisões por mês\" (`reviews_per_month`). Podemos fazer a prova real da situação utilizando a coluna `number_of_reviews`:"
      ],
      "metadata": {
        "id": "fzG98_QLA4JU"
      }
    },
    {
      "cell_type": "code",
      "source": [
        "df_teste.query('number_of_reviews == 0')"
      ],
      "metadata": {
        "colab": {
          "base_uri": "https://localhost:8080/",
          "height": 113
        },
        "id": "csVvYAM9DUrU",
        "outputId": "ed642656-d55f-40a6-8242-b81fad9e82f8"
      },
      "execution_count": 77,
      "outputs": [
        {
          "output_type": "execute_result",
          "data": {
            "text/html": [
              "\n",
              "  <div id=\"df-95171951-4d38-45a7-8e49-2b6d45b48f8a\">\n",
              "    <div class=\"colab-df-container\">\n",
              "      <div>\n",
              "<style scoped>\n",
              "    .dataframe tbody tr th:only-of-type {\n",
              "        vertical-align: middle;\n",
              "    }\n",
              "\n",
              "    .dataframe tbody tr th {\n",
              "        vertical-align: top;\n",
              "    }\n",
              "\n",
              "    .dataframe thead th {\n",
              "        text-align: right;\n",
              "    }\n",
              "</style>\n",
              "<table border=\"1\" class=\"dataframe\">\n",
              "  <thead>\n",
              "    <tr style=\"text-align: right;\">\n",
              "      <th></th>\n",
              "      <th>id</th>\n",
              "      <th>name</th>\n",
              "      <th>host_id</th>\n",
              "      <th>host_name</th>\n",
              "      <th>neighbourhood</th>\n",
              "      <th>latitude</th>\n",
              "      <th>longitude</th>\n",
              "      <th>room_type</th>\n",
              "      <th>price</th>\n",
              "      <th>minimum_nights</th>\n",
              "      <th>number_of_reviews</th>\n",
              "      <th>last_review</th>\n",
              "      <th>reviews_per_month</th>\n",
              "      <th>calculated_host_listings_count</th>\n",
              "      <th>availability_365</th>\n",
              "      <th>number_of_reviews_ltm</th>\n",
              "    </tr>\n",
              "  </thead>\n",
              "  <tbody>\n",
              "  </tbody>\n",
              "</table>\n",
              "</div>\n",
              "      <button class=\"colab-df-convert\" onclick=\"convertToInteractive('df-95171951-4d38-45a7-8e49-2b6d45b48f8a')\"\n",
              "              title=\"Convert this dataframe to an interactive table.\"\n",
              "              style=\"display:none;\">\n",
              "        \n",
              "  <svg xmlns=\"http://www.w3.org/2000/svg\" height=\"24px\"viewBox=\"0 0 24 24\"\n",
              "       width=\"24px\">\n",
              "    <path d=\"M0 0h24v24H0V0z\" fill=\"none\"/>\n",
              "    <path d=\"M18.56 5.44l.94 2.06.94-2.06 2.06-.94-2.06-.94-.94-2.06-.94 2.06-2.06.94zm-11 1L8.5 8.5l.94-2.06 2.06-.94-2.06-.94L8.5 2.5l-.94 2.06-2.06.94zm10 10l.94 2.06.94-2.06 2.06-.94-2.06-.94-.94-2.06-.94 2.06-2.06.94z\"/><path d=\"M17.41 7.96l-1.37-1.37c-.4-.4-.92-.59-1.43-.59-.52 0-1.04.2-1.43.59L10.3 9.45l-7.72 7.72c-.78.78-.78 2.05 0 2.83L4 21.41c.39.39.9.59 1.41.59.51 0 1.02-.2 1.41-.59l7.78-7.78 2.81-2.81c.8-.78.8-2.07 0-2.86zM5.41 20L4 18.59l7.72-7.72 1.47 1.35L5.41 20z\"/>\n",
              "  </svg>\n",
              "      </button>\n",
              "      \n",
              "  <style>\n",
              "    .colab-df-container {\n",
              "      display:flex;\n",
              "      flex-wrap:wrap;\n",
              "      gap: 12px;\n",
              "    }\n",
              "\n",
              "    .colab-df-convert {\n",
              "      background-color: #E8F0FE;\n",
              "      border: none;\n",
              "      border-radius: 50%;\n",
              "      cursor: pointer;\n",
              "      display: none;\n",
              "      fill: #1967D2;\n",
              "      height: 32px;\n",
              "      padding: 0 0 0 0;\n",
              "      width: 32px;\n",
              "    }\n",
              "\n",
              "    .colab-df-convert:hover {\n",
              "      background-color: #E2EBFA;\n",
              "      box-shadow: 0px 1px 2px rgba(60, 64, 67, 0.3), 0px 1px 3px 1px rgba(60, 64, 67, 0.15);\n",
              "      fill: #174EA6;\n",
              "    }\n",
              "\n",
              "    [theme=dark] .colab-df-convert {\n",
              "      background-color: #3B4455;\n",
              "      fill: #D2E3FC;\n",
              "    }\n",
              "\n",
              "    [theme=dark] .colab-df-convert:hover {\n",
              "      background-color: #434B5C;\n",
              "      box-shadow: 0px 1px 3px 1px rgba(0, 0, 0, 0.15);\n",
              "      filter: drop-shadow(0px 1px 2px rgba(0, 0, 0, 0.3));\n",
              "      fill: #FFFFFF;\n",
              "    }\n",
              "  </style>\n",
              "\n",
              "      <script>\n",
              "        const buttonEl =\n",
              "          document.querySelector('#df-95171951-4d38-45a7-8e49-2b6d45b48f8a button.colab-df-convert');\n",
              "        buttonEl.style.display =\n",
              "          google.colab.kernel.accessAllowed ? 'block' : 'none';\n",
              "\n",
              "        async function convertToInteractive(key) {\n",
              "          const element = document.querySelector('#df-95171951-4d38-45a7-8e49-2b6d45b48f8a');\n",
              "          const dataTable =\n",
              "            await google.colab.kernel.invokeFunction('convertToInteractive',\n",
              "                                                     [key], {});\n",
              "          if (!dataTable) return;\n",
              "\n",
              "          const docLinkHtml = 'Like what you see? Visit the ' +\n",
              "            '<a target=\"_blank\" href=https://colab.research.google.com/notebooks/data_table.ipynb>data table notebook</a>'\n",
              "            + ' to learn more about interactive tables.';\n",
              "          element.innerHTML = '';\n",
              "          dataTable['output_type'] = 'display_data';\n",
              "          await google.colab.output.renderOutput(dataTable, element);\n",
              "          const docLink = document.createElement('div');\n",
              "          docLink.innerHTML = docLinkHtml;\n",
              "          element.appendChild(docLink);\n",
              "        }\n",
              "      </script>\n",
              "    </div>\n",
              "  </div>\n",
              "  "
            ],
            "text/plain": [
              "Empty DataFrame\n",
              "Columns: [id, name, host_id, host_name, neighbourhood, latitude, longitude, room_type, price, minimum_nights, number_of_reviews, last_review, reviews_per_month, calculated_host_listings_count, availability_365, number_of_reviews_ltm]\n",
              "Index: []"
            ]
          },
          "metadata": {},
          "execution_count": 77
        }
      ]
    },
    {
      "cell_type": "code",
      "source": [
        "df_np.query('number_of_reviews == 0')"
      ],
      "metadata": {
        "colab": {
          "base_uri": "https://localhost:8080/",
          "height": 974
        },
        "id": "z9NIgUnrKODh",
        "outputId": "9b7bed78-8022-489e-d9dd-f6d22ff46bf6"
      },
      "execution_count": 78,
      "outputs": [
        {
          "output_type": "execute_result",
          "data": {
            "text/html": [
              "\n",
              "  <div id=\"df-0e26862f-f141-4715-b455-4560d829a555\">\n",
              "    <div class=\"colab-df-container\">\n",
              "      <div>\n",
              "<style scoped>\n",
              "    .dataframe tbody tr th:only-of-type {\n",
              "        vertical-align: middle;\n",
              "    }\n",
              "\n",
              "    .dataframe tbody tr th {\n",
              "        vertical-align: top;\n",
              "    }\n",
              "\n",
              "    .dataframe thead th {\n",
              "        text-align: right;\n",
              "    }\n",
              "</style>\n",
              "<table border=\"1\" class=\"dataframe\">\n",
              "  <thead>\n",
              "    <tr style=\"text-align: right;\">\n",
              "      <th></th>\n",
              "      <th>id</th>\n",
              "      <th>name</th>\n",
              "      <th>host_id</th>\n",
              "      <th>host_name</th>\n",
              "      <th>neighbourhood</th>\n",
              "      <th>latitude</th>\n",
              "      <th>longitude</th>\n",
              "      <th>room_type</th>\n",
              "      <th>price</th>\n",
              "      <th>minimum_nights</th>\n",
              "      <th>number_of_reviews</th>\n",
              "      <th>last_review</th>\n",
              "      <th>reviews_per_month</th>\n",
              "      <th>calculated_host_listings_count</th>\n",
              "      <th>availability_365</th>\n",
              "      <th>number_of_reviews_ltm</th>\n",
              "    </tr>\n",
              "  </thead>\n",
              "  <tbody>\n",
              "    <tr>\n",
              "      <th>0</th>\n",
              "      <td>30466</td>\n",
              "      <td>Naturists rooms in the heart of city</td>\n",
              "      <td>14169118</td>\n",
              "      <td>Gigi</td>\n",
              "      <td>San Carlo all'Arena</td>\n",
              "      <td>40.857590</td>\n",
              "      <td>14.259430</td>\n",
              "      <td>Private room</td>\n",
              "      <td>52</td>\n",
              "      <td>2</td>\n",
              "      <td>0</td>\n",
              "      <td>NaN</td>\n",
              "      <td>NaN</td>\n",
              "      <td>8</td>\n",
              "      <td>1</td>\n",
              "      <td>0</td>\n",
              "    </tr>\n",
              "    <tr>\n",
              "      <th>27</th>\n",
              "      <td>212791</td>\n",
              "      <td>\"Oriente\" room in the heart of historical center.</td>\n",
              "      <td>14169118</td>\n",
              "      <td>Gigi</td>\n",
              "      <td>San Giuseppe</td>\n",
              "      <td>40.848770</td>\n",
              "      <td>14.254120</td>\n",
              "      <td>Private room</td>\n",
              "      <td>75</td>\n",
              "      <td>2</td>\n",
              "      <td>0</td>\n",
              "      <td>NaN</td>\n",
              "      <td>NaN</td>\n",
              "      <td>8</td>\n",
              "      <td>336</td>\n",
              "      <td>0</td>\n",
              "    </tr>\n",
              "    <tr>\n",
              "      <th>30</th>\n",
              "      <td>215400</td>\n",
              "      <td>B&amp;B Il Viaggiatore: stanza Gialla</td>\n",
              "      <td>1191263</td>\n",
              "      <td>Giuliano</td>\n",
              "      <td>San Giuseppe</td>\n",
              "      <td>40.847970</td>\n",
              "      <td>14.250140</td>\n",
              "      <td>Private room</td>\n",
              "      <td>135</td>\n",
              "      <td>2</td>\n",
              "      <td>0</td>\n",
              "      <td>NaN</td>\n",
              "      <td>NaN</td>\n",
              "      <td>4</td>\n",
              "      <td>353</td>\n",
              "      <td>0</td>\n",
              "    </tr>\n",
              "    <tr>\n",
              "      <th>39</th>\n",
              "      <td>256461</td>\n",
              "      <td>Beautiful B &amp; B Casa Avallone</td>\n",
              "      <td>1349033</td>\n",
              "      <td>Imma</td>\n",
              "      <td>Montecalvario</td>\n",
              "      <td>40.844760</td>\n",
              "      <td>14.245390</td>\n",
              "      <td>Private room</td>\n",
              "      <td>75</td>\n",
              "      <td>4</td>\n",
              "      <td>0</td>\n",
              "      <td>NaN</td>\n",
              "      <td>NaN</td>\n",
              "      <td>1</td>\n",
              "      <td>357</td>\n",
              "      <td>0</td>\n",
              "    </tr>\n",
              "    <tr>\n",
              "      <th>44</th>\n",
              "      <td>296874</td>\n",
              "      <td>\" Ténéré \" room in the heart of historical cen...</td>\n",
              "      <td>14169118</td>\n",
              "      <td>Gigi</td>\n",
              "      <td>Stella</td>\n",
              "      <td>40.859930</td>\n",
              "      <td>14.249940</td>\n",
              "      <td>Private room</td>\n",
              "      <td>75</td>\n",
              "      <td>2</td>\n",
              "      <td>0</td>\n",
              "      <td>NaN</td>\n",
              "      <td>NaN</td>\n",
              "      <td>8</td>\n",
              "      <td>333</td>\n",
              "      <td>0</td>\n",
              "    </tr>\n",
              "    <tr>\n",
              "      <th>...</th>\n",
              "      <td>...</td>\n",
              "      <td>...</td>\n",
              "      <td>...</td>\n",
              "      <td>...</td>\n",
              "      <td>...</td>\n",
              "      <td>...</td>\n",
              "      <td>...</td>\n",
              "      <td>...</td>\n",
              "      <td>...</td>\n",
              "      <td>...</td>\n",
              "      <td>...</td>\n",
              "      <td>...</td>\n",
              "      <td>...</td>\n",
              "      <td>...</td>\n",
              "      <td>...</td>\n",
              "      <td>...</td>\n",
              "    </tr>\n",
              "    <tr>\n",
              "      <th>7146</th>\n",
              "      <td>53791396</td>\n",
              "      <td>Coccy House Via Chiaia</td>\n",
              "      <td>41055311</td>\n",
              "      <td>Alessandro</td>\n",
              "      <td>Chiaia</td>\n",
              "      <td>40.836780</td>\n",
              "      <td>14.244090</td>\n",
              "      <td>Entire home/apt</td>\n",
              "      <td>160</td>\n",
              "      <td>4</td>\n",
              "      <td>0</td>\n",
              "      <td>NaN</td>\n",
              "      <td>NaN</td>\n",
              "      <td>2</td>\n",
              "      <td>294</td>\n",
              "      <td>0</td>\n",
              "    </tr>\n",
              "    <tr>\n",
              "      <th>7147</th>\n",
              "      <td>53796440</td>\n",
              "      <td>Entire 3floorshouse located in the heart of Na...</td>\n",
              "      <td>420163613</td>\n",
              "      <td>Luca</td>\n",
              "      <td>Montecalvario</td>\n",
              "      <td>40.843990</td>\n",
              "      <td>14.247690</td>\n",
              "      <td>Entire home/apt</td>\n",
              "      <td>168</td>\n",
              "      <td>3</td>\n",
              "      <td>0</td>\n",
              "      <td>NaN</td>\n",
              "      <td>NaN</td>\n",
              "      <td>1</td>\n",
              "      <td>365</td>\n",
              "      <td>0</td>\n",
              "    </tr>\n",
              "    <tr>\n",
              "      <th>7148</th>\n",
              "      <td>53803224</td>\n",
              "      <td>Boat Apartment</td>\n",
              "      <td>201800726</td>\n",
              "      <td>Francesco</td>\n",
              "      <td>Porto</td>\n",
              "      <td>40.842979</td>\n",
              "      <td>14.256135</td>\n",
              "      <td>Entire home/apt</td>\n",
              "      <td>40</td>\n",
              "      <td>1</td>\n",
              "      <td>0</td>\n",
              "      <td>NaN</td>\n",
              "      <td>NaN</td>\n",
              "      <td>1</td>\n",
              "      <td>215</td>\n",
              "      <td>0</td>\n",
              "    </tr>\n",
              "    <tr>\n",
              "      <th>7149</th>\n",
              "      <td>53814936</td>\n",
              "      <td>Plebiscito large easy room</td>\n",
              "      <td>45441011</td>\n",
              "      <td>Fernando</td>\n",
              "      <td>San Ferdinando</td>\n",
              "      <td>40.835850</td>\n",
              "      <td>14.246990</td>\n",
              "      <td>Private room</td>\n",
              "      <td>22</td>\n",
              "      <td>1</td>\n",
              "      <td>0</td>\n",
              "      <td>NaN</td>\n",
              "      <td>NaN</td>\n",
              "      <td>3</td>\n",
              "      <td>359</td>\n",
              "      <td>0</td>\n",
              "    </tr>\n",
              "    <tr>\n",
              "      <th>7150</th>\n",
              "      <td>53821938</td>\n",
              "      <td>Vivi l'esperienza di Vedere LA VERA NAPOLI.</td>\n",
              "      <td>237163590</td>\n",
              "      <td>Michela</td>\n",
              "      <td>San Lorenzo</td>\n",
              "      <td>40.852050</td>\n",
              "      <td>14.254820</td>\n",
              "      <td>Entire home/apt</td>\n",
              "      <td>57</td>\n",
              "      <td>1</td>\n",
              "      <td>0</td>\n",
              "      <td>NaN</td>\n",
              "      <td>NaN</td>\n",
              "      <td>1</td>\n",
              "      <td>355</td>\n",
              "      <td>0</td>\n",
              "    </tr>\n",
              "  </tbody>\n",
              "</table>\n",
              "<p>1714 rows × 16 columns</p>\n",
              "</div>\n",
              "      <button class=\"colab-df-convert\" onclick=\"convertToInteractive('df-0e26862f-f141-4715-b455-4560d829a555')\"\n",
              "              title=\"Convert this dataframe to an interactive table.\"\n",
              "              style=\"display:none;\">\n",
              "        \n",
              "  <svg xmlns=\"http://www.w3.org/2000/svg\" height=\"24px\"viewBox=\"0 0 24 24\"\n",
              "       width=\"24px\">\n",
              "    <path d=\"M0 0h24v24H0V0z\" fill=\"none\"/>\n",
              "    <path d=\"M18.56 5.44l.94 2.06.94-2.06 2.06-.94-2.06-.94-.94-2.06-.94 2.06-2.06.94zm-11 1L8.5 8.5l.94-2.06 2.06-.94-2.06-.94L8.5 2.5l-.94 2.06-2.06.94zm10 10l.94 2.06.94-2.06 2.06-.94-2.06-.94-.94-2.06-.94 2.06-2.06.94z\"/><path d=\"M17.41 7.96l-1.37-1.37c-.4-.4-.92-.59-1.43-.59-.52 0-1.04.2-1.43.59L10.3 9.45l-7.72 7.72c-.78.78-.78 2.05 0 2.83L4 21.41c.39.39.9.59 1.41.59.51 0 1.02-.2 1.41-.59l7.78-7.78 2.81-2.81c.8-.78.8-2.07 0-2.86zM5.41 20L4 18.59l7.72-7.72 1.47 1.35L5.41 20z\"/>\n",
              "  </svg>\n",
              "      </button>\n",
              "      \n",
              "  <style>\n",
              "    .colab-df-container {\n",
              "      display:flex;\n",
              "      flex-wrap:wrap;\n",
              "      gap: 12px;\n",
              "    }\n",
              "\n",
              "    .colab-df-convert {\n",
              "      background-color: #E8F0FE;\n",
              "      border: none;\n",
              "      border-radius: 50%;\n",
              "      cursor: pointer;\n",
              "      display: none;\n",
              "      fill: #1967D2;\n",
              "      height: 32px;\n",
              "      padding: 0 0 0 0;\n",
              "      width: 32px;\n",
              "    }\n",
              "\n",
              "    .colab-df-convert:hover {\n",
              "      background-color: #E2EBFA;\n",
              "      box-shadow: 0px 1px 2px rgba(60, 64, 67, 0.3), 0px 1px 3px 1px rgba(60, 64, 67, 0.15);\n",
              "      fill: #174EA6;\n",
              "    }\n",
              "\n",
              "    [theme=dark] .colab-df-convert {\n",
              "      background-color: #3B4455;\n",
              "      fill: #D2E3FC;\n",
              "    }\n",
              "\n",
              "    [theme=dark] .colab-df-convert:hover {\n",
              "      background-color: #434B5C;\n",
              "      box-shadow: 0px 1px 3px 1px rgba(0, 0, 0, 0.15);\n",
              "      filter: drop-shadow(0px 1px 2px rgba(0, 0, 0, 0.3));\n",
              "      fill: #FFFFFF;\n",
              "    }\n",
              "  </style>\n",
              "\n",
              "      <script>\n",
              "        const buttonEl =\n",
              "          document.querySelector('#df-0e26862f-f141-4715-b455-4560d829a555 button.colab-df-convert');\n",
              "        buttonEl.style.display =\n",
              "          google.colab.kernel.accessAllowed ? 'block' : 'none';\n",
              "\n",
              "        async function convertToInteractive(key) {\n",
              "          const element = document.querySelector('#df-0e26862f-f141-4715-b455-4560d829a555');\n",
              "          const dataTable =\n",
              "            await google.colab.kernel.invokeFunction('convertToInteractive',\n",
              "                                                     [key], {});\n",
              "          if (!dataTable) return;\n",
              "\n",
              "          const docLinkHtml = 'Like what you see? Visit the ' +\n",
              "            '<a target=\"_blank\" href=https://colab.research.google.com/notebooks/data_table.ipynb>data table notebook</a>'\n",
              "            + ' to learn more about interactive tables.';\n",
              "          element.innerHTML = '';\n",
              "          dataTable['output_type'] = 'display_data';\n",
              "          await google.colab.output.renderOutput(dataTable, element);\n",
              "          const docLink = document.createElement('div');\n",
              "          docLink.innerHTML = docLinkHtml;\n",
              "          element.appendChild(docLink);\n",
              "        }\n",
              "      </script>\n",
              "    </div>\n",
              "  </div>\n",
              "  "
            ],
            "text/plain": [
              "            id                                               name    host_id  \\\n",
              "0        30466               Naturists rooms in the heart of city   14169118   \n",
              "27      212791  \"Oriente\" room in the heart of historical center.   14169118   \n",
              "30      215400                  B&B Il Viaggiatore: stanza Gialla    1191263   \n",
              "39      256461                      Beautiful B & B Casa Avallone    1349033   \n",
              "44      296874  \" Ténéré \" room in the heart of historical cen...   14169118   \n",
              "...        ...                                                ...        ...   \n",
              "7146  53791396                             Coccy House Via Chiaia   41055311   \n",
              "7147  53796440  Entire 3floorshouse located in the heart of Na...  420163613   \n",
              "7148  53803224                                     Boat Apartment  201800726   \n",
              "7149  53814936                         Plebiscito large easy room   45441011   \n",
              "7150  53821938        Vivi l'esperienza di Vedere LA VERA NAPOLI.  237163590   \n",
              "\n",
              "       host_name        neighbourhood   latitude  longitude        room_type  \\\n",
              "0           Gigi  San Carlo all'Arena  40.857590  14.259430     Private room   \n",
              "27          Gigi         San Giuseppe  40.848770  14.254120     Private room   \n",
              "30      Giuliano         San Giuseppe  40.847970  14.250140     Private room   \n",
              "39          Imma        Montecalvario  40.844760  14.245390     Private room   \n",
              "44          Gigi               Stella  40.859930  14.249940     Private room   \n",
              "...          ...                  ...        ...        ...              ...   \n",
              "7146  Alessandro               Chiaia  40.836780  14.244090  Entire home/apt   \n",
              "7147        Luca        Montecalvario  40.843990  14.247690  Entire home/apt   \n",
              "7148   Francesco                Porto  40.842979  14.256135  Entire home/apt   \n",
              "7149    Fernando       San Ferdinando  40.835850  14.246990     Private room   \n",
              "7150     Michela          San Lorenzo  40.852050  14.254820  Entire home/apt   \n",
              "\n",
              "      price  minimum_nights  number_of_reviews last_review  reviews_per_month  \\\n",
              "0        52               2                  0         NaN                NaN   \n",
              "27       75               2                  0         NaN                NaN   \n",
              "30      135               2                  0         NaN                NaN   \n",
              "39       75               4                  0         NaN                NaN   \n",
              "44       75               2                  0         NaN                NaN   \n",
              "...     ...             ...                ...         ...                ...   \n",
              "7146    160               4                  0         NaN                NaN   \n",
              "7147    168               3                  0         NaN                NaN   \n",
              "7148     40               1                  0         NaN                NaN   \n",
              "7149     22               1                  0         NaN                NaN   \n",
              "7150     57               1                  0         NaN                NaN   \n",
              "\n",
              "      calculated_host_listings_count  availability_365  number_of_reviews_ltm  \n",
              "0                                  8                 1                      0  \n",
              "27                                 8               336                      0  \n",
              "30                                 4               353                      0  \n",
              "39                                 1               357                      0  \n",
              "44                                 8               333                      0  \n",
              "...                              ...               ...                    ...  \n",
              "7146                               2               294                      0  \n",
              "7147                               1               365                      0  \n",
              "7148                               1               215                      0  \n",
              "7149                               3               359                      0  \n",
              "7150                               1               355                      0  \n",
              "\n",
              "[1714 rows x 16 columns]"
            ]
          },
          "metadata": {},
          "execution_count": 78
        }
      ]
    },
    {
      "cell_type": "markdown",
      "source": [
        "Utilizando o método `query`, podemos verificar que no DataFrame de teste (`df_teste`), em que foram removidas as entradas cujas colunas `last_review` e `reviews_per_month` são nulas, não tivemos nenhum retorno, ou seja, o DataFrame não possui nenhuma entrada cujo valor da coluna `number_of_reviews` é 0. Enquanto o mesmo método nos retorna 1714 linhas quando pesquisado no DataFrame `df_np`, a exata quantidade de linhas removidas no DataFrame de teste (`df_teste`)."
      ],
      "metadata": {
        "id": "9qhE-q49KDOO"
      }
    },
    {
      "cell_type": "markdown",
      "source": [
        "Com base na análise realizada com relação aos valores ausentes nas colunas `last_review` e `reviews_per_month`, foi possível fazer a validação da hipótese de que as entradas que possuem estes valores nulos são aquelas que não possuem nenhuma revisão (`number_of_reviews` = 0). Optou-se por remover, em definitivo, a coluna `last_review`, tendo em vista que a mesma é uma entrada no formato de data e é irrelevante à análise, e preencher os valores nulos da coluna `reviews_per_month` por 0."
      ],
      "metadata": {
        "id": "yyrIxwFPMFS2"
      }
    },
    {
      "cell_type": "code",
      "source": [
        "# remoção da coluna last_review\n",
        "df_np.drop(columns=['last_review'], inplace=True)"
      ],
      "metadata": {
        "id": "pHJuE-oJNqhZ"
      },
      "execution_count": 79,
      "outputs": []
    },
    {
      "cell_type": "code",
      "source": [
        "# preenchimento dos valores nulos da coluna reviews_per_month por 0\n",
        "df_np.reviews_per_month.fillna(0, inplace=True)"
      ],
      "metadata": {
        "id": "dXHNq_eGNzW3"
      },
      "execution_count": 80,
      "outputs": []
    },
    {
      "cell_type": "code",
      "source": [
        "df_np.count().sort_values(ascending=False)"
      ],
      "metadata": {
        "colab": {
          "base_uri": "https://localhost:8080/"
        },
        "id": "3kBZxj4tONg3",
        "outputId": "bbd29927-86dd-40ec-e50e-0d8dd80bfd78"
      },
      "execution_count": 81,
      "outputs": [
        {
          "output_type": "execute_result",
          "data": {
            "text/plain": [
              "id                                7151\n",
              "name                              7151\n",
              "host_id                           7151\n",
              "host_name                         7151\n",
              "neighbourhood                     7151\n",
              "latitude                          7151\n",
              "longitude                         7151\n",
              "room_type                         7151\n",
              "price                             7151\n",
              "minimum_nights                    7151\n",
              "number_of_reviews                 7151\n",
              "reviews_per_month                 7151\n",
              "calculated_host_listings_count    7151\n",
              "availability_365                  7151\n",
              "number_of_reviews_ltm             7151\n",
              "dtype: int64"
            ]
          },
          "metadata": {},
          "execution_count": 81
        }
      ]
    },
    {
      "cell_type": "markdown",
      "metadata": {
        "id": "iHXvvHIxaoNc"
      },
      "source": [
        "### Análise Preliminar dos Dados II "
      ]
    },
    {
      "cell_type": "markdown",
      "source": [
        "Para darmos sequência na análise dos dados, vamos verificar a distribuição das variáveis."
      ],
      "metadata": {
        "id": "VjIv37GWPEsf"
      }
    },
    {
      "cell_type": "code",
      "metadata": {
        "id": "q2wWSfeRbmBo",
        "outputId": "7a78de0f-cc1e-4b24-deef-ff8cd2318fe7",
        "colab": {
          "base_uri": "https://localhost:8080/",
          "height": 610
        }
      },
      "source": [
        "# plotar o histograma das variáveis numéricas\n",
        "df_np.hist(bins=15, figsize=(15,10));"
      ],
      "execution_count": 82,
      "outputs": [
        {
          "output_type": "display_data",
          "data": {
            "image/png": "[encoded data removed]",
            "text/plain": [
              "<Figure size 1080x720 with 12 Axes>"
            ]
          },
          "metadata": {
            "needs_background": "light"
          }
        }
      ]
    },
    {
      "cell_type": "markdown",
      "source": [
        "É importante verificarmos a presença de *outliers* nos dados. Os *outliers* são valores que diferem exageradamente dos demais, muitas vezes denominados \"causas especiais\". Uma ferramenta simples e interessante para realizarmos esta verificação é a função `describe()`, que nos dá um resumo estatístico das variáveis."
      ],
      "metadata": {
        "id": "JLr3JqXpQIWC"
      }
    },
    {
      "cell_type": "code",
      "source": [
        "df_np[['price', 'minimum_nights', 'number_of_reviews','reviews_per_month', 'availability_365']].describe()"
      ],
      "metadata": {
        "colab": {
          "base_uri": "https://localhost:8080/",
          "height": 300
        },
        "id": "b8PNSM1ZQ9z4",
        "outputId": "2de185d1-261c-46e3-b0cd-9102e4a2a54b"
      },
      "execution_count": 83,
      "outputs": [
        {
          "output_type": "execute_result",
          "data": {
            "text/html": [
              "\n",
              "  <div id=\"df-99f61430-ee2f-476f-9be1-53501f51ebfa\">\n",
              "    <div class=\"colab-df-container\">\n",
              "      <div>\n",
              "<style scoped>\n",
              "    .dataframe tbody tr th:only-of-type {\n",
              "        vertical-align: middle;\n",
              "    }\n",
              "\n",
              "    .dataframe tbody tr th {\n",
              "        vertical-align: top;\n",
              "    }\n",
              "\n",
              "    .dataframe thead th {\n",
              "        text-align: right;\n",
              "    }\n",
              "</style>\n",
              "<table border=\"1\" class=\"dataframe\">\n",
              "  <thead>\n",
              "    <tr style=\"text-align: right;\">\n",
              "      <th></th>\n",
              "      <th>price</th>\n",
              "      <th>minimum_nights</th>\n",
              "      <th>number_of_reviews</th>\n",
              "      <th>reviews_per_month</th>\n",
              "      <th>availability_365</th>\n",
              "    </tr>\n",
              "  </thead>\n",
              "  <tbody>\n",
              "    <tr>\n",
              "      <th>count</th>\n",
              "      <td>7151.000000</td>\n",
              "      <td>7151.000000</td>\n",
              "      <td>7151.000000</td>\n",
              "      <td>7151.000000</td>\n",
              "      <td>7151.000000</td>\n",
              "    </tr>\n",
              "    <tr>\n",
              "      <th>mean</th>\n",
              "      <td>91.803524</td>\n",
              "      <td>2.604811</td>\n",
              "      <td>31.139002</td>\n",
              "      <td>0.838782</td>\n",
              "      <td>223.069221</td>\n",
              "    </tr>\n",
              "    <tr>\n",
              "      <th>std</th>\n",
              "      <td>285.045172</td>\n",
              "      <td>21.982686</td>\n",
              "      <td>57.832575</td>\n",
              "      <td>1.235691</td>\n",
              "      <td>131.599936</td>\n",
              "    </tr>\n",
              "    <tr>\n",
              "      <th>min</th>\n",
              "      <td>0.000000</td>\n",
              "      <td>1.000000</td>\n",
              "      <td>0.000000</td>\n",
              "      <td>0.000000</td>\n",
              "      <td>0.000000</td>\n",
              "    </tr>\n",
              "    <tr>\n",
              "      <th>25%</th>\n",
              "      <td>47.000000</td>\n",
              "      <td>1.000000</td>\n",
              "      <td>1.000000</td>\n",
              "      <td>0.020000</td>\n",
              "      <td>98.000000</td>\n",
              "    </tr>\n",
              "    <tr>\n",
              "      <th>50%</th>\n",
              "      <td>65.000000</td>\n",
              "      <td>1.000000</td>\n",
              "      <td>6.000000</td>\n",
              "      <td>0.310000</td>\n",
              "      <td>262.000000</td>\n",
              "    </tr>\n",
              "    <tr>\n",
              "      <th>75%</th>\n",
              "      <td>90.000000</td>\n",
              "      <td>2.000000</td>\n",
              "      <td>34.000000</td>\n",
              "      <td>1.170000</td>\n",
              "      <td>348.000000</td>\n",
              "    </tr>\n",
              "    <tr>\n",
              "      <th>max</th>\n",
              "      <td>8000.000000</td>\n",
              "      <td>1000.000000</td>\n",
              "      <td>614.000000</td>\n",
              "      <td>12.180000</td>\n",
              "      <td>365.000000</td>\n",
              "    </tr>\n",
              "  </tbody>\n",
              "</table>\n",
              "</div>\n",
              "      <button class=\"colab-df-convert\" onclick=\"convertToInteractive('df-99f61430-ee2f-476f-9be1-53501f51ebfa')\"\n",
              "              title=\"Convert this dataframe to an interactive table.\"\n",
              "              style=\"display:none;\">\n",
              "        \n",
              "  <svg xmlns=\"http://www.w3.org/2000/svg\" height=\"24px\"viewBox=\"0 0 24 24\"\n",
              "       width=\"24px\">\n",
              "    <path d=\"M0 0h24v24H0V0z\" fill=\"none\"/>\n",
              "    <path d=\"M18.56 5.44l.94 2.06.94-2.06 2.06-.94-2.06-.94-.94-2.06-.94 2.06-2.06.94zm-11 1L8.5 8.5l.94-2.06 2.06-.94-2.06-.94L8.5 2.5l-.94 2.06-2.06.94zm10 10l.94 2.06.94-2.06 2.06-.94-2.06-.94-.94-2.06-.94 2.06-2.06.94z\"/><path d=\"M17.41 7.96l-1.37-1.37c-.4-.4-.92-.59-1.43-.59-.52 0-1.04.2-1.43.59L10.3 9.45l-7.72 7.72c-.78.78-.78 2.05 0 2.83L4 21.41c.39.39.9.59 1.41.59.51 0 1.02-.2 1.41-.59l7.78-7.78 2.81-2.81c.8-.78.8-2.07 0-2.86zM5.41 20L4 18.59l7.72-7.72 1.47 1.35L5.41 20z\"/>\n",
              "  </svg>\n",
              "      </button>\n",
              "      \n",
              "  <style>\n",
              "    .colab-df-container {\n",
              "      display:flex;\n",
              "      flex-wrap:wrap;\n",
              "      gap: 12px;\n",
              "    }\n",
              "\n",
              "    .colab-df-convert {\n",
              "      background-color: #E8F0FE;\n",
              "      border: none;\n",
              "      border-radius: 50%;\n",
              "      cursor: pointer;\n",
              "      display: none;\n",
              "      fill: #1967D2;\n",
              "      height: 32px;\n",
              "      padding: 0 0 0 0;\n",
              "      width: 32px;\n",
              "    }\n",
              "\n",
              "    .colab-df-convert:hover {\n",
              "      background-color: #E2EBFA;\n",
              "      box-shadow: 0px 1px 2px rgba(60, 64, 67, 0.3), 0px 1px 3px 1px rgba(60, 64, 67, 0.15);\n",
              "      fill: #174EA6;\n",
              "    }\n",
              "\n",
              "    [theme=dark] .colab-df-convert {\n",
              "      background-color: #3B4455;\n",
              "      fill: #D2E3FC;\n",
              "    }\n",
              "\n",
              "    [theme=dark] .colab-df-convert:hover {\n",
              "      background-color: #434B5C;\n",
              "      box-shadow: 0px 1px 3px 1px rgba(0, 0, 0, 0.15);\n",
              "      filter: drop-shadow(0px 1px 2px rgba(0, 0, 0, 0.3));\n",
              "      fill: #FFFFFF;\n",
              "    }\n",
              "  </style>\n",
              "\n",
              "      <script>\n",
              "        const buttonEl =\n",
              "          document.querySelector('#df-99f61430-ee2f-476f-9be1-53501f51ebfa button.colab-df-convert');\n",
              "        buttonEl.style.display =\n",
              "          google.colab.kernel.accessAllowed ? 'block' : 'none';\n",
              "\n",
              "        async function convertToInteractive(key) {\n",
              "          const element = document.querySelector('#df-99f61430-ee2f-476f-9be1-53501f51ebfa');\n",
              "          const dataTable =\n",
              "            await google.colab.kernel.invokeFunction('convertToInteractive',\n",
              "                                                     [key], {});\n",
              "          if (!dataTable) return;\n",
              "\n",
              "          const docLinkHtml = 'Like what you see? Visit the ' +\n",
              "            '<a target=\"_blank\" href=https://colab.research.google.com/notebooks/data_table.ipynb>data table notebook</a>'\n",
              "            + ' to learn more about interactive tables.';\n",
              "          element.innerHTML = '';\n",
              "          dataTable['output_type'] = 'display_data';\n",
              "          await google.colab.output.renderOutput(dataTable, element);\n",
              "          const docLink = document.createElement('div');\n",
              "          docLink.innerHTML = docLinkHtml;\n",
              "          element.appendChild(docLink);\n",
              "        }\n",
              "      </script>\n",
              "    </div>\n",
              "  </div>\n",
              "  "
            ],
            "text/plain": [
              "             price  minimum_nights  number_of_reviews  reviews_per_month  \\\n",
              "count  7151.000000     7151.000000        7151.000000        7151.000000   \n",
              "mean     91.803524        2.604811          31.139002           0.838782   \n",
              "std     285.045172       21.982686          57.832575           1.235691   \n",
              "min       0.000000        1.000000           0.000000           0.000000   \n",
              "25%      47.000000        1.000000           1.000000           0.020000   \n",
              "50%      65.000000        1.000000           6.000000           0.310000   \n",
              "75%      90.000000        2.000000          34.000000           1.170000   \n",
              "max    8000.000000     1000.000000         614.000000          12.180000   \n",
              "\n",
              "       availability_365  \n",
              "count       7151.000000  \n",
              "mean         223.069221  \n",
              "std          131.599936  \n",
              "min            0.000000  \n",
              "25%           98.000000  \n",
              "50%          262.000000  \n",
              "75%          348.000000  \n",
              "max          365.000000  "
            ]
          },
          "metadata": {},
          "execution_count": 83
        }
      ]
    },
    {
      "cell_type": "markdown",
      "source": [
        "Fazendo uma breve leitura do resultado da função `describe()`, é possível analisar que:\n",
        "\n",
        "*   A variável `price` tem o mínimo em 0;\n",
        "*   É possível identificar ao menos um *outlier* na variável `price`, tendo em vista que o Q3 está em €90 e possuímos um valor máximo em €8.000;\n",
        "\n",
        "*   Na variável `minimum_nights` temos o Q3 em 2 e um valor máximo em 1000, claramente há um ou mais *outliers*.\n",
        "\n",
        "\n"
      ],
      "metadata": {
        "id": "Ld04ipOeRjBC"
      }
    },
    {
      "cell_type": "markdown",
      "source": [
        "### Tratamentos dos *Outliers*"
      ],
      "metadata": {
        "id": "kbUzV2FzU31K"
      }
    },
    {
      "cell_type": "markdown",
      "source": [
        "Para tratamento dos *Outliers* será utilizado o IQR *Score*. Sendo o IQR a subtração do Terceiro Quartil (75%) pelo Primeiro Quartil (25%)\n",
        "\n",
        "**IQR = Q3 - Q1**"
      ],
      "metadata": {
        "id": "ELVjD7C8VVy5"
      }
    },
    {
      "cell_type": "markdown",
      "source": [
        "#### Variável `price`"
      ],
      "metadata": {
        "id": "1JcHrkmDWAJ8"
      }
    },
    {
      "cell_type": "code",
      "source": [
        "# identificar o iqr da variável price\n",
        "q1_price = df_np.price.quantile(.25)\n",
        "q3_price = df_np.price.quantile(.75)\n",
        "IQR_price = q3_price - q1_price\n",
        "print('IQR da variável price: ', IQR_price)\n",
        "\n",
        "# definir os limites superiores e inferiores                                      \n",
        "sup_price = q3_price + (1.5 * IQR_price)\n",
        "inf_price = q1_price - (1.5 * IQR_price)\n",
        "\n",
        "print('Limite superior de price: ', sup_price)\n",
        "print('Limite inferior de price: ', inf_price)"
      ],
      "metadata": {
        "colab": {
          "base_uri": "https://localhost:8080/"
        },
        "id": "PeJL5UjqWDqb",
        "outputId": "3bba5a24-8b71-43db-f4d6-da49c1c8efc0"
      },
      "execution_count": 84,
      "outputs": [
        {
          "output_type": "stream",
          "name": "stdout",
          "text": [
            "IQR da variável price:  43.0\n",
            "Limite superior de price:  154.5\n",
            "Limite inferior de price:  -17.5\n"
          ]
        }
      ]
    },
    {
      "cell_type": "markdown",
      "source": [
        "Vamos ilustrar os dados originais para a variável `price` através de um *Boxplot*."
      ],
      "metadata": {
        "id": "PeP9TWGxdiHF"
      }
    },
    {
      "cell_type": "code",
      "source": [
        "fig, ax = plt.subplots(figsize=(15,3))\n",
        "df_np.price.plot(kind='box', vert=False);\n",
        "plt.axvline(sup_price, color='red', ls='--', ymin = 0, ymax = 0.95);\n",
        "plt.axvline(inf_price, color='red', ls='--', ymin = 0, ymax = 0.95);\n",
        "ax.set_title('Dataset Original - Price')\n",
        "plt.show()\n",
        "\n",
        "print(\"O dataset possui {} colunas\".format(df_np.shape[0]))\n",
        "print(\"{} Entradas acima de 154.5\".format(len(df_np[df_np.price >= 154.5])))\n",
        "print(\"Representam {:.2f}% do dataset\".format((len(df_np[df_np.price > 154.5]) / df_np.shape[0])*100))"
      ],
      "metadata": {
        "colab": {
          "base_uri": "https://localhost:8080/",
          "height": 281
        },
        "id": "8qXg0yrZYZdt",
        "outputId": "c7c1cf0c-b454-4ec2-b7b9-c9727158b91f"
      },
      "execution_count": 85,
      "outputs": [
        {
          "output_type": "display_data",
          "data": {
            "image/png": "[encoded data removed]",
            "text/plain": [
              "<Figure size 1080x216 with 1 Axes>"
            ]
          },
          "metadata": {
            "needs_background": "light"
          }
        },
        {
          "output_type": "stream",
          "name": "stdout",
          "text": [
            "O dataset possui 7151 colunas\n",
            "442 Entradas acima de 154.5\n",
            "Representam 6.18% do dataset\n"
          ]
        }
      ]
    },
    {
      "cell_type": "markdown",
      "source": [
        "Tendo feito essa análise prévia da variável `price`, podemos prosseguir com a limpeza dos dados acima do Limite Superior de Controle e também excluir os valores iguais a 0. Para evitar a modificação do nosso DataFrame de base, vamos criar uma cópia para realizar a limpeza nesse primeiro momento."
      ],
      "metadata": {
        "id": "Gd6J0Od3jrSG"
      }
    },
    {
      "cell_type": "code",
      "source": [
        "# copiar o dataset\n",
        "df_clean = df_np.copy()\n",
        "# excluir valores acima do limite superior\n",
        "df_clean.drop(df_clean[df_clean.price >= 154.5].index, axis=0, inplace=True)\n",
        "# excluir valores iguais a 0\n",
        "df_clean.drop(df_clean[df_clean.price == 0.0].index, axis=0, inplace=True)\n",
        "\n",
        "print('Shape antes da limpeza: ', df_np.shape)\n",
        "print('Shape após a limpeza: ',df_clean.shape)"
      ],
      "metadata": {
        "colab": {
          "base_uri": "https://localhost:8080/"
        },
        "id": "FNcSQAD2iH9f",
        "outputId": "8d48fbdb-fa79-4ff0-9f54-496686016cbf"
      },
      "execution_count": 86,
      "outputs": [
        {
          "output_type": "stream",
          "name": "stdout",
          "text": [
            "Shape antes da limpeza:  (7151, 15)\n",
            "Shape após a limpeza:  (6706, 15)\n"
          ]
        }
      ]
    },
    {
      "cell_type": "code",
      "source": [
        "7151 - 6706"
      ],
      "metadata": {
        "colab": {
          "base_uri": "https://localhost:8080/"
        },
        "id": "pDwuoMwQk-Yg",
        "outputId": "e3e42f54-26e0-4b5b-d803-df26add11dc2"
      },
      "execution_count": 87,
      "outputs": [
        {
          "output_type": "execute_result",
          "data": {
            "text/plain": [
              "445"
            ]
          },
          "metadata": {},
          "execution_count": 87
        }
      ]
    },
    {
      "cell_type": "markdown",
      "source": [
        "Podemos verificar que a limpeza dos *outliers* resultou em uma redução de 445 linhas. Vamos verificar como fica a representação gráfica do DataFrame pós-limpeza."
      ],
      "metadata": {
        "id": "z8yGc8DOkPDG"
      }
    },
    {
      "cell_type": "code",
      "source": [
        "# verificar o conjunto limpo\n",
        "fig, ax = plt.subplots(figsize=(15,3))\n",
        "df_clean.price.plot(kind='box', vert=False);\n",
        "plt.axvline(sup_price, color='red', ls='--', ymin = 0, ymax = 0.95);\n",
        "plt.axvline(inf_price, color='red', ls='--', ymin = 0, ymax = 0.95);\n",
        "ax.set_title('Dataset Limpo - price')\n",
        "plt.show()\n"
      ],
      "metadata": {
        "colab": {
          "base_uri": "https://localhost:8080/",
          "height": 229
        },
        "id": "ZNCu7intnbfT",
        "outputId": "0d3d0399-9d74-4def-bfc2-535084fae3a9"
      },
      "execution_count": 88,
      "outputs": [
        {
          "output_type": "display_data",
          "data": {
            "image/png": "[encoded data removed]",
            "text/plain": [
              "<Figure size 1080x216 with 1 Axes>"
            ]
          },
          "metadata": {
            "needs_background": "light"
          }
        }
      ]
    },
    {
      "cell_type": "markdown",
      "source": [
        "Note que o gráfico *Boxplot* do DataFrame \"limpo\" apresenta alguns *outliers*, isso se deve ao fato do mesmo estar considerando os quartis calculados com os dados do `df_clean`. Se considerarmos as linhas tracejadas, que representam os limites de controle do DataFrame original (`df_np`), pode-se verificar que os valores estão dentro da faixa estabelecida pelas mesmas. Para facilitar a visualização, vamos plotar as duas condições em formato de histograma."
      ],
      "metadata": {
        "id": "QlHsLz6gnmyN"
      }
    },
    {
      "cell_type": "code",
      "source": [
        "fig, (ax1, ax2) = plt.subplots(1, 2, figsize = (12, 5))\n",
        "\n",
        "df_np.price.plot(kind = 'hist', ax = ax1)\n",
        "plt.axvline(sup_price, color='red', ls='--', ymin = 0, ymax = 0.95);\n",
        "plt.axvline(inf_price, color='red', ls='--', ymin = 0, ymax = 0.95);\n",
        "ax1.set_title(\"Dataset original - price\")\n",
        "ax1.set_xlabel(\"Preço\")\n",
        "ax1.set_ylabel(\"Quantidade de ocorrência\")\n",
        "\n",
        "\n",
        "df_clean.price.plot(kind = 'hist', ax = ax2)\n",
        "plt.axvline(sup_price, color='red', ls='--', ymin = 0, ymax = 0.95);\n",
        "plt.axvline(inf_price, color='red', ls='--', ymin = 0, ymax = 0.95);\n",
        "ax2.set_title(\"Dataset limpo - price\")\n",
        "ax2.set_xlabel(\"Preço\")\n",
        "ax2.set_ylabel(\"Quantidade de ocorrência\")\n",
        "\n",
        "plt.tight_layout()"
      ],
      "metadata": {
        "colab": {
          "base_uri": "https://localhost:8080/",
          "height": 369
        },
        "id": "q0I_gvFZr7AJ",
        "outputId": "62ed32f0-91bc-4106-f201-36cc41289a43"
      },
      "execution_count": 89,
      "outputs": [
        {
          "output_type": "display_data",
          "data": {
            "image/png": "[encoded data removed]",
            "text/plain": [
              "<Figure size 864x360 with 2 Axes>"
            ]
          },
          "metadata": {
            "needs_background": "light"
          }
        }
      ]
    },
    {
      "cell_type": "markdown",
      "source": [
        "Agora que já tratamos os dados da variável `price`, precisamos realizar o mesmo processo com a variável `minimum_nights`."
      ],
      "metadata": {
        "id": "ns0s81ROpKSA"
      }
    },
    {
      "cell_type": "markdown",
      "source": [
        "#### Variável `minimum_nights`"
      ],
      "metadata": {
        "id": "gPCaIGHupaMC"
      }
    },
    {
      "cell_type": "code",
      "source": [
        "# identificar o iqr da variável minimum_nights\n",
        "q1_minimum_nights = df_np.minimum_nights.quantile(.25)\n",
        "q3_minimum_nights = df_np.minimum_nights.quantile(.75)\n",
        "IQR_minimum_nights = q3_minimum_nights - q1_minimum_nights\n",
        "print('IQR da variável minimum_nights: ', IQR_minimum_nights)\n",
        "\n",
        "# definir os limites superiores e inferiores                                      \n",
        "sup_minimum_nights = q3_minimum_nights + (1.5 * IQR_minimum_nights)\n",
        "inf_minimum_nights = q1_minimum_nights - (1.5 * IQR_minimum_nights)\n",
        "\n",
        "print('Limite superior de minimum_nights: ', sup_minimum_nights)\n",
        "print('Limite inferior de minimum_nights ', inf_minimum_nights)"
      ],
      "metadata": {
        "colab": {
          "base_uri": "https://localhost:8080/"
        },
        "id": "GuotCnlDpnw4",
        "outputId": "fd4993fe-9f32-411e-a42d-d26c11da4e57"
      },
      "execution_count": 90,
      "outputs": [
        {
          "output_type": "stream",
          "name": "stdout",
          "text": [
            "IQR da variável minimum_nights:  1.0\n",
            "Limite superior de minimum_nights:  3.5\n",
            "Limite inferior de minimum_nights  -0.5\n"
          ]
        }
      ]
    },
    {
      "cell_type": "markdown",
      "source": [
        "Vamos ilustrar os dados originais para a variável `minimum_nights` através de um *Boxplot*."
      ],
      "metadata": {
        "id": "S3lGeo7Cqmho"
      }
    },
    {
      "cell_type": "code",
      "source": [
        "fig, ax = plt.subplots(figsize=(15,3))\n",
        "df_np.minimum_nights.plot(kind='box', vert=False);\n",
        "ax.set_title('Dataset Original - minimum_nights')\n",
        "plt.show()\n",
        "\n",
        "print(\"O dataset possui {} colunas\".format(df_np.shape[0]))\n",
        "print(\"{} Entradas acima de 3.5\".format(len(df_np[df_np.minimum_nights > 3.5])))\n",
        "print(\"Representam {:.2f}% do dataset\".format((len(df_np[df_np.minimum_nights > 3.5]) / df_np.shape[0])*100))"
      ],
      "metadata": {
        "colab": {
          "base_uri": "https://localhost:8080/",
          "height": 281
        },
        "id": "jbzn-BP5qR7f",
        "outputId": "c3889e28-0ec7-45ac-a547-30bdee6bfb83"
      },
      "execution_count": 91,
      "outputs": [
        {
          "output_type": "display_data",
          "data": {
            "image/png": "[encoded data removed]",
            "text/plain": [
              "<Figure size 1080x216 with 1 Axes>"
            ]
          },
          "metadata": {
            "needs_background": "light"
          }
        },
        {
          "output_type": "stream",
          "name": "stdout",
          "text": [
            "O dataset possui 7151 colunas\n",
            "310 Entradas acima de 3.5\n",
            "Representam 4.34% do dataset\n"
          ]
        }
      ]
    },
    {
      "cell_type": "markdown",
      "source": [
        "Tendo feito essa análise prévia da variável `minimum_nights`, podemos prosseguir com a limpeza dos dados acima do Limite Superior de Controle. Vamos seguir utilizando nosso DataFrame `df_clean`."
      ],
      "metadata": {
        "id": "l9WZJtivqz7_"
      }
    },
    {
      "cell_type": "code",
      "source": [
        "df_clean.drop(df_clean[df_clean.minimum_nights >= 3.5].index, axis=0, inplace=True)"
      ],
      "metadata": {
        "id": "sni4AtGprAXR"
      },
      "execution_count": 92,
      "outputs": []
    },
    {
      "cell_type": "markdown",
      "source": [
        "Verificando como fica o gráfico *Boxplot* do DataFrame pós-limpeza:"
      ],
      "metadata": {
        "id": "83GwWx79rZ3V"
      }
    },
    {
      "cell_type": "code",
      "source": [
        "fig, ax = plt.subplots(figsize=(15,3))\n",
        "df_clean.minimum_nights.plot(kind='box', vert=False);\n",
        "ax.set_title('Dataset Limpo - mininum_nights')\n",
        "plt.show()"
      ],
      "metadata": {
        "colab": {
          "base_uri": "https://localhost:8080/",
          "height": 229
        },
        "id": "MxdGwJRureoW",
        "outputId": "1cce1af4-7412-4483-ff8e-3f84f658a824"
      },
      "execution_count": 93,
      "outputs": [
        {
          "output_type": "display_data",
          "data": {
            "image/png": "[encoded data removed]",
            "text/plain": [
              "<Figure size 1080x216 with 1 Axes>"
            ]
          },
          "metadata": {
            "needs_background": "light"
          }
        }
      ]
    },
    {
      "cell_type": "markdown",
      "source": [
        "Realizando a comparação pré e pós-limpeza através de histogramas:"
      ],
      "metadata": {
        "id": "-1aI991EsLUJ"
      }
    },
    {
      "cell_type": "code",
      "source": [
        "fig, (ax1, ax2) = plt.subplots(1, 2, figsize=(12, 5))\n",
        "df_np.minimum_nights.plot(kind = 'hist', ax = ax1, bins = 25)\n",
        "plt.axvline(sup_minimum_nights, color='red', ls='--', ymin = 0, ymax = 0.95);\n",
        "plt.axvline(inf_minimum_nights, color='red', ls='--', ymin = 0, ymax = 0.95);\n",
        "ax1.set_title(\"Dataset original - minimum_nights\")\n",
        "ax1.set_xlabel(\"Quantidade de noites mínimas\")\n",
        "ax1.set_ylabel(\"Quantidade de ocorrência\")\n",
        "\n",
        "df_clean.minimum_nights.plot(kind = 'hist', ax = ax2, bins = 25)\n",
        "plt.axvline(sup_minimum_nights, color='red', ls='--', ymin = 0, ymax = 0.95);\n",
        "plt.axvline(inf_minimum_nights, color='red', ls='--', ymin = 0, ymax = 0.95);\n",
        "ax2.set_title(\"Dataset limpo - minimum_nights\")\n",
        "ax2.set_xlabel(\"Quantidade de noites mínimas\")\n",
        "ax2.set_ylabel(\"Quantidade de ocorrência\")\n",
        "\n",
        "plt.tight_layout()"
      ],
      "metadata": {
        "colab": {
          "base_uri": "https://localhost:8080/",
          "height": 369
        },
        "id": "NP5sjNG_sR-P",
        "outputId": "2c40a228-dde2-4ae6-eb63-15e457863320"
      },
      "execution_count": 94,
      "outputs": [
        {
          "output_type": "display_data",
          "data": {
            "image/png": "[encoded data removed]",
            "text/plain": [
              "<Figure size 864x360 with 2 Axes>"
            ]
          },
          "metadata": {
            "needs_background": "light"
          }
        }
      ]
    },
    {
      "cell_type": "markdown",
      "source": [
        "Vamos ver os histogramas das variáveis pós-tratamento dos *outliers*:"
      ],
      "metadata": {
        "id": "1diJkS0GQSna"
      }
    },
    {
      "cell_type": "code",
      "source": [
        "df_clean.hist(bins=15, figsize=(15,10));"
      ],
      "metadata": {
        "colab": {
          "base_uri": "https://localhost:8080/",
          "height": 610
        },
        "id": "ai_NshixQazL",
        "outputId": "4ef00efc-c7c3-4af5-e054-074e39080da4"
      },
      "execution_count": 95,
      "outputs": [
        {
          "output_type": "display_data",
          "data": {
            "image/png": "[encoded data removed]",
            "text/plain": [
              "<Figure size 1080x720 with 12 Axes>"
            ]
          },
          "metadata": {
            "needs_background": "light"
          }
        }
      ]
    },
    {
      "cell_type": "code",
      "source": [
        "df_clean.shape"
      ],
      "metadata": {
        "colab": {
          "base_uri": "https://localhost:8080/"
        },
        "id": "5gMoj-VWUte3",
        "outputId": "c0a81c16-c65c-4b6f-a76a-d86a6c7346c9"
      },
      "execution_count": 96,
      "outputs": [
        {
          "output_type": "execute_result",
          "data": {
            "text/plain": [
              "(6426, 15)"
            ]
          },
          "metadata": {},
          "execution_count": 96
        }
      ]
    },
    {
      "cell_type": "markdown",
      "metadata": {
        "id": "7x4aw1j5wNmn"
      },
      "source": [
        "### Análise dos Dados"
      ]
    },
    {
      "cell_type": "markdown",
      "source": [
        "Agora com os dados tratados, podemos adentrar e explorar a vasta de gama de informações que estes nos trazem. Para iniciarmos, vamos fazer uma análise de correlação das variáveis, de forma a facilitar a visualização da lógica entre os dados."
      ],
      "metadata": {
        "id": "xQlzl0jp0EQE"
      }
    },
    {
      "cell_type": "code",
      "source": [
        "corr = df_clean[['price', 'minimum_nights', 'number_of_reviews', 'reviews_per_month',\n",
        "    'calculated_host_listings_count', 'availability_365']].corr()\n",
        "\n",
        "display(corr)"
      ],
      "metadata": {
        "colab": {
          "base_uri": "https://localhost:8080/",
          "height": 238
        },
        "id": "_4lXf4pT05Jk",
        "outputId": "d4750596-7cd8-4e9b-d0c8-dd2284284b82"
      },
      "execution_count": 97,
      "outputs": [
        {
          "output_type": "display_data",
          "data": {
            "text/html": [
              "\n",
              "  <div id=\"df-abcf0736-c4b3-43af-a38a-63fc8357792b\">\n",
              "    <div class=\"colab-df-container\">\n",
              "      <div>\n",
              "<style scoped>\n",
              "    .dataframe tbody tr th:only-of-type {\n",
              "        vertical-align: middle;\n",
              "    }\n",
              "\n",
              "    .dataframe tbody tr th {\n",
              "        vertical-align: top;\n",
              "    }\n",
              "\n",
              "    .dataframe thead th {\n",
              "        text-align: right;\n",
              "    }\n",
              "</style>\n",
              "<table border=\"1\" class=\"dataframe\">\n",
              "  <thead>\n",
              "    <tr style=\"text-align: right;\">\n",
              "      <th></th>\n",
              "      <th>price</th>\n",
              "      <th>minimum_nights</th>\n",
              "      <th>number_of_reviews</th>\n",
              "      <th>reviews_per_month</th>\n",
              "      <th>calculated_host_listings_count</th>\n",
              "      <th>availability_365</th>\n",
              "    </tr>\n",
              "  </thead>\n",
              "  <tbody>\n",
              "    <tr>\n",
              "      <th>price</th>\n",
              "      <td>1.000000</td>\n",
              "      <td>0.002866</td>\n",
              "      <td>-0.203363</td>\n",
              "      <td>-0.244501</td>\n",
              "      <td>0.032286</td>\n",
              "      <td>0.085714</td>\n",
              "    </tr>\n",
              "    <tr>\n",
              "      <th>minimum_nights</th>\n",
              "      <td>0.002866</td>\n",
              "      <td>1.000000</td>\n",
              "      <td>0.122857</td>\n",
              "      <td>0.063010</td>\n",
              "      <td>0.028262</td>\n",
              "      <td>-0.076716</td>\n",
              "    </tr>\n",
              "    <tr>\n",
              "      <th>number_of_reviews</th>\n",
              "      <td>-0.203363</td>\n",
              "      <td>0.122857</td>\n",
              "      <td>1.000000</td>\n",
              "      <td>0.703285</td>\n",
              "      <td>-0.056415</td>\n",
              "      <td>-0.002958</td>\n",
              "    </tr>\n",
              "    <tr>\n",
              "      <th>reviews_per_month</th>\n",
              "      <td>-0.244501</td>\n",
              "      <td>0.063010</td>\n",
              "      <td>0.703285</td>\n",
              "      <td>1.000000</td>\n",
              "      <td>0.046706</td>\n",
              "      <td>0.039179</td>\n",
              "    </tr>\n",
              "    <tr>\n",
              "      <th>calculated_host_listings_count</th>\n",
              "      <td>0.032286</td>\n",
              "      <td>0.028262</td>\n",
              "      <td>-0.056415</td>\n",
              "      <td>0.046706</td>\n",
              "      <td>1.000000</td>\n",
              "      <td>0.065400</td>\n",
              "    </tr>\n",
              "    <tr>\n",
              "      <th>availability_365</th>\n",
              "      <td>0.085714</td>\n",
              "      <td>-0.076716</td>\n",
              "      <td>-0.002958</td>\n",
              "      <td>0.039179</td>\n",
              "      <td>0.065400</td>\n",
              "      <td>1.000000</td>\n",
              "    </tr>\n",
              "  </tbody>\n",
              "</table>\n",
              "</div>\n",
              "      <button class=\"colab-df-convert\" onclick=\"convertToInteractive('df-abcf0736-c4b3-43af-a38a-63fc8357792b')\"\n",
              "              title=\"Convert this dataframe to an interactive table.\"\n",
              "              style=\"display:none;\">\n",
              "        \n",
              "  <svg xmlns=\"http://www.w3.org/2000/svg\" height=\"24px\"viewBox=\"0 0 24 24\"\n",
              "       width=\"24px\">\n",
              "    <path d=\"M0 0h24v24H0V0z\" fill=\"none\"/>\n",
              "    <path d=\"M18.56 5.44l.94 2.06.94-2.06 2.06-.94-2.06-.94-.94-2.06-.94 2.06-2.06.94zm-11 1L8.5 8.5l.94-2.06 2.06-.94-2.06-.94L8.5 2.5l-.94 2.06-2.06.94zm10 10l.94 2.06.94-2.06 2.06-.94-2.06-.94-.94-2.06-.94 2.06-2.06.94z\"/><path d=\"M17.41 7.96l-1.37-1.37c-.4-.4-.92-.59-1.43-.59-.52 0-1.04.2-1.43.59L10.3 9.45l-7.72 7.72c-.78.78-.78 2.05 0 2.83L4 21.41c.39.39.9.59 1.41.59.51 0 1.02-.2 1.41-.59l7.78-7.78 2.81-2.81c.8-.78.8-2.07 0-2.86zM5.41 20L4 18.59l7.72-7.72 1.47 1.35L5.41 20z\"/>\n",
              "  </svg>\n",
              "      </button>\n",
              "      \n",
              "  <style>\n",
              "    .colab-df-container {\n",
              "      display:flex;\n",
              "      flex-wrap:wrap;\n",
              "      gap: 12px;\n",
              "    }\n",
              "\n",
              "    .colab-df-convert {\n",
              "      background-color: #E8F0FE;\n",
              "      border: none;\n",
              "      border-radius: 50%;\n",
              "      cursor: pointer;\n",
              "      display: none;\n",
              "      fill: #1967D2;\n",
              "      height: 32px;\n",
              "      padding: 0 0 0 0;\n",
              "      width: 32px;\n",
              "    }\n",
              "\n",
              "    .colab-df-convert:hover {\n",
              "      background-color: #E2EBFA;\n",
              "      box-shadow: 0px 1px 2px rgba(60, 64, 67, 0.3), 0px 1px 3px 1px rgba(60, 64, 67, 0.15);\n",
              "      fill: #174EA6;\n",
              "    }\n",
              "\n",
              "    [theme=dark] .colab-df-convert {\n",
              "      background-color: #3B4455;\n",
              "      fill: #D2E3FC;\n",
              "    }\n",
              "\n",
              "    [theme=dark] .colab-df-convert:hover {\n",
              "      background-color: #434B5C;\n",
              "      box-shadow: 0px 1px 3px 1px rgba(0, 0, 0, 0.15);\n",
              "      filter: drop-shadow(0px 1px 2px rgba(0, 0, 0, 0.3));\n",
              "      fill: #FFFFFF;\n",
              "    }\n",
              "  </style>\n",
              "\n",
              "      <script>\n",
              "        const buttonEl =\n",
              "          document.querySelector('#df-abcf0736-c4b3-43af-a38a-63fc8357792b button.colab-df-convert');\n",
              "        buttonEl.style.display =\n",
              "          google.colab.kernel.accessAllowed ? 'block' : 'none';\n",
              "\n",
              "        async function convertToInteractive(key) {\n",
              "          const element = document.querySelector('#df-abcf0736-c4b3-43af-a38a-63fc8357792b');\n",
              "          const dataTable =\n",
              "            await google.colab.kernel.invokeFunction('convertToInteractive',\n",
              "                                                     [key], {});\n",
              "          if (!dataTable) return;\n",
              "\n",
              "          const docLinkHtml = 'Like what you see? Visit the ' +\n",
              "            '<a target=\"_blank\" href=https://colab.research.google.com/notebooks/data_table.ipynb>data table notebook</a>'\n",
              "            + ' to learn more about interactive tables.';\n",
              "          element.innerHTML = '';\n",
              "          dataTable['output_type'] = 'display_data';\n",
              "          await google.colab.output.renderOutput(dataTable, element);\n",
              "          const docLink = document.createElement('div');\n",
              "          docLink.innerHTML = docLinkHtml;\n",
              "          element.appendChild(docLink);\n",
              "        }\n",
              "      </script>\n",
              "    </div>\n",
              "  </div>\n",
              "  "
            ],
            "text/plain": [
              "                                   price  minimum_nights  number_of_reviews  \\\n",
              "price                           1.000000        0.002866          -0.203363   \n",
              "minimum_nights                  0.002866        1.000000           0.122857   \n",
              "number_of_reviews              -0.203363        0.122857           1.000000   \n",
              "reviews_per_month              -0.244501        0.063010           0.703285   \n",
              "calculated_host_listings_count  0.032286        0.028262          -0.056415   \n",
              "availability_365                0.085714       -0.076716          -0.002958   \n",
              "\n",
              "                                reviews_per_month  \\\n",
              "price                                   -0.244501   \n",
              "minimum_nights                           0.063010   \n",
              "number_of_reviews                        0.703285   \n",
              "reviews_per_month                        1.000000   \n",
              "calculated_host_listings_count           0.046706   \n",
              "availability_365                         0.039179   \n",
              "\n",
              "                                calculated_host_listings_count  \\\n",
              "price                                                 0.032286   \n",
              "minimum_nights                                        0.028262   \n",
              "number_of_reviews                                    -0.056415   \n",
              "reviews_per_month                                     0.046706   \n",
              "calculated_host_listings_count                        1.000000   \n",
              "availability_365                                      0.065400   \n",
              "\n",
              "                                availability_365  \n",
              "price                                   0.085714  \n",
              "minimum_nights                         -0.076716  \n",
              "number_of_reviews                      -0.002958  \n",
              "reviews_per_month                       0.039179  \n",
              "calculated_host_listings_count          0.065400  \n",
              "availability_365                        1.000000  "
            ]
          },
          "metadata": {}
        }
      ]
    },
    {
      "cell_type": "code",
      "source": [
        "sns.heatmap(corr, cmap='RdBu', fmt='.2f', square=True, linecolor='white', annot=True);"
      ],
      "metadata": {
        "colab": {
          "base_uri": "https://localhost:8080/",
          "height": 430
        },
        "id": "oKlXhlMX0-yr",
        "outputId": "353b8b80-2603-4380-da8d-a915f4b4c9de"
      },
      "execution_count": 98,
      "outputs": [
        {
          "output_type": "display_data",
          "data": {
            "image/png": "[encoded data removed]",
            "text/plain": [
              "<Figure size 432x288 with 2 Axes>"
            ]
          },
          "metadata": {
            "needs_background": "light"
          }
        }
      ]
    },
    {
      "cell_type": "markdown",
      "source": [
        "Através do mapa de calor, podemos identificar apenas um grau de correlação minimamente relevante: número de revisões (`number_of_reviews`) e revisões por mês (`reviews_per_month`). Porém, um grau de correlação de 0.70 é muito baixo para considerarmos uma correlação direta das variáveis, muito provavelmente não seria possível afirmar uma correlação com um nível de confiança estatisticamente alto (ex.: 95%)."
      ],
      "metadata": {
        "id": "zTzwKkIY1io1"
      }
    },
    {
      "cell_type": "markdown",
      "source": [
        "Visto que pouco pudemos extrair da matriz de correlação, vamos partir para o conhecimento tácito!"
      ],
      "metadata": {
        "id": "malzWAG1cGQB"
      }
    },
    {
      "cell_type": "markdown",
      "source": [
        "#### Preço Médio x Bairro"
      ],
      "metadata": {
        "id": "hSh8JYnragIz"
      }
    },
    {
      "cell_type": "markdown",
      "source": [
        "Sabemos que uma das informações mais relevantes quando trata-se de hospedagens é o preço, afinal é um dos fatores de maior importância quando programamos nossas viagens, certo? \n",
        "\n",
        "Pois bem, então vamos iniciar analisando qual a média do preço do aluguel de uma diária na cidade de Nápoles."
      ],
      "metadata": {
        "id": "ARDJy-hA2-DC"
      }
    },
    {
      "cell_type": "code",
      "metadata": {
        "id": "ff-8gUahLk-C",
        "colab": {
          "base_uri": "https://localhost:8080/"
        },
        "outputId": "72441128-a2d7-445f-b224-b212f0035a5a"
      },
      "source": [
        "mean_price = (f'{df_clean.price.mean():.2f}')\n",
        "euro_to_brl = 5.55\n",
        "brlmean_price = (f'{df_clean.price.mean() * euro_to_brl:.2f}')\n",
        "\n",
        "print(f'O preço médio para aluguel de uma diária em Nápoles é de €{mean_price}.')\n",
        "print(f'Considerando a conversão de 1€ = R$5.55, temos que a média em BRL é R${brlmean_price}.')"
      ],
      "execution_count": 99,
      "outputs": [
        {
          "output_type": "stream",
          "name": "stdout",
          "text": [
            "O preço médio para aluguel de uma diária em Nápoles é de €67.91.\n",
            "Considerando a conversão de 1€ = R$5.55, temos que a média em BRL é R$376.92.\n"
          ]
        }
      ]
    },
    {
      "cell_type": "markdown",
      "source": [
        "Um preço médio bastante razoável. Mas será que há muita variação dentre os diferentes bairros da cidade? Vamos verificar."
      ],
      "metadata": {
        "id": "viacDq0t55an"
      }
    },
    {
      "cell_type": "code",
      "source": [
        "# média dos preços por bairro\n",
        "df_clean.groupby(['neighbourhood']).price.mean().sort_values(ascending = False)"
      ],
      "metadata": {
        "colab": {
          "base_uri": "https://localhost:8080/"
        },
        "id": "aXT6Schu8gTF",
        "outputId": "d810e416-d7eb-4eba-8d54-d2912e3a9881"
      },
      "execution_count": 100,
      "outputs": [
        {
          "output_type": "execute_result",
          "data": {
            "text/plain": [
              "neighbourhood\n",
              "Poggioreale                89.129032\n",
              "Posillipo                  85.776596\n",
              "San Ferdinando             77.908486\n",
              "San Giuseppe               77.220339\n",
              "Vomero                     76.288136\n",
              "Chiaia                     74.966805\n",
              "Porto                      72.603217\n",
              "Zona Industriale           68.387597\n",
              "Pendino                    68.359886\n",
              "Montecalvario              64.072639\n",
              "San Lorenzo                63.510870\n",
              "Vicaria                    63.438710\n",
              "Arenella                   63.209790\n",
              "Avvocata                   62.895735\n",
              "Ponticelli                 61.307692\n",
              "Fuorigrotta                61.022727\n",
              "Mercato                    60.858491\n",
              "Stella                     60.537954\n",
              "Barra                      59.375000\n",
              "Secondigliano              58.545455\n",
              "Soccavo                    56.000000\n",
              "Miano                      55.000000\n",
              "San Carlo all'Arena        54.749064\n",
              "San Giovanni a Teduccio    54.521739\n",
              "Bagnoli                    51.684211\n",
              "Piscinola                  50.500000\n",
              "Chiaiano                   49.428571\n",
              "San Pietro a Patierno      48.500000\n",
              "Pianura                    47.714286\n",
              "Name: price, dtype: float64"
            ]
          },
          "metadata": {},
          "execution_count": 100
        }
      ]
    },
    {
      "cell_type": "code",
      "source": [
        "fig, ax1 = plt.subplots(1,1, figsize=(10, 8))\n",
        "fig = plt.subplots_adjust(hspace= 0.3)\n",
        "\n",
        "sns.set(style=\"whitegrid\", color_codes=True)\n",
        "data = df_clean.groupby(\"neighbourhood\").size() \n",
        "pal = sns.color_palette(\"Blues_d\", len(data))\n",
        "rank = data.argsort().argsort() \n",
        "\n",
        "# gráfico da média de preço por bairro\n",
        "ax1 = sns.barplot(x=list(df_clean.groupby(['neighbourhood']).price.mean().values), y=list(df_clean.groupby(['neighbourhood']).price.mean().index), palette=np.array(pal[::-1])[rank], order= df_clean.groupby(['neighbourhood']).price.mean().sort_values(ascending = False).index)\n",
        "ax1.set_xlabel('Preço (€)')\n",
        "ax1.set_ylabel('Bairro')\n",
        "ax1.set_title(\"Média de Preço (€) x Bairro\");"
      ],
      "metadata": {
        "colab": {
          "base_uri": "https://localhost:8080/",
          "height": 518
        },
        "id": "wCTPrDUuBaYI",
        "outputId": "ba02a344-3494-45e5-e015-807e9e5ed152"
      },
      "execution_count": 101,
      "outputs": [
        {
          "output_type": "display_data",
          "data": {
            "image/png": "[encoded data removed]",
            "text/plain": [
              "<Figure size 720x576 with 1 Axes>"
            ]
          },
          "metadata": {
            "needs_background": "light"
          }
        }
      ]
    },
    {
      "cell_type": "markdown",
      "source": [
        "Este gráfico ilustra claramente a relação entre preços médios para aluguel diário de um imóvel em cada bairro. Porém os valores médios podem não ser a melhor forma de avaliarmos alguns cenários, principalmente em casos de pouca amostragem.\n",
        "\n",
        "A fim de evitarmos informações pouco representativas, vamos analisar os dados relativos ao preço de outras formas. Para isso iniciaremos avaliando a quantidade de imóveis disponíveis em cada bairro."
      ],
      "metadata": {
        "id": "dgFv4OgxnFQ5"
      }
    },
    {
      "cell_type": "code",
      "source": [
        " # quantidade de imóveis por bairro\n",
        "df_clean.neighbourhood.value_counts().sort_values(ascending = False)"
      ],
      "metadata": {
        "colab": {
          "base_uri": "https://localhost:8080/"
        },
        "id": "b8_J3eb59Fxc",
        "outputId": "397264f3-35be-497e-a6d0-ba6a0bed8d11"
      },
      "execution_count": 102,
      "outputs": [
        {
          "output_type": "execute_result",
          "data": {
            "text/plain": [
              "San Lorenzo                1196\n",
              "Pendino                     703\n",
              "San Ferdinando              601\n",
              "Chiaia                      482\n",
              "San Giuseppe                472\n",
              "Avvocata                    422\n",
              "Montecalvario               413\n",
              "Porto                       373\n",
              "Stella                      303\n",
              "San Carlo all'Arena         267\n",
              "Vomero                      236\n",
              "Vicaria                     155\n",
              "Arenella                    143\n",
              "Fuorigrotta                 132\n",
              "Zona Industriale            129\n",
              "Mercato                     106\n",
              "Posillipo                    94\n",
              "Bagnoli                      57\n",
              "Poggioreale                  31\n",
              "San Giovanni a Teduccio      23\n",
              "Chiaiano                     21\n",
              "Ponticelli                   13\n",
              "San Pietro a Patierno        12\n",
              "Secondigliano                11\n",
              "Piscinola                     8\n",
              "Barra                         8\n",
              "Pianura                       7\n",
              "Soccavo                       6\n",
              "Miano                         2\n",
              "Name: neighbourhood, dtype: int64"
            ]
          },
          "metadata": {},
          "execution_count": 102
        }
      ]
    },
    {
      "cell_type": "code",
      "source": [
        "fig, ax2 = plt.subplots(1,1, figsize=(10, 8))\n",
        "fig = plt.subplots_adjust(hspace= 0.3)\n",
        "\n",
        "sns.set(style=\"whitegrid\", color_codes=True)\n",
        "data = df_clean.groupby(\"neighbourhood\").size() \n",
        "pal = sns.color_palette(\"Blues_d\", len(data))\n",
        "rank = data.argsort().argsort() \n",
        "\n",
        "# gráfico da média de preço por bairro\n",
        "ax1 = sns.barplot(x=list(df_clean.neighbourhood.value_counts()), y=list(df_clean.neighbourhood.value_counts().index), palette=np.array(pal[::-1])[rank], order= df_clean.neighbourhood.value_counts(ascending = False).index)\n",
        "ax1.set_xlabel('Quantidade de Imóveis')\n",
        "ax1.set_ylabel('Bairro')\n",
        "ax1.set_title(\"Quantidade de Imóveis x Bairro\");"
      ],
      "metadata": {
        "colab": {
          "base_uri": "https://localhost:8080/",
          "height": 518
        },
        "id": "lMOUbWvhtqjL",
        "outputId": "9ae68fb1-33f5-457d-9923-329262e988d6"
      },
      "execution_count": 103,
      "outputs": [
        {
          "output_type": "display_data",
          "data": {
            "image/png": "[encoded data removed]",
            "text/plain": [
              "<Figure size 720x576 with 1 Axes>"
            ]
          },
          "metadata": {}
        }
      ]
    },
    {
      "cell_type": "markdown",
      "source": [
        "Comparando visualmente as informações ilustradas nos gráficos de média de preço e quantidade de imóveis, ambas por bairro, podemos realizar algumas leituras:\n",
        "\n",
        "\n",
        "*   Os cinco bairros com a média de preço mais alta (*Poggioreale, Posillipo, San Ferdinando, San Giuseppe e Vomero*) possuem uma quantidade significativa de hospedagens, tornando relevante a informação do preço médio (representa de forma fidedigna o preço da região).\n",
        "\n",
        "*   Já os cinco bairros com o preço médio mais baixo (*Bagnoli, Piscinola, Chiaiano, San Pietro a Patierno e Pianura*) possuem poucas hospedagens disponíveis, sendo que o único bairro com mais de 25 imóveis para aluguel é *Bagnoli*.\n",
        "\n",
        "Já podemos começar a identificar certos padrões, mas vamos explorar mais os dados e obter melhores *insights*!\n",
        "\n",
        "\n",
        "\n",
        "\n"
      ],
      "metadata": {
        "id": "ham1Ev-dux3b"
      }
    },
    {
      "cell_type": "markdown",
      "source": [
        "#### Localização Geográfica"
      ],
      "metadata": {
        "id": "YjpVIsrsasX5"
      }
    },
    {
      "cell_type": "markdown",
      "source": [
        "Primeiramente vamos procurar entender qual a diferença entre os bairros de maior e menor preço médio de aluguel. Mas, para isso, precisamos entender algumas características geográficas da região. Abaixo está uma ilustração retirada da plataforma *Inside Airbnb* para facilitar a nossa visualização.\n",
        "\n",
        "![Napoli.JPG](data:image/jpeg;base64,/9j/4AAQSkZJRgABAQEAYABgAAD/4REERXhpZgAATU0AKgAAAAgABAE7AAIAAAAUAAAISodpAAQAAAABAAAIXpydAAEAAAAmAAAQ1uocAAcAAAgMAAAAPgAAAAAc6gAAAAgAAAAAAAAAAAAAAAAAAAAAAAAAAAAAAAAAAAAAAAAAAAAAAAAAAAAAAAAAAAAAAAAAAAAAAAAAAAAAAAAAAAAAAAAAAAAAAAAAAAAAAAAAAAAAAAAAAAAAAAAAAAAAAAAAAAAAAAAAAAAAAAAAAAAAAAAAAAAAAAAAAAAAAAAAAAAAAAAAAAAAAAAAAAAAAAAAAAAAAAAAAAAAAAAAAAAAAAAAAAAAAAAAAAAAAAAAAAAAAAAAAAAAAAAAAAAAAAAAAAAAAAAAAAAAAAAAAAAAAAAAAAAAAAAAAAAAAAAAAAAAAAAAAAAAAAAAAAAAAAAAAAAAAAAAAAAAAAAAAAAAAAAAAAAAAAAAAAAAAAAAAAAAAAAAAAAAAAAAAAAAAAAAAAAAAAAAAAAAAAAAAAAAAAAAAAAAAAAAAAAAAAAAAAAAAAAAAAAAAAAAAAAAAAAAAAAAAAAAAAAAAAAAAAAAAAAAAAAAAAAAAAAAAAAAAAAAAAAAAAAAAAAAAAAAAAAAAAAAAAAAAAAAAAAAAAAAAAAAAAAAAAAAAAAAAAAAAAAAAAAAAAAAAAAAAAAAAAAAAAAAAAAAAAAAAAAAAAAAAAAAAAAAAAAAAAAAAAAAAAAAAAAAAAAAAAAAAAAAAAAAAAAAAAAAAAAAAAAAAAAAAAAAAAAAAAAAAAAAAAAAAAAAAAAAAAAAAAAAAAAAAAAAAAAAAAAAAAAAAAAAAAAAAAAAAAAAAAAAAAAAAAAAAAAAAAAAAAAAAAAAAAAAAAAAAAAAAAAAAAAAAAAAAAAAAAAAAAAAAAAAAAAAAAAAAAAAAAAAAAAAAAAAAAAAAAAAAAAAAAAAAAAAAAAAAAAAAAAAAAAAAAAAAAAAAAAAAAAAAAAAAAAAAAAAAAAAAAAAAAAAAAAAAAAAAAAAAAAAAAAAAAAAAAAAAAAAAAAAAAAAAAAAAAAAAAAAAAAAAAAAAAAAAAAAAAAAAAAAAAAAAAAAAAAAAAAAAAAAAAAAAAAAAAAAAAAAAAAAAAAAAAAAAAAAAAAAAAAAAAAAAAAAAAAAAAAAAAAAAAAAAAAAAAAAAAAAAAAAAAAAAAAAAAAAAAAAAAAAAAAAAAAAAAAAAAAAAAAAAAAAAAAAAAAAAAAAAAAAAAAAAAAAAAAAAAAAAAAAAAAAAAAAAAAAAAAAAAAAAAAAAAAAAAAAAAAAAAAAAAAAAAAAAAAAAAAAAAAAAAAAAAAAAAAAAAAAAAAAAAAAAAAAAAAAAAAAAAAAAAAAAAAAAAAAAAAAAAAAAAAAAAAAAAAAAAAAAAAAAAAAAAAAAAAAAAAAAAAAAAAAAAAAAAAAAAAAAAAAAAAAAAAAAAAAAAAAAAAAAAAAAAAAAAAAAAAAAAAAAAAAAAAAAAAAAAAAAAAAAAAAAAAAAAAAAAAAAAAAAAAAAAAAAAAAAAAAAAAAAAAAAAAAAAAAAAAAAAAAAAAAAAAAAAAAAAAAAAAAAAAAAAAAAAAAAAAAAAAAAAAAAAAAAAAAAAAAAAAAAAAAAAAAAAAAAAAAAAAAAAAAAAAAAAAAAAAAAAAAAAAAAAAAAAAAAAAAAAAAAAAAAAAAAAAAAAAAAAAAAAAAAAAAAAAAAAAAAAAAAAAAAAAAAAAAAAAAAAAAAAAAAAAAAAAAAAAAAAAAAAAAAAAAAAAAAAAAAAAAAAAAAAAAAAAAAAAAAAAAAAAAAAAAAAAAAAAAAAAAAAAAAAAAAAAAAAAAAAAAAAAAAAAAAAAAAAAAAAAAAAAAAAAAAAAAAAAAAAAAAAAAAAAAAAAAAAAAAAAAAAAAAAAAAAAAAAAAAAAAAAAAAAAAAAAAAAAAAAAAAAAAAAAAAAAAAAAAAAAAAAAAAAAAAAAAAAAAAAAAAAAAAAAAAAAAAAAAAAAAAAAAAAAAAAAAAAAAAAAAAAAAAAAAAAAAAAAAAAAAAAAAAAAAAAAAAAAAAAAAAAAAAAAAAAAAAAAAAAAAAAAAAAAAAAAAAAAAAAAAAAAAAAAAAAAAAAAAAAAAAAAAAAAAAAAAAAAAAAAAAAAAAAAAAAAAAAAAAAAAAAAAAAAAAAAAAAAAAAAAAAAAAAAAAAAAAAAAAAAAAAAAAAAAAAAAAAAAAAAAAAAAAAAAAAAAAAAAAAAAAAAAAAAAAAAAAAAAAAAAAAAAAAAAAAAAAAAAAAAAAAAAAAAAAAAAAAAAAAAAAAAAAAAAAAAAAAAAAAAAAAAAAAAAAAAAAAAAAAAAAAAAAAAAAAAAAAAAAAAAAAAAAAAAAAAAAAAAAAAAAAAAAAAAAAAAAAAAAAAAAAAAAAAAAAAAAAAAAAAAAAAAAAAAAAAAAAAAAAAAAAAAAAAAAAAAAAAAAAAAAAAAAAAAAAAAAAAAAAAAAAAAAAAAAAAAAAAAAAAAAAAAAAAAAAAAAAAAAAAAAAAAAAAAAAAAAAAAAAAAAAAAAAAAAAAAAAAAAAAAAAAAAAAAAAAAAAAAAAAAAAAAAAAAAAAAAAAAAAAAAAAAAAAAAAAAAAAAAAAAAAAAAAAAAAAAAAAAAAAAAAAAAAAAAAAAAAAAAAAAAAAAAAAAAAAAAAAAAAAAAAAAAAAAAAAAAAAAAAAAAAAAAAAAAAAAAAAAAAAAAAAAAAAAAAAAAAAAAAAAAAAAAAAAAAAAAAAAAAAAAAAAAAAAAAAAAAAAAAAAAAAAAAAAAAAAAAAAAAAAAAAAAAAAAAAAAAAAAAAAAAAAAAAAAAAAAAAAAAAAAFZpbsOtY2l1cyBCYXVtZ3JhdHoAAAWQAwACAAAAFAAAEKyQBAACAAAAFAAAEMCSkQACAAAAAzg5AACSkgACAAAAAzg5AADqHAAHAAAIDAAACKAAAAAAHOoAAAAIAAAAAAAAAAAAAAAAAAAAAAAAAAAAAAAAAAAAAAAAAAAAAAAAAAAAAAAAAAAAAAAAAAAAAAAAAAAAAAAAAAAAAAAAAAAAAAAAAAAAAAAAAAAAAAAAAAAAAAAAAAAAAAAAAAAAAAAAAAAAAAAAAAAAAAAAAAAAAAAAAAAAAAAAAAAAAAAAAAAAAAAAAAAAAAAAAAAAAAAAAAAAAAAAAAAAAAAAAAAAAAAAAAAAAAAAAAAAAAAAAAAAAAAAAAAAAAAAAAAAAAAAAAAAAAAAAAAAAAAAAAAAAAAAAAAAAAAAAAAAAAAAAAAAAAAAAAAAAAAAAAAAAAAAAAAAAAAAAAAAAAAAAAAAAAAAAAAAAAAAAAAAAAAAAAAAAAAAAAAAAAAAAAAAAAAAAAAAAAAAAAAAAAAAAAAAAAAAAAAAAAAAAAAAAAAAAAAAAAAAAAAAAAAAAAAAAAAAAAAAAAAAAAAAAAAAAAAAAAAAAAAAAAAAAAAAAAAAAAAAAAAAAAAAAAAAAAAAAAAAAAAAAAAAAAAAAAAAAAAAAAAAAAAAAAAAAAAAAAAAAAAAAAAAAAAAAAAAAAAAAAAAAAAAAAAAAAAAAAAAAAAAAAAAAAAAAAAAAAAAAAAAAAAAAAAAAAAAAAAAAAAAAAAAAAAAAAAAAAAAAAAAAAAAAAAAAAAAAAAAAAAAAAAAAAAAAAAAAAAAAAAAAAAAAAAAAAAAAAAAAAAAAAAAAAAAAAAAAAAAAAAAAAAAAAAAAAAAAAAAAAAAAAAAAAAAAAAAAAAAAAAAAAAAAAAAAAAAAAAAAAAAAAAAAAAAAAAAAAAAAAAAAAAAAAAAAAAAAAAAAAAAAAAAAAAAAAAAAAAAAAAAAAAAAAAAAAAAAAAAAAAAAAAAAAAAAAAAAAAAAAAAAAAAAAAAAAAAAAAAAAAAAAAAAAAAAAAAAAAAAAAAAAAAAAAAAAAAAAAAAAAAAAAAAAAAAAAAAAAAAAAAAAAAAAAAAAAAAAAAAAAAAAAAAAAAAAAAAAAAAAAAAAAAAAAAAAAAAAAAAAAAAAAAAAAAAAAAAAAAAAAAAAAAAAAAAAAAAAAAAAAAAAAAAAAAAAAAAAAAAAAAAAAAAAAAAAAAAAAAAAAAAAAAAAAAAAAAAAAAAAAAAAAAAAAAAAAAAAAAAAAAAAAAAAAAAAAAAAAAAAAAAAAAAAAAAAAAAAAAAAAAAAAAAAAAAAAAAAAAAAAAAAAAAAAAAAAAAAAAAAAAAAAAAAAAAAAAAAAAAAAAAAAAAAAAAAAAAAAAAAAAAAAAAAAAAAAAAAAAAAAAAAAAAAAAAAAAAAAAAAAAAAAAAAAAAAAAAAAAAAAAAAAAAAAAAAAAAAAAAAAAAAAAAAAAAAAAAAAAAAAAAAAAAAAAAAAAAAAAAAAAAAAAAAAAAAAAAAAAAAAAAAAAAAAAAAAAAAAAAAAAAAAAAAAAAAAAAAAAAAAAAAAAAAAAAAAAAAAAAAAAAAAAAAAAAAAAAAAAAAAAAAAAAAAAAAAAAAAAAAAAAAAAAAAAAAAAAAAAAAAAAAAAAAAAAAAAAAAAAAAAAAAAAAAAAAAAAAAAAAAAAAAAAAAAAAAAAAAAAAAAAAAAAAAAAAAAAAAAAAAAAAAAAAAAAAAAAAAAAAAAAAAAAAAAAAAAAAAAAAAAAAAAAAAAAAAAAAAAAAAAAAAAAAAAAAAAAAAAAAAAAAAAAAAAAAAAAAAAAAAAAAAAAAAAAAAAAAAAAAAAAAAAAAAAAAAAAAAAAAAAAAAAAAAAAAAAAAAAAAAAAAAAAAAAAAAAAAAAAAAAAAAAAAAAAAAAAAAAAAAAAAAAAAAAAAAAAAAAAAAAAAAAAAAAAAAAAAAAAAAAAAAAAAAAAAAAAAAAAAAAAAAAAAAAAAAAAAAAAAAAAAAAAAAAAAAAAAAAAAAAAAAAAAAAAAAAAAAAAAAAAAAAAAAAAAAAAAAAAAAAAAAAAAAAAAAAAAAAAAAAAAAAAAAAAAAAAAAAAAAAAAAAAAAAAAAAAAAAAAAAAAAAAAAAAAAAAAAAAAAAAAAAAAAAAAAAAAAAAAAAAAAAAAAAAAAAAAAAAAAAAAAAAAAAAAAAAAAAAAAAAAAAAAAAAAAAAAAAAAAAAAAAAAAAAAAAAAAAAAAAAAAAAAAAAAAAAAAAAAAAAAAAAAAAAAAAAAAAAAAAAAAAAAAAAAAAAAAAAAAAAAAAAAAAAAAAAAAAAAAAAAAAAAAAAAAAAAAAAAAAAAAAAAAAAAAAAAAAAAAAAAAAAAAAAAAAAAAAAAAAAAAAAAAAAAAAAAAAAAAAAAAAAAAAAAAAAAAAAAAAAAAAAAAAAAAAAAAAAAAAAAAAAAAAAAAAAAAAAAAAAAAAAAAAAAAAAAAAAAAAAAAAAAAAAAAAAAAAAAAAAAAAAAAAAAAAAAAAAAAAAAAAAAAAAAAAAAAAAAAAAAAAAAAAAAAAAAAAAAAAAAAAAAAAAAAAAAAAAAAAAAAAAAAAAAAAAAAAAAAAAAAAAAAAAAAAAAAAAAAAAAAAAAAAAAAAAAAAAAAAAAAAAAAAAAAAAAAAAAAAAAAAAAAAAAAAAAAAAAAAAAAAAAAAAAAAAAAAAAAAAAAAAAAAAAAAAAAAAAAAAAAAAAAAAAAAAAAAAAAAAAAAAAAAAAAAAAAAAAAAAAAAAAAAAAAAAAAAAAAAAAAAAAAAAAAAAAAAAAAAAAAAAAAAAAAAAAAAAAAAAAAAAAAAAAAAAAAyMDIyOjAzOjA2IDIyOjA1OjU4ADIwMjI6MDM6MDYgMjI6MDU6NTgAAABWAGkAbgDtAGMAaQB1AHMAIABCAGEAdQBtAGcAcgBhAHQAegAAAP/hCyZodHRwOi8vbnMuYWRvYmUuY29tL3hhcC8xLjAvADw/eHBhY2tldCBiZWdpbj0n77u/JyBpZD0nVzVNME1wQ2VoaUh6cmVTek5UY3prYzlkJz8+DQo8eDp4bXBtZXRhIHhtbG5zOng9ImFkb2JlOm5zOm1ldGEvIj48cmRmOlJERiB4bWxuczpyZGY9Imh0dHA6Ly93d3cudzMub3JnLzE5OTkvMDIvMjItcmRmLXN5bnRheC1ucyMiPjxyZGY6RGVzY3JpcHRpb24gcmRmOmFib3V0PSJ1dWlkOmZhZjViZGQ1LWJhM2QtMTFkYS1hZDMxLWQzM2Q3NTE4MmYxYiIgeG1sbnM6ZGM9Imh0dHA6Ly9wdXJsLm9yZy9kYy9lbGVtZW50cy8xLjEvIi8+PHJkZjpEZXNjcmlwdGlvbiByZGY6YWJvdXQ9InV1aWQ6ZmFmNWJkZDUtYmEzZC0xMWRhLWFkMzEtZDMzZDc1MTgyZjFiIiB4bWxuczp4bXA9Imh0dHA6Ly9ucy5hZG9iZS5jb20veGFwLzEuMC8iPjx4bXA6Q3JlYXRlRGF0ZT4yMDIyLTAzLTA2VDIyOjA1OjU4Ljg4NzwveG1wOkNyZWF0ZURhdGU+PC9yZGY6RGVzY3JpcHRpb24+PHJkZjpEZXNjcmlwdGlvbiByZGY6YWJvdXQ9InV1aWQ6ZmFmNWJkZDUtYmEzZC0xMWRhLWFkMzEtZDMzZDc1MTgyZjFiIiB4bWxuczpkYz0iaHR0cDovL3B1cmwub3JnL2RjL2VsZW1lbnRzLzEuMS8iPjxkYzpjcmVhdG9yPjxyZGY6U2VxIHhtbG5zOnJkZj0iaHR0cDovL3d3dy53My5vcmcvMTk5OS8wMi8yMi1yZGYtc3ludGF4LW5zIyI+PHJkZjpsaT5WaW7DrWNpdXMgQmF1bWdyYXR6PC9yZGY6bGk+PC9yZGY6U2VxPg0KCQkJPC9kYzpjcmVhdG9yPjwvcmRmOkRlc2NyaXB0aW9uPjwvcmRmOlJERj48L3g6eG1wbWV0YT4NCiAgICAgICAgICAgICAgICAgICAgICAgICAgICAgICAgICAgICAgICAgICAgICAgICAgICAgICAgICAgICAgICAgICAgICAgICAgICAgICAgICAgICAgICAgICAgICAgICAgICAKICAgICAgICAgICAgICAgICAgICAgICAgICAgICAgICAgICAgICAgICAgICAgICAgICAgICAgICAgICAgICAgICAgICAgICAgICAgICAgICAgICAgICAgICAgICAgICAgICAgIAogICAgICAgICAgICAgICAgICAgICAgICAgICAgICAgICAgICAgICAgICAgICAgICAgICAgICAgICAgICAgICAgICAgICAgICAgICAgICAgICAgICAgICAgICAgICAgICAgICAgCiAgICAgICAgICAgICAgICAgICAgICAgICAgICAgICAgICAgICAgICAgICAgICAgICAgICAgICAgICAgICAgICAgICAgICAgICAgICAgICAgICAgICAgICAgICAgICAgICAgICAKICAgICAgICAgICAgICAgICAgICAgICAgICAgICAgICAgICAgICAgICAgICAgICAgICAgICAgICAgICAgICAgICAgICAgICAgICAgICAgICAgICAgICAgICAgICAgICAgICAgIAogICAgICAgICAgICAgICAgICAgICAgICAgICAgICAgICAgICAgICAgICAgICAgICAgICAgICAgICAgICAgICAgICAgICAgICAgICAgICAgICAgICAgICAgICAgICAgICAgICAgCiAgICAgICAgICAgICAgICAgICAgICAgICAgICAgICAgICAgICAgICAgICAgICAgICAgICAgICAgICAgICAgICAgICAgICAgICAgICAgICAgICAgICAgICAgICAgICAgICAgICAKICAgICAgICAgICAgICAgICAgICAgICAgICAgICAgICAgICAgICAgICAgICAgICAgICAgICAgICAgICAgICAgICAgICAgICAgICAgICAgICAgICAgICAgICAgICAgICAgICAgIAogICAgICAgICAgICAgICAgICAgICAgICAgICAgICAgICAgICAgICAgICAgICAgICAgICAgICAgICAgICAgICAgICAgICAgICAgICAgICAgICAgICAgICAgICAgICAgICAgICAgCiAgICAgICAgICAgICAgICAgICAgICAgICAgICAgICAgICAgICAgICAgICAgICAgICAgICAgICAgICAgICAgICAgICAgICAgICAgICAgICAgICAgICAgICAgICAgICAgICAgICAKICAgICAgICAgICAgICAgICAgICAgICAgICAgICAgICAgICAgICAgICAgICAgICAgICAgICAgICAgICAgICAgICAgICAgICAgICAgICAgICAgICAgICAgICAgICAgICAgICAgIAogICAgICAgICAgICAgICAgICAgICAgICAgICAgICAgICAgICAgICAgICAgICAgICAgICAgICAgICAgICAgICAgICAgICAgICAgICAgICAgICAgICAgICAgICAgICAgICAgICAgCiAgICAgICAgICAgICAgICAgICAgICAgICAgICAgICAgICAgICAgICAgICAgICAgICAgICAgICAgICAgICAgICAgICAgICAgICAgICAgICAgICAgICAgICAgICAgICAgICAgICAKICAgICAgICAgICAgICAgICAgICAgICAgICAgICAgICAgICAgICAgICAgICAgICAgICAgICAgICAgICAgICAgICAgICAgICAgICAgICAgICAgICAgICAgICAgICAgICAgICAgIAogICAgICAgICAgICAgICAgICAgICAgICAgICAgICAgICAgICAgICAgICAgICAgICAgICAgICAgICAgICAgICAgICAgICAgICAgICAgICAgICAgICAgICAgICAgICAgICAgICAgCiAgICAgICAgICAgICAgICAgICAgICAgICAgICAgICAgICAgICAgICAgICAgICAgICAgICAgICAgICAgICAgICAgICAgICAgICAgICAgICAgICAgICAgICAgICAgICAgICAgICAKICAgICAgICAgICAgICAgICAgICAgICAgICAgICAgICAgICAgICAgICAgICAgICAgICAgICAgICAgICAgICAgICAgICAgICAgICAgICAgICAgICAgICAgICAgICAgICAgICAgIAogICAgICAgICAgICAgICAgICAgICAgICAgICAgICAgICAgICAgICAgICAgICAgICAgICAgICAgICAgICAgICAgICAgICAgICAgICAgICAgICAgICAgICAgICAgICAgICAgICAgCiAgICAgICAgICAgICAgICAgICAgICAgICAgICAgICAgICAgICAgICAgICAgICAgICAgICAgICAgICAgICAgICAgICAgICAgICAgICAgICAgICAgICAgICAgICAgICAgICAgICAKICAgICAgICAgICAgICAgICAgICAgICAgICAgICAgICAgICAgICAgICAgICAgICAgICAgICAgICAgICAgICAgICAgICAgICAgICAgICAgICAgICAgICAgICAgICAgICAgICAgIAogICAgICAgICAgICAgICAgICAgICAgICAgICAgPD94cGFja2V0IGVuZD0ndyc/Pv/bAEMABwUFBgUEBwYFBggHBwgKEQsKCQkKFQ8QDBEYFRoZGBUYFxseJyEbHSUdFxgiLiIlKCkrLCsaIC8zLyoyJyorKv/bAEMBBwgICgkKFAsLFCocGBwqKioqKioqKioqKioqKioqKioqKioqKioqKioqKioqKioqKioqKioqKioqKioqKioqKv/AABEIAhkC1gMBIgACEQEDEQH/xAAfAAABBQEBAQEBAQAAAAAAAAAAAQIDBAUGBwgJCgv/xAC1EAACAQMDAgQDBQUEBAAAAX0BAgMABBEFEiExQQYTUWEHInEUMoGRoQgjQrHBFVLR8CQzYnKCCQoWFxgZGiUmJygpKjQ1Njc4OTpDREVGR0hJSlNUVVZXWFlaY2RlZmdoaWpzdHV2d3h5eoOEhYaHiImKkpOUlZaXmJmaoqOkpaanqKmqsrO0tba3uLm6wsPExcbHyMnK0tPU1dbX2Nna4eLj5OXm5+jp6vHy8/T19vf4+fr/xAAfAQADAQEBAQEBAQEBAAAAAAAAAQIDBAUGBwgJCgv/xAC1EQACAQIEBAMEBwUEBAABAncAAQIDEQQFITEGEkFRB2FxEyIygQgUQpGhscEJIzNS8BVictEKFiQ04SXxFxgZGiYnKCkqNTY3ODk6Q0RFRkdISUpTVFVWV1hZWmNkZWZnaGlqc3R1dnd4eXqCg4SFhoeIiYqSk5SVlpeYmZqio6Slpqeoqaqys7S1tre4ubrCw8TFxsfIycrS09TV1tfY2dri4+Tl5ufo6ery8/T19vf4+fr/2gAMAwEAAhEDEQA/APoiJQ0YK5U/Wnh8fK5APr601FzECvDY6+tKDmYg8ZUcH8aAH5GM5oDA9KTy0/uj8qQoByvykUAK/VSezf8A1qHBK8deopm8yZUDHHU/0p24j7yn8KAEUh8yfw4GM0x13H5DkkcHP+fbpRkBuF+6T17D/JoRRuO/uTjHSgYjKhjzjP14FJEqg5bcPQ1IHK5XGccL60wsMA4+bPJPGO39aAAr82FDAfnipPLUqf4sjg0xH2Bix+ue3+RSK5LnZzyOnT+dAEoBEp6cqP60u4BgueT2prOOOzAjg04hNwY4yO+aTv0EOopjMGGFy30oUsFwUP4EUa3AfSFgv3jimlz02ke7dKjHPJ5J60pOyuBJ5o2lgGIHfFAYgklWGaYObZgOp3Ac+5pMyMyEK2M5PI/xocmlsAS+WVJ74OOMc03ayjCZI9CvWpJz+7/P/wBBNSHkelUMgjlCKQwIP09qeF8xTg7QR25NPCAA5JbJyc1CIv3KHlXwM0rAKkuF6H8wP5mpIzu3Hpz/AEFN8pv+erUxISVOHIGSMfTimAYyoOcbQD/MU6JRu99q8+/IqJYpGHykY9yaciSbjtYA45/M0ATSBdpYgEqMg+lNCENjcSdvU01hNjaSCG4pN0ocZUE4oAmVs9eCOorPv9JF/qenXjymM2MjuqgZ37lxz6Vb81lclozkil+0DurCgDJuvD9nNDbJboLRIr1L0iJeHcE5z9c1C2gTR31xLp+q3FlBcyedNAkStluMlSRlc1uIyvGqBsEY6+1S4+YmgLnP3Ph4T3OpyR30sceoxeXND5YYbtu0MD16dqm/sRU1LT723vZIpbS3Fs48sETRgg4OenI6ithty7iGUZ55FIQZCD0A/wA/0oC5zQ8Kolwkf9oTvp6XH2hLHYuA+cgbuu3JzitDWdKOqvbSR3Mllc2kheGZFDYzwQQeoIrUMYLMuMDAIPvzSo5B2Sfe7H1pDuczH4Yh/s+6tpdSkle6ukunleMZ3Lg4x05xWjrOmR6zYG0aYxJ5qShgM8qwbH6VoDemELtxgZAH+FOVfOLEnpwpoAx9U8P2mq6vp+ps/lXNjIHDKB868Hafxz+tVLzwgZobq3j1aWKzuZzcGARKcPnd97rjI6V0i7mfDEArjIx1pGIkbbGoPq2OlAXOSfQbzUde15Fvbmxt7l40cLGCJk8sA4J6dxketal34a3TxzaXqE2nSLbLauURX3xjp17j1rcVDH0y3rSl0I5NMLsxYfC8NndabNp91Lbmxi8grtDCaMkEg56EnuPWrWk6UNF02O0jlaULI7bsAH5mLf1q+si4wTyOKHdcDnkEHpQLUVRIOvzfU/8A1qUbi2TgDHY0bx7/AJGjf7N+VAh1Ru2xwcE5Hao2Zi4LZHb064/+v+VN8+OeZ0jlVjEwEiowJU4PBHbtQMdn5uhwPXgY/wD1GlfhNxGSvB9/8/1pDIEUrGg6c8g4o6AiTP1zigBI2Z89lbjnsf51Mrgx7iR7moj/AKsnBLDqOwp1uo2ZK4IJ69vpQA7dmQHBAweTTtxP3Bn3PSkcAsmRnmn0CGJlfkP1FN+9cN7LinOc8Lyw5AFMhO6R296BiiPrhj14zz2pE/eKcqmRwe9Lu2whunc/ic03cWlyhwBxjH0/xoAcGMalcZI6Y4pu08Fwqj1/izTgfMkB5G3ORRIRuA6+36f1oAZlhkqWI3AdMfzpArMcbsDJ/rSldyoxHcEHjuaeVw4+Y5/z6UARHqCzHgAjCk+vpTs7DnAxjqVo6gMwwF4z3pdyhsuCG68enrSAFyshPGSB0HFKM7ugxgnJpAm2H5h8xI9uenakIKqw5Dbf72ev1o1uAMcsMopwee3p/jQoIVS6hRnk7uvFIdzStjjnoSP9mhmd4QS3BAPB/wDrUAGOvJ5HXP0/xprfMhYNlc8d+1SFxGSAFznk8e5pmd6qDg5bt9frQMUEYydwyOmcke/0oAQyZbkD+I5Hp/8AXqbYowPrx60MmMlTj1xTENwhdcZIOR3x/nin7F/uj8qjD5272wOoPA/rUhdRjJxnoTQAbF7DH0NNQASEAYqSm4xJ9RQIa/8ArU+h/pTo/un/AHj/ADpshOVZcEDvmlUErkN3PbjrQMUrzleD/OkiwIwvQqACKY8eEVUO05xkcZpCrhlLtyOhH8qXURMyhsbhnBzUcabZG4Xpj5VxS+bgHeMEdaVD+JbnimA+mv2wM80gUPhyOoHBHSkfajIeF57n2oAeCT/CR+VQ7iX/AL3PQfU//WqTcW+50/vUKoRgFHUcnPpQMA5PygfNjnI6UjpkcktyOD0py8s3scfp/wDXp1AgopqNkUUAQpLiIY28de+Pwp/zswIGcdycZqhp+qWt65ghFxuXhg0DoqnGcEkDHBHHvWjHkDaSOOMd/rSGLhj1bH0FGxe4yffmnUyWWOCFpZnVI0GWZjgAetMQrruX37H0pAzD7yHPtSCaMyOiuGeMAuoPK56UnmOFyR2zwKAEbY2eDu9CcZprjyznChWGCB0qVmDcAbqb5PfOPQdQKWowT1wWP8vxqNz5nYAjnA6nj/8AVUnl7shzkqeB2/KnqQRwMY6j0oAjCEoD3HTjGf8ACnLGh+YZ59zSSbw2V4B4/wA+npQjbeCDjqOCetMBxjUjp+NIBtb5gMdAQOtODKejD86bK+FAUjnI5+hoAkopmCn3fmHpRkSHAPA5OKBDiM9aTYv90flRswOGYfjn+dGGHRs/WgA2L/dH5UeWn90fgKVW3ex7g9qWgCNl4wwDr6GkWOIk4RfpjpT93z47VGpDOQwwcnaf0/pQMf5Uf/PNf++aayRKwyg6Houad8y/7Q/WhSGckegoAjKRfNuAGTx8v+fSnRxR+WPkU8nkj3pzJuYYJGepBqG8ZodLuGjYhkhYq3oQvWgCVI0KKSik49KYskcargKGIGRXF+H/ABlP/wAITcT6iTLqNqoCgjmbfzGce+cfhV/wtr839gaWNXeSe7vbiWEOAMAqzdfbApDszpQVxllTkk5J96cQFcbkAGD0GaxbvxHZ2seo+Z53+gypE4VMl2fkBeeetMh8U28v23zYLyGSxt/PmjmjVWA54HPJ4+lAWNzcnmDCnof4D7VJH/qlx6CsHTvE9tf6hBb+Rd27XERkt3niwsygAnbz6Utr4khkv7e0ms76088lIJLiLashA6deDxnkUCsbjRo/Uc/rUZMkbbVO/wBj2rAXxlZSSKTbXsVu8/2Y3JiHlo+4rgnPr3qa88UWNjdTQmC7kjtmC3FzHHuihY4+8c+4zgUx2ZtJIrt85+bsD2qaolRZUycHJzkUmySP7h3D0NAiamSqDHz25+lNWZScN8p96V3wDnaV+vWgQx4zlQZOTwMinCRY1w3BHGKYivKu5mwMY4708QhTlTyOmaBjGDTHKjAHTPenpIip/dx1GKb5gi4x8vZf7p9PpTDGzDzMcHnFICTdI/KAKvYmlxMvdWqRWDLlelLTEQq++RexzyDUpUN1pkke/kcMOhoSTJ2uMN/OkMcp/hbqP1p1NZdw9D2PpTVUMNxLA9/mNMRHeXcdlYzXcxxFCjO59gK4Pwvex22vWk0l1FJJrkbPcRrIGMcwYuoI7fKcfhXZ6npiaxpctjNLIkUrfPsOCQG6fpVa88Nafd+WIreO0kgkSaOW3RVYEE98UilYo6dea3qmp3+y8t4bW0vmgCGDczqMd88dRUen3usTeJJbV763uLS0Q/apRbhArY4QHPJHU+lbFlpcVibzyXlDXkzXDknlGYDp+VZ+meGI9OXyY9RvZLc7/MgkK7ZNwIJJAyTz60PQLoz7DxLdf25YwG9gvoL2RkbyrV4whwSCrnhulQ2/iDXE0uDVZprd7Vr77M8AiwxUyFNwbPB9q17fwpDZzWEhv7uaOwbdbxSMuEGCMdBng1Ivhq0bRk0xZZfKS4+0biw3bt+/HTGM0DujNv8AX9WEeq6lavbLZ6XOYjbvGS0u3G47s8deK6yNvOiWTJ2uoYDp1rCvPClpdzTytdXUUF2wluLVJAElYY56ZGcDOK6EAAADgDpTJYABRgDA9qrJuEeQcBzjO3OKsOcRsfamKNtqc/3SaAImYruzu7988c+v0qVY+c5YDtnv/nFRBCWAILqDg/hx/jUokRD93b+GP0oAVSqSMM/majYgvuzgZHXv0P8ASneYUJyBzg0zAGCDwPfGPzNAArlljVWBGOQPYD+tPY5Kc4HIOR3HP9KIXXO0AfXPXFNdgznbzj/OaAFaQB88Z7Z7fWo3ClM7s4IY47Z+lPOOqnODjIPXrj+dNyDndyMc5Oen4mkBJLKoT5WBOex9Of6VG258k9eB39fw9al8nEYQMNo9RmgRIpJZUx9OlMCAAbmyAxzwAAew96kWPHlx8ZAy1OjXMRZeWOcHpRDuLEv1AxU31sFx5iXtkfQ1GR+9jT+7VjjFV9wa6z2xxTAc8oDDbjIyOeO1Krk9FZhzzjFP69aAAOlMRXwykr/FwSFPUfzoZm8yMHlT6N2qSXhlI+mPX9frUeF8z5sgegH/ANb2pDJi+W2pye57Cmxjdjedx2g4PvTsBWUjGDwAKFXa5/3QP50wGSSgZwM4B6jv/kGnxghPmGDk8fjTNpAkU/3SfzJokVlwQ3Xrknr7UASN95fr/Q0hO7Kjn1z0FNYM5GQQOSOaF3KCCygA9loEKU2qNp+Y8ZPeolCpkMu0knk8fhmpEULlyevQn0ppYscjnnp0OP6UmrjJEIWMZOc9PcUwli5+TjGM55FCjY3pnr8h/nQirJl1blueKYEoII4pu4CUgkDgYyfrTPKYZYNz14HX8zShm3kFd3HPagB6HIJHqabIzj/Vpn3J6UibfLXenOB/Dmmyy87VIxtJPr0NACrsgjDEHLYzj1oqpd6vpdrIILrULaFwA2yWYKQD04NFIChGl0lhrxtVcTNMWiIHJ/coMr+R/Gqpjaa48uza8+wNcwAFmkDE4feMtzj7uffNb8N/aPILdLmFpwOYw43dPSq8esWr2lrPdXMVqZ4xKEeVRgEe/WgZXi08f2zOoNwY4IYvJBnfaGy5OTnnoOueKxEhvLnR7xJXmedrJxNDtlJMvB6njOc8L1HtXUJdWz3X2cXETT5yYjICRx6dfenRXlpdtiC9hmZBvYJIDgfh2oC5gTCO3uL14Iblkmjh8tt0o+TOGJI544yOuKt6QL+WxmW2mjCpcsFNwkjArtU/LlgcZJ61qLf2ckLzR3kLQJnfIJFKr7E/jTm1OxWOORryAJKcIxkGG+lAE3lnP3iq46Ke9SVWfULOOcwSXcKyjqjSAEcZ6fTmn293bXas1rPHMFOCY3DY/KiyJHsQjZY4B4yaGKldwOCOh/pRIN3yA4PXNNjdSobaw9CRmmMepDjkcjsexpcfNn2xTW4w4/H6U+gQmM9aRlyuABz6inUh5HpQBGwRCo3BOcnnGeKbGGZ2YNnk8+vTFSA7WIZs4AOT/n2pFdDn5h19aBjg3OG4P86dTGIbgKW/Sk3OnVcj1z0oEK4ywwcEc59qXLd1/I1G+WJ2q2ShHUYpd21cANnOfun1oGCtmQ9ju6H6UMgU55PU4/Wgujr85XO7p+NNCAwgEsGIwOTwcUASoSV57Ej9aZgs78Dg8HOCOBSKTGWB5HU5PSkeQorY5J6ECgCTLL975vpUV4pn0+4jjwWeJlAzjkinNKrMmw5w3p7GmAggqVOeOemKAOa0zwhFFFok+obkurCEJJEpBSQg/Ln1wTkVBDoGq2Wi6X5MMUl5Y3kk5gaUAOrM3RugOGFb+s61HpVsG+SeTzo4zGJAGXcwGSOasW9xLPeXUctuAkDBY3WVWLgjJJH8PpzSHdnJ3GianLaateXotbOaa8gu4A8wMeUAAVm/SmQJf6xq3iFZEt/tEunpCEgk3orENhd3c962YNdstR8R3vh29tvmhUbVkIZZuATwe4yKl0S6sntL4WtpHp8NpdyW52MFDFQPnPTHWgZBLpN9LPoDQ7UNjBJHKxYfI5iCj68isiy0HVxf6TJe2oElnPvubl70yGX5SNwU9OtdkZoPJM0UytH0DiUYBz65psU6zkqkiSLna2xgcHHIPpQK5zZ8Pag3hB7ARr9oN/54XeMbfO3dfoKS+0XWdur6dZW8Etpqs5l+0vNtMO7AYFcc9OMV0jz2yW88sJil8hWZowQSMDpntVKy1Vrqy0u4isk2Xy7n3SgGIbc8ZHzfhQFzVtoxBGIFORGoUE9+MVNVdxGSwXadyHAAzzUoSPsq5+lMQSIGU5HSq4RmyU5VTwCasOAqMQAOD2psaDylz19jigBqTBSQ/wAvOcYpxmB4jG404xg8g8+/NAYBTxgjqKAI1T5ldzlmP9KfEcQLnjAwfwp6jagB7CoAmMeZyG5BP8J60AG7y5Nyj5D1FTg5GR0qE85BxnOCKSN/LbaT8vv2qU77i3LFMkQMvPBHQ+lPoqgIY5vm2OQT2IpGU792AM9+P8KV4/NYMMAED64pFJiYrJyrHrSTGG4rJ93gZGSR35pHkYrlOrL2HTv/AFpzx8ZUnb6CmbQcAOoyP72f8/lTAQBlbplsYJJ57/4ilTLj5D84OeO31pAFLAncdw4yDjoP8KDkbiM45wO38qQwO4SEN84Vs7frUhdRIg6FmyR+FGwtvCkYLZ+YZ7Ujps2kdM8gDA6GmIj3fu0AZRn/AKae30qb5iEOQfQY9qZFv3YJyE4ANODYVSVbCn/61ADpiRAd3BJxwaYJ027FwT0HWnSMJGjVTkZyaWUHqOgwT83oaQD1UKoA6CoZn7AZA61K7bR157VG2zCgOOvPQ5od7aCIy37tScgZwCT/AJ9KCTsPzlSPQUMmOFZiueD+dPZmZTzwBzge1AxseZlA7A5JHc+n61KYv7nH9KRGCqBwR6j/AAqQEEZHIpgRNEApPPP3hntSSLg4YgKRyffof0qZvuntx3qAQl16kAjucmgCaNty9ckcGlJwCfSmpGEYkflSuC0bAdSCKBAg2oATnA71HExKkqOpJOalIyMVHBnYQeoPNADiP+ejfh0FRZzOWUj5enPWpmyGBH0qOLln9zQMeJFPfB9DxT6Z5a9xURgy52HFAE5Gce1Qsf8ASkGe54/CjDr99N4+uacksfQfL7YxQAuzLnacYOQO1BYq4LjAweRS5w4I6NxWPrGtS2uowabYWbXl7OhkEfmCNVQcFi31OMUAa33QWHVj931pvO1sruYYxis7S9XN5b3LXVs1jcWrbJo5GBCcZDBuhBrSju4JofNgmjkj7ujggcZ60ASg5GRUZxucHpnLE+mBUUV7bvbs8FxC6pwWWQFVHuapahq1vYaFdapblLzyF3ELIDk9MZGQKANFiXkTbkAHqR7URoPmcEgk9c5ziopLy3hjDzXEULum8LI4HYDPPanrJCojH2hcScR/MPn+nr+FICVi6qThTgZzmkGzaqvtLAdKbvtz5gMiN5f+sy+dn19Kal3auiSR3ELIzbEZXBDH0HvTAXgrkBhzjOcAc+lN3HziQwbkAZfGfy+tSCaJXeMyoGQbmUsMgep9qjt50uVL28qyJk/PGwYfoTQBIDIoRMLnHXPpTiHJx8oHfjNRhwJmIbdhQMn61LuPZGP5UAcPdNs8f6nt0g6p/osHyqEOzrz83r7UV1EGlxQazc6kqyma4jSNlJXaAvTH50Uh3M8adqUmqW8kq/uorppciRdgQqwGF2g55GcmmCz1EW1hZzWSSw2yDzFWYfvSvC9f4eM478V0bHHC/ePSkEeBjcx79cfypiuYUmn6lLrEUsg3RR3fmhhIoUJggALjO7nkk1R0/TLvUtFtkEcdqgsJYklV87zIBjjHA4yfeusww6Nn2NNBWNQNuxR0x0pBc59dJvD/AKQ0B86OSJvLknDCQJu44UAY3cZ9O1SXdjfTtLKtjBuubZrdojKMRZYnceOc55x3Het2OTzFzjHOKfQmmroLmPDptxb2uorF5ZnlA8mRwDkiJVBP4g0mj2V3BqF1cXaOqyxRovmSK7EqWz90AfxCtmimFxq/fbPt+X+c06mj/WN9B/WlY7VyaBDUbepz6nihSQdv93uT27UiAiRt3U8jB4pHPzZGRt+8fagZLTGLBhtGRikRsdMlT0JNSUCGqmOW+Zu5xSgYJI70tMdiNoUcscZ9OKAH0VGrNzkA4ODinBwTgHn0PWgBNu05T8R60qsG6dfSnUzZ8qjPIGM0AJIzjGwA+uaaIhuVigBLZPHtTixVhvH0I7mlLHGMFSeAaVtbgMUKWJG49iQSabg7htyCw3EMPTHFTbAPu/KQMVHJklSw5XHTnPIoGI7Z2712/N9e3/16aMNtO4HJBGTyKkLs3KKQMEZPam7lYLju2ce2KYHmUv8AZw0pI50H9tLqwMx2nfjzepP93GK7LQxnxP4iOSP30OD/ANs62pEiJYiNd23unU9v5VMEUEkKAT1IHWkNs4OTR31TXvEUtm4j1C1uYZrSTP8AGIxx9DjFUtN1Dd4TvJ72xh3XWtMJFulJjgJwSWA5wDx+NegrneAEGeucYPSpZEBAVQoDN8wK5B4NJNPYOY8vnZP7C8UJG0LQCS1ZfsaFI+WGSoz7VpH7PLqOrHwkirH/AGOyt5CkDzc/L/wLFdXqulpq2lS2TsYlkKNvjjzwCGA/TFX1yjPsXbkZ4AG4/lTHc4OxFhPf6cvh2Mbxp0y3vlIR/AAof/a3fjU+nXEVxa+DlhfcYZWjlGD8jCI5Brt1AhdsLndydq9/ehwFVpNq9CQQOh9aBXHSsqOrEgHuM9qFI8045DDP8qkIB60ySLd8y/epiCbmJgOvWiJwyAdwKRCvl8Z7Zyc1GrFX2ryAcjjrQBZqN1yynOOfzpdz/wDPM/mKi3BmLtFuU9GIzxQBKwIU/N29KYwy2wscHjBA9KDMOEjXe2ORnpTXhkJLB1z6YIx+tADWTZkOctnIb19qkSLKkyclv0qGMFiA3PHc9anRiBhjkep6j60kle4AjFG8t/8AgJ9akOccdabIoZQCcHtUasznY+OOozyaYEkRzEvqBg04qGXDciojsVs/Pg+561JvReCyj8aBEJ3REryU/lShivyg8dQf8/4VNww9RUDp5fI5T09KBips2JnAbaOpNCrHnkHOewIpgYcABODwT6U5gHjCx84PXFS720BjnQEtgkcL396ikXJkxsI28Er65qQrIcsxA45GKidAqqxfIxkHHaqAem0SbQMLgk445pfMG3av3t2QBzTDGNh2HdtOOBxSqGAPO3jnAqb62DqLt2KZZ2CgcsScYFYUXjCwlaJzbXqWcsgjjvZIiIXJ4HOc4PritPVRJPoF/FEvztbSBVHHJU4xWHpGsaTB4M0s3UkUqNDFD5GA7GTgbdnrmmM6hIgobdzjuB+tJJuePBUZGcEeo/CuE8UXCXEusz2kM3nWChTcNfGPynC5+SPv2+tSaolxNMt/c+XfwCxicwrfmB7dtuS2BwSetAWO3Ri5/dk8HA3DoPWpD8qFcH+ea4Rp7TXNQunvbqe3t4dPims0a4KFdykl+vJBAGabp0UniDVtIj1aWdhJo/mSKshXe3mYDHHsc0BY7Nblpb2W1NtMgiRWE7J8smewPqO9WFBj+709DXHXNzFpOqeIFma4a1trC3VVSU7hnI4bPB6c0zQjLZeMI7WOP7NDPZNI0AvDcAkMMNz0PJ6VLvcVmdqX3qQAc96DOFHKnPeiEHrkH1I9aWRlKjGCcjpz3qtbCHIwdQw6GnVEqeU5I+63X2qWmAVDGAzP/vGpqjhHyk/3mJFLcCSoIG+Q4BJzzUrnCMfamQDEX1NMZIM456+1IeJB78f5/WnU1/u5HbmgQ6msqt94A06igCFoQASrFRXMarcrpHjS11LUspZy2LW5m2kqj79wBx0yK6qTPy4GeelDENGCRkHsaTHc5PVfEMWoeHp5009ZrP7THCk10hKMueZSuM7QfzrBhjtJ/wC34WvIYLSaC3YzWluwi3bj/Bk5HGDXpKgPu4BXoPpVGbUtOt1uWe7WIWzKk3HCE9AfzFA0ziBqccNhfxJp+mX1viHfdW9uyRDL4+cd8deKrkCVPEkdi1vNG+nxviyhKRsQxyQuTk4716JeXEOm2TT3lxHBbpjczLgDJxTZrmC0WFpblY1mdYo2xwzN0A+tA7nNlNP1vxfpUjpHdWp0yQrvXKkhwOh/GsqxlTT9P0W4n3JZ2eq3KM+CREpLBfoK9BWM5b58bTjp+NHlggksdvqe9Arnn1xMl9Dr1xDvlsW1S3efCn54Qq7jjqRxUzWFvqsutv4dVVtI4YZYGiQqhuEJb5RxzgYP1ru1Rhny3B9QRURvIorqOzdljnkUuka9SB1P60DucPMs2qeGr/XZIpNt9dxeYgU5FtGwBGOvqTWr4f8AscviTUpdBAXTjbRqzRJtRpcnpxjOOuK6Ozv7e7gL2biZQ7JlM4BBwRzUu2TaANsak9AKBXHlhHtyRj6dKTzWb/VoT7mkSJUGZME+pqTev8PP0GaYiMI0gy0nTjC9qKk3N/dx+NFADV3jJZQSfQ0okB7H8qGkxnb1AJOaTYyr8rMTnOBj1oAduJ6Kfx4qFo5ST83B7Zp7kIm5nII5+Y1LUyipbiaIYUeJCCM88c1Jvx95SP1p1FNKysA0Op/iFLuX+8PzoIB6imS4VM4Hv70wE8xAzNuHTGM/WhlIQlvvA5HPvxTtpIwVVR+dMQeWoZ+RjuelAx+1iQ2QD24zS7c/eOfbtSF1YYGW9hSR5X5XOT1HuKBAVAbGOG4/Gl2AcphT3460+o24f5z8uOB/nrQAqMX5GMZx1phyZvk9M/MD79KcW2MxwWGAxx/n2pXI99w5HBNAxqllZi3TvnHHvUhAbqAfrSI4dcimhwoI5wDgcUCE5G7aTwwH8qUk7sBzgcseOKTLc/KQCck96Tjai7W4OcYIoGVr7ULTT7b7TqFz5EJcRq7DjJ7dPWi/vbbTbQ3d7crFbR43O3OMkY6Vg/EC3S58NxW7KVWa9hRj35bB/nXLa3PfapoMukXocf2HEzXb9BKwO2L9DupFJXPUBOGAKcqRkHpkUOSCSyfLjocHJrk9WvpRIILHUL5Jre0RzDaW6uqEjIZ2PY46VFb6lqmuXeiRLftZi805p5jEg5YEcjPSgVjtAQkPynO1e3ekYAbFOMDjn6VyGs3d1byTW9tq2oS3NlbgyeRaoVDYzukOMc+namxX2p61qmkwRag9kl1pX2mXylB+fcBxnp1oCx1+xTIdrYPHGc/561JuIPzDA9RXDWutape6dptgbvyri4vJ7eW7SMbisWeQOgJ4rb8PXl5JJqVje3BuWsZxGJ2QAspXPIHcdKAsboJEa7Rk4FMY7WPmZx1BXP8AjSx8RjZllxgA9aVv3mFGRzk8dKN1oSIoEXXP3Omc9P8A9dRMQsnzMygc4L8/zqV0yVz83OPmApASkhHGOPuoaYwgO7LZyeAf8/jU3WmRgKXC9N39M0+khDOUHPK+vcU5sFTk8Y5pPMQ9HX86iP8As5K7sYHTHX/61MYoTceeCRnp/n2pJidoJGGB4PrUh/1q/Q/0okG6Nh7UAO6imJmNFVwMAAZBqNJCu3JBBHA78YqhbM0N6i3DNIZWbbKk5ZWxk8r0HA7dKANKRSgLR8eo9aYS7KC33T1AqjblX2zPcOJ3nkTZvJDYLDbt6DAGfwqJbthrGd8hh3fZwu07c/3s4xndlal36BqazeW64XBI6BTyKblwwUj5uxPce9Yk13cxy30UbOfOcrE4/wCWeFG76cHI981YkZ5pNPTZNLm2ZiqSlMn5Oc5Gep/OncDSQ9THgdPlPWiT5lDDkjuOD+NUlEsU2nw3L7nwwkwc5+XjPr9agtrvztUbc7mOYskQYEKNvTB6Hd8x49qBmqJN8ZXbxjB6mpI3DDHcdeMVAQch2Ck/xLjpUhy6hlUY9jTESjOBnr3xTZHCLk/l60zzNgyTkfz/AM+lNYMfnbOf4QO1AEZjZT0z6e9TRMip15PamKx+7J90njAxzTtpI3x8MOCPWkA/LnAKgZJHNMCqu5SVXtkLj/PWlMwZQfusD0P5UKeeANx6saYAD5i5J2gjDfWhclhtULlR1FR/eLlcnj0/z6VIyFmHHbjJzmgBrsBu2kFs4LFhxWfFpGmpffbIbC2W5Jz5qxDg+v8A9f3rQJAbjlMZOR09qayE4PO3p/n+VIZRuNH0y8uTPd2FvLMw2szoCSB1z+FPudD0u7ljM+l27uqhQzovCgYA9+wq23MY5HGV47etKZMPu34J4O4fr+tAEN1o2m37Rm+sre4aIYTfGDtHoPb2p5trcXX2gQosyxeWrgYIXOduew6VKm8vlfxJ/wA8050C4bnIPJxk0CKrWVs0srSW8crXCBJmZM7gOgb1pLXRtL08ia0s4YWVSA6Lg4Pv+VWSwjxtUnPAzx7/AFpu7cwb+FTllFADhLhcInHufxpzu2Nu0Hdx1P8AhR5iht3qM47/AFpIpAWKY47e3tTAeCT8rgdO1CnHynqOnuKEIZiy8jgZ9ajcsZflB44yKAHyN0UdWp6jaoHpUSDbJ8ynLDqfWpScdaBDJjiFqbEreWATgc9Oponb9z9TUqjaoHoMUg6AAFGAMUxpNr7eOnUnHNJK4GcHJAPAPQ01Tumbg8nOcnpj2+lMZJEflweNpxT6TGKGOFJAzQIjkf51C8kHn2ppjZQWyufTbSgbYsH77c496eQzYz8uD25oGYXiC7voJNM0+xnFtJe3BjacKGKqFLHAPGTiuce4vNOsfEzm4EtzHd26+aYx8w+UZI6ZxXZatpNrqtqkd60g8uQSRyo+xo2HcEVTj8J6alhdWqmZo7t0klZpCzMy4IOfwpDTRW8f7JPBl2h5BeIEf9tFrnLq4n02XTvDmoMzNb6lBLZyn/lpBkjGfVScV219Yw6zYNZ3kZELlSdrYOQ2ev4U3U9Js9TubWS9hLSWcwmgdTjaRjr7f/WoGnbQ5vXdbvLSa9u9P1C5lW0lCNELQGBSCAVZzznnrmpb+61i71fXUtNTNtFp8McsUflK2SY9xByOnH61qXnhHTbz7Q8pukjuW82aBJyEZu7bfXiqMnhVNQ8R6tcX/wBoS3uFhSIwT7fNUJhgwB6ZA60BoMh1XVNdvLO1tb3+z92mx3kjpEGLuxxjnsKh0XUZdX13Qry6x5z2VwrlRgEq4XI+uM1t6h4dsb0wFlltnghMUbW8xjby/wC4SOopx0CwH2DyYJIDp+RbmCUrhc8g+oOOetAXRD4YuZ7rSJZpZAXW6mQYUDIDkAYHsK2WkYxnch6ZBHSq9hp1vpluYrXOxpGlyTkgsckj2yasglspjhuvtTJASQjnGD9KXz1P3Qx+gqSloERCRz0iP4nFFS0UAITgZNLSMMqR6ihTlQfUUAMdSzDHTBBPpTxwKM5/CloAKKKKAELY9z6CmlWOSeD2HYU7HzE/lS0AQrlOGZmVMZI7f40mWUjgZH3QetSlAxyfTFG0kEE/Q45FAxiqSc5wR1Ydz/hSMx+64BIPGDg/hTywX5QCSBwAKaAXXpgnqx/pQA1h0yDuB4X1/GpQx2g4JP0xSFAFORuPr3NNy6uEyDn26daAFjU7WVvp17Yprq5OCcqPU/zpwDb2G70PA/z6Um0mReDj1bnNACRqwztORgDJH9KbhkjDpySMkEZ7VMFOWOcZ9KbFkArjAB4PrzSAFLMMhwT9OKCxDDepH0GaUgq3BADHpj2/+tS7+cKC3rjtTEUdS02DVoUiuUYokqTKQdvzKcijUdPg1G0ntLsYiuF2yFOC3p7muZ1nxXJeWsX9nwXkEBv44VuxgJJh8MODnBwevWt3TbkSa3q8UT3DtDJGGSVgUTK5+Qdh6+9BVmMu/DVhdXH2iQ3UEjxLFKIZiolUcANjrUlroVlp7Wk0KuGs7c28Ss2fkJzg+p4rm5fEF5p3jy/W+ld9I3wwuGPFuzICrD0BOQfrWlpWozq+vSSLcXi298UihjO5sYGAvPA5zSDUvX3huyv7ua7k8+JplCTrDOyLKBwNwHX0qe20W00+6tZ4VYPbW32WPMmcR5B549hzVD/hJ4o7e+N3a3dtPp8Qnlt5NuWQ9CCOD0p9p4jiv9Rhtbi0uLTzojNA8oG2VRySOeODnmgNRzeGtPfT/spjlVRObhJFlKyJIxySrDp1PFXNP0yDRrdoLNCRI5d2d97yMe5J6ms608V293c2q/ZLqK1updlrdSKNkjc8dcjODjNZ1vqMn/CItPe3V4W/tJow8UuH/wBbgDJ/h7EelAanXK0gXlQoHqP8KUFpPmGMDjIOM04tuZVPGeT/AEpSNsikcbjyPXg0xCMrFNuBjP8AeNIqIpxtKE+55qWmFkYc9PegQ4KFzjv6mlqJZMMQclR/FUtADZD8h9+PzpjKUO4O3UcdutMeRzG+UwAOvpxUvlr2GPpxQMfSZ9Bmkww/iz9RSr90UCK5Xym5UEE9fSiK0himaa3jiDP1IQAn8RzUkoOV5O0nt2qMhesRYHoQR39KBiC3j897mONFk6Bwgy31PWnhY1QRSRIq5yBgbSc5z9c801ZcLsYY5/rU7FdvzYK/zoAa0cYVvkX5zyAPvE+vrUZjRXA2qCowpx0HHA/IUqqy/OnKdlJ7UyMrNMcjjaev1qZRuKwjId4bAZv4WPUGkEaCNAFQhMELtGFx6DtU7QkjAfHpxTSC0gVlwf4iOhFEb21BAFwuSSrH+LqPxpATE/P3T1x/Opt2DyOKoanBNPY3VvZS/Z7iaJhFKB9xiuFOPY8073GWh85MhxgHO0/zqUEOvHT3rzT+yPiRomh6ba2OpQalefa3a4llcPtj+Xau6QAkDDE455AFeklH2kg/MfSmBE6hG67VA6/57U6Nzu4HXHXsabu2RbVyT1Jx92kR14j525z7/T65NTvqw3JHhJberfNUbvuyHGD3HrT1LZxuO4Hhfw71KEG3BGfr3qgIFkw+dwI56cf5704SKAnI4PbsKUoqyH5QRxgfX/8AVQyrkbVHBG7j9KAFUq0fBGeW+hpQdi4Y5U9/T2oeFSMqMHtiokfaQHOUzxgUACkq/HC4446CnpGoj3NnB5INIyqFO1htYjjPT3qQyIBywoAZvaMBcZ/w/wA8VIcOnswqB5ELZUlqasjA5UfXNAEhGwMW4PHQdfx9acijdlsZ9ulNxM684APamrEW4ZyCO1J36ASEbW2ghVbknvSGMFwF4B5OKBbp3JpBFgEq5UZxTAkI8sZTAA6jtSI3XPBJpmyUjO76ZpuHJ6gnHpQBLKwCN6gZFP69ah2Slj8w5GCaVVlZQTJj8KAEuCMoD0zzSxt5nDNkjsOM1GUImUfePfNKVBY8EPnAH60AWAABgDAppUGQdenY4psTHcyv98frTmOHUk8cj/P5UCHdKiYmRwEOFHUilJMxwOE7n1qQAKMAYFAAFC9PzpaKKAI5v9X6cj+dAVjkE8A8dfSpOtFAECLjC5+7ngdemPWiMZkJ3Hr3P9KdN90YA3E4B9KXaYlO07gOzH+tAySokBQlQAfcnrTtzkkbVyP9r/61Id/B2jI9DQIaWEm044zkEc0z5lAYggg9D9P/ANdSoGKfeAHsOlK44Bz06knH60rDEYA/cIyecZ6+/tRFt2/KcnPzfWkjjGCDyueOMA08r3Xg0wHUUitn2I6ihmx7nsB3oELRTNm7l+fb0ooAfTU4yvoePpTqYxCup9eCB/n/ADmgBekg9G4/GnUwhn/2RnPvR5a/xfN/vc0AL5ic/MvHXnpShgwypBHtTADuK8Fc80vl5wW+9twSKAH0UxCxGWIz3AFI7oWALgDvhsUASUitu5HT19aZkOu1DkdznPH1qSgBMc570hRT6j6HFOooAYUABwzL75z/ADpsZHXHzY/P3FSEZ60Mu4enuKAGqcyMR0wB/On0xBtJX3zn1pxIUZJwPegBaQgN1z+BxSb8/dBP0FNdnAH3VycDJzQAxmUqCidV3A4xTkB3YDnaB02gY/SmgbWZV5zjHfGKTzEBJEgyfXNAzjG0LXYtMg0cQWptba9E6XHnfM6CTdjbjg810elWE9trmsXcoXybuSNoiGzkKmDn05rTGEG8KAWwAOlOEajqMn6Uguc6uh+dq2vNfxrJZ6kIlQBuSFQg/TB5rHsvDGs2fh3ULNblXllvEkR/MKefEoA2lh90kCu7ZFYgsM4pu0J/FgZ6HpQO55/e6Ld2Nhr17LZRWUE2nCOONJ/NIIJJyfxrWstM1TUr/TrnU4oILaztHijaKTc0xkULnGPl47V07wRXMbxTIskLZUo4yGHpinhVRkRVAULwB0GMUBc5Cy0HWvL0nTLyK2Sy0u4WUXCSEtMFztAXHHXmhvD+qros+mtFCUXUFuIZRL99DJuOQehFdnUbt82QMhOT9aAuNGEPzqTk5U4zTiyEqScYPGRj+dNBYYLZyCTjFLNuKrt9cmmIcfmcA8jBNP6U3YvYYJ644pjqcFUycjBy3SgQ6M9iOSAT+NIcx5K9O4NIzMGzjGFOR60rFc5JYEeoOKBmVq41E6ft0cDzt4GGA5GOevHpWjam4FnELlczbRvIPGe9Z2i3uo3zXB1KzFo0b4jGCN/XPXrjjketaxkAByOR2rGnaXvq+pnC0veQ0uxYoFwfXPSnAuSR8oxSou1cnqeSaCM/Mp5/nWxoGG/vfkKydE1f+2lucwSQiJ9vzH72c+3XjkVpNLkfKcFuBkd6dIFVCQMHGARU6t6FRlFRaa16PsRZVpMSHIGcf/rpCpA+UllIBI9qeQqqMEjGMk8U0cjIOxyRlf8AP/16ZJKCkwGe3aolhXzWKllC8ZzS7NzHB2uP1phLBj5nDHgGmBICes469GHb/CnxDgserdM+lQlmICbuADk1JGzeYUzkAZ5oAlJwCT0FRIBgu/8AF29RSyfMwjHfk/SmFMhFyfvHAPOOtAB5gLFQcr2J4x/ninxu564b9KjXdtYrhs8HHb/IxWJrWoNqF4NG0u4e2vshzJyqkbc7dw56YPpxUylyq5rSpOpKy+fku5syZk5IIYnhfWiNUDHcOnAIPT/P+FEQkhs4UlfzHVVDMeMsOtShV2Bs8k8c4x9KfS5m9BAWLE/xjtUgcsMqPxPFRlTgYUYAOTTlZmjGwrgDHBzQndCHeWCdznJ/If55phH7ksPlyc4pZBtTgsxOBjPWoSSzDzHGQeFI4Hb8aYFljwAvVqGCrHz90CmRtuIJ9OP60xpCHbzNoIxt56e9ADD5YwT046UgwVXC7cYyWPJ+gqQ5KFVHXnpzmkcnb93J9T1qbhceGB4LfJ2wPvUxv3UnXIYYBHOKVJCnX5s9h2qQBSw2jrnNUA8HIyORSMucEdR0pNpH3WwO+eaFZmHGB/tdj9KBAZMfeGD6etNThQXB49RwKRZ4xJsjy7nv6/jT/MPzrJtyBnj37UgH01R8zN68UoyF98VmXeoNZahF5jf6N5WZOPunPDfngfjTGalNUYyMcZ4rJi1GZNHuJ7llWbzGRQ2AEJOFH4Z/ShtQkfRVkilLSrKkTyRgHd+8CkjtyDn8aAsaLZN0MdQKco3uWHTdn68YrJW5mFldSrJIdkgVGkVQ45AYEDjrmpJ7ye31aVGP+iiNN2ByjMzYb6cAUgNCRsOsi9jg+9HM59EH61lXGoSrpFmVlRZpYlcs5ABwu4+3JwPxrRt51liRkPySAMp9jzQBaAAHHSlrHs7iZPsDvcNILolXRguF+VmyMD/Z/WrlrcM0cpkcErOyjPZQ2P5UwsXKKiM6DoSfoKPOY/djY0CJaKiMkmP9Ufzpv2gg/NGRQBI+BIpboM4NOBz0qLzkkUg5U9simq5IO0/X1/zigZK3yldo56YprbyxXPbIA4/z2oXC4bOSOGP9f8+tO4kIIJwPTjP40AJ919q4G7nB7U7ZlgWOccgdqRlCxnaMY5GKXLdlH4mgB1RrJ87Kw5B4x3p20n7zfgOKUAKMAYpCGlSxBJ246Y60Lwx3/ePf1FPpCAwwaYC0VGWcHaoDN1yTjiigB2GP3m/IUoUL0H196WigApCcDJ4FLUW9XbrlQeg5yaAFyVjZxwTzzTtmfvMT+OKMsf4eP9o01YyrEqVGewXH9aBiMgVhtRSG7HgZp/zew9qR1YrkMcjkYHekQE5/eMcH0H+FACsWVScj6YpxO1eevt3pNmepJ/Gk8tc5+bP+8aBDhk9Rj8aQtzhRk0bT2dh+VNKhDlSck89TmgB2Sv3uc9AKNrHq2PZaarHdlsDA59qf16UAMO7jjLDoRQjA4Zjz29BUlMXAHlnqBjHqKAH0jLuGD+B9KRe49KdQBFk/wr8ynnHSkxujLKcLnOMds085V84JBHOO1Lncny859aBiBQH9Tjkmn1ErBWO8/NgDnv71Ix2rnGaBC0jdMjqOmaGO1SfQUxiSMNgZ7DqaAG7WWQ7MDPTFPLIHBLAHBGM0xQxfIVVxxjNKyuTnAAxghTyaBkgOQCOhpmG3MQBg9Qe9ODrkLnB9DwaUkDqcUCELEthce5PalCgJt7YxSJ/EPQ06gAooooAY6hmUEZ5zzTDsEmFZVIHAPT8qUsC2STnJAAPT/OKanzIzM5Ixz05GP/10DCNSzBywOCe2OOaVvmUvnGOF5prhg2Bg/KAe1Ol3FcbGxj+E0kkgCPaQNyAN64604DLsV4HTjuaiX+EScAe2Dn6fjUdzqdppqxLfTLCZDtTIPP5UXS1Y1Fydoq7JcOdqELgEnGcf560jyNsXI5HOcflT9ol38YwcA04E7twXORgjPSlZ2sSIzFgny7uCeD3qOYZZVwCehPT9f89alzGTz8re/BoRPlzk5JznPWnYYgXauGQbc9hSOAFBB3A9icj86eSy/MSCO/bFRSqj4zlSev8A+qmAjeVgbVOTz+FUod0V2PtZnHmu4Rw4MbDkgY6ggD07dauJFtPzY3HoxFRNa20GJY4VEjZOQOmeuPrSGVrHzJruVm+1YWZ1D+aNgAJwMZz+lOh813Nw92yN9oeMISNpAYqFx64Gc9akS0h87zFhAlyWLc9T3qcWcQu/OWCMS9TJ1OTxnp1oAz3llBlnSZ1aO5SJY8/LtJUYx3J3E5rG1ux2a4+pyXJgS2ATcOMNtyvPYE8H8K6WS1t/tAlaNTLkYcjnI7n396q6lpNvqlo0N2G2OwYuh5yBgfoazn70dFccas6d5U9xzbrm7tYzNIEa3ZyY3xk5QAn8zTIZ5Wj058kmUneRx5mEbH8s1bj06zEUUDRrIkUYSPdyQvTH6D8qlMMQ25TKp/qyBjYcY4/CtOmpPTUzluJfNSVpJv3lw8RUAFAAxULjI7DOQKuWczF7lXZyEmIXvgbFOP1rm/7Pu9N8YC6t4WuIbw5kkZOIsnnn2Hc9jiuk+yW4laYxKJCQVY9d2Op/Ks6dRzumrWIhPmvdWsVXumisbmRpSJDM8UTsc7ctj9Ov4VGbmWXR4zbzkXAmSLeOQTvAz+IIP41omCJXHyKGVy/sSc9Pfk/rRFBEw3ugJZlcj1YYwfwwK0NDmPEH+m2lxeTXMtqNPjRzEo3YfLAjr6gc+laei6hBqhWS0uJbiB4tx80ZZHDYP0z+VbL2ME4m8+FGE67ZFIzvHTn161HY6VZ6TbtFpdskAJyQMnP4nmsuWSqXW343FKpUk1G/uolUMOcYZeq560x7iB5/ISWMykZMe4bgPXHWp8h0DqcEev8AI1mx6Raf21/asayPcYIJDYTOMZx9KuV2VFQd+b+maOwGMAdOx/rTY/lLcZbOMCgsUOWBjU9TwR/9aoWuGbMdqh92qiCaSRIhmY5PZBUOJrvr8kf8/wDGnQ28aoJZm3E880+Ryw+YEL/dHU/X0oAjEQVsRHCgj58ZOfQetS7du3sN3T1+tOACjL4B/lUTMZsY4TPX1pjHtKScRDcfWqrrbCdRcyxLK42KHYfMM5wAevNXRGqrgDis2cJFeXYntpJlmRBGqITuxkbc9ueecdaALD2dsjJu2gtKXUMx5cg+/pmlFtbb3jYLudllZQxBypGGxn1UflVLU1uZ7r/R4S/2ZA6EtjL5z+PC4/4EaS6S5k1BbqyQ+YIAFDjAOScg/TIOPagC0Vs/JuJJ3jWOR8SMZMDcOPXg8D8qbJLaPHLcebA8ciiKSTeNpHPB5x/F+tUkt3t9GES+ZmO7zu2FjgSfex39anud89nEI3Z389MuYSv8Y52nsKQy1bpZLbpPCY2SKPyw4fIVR2znHYc0RzWcNkGhmhECnlw4Kg56ZPTk1S+zzG1uvNRnl+0q0gVOHUFeVHf5R055yKsWgD3lzMqMsUjIF3IV3EDk4P4flTASxg08ybrZ0l2DAKzFwufTJOKtLFAsO+3AZXfflTu3ZPNUIxNH4fjiiRhM8SxgY5Uk4z+HX8Kn0mN4VlgeIxrG2YhnICtzgH65/SkBcQlWwy7QehGPyqWmSEBOe/ApUbPBOSO/r70yR1NZwuBjJPQDvSF+SqDc3f0H1oRNpJJyx6mgBoi3Z8wDk5wP8aUwxn+H9akooArFPLbCuV/X/PelSQoSZATk9anpjjkgDO4cj+tAxGfcQMHGeafuY9E/M1Cp2qUPbDA1Nt9SfzoAaXfZu4HOMde+KTDE9Hz6k/4GneUv+11z940uwe/4saAGop2DDHI4OecmnbWP3m49hilAAGBxS0CGYxIAowMHP6UUD/Wt/uj+tFAD6QkAZNNEm7/Vjd+lKF5y3J/lQAmC/wB7hfT1pQcHaePTHenU1tu3D4waAFyPzphfbNhuF25yTTFkyw4JIyPr/nFOCkMGC9B/E3/66BjtxP3VyOxJ4NJGAkfOFx156UqlnGQVAz6ZqJiVZzlidwA445x7UAPEvUnlS2F2804v+7ZumAajAyw+VgSc/e4p+xfMOVXpxxQA4LtPBP4nNNYhnwRnHAHrSlI1BbYvHoKauwJyCMckhSKAHBc/e4APAHSn1GGCqu3J3dt2e1O3HurCgQ6kIDDBGR70daaGKkiQj2OMUAMA/ffKdvB469Mf41KowPWkZeQV4P8ASnUAFRspDEgtg9cVJRQBCysSpUgk98U1d27DkHHGwc1KDtLDr3ApjOeXTqB25z9TQMcTksW5weB2pyrtHqe59ajZsk8EdGOR2FSBwWK9xQA0usch3cZwakpCAcZHTpSbifuqT70tb6iHUw4B+bLZ7YpcE/eOPYUBQOR19Sc0wBBhcYwM8U6iigAprnC8cZIFOpkn3R/vD+YoAXYuAMcKciomJLP8mODk+oqemSf6s/lSdwGICQpGc9ST3qb60i5KjIwccilpgQ+QNxI49COuao39vp988EWoCJ5lJaFXbBb6DPPbitSsPxBpSy7dUggee8tQDHEDw+DnkDk4yTx1qKjtG9rmlOSi+aTat23NdGVIcjO1e/rSB42bIZlZj/n2rnLW0bXLiw1Ka6NvPb8SwRnOGDE88/KT3BrpEgVSCSSRWUZ1Ju6WhgnJvVWHvwhOM8dKYVAG2PcW/wBk/wA6dIflwOp4FKpGBjAz0FdBoNCSfxv+Apyoq/dGKdRQIa67h9PUZqvj5d5O0A4wDirVQIu+MjszH8KBkecxkJkDqR1x6f40261G00xYvt9wsRlOFLDqfw/DmrXlgDAyB35qrfaZZ3wRr+ITCE7k3HGD+H4daifNy+5v5ky5re7uJqEFzeWE8dnMbe4ZQEkyRt5/T/69ZGhtq8dxNZ6pblo4FIW45HmHPHPfj+VdEikA7jknrigx54LZXPINLlu+Y6I1rU3TaTv96K/AYZGV6lR2qzhZE65X2pcD0quw8v5kOUPUA1auYmdZnVv7WuxfGM2S5+z8Dnn256ZznvVy5nisraS4uJNkceCzMO2eOnvVhnV4/lHI6AdqqXTWWoK1pcmOTcoLwlwGIz1x1qbcq3NXOMpJyVlpt/W5Ja3Ed1bxzWjh45Pun1PTNXI4xGo7n1rEvPDMV5bWkUEz2cdsxZUjGeDz69ff3rdJwCeuPShOWzFUUEk4Pvp27C9OtRPL0EQDtnke1NV2nJAyiD8zTy0dvHzhR2HrTMSN4GYFt3zddo+7TTcxwxhY8sfT/GmGWa6JWEbE7mnxwpbSKT827jdjoaYxqwS3DBpyVXstWPkhUIi89lHemyzqisS6oqjLyMcKv40sPlPEHidZFcZ3g53fjSDW1xiJli3fOc9h9P8AGleRI1IHJ/z1pkj4GwfNz+YpyQ/xSdew9KoY1I2kUFjgdge9S7dy9NrDpT6KAGbv3ZbPTrupQQcfN1GQPWmyfKQ4ALenrUYVBGw+mD6nH+fzoAlzs3fmPelRAi4H4n1qMozMuWO7qfQU7cUAyQ3060ANi4kdfQmmD94XPXPHAzRI2yViP4l4p8Jby8KBkdSaAHKWEXHJ9D2/xpEXdnJyh9R1PrSMXjwoIJY8djTgrYwBtH1yaAGkbUfBPygAEdqdCNsYU9R1p4UBcY47570jDHzD8fcUABAkBBHQ9KhC7lCrkbe+fvf/AFqfuDsD/AeM+tSFQcdsdMUrK9xCJt2jaMD09KdTD8p3Dp3H9aD8wy3Ceh70wF3g8L8306U2MsS24Y5p4IIyOlMfDSBQdpxgmgAaTrsGcChcq2WIO7uBSqwVcNgY4poJKlFB9ieMUDGyqFkUjjdkGlAfaDvYgjsBkfpRLlocn7ynmnxHMYoAVORkMW+tOppQHkjn1HFC9weSKBDqKKKAGdJcnuP5f/roqO6JEQ25zu7UUDtceVzJ8p2kD8/84pwbJwRg/wA6F+8x98ClIDDBoEBOAabnf7L3NRSMkKs0rhQBuMjHGB71SsNX03UXaLTb22uXTnYrZIHqMnp70DLxcZG07sHHyj8R/hUm3dy4+intSKPMX5mJGTwOOhpTGpHQZx170AN3BSSBtOeQRgH8aa53EgEY3LkEe9PK7WHlgAk8+lReZCzfIUBUlTyDtP8A+ugCZuNpA4B5wKUYYhhkY45GKi8zeAD68lCaXMfrJ1/2qAHvk4A7n/6/9KXLDqufoaYRl13ZAPAGeaftI+630B5oEKMdhj8KWkHSloAKRmCqSxAHvS03YvZQPoKAGxvkAdR2IOakpvlr+Oc570Kc5B6igB1FFITgUAI6B15AJHIzTXIaEnoKdvX1/SkIRgxAUnuRQAkZyMtnLeo7Uvlp1CgH1HBpqBvvAZO3HzHFS0AFMXh2XtgEU+igAooooAKKKKAEJwMmmkF8ZG0ZB6805huUikU5HPUcGgB1NcZXj649adRQBjDSMeJf7UFxIV2ACLGRjbjr6e2OtbAOQCOhqJl+cL05yP61NUqKWxpOpKduborBVXU4Li502aGym8idxhJM4xz7VapjP2Uj3J6CnJXVmZNXVjI8PeHo9FsysjmaeTBkYnI4zjH51q7n3bBjI5JPpTLmMXNq8CylfMUqXQ8jI61gHR9W0jT7e20WcTnzmaV5ABgHGBg9uDnHNZ/w0lFaHVGPtnec/e8/8zo9yqxLtz+goQr5jhevfimgbcJ91ecgjr+NOKKjbl4ycH8a01ucxJRRTV5Yt+ApgOqKPmRiv3f60twkklrKkL+XIyEI/wDdOODVDQLW8s9LEeoXP2iXeSGyTgemTye/50ru9i1Fcjlf5GnSEZ60tFMgKKKaxI6KW+mKAFIyCDTNh7qre+cU75z1IA9MZphYlmjJ5AznGM0DGCIkZRsD0Paubs7O4k8Z3d7dWboIRiOXJ2vxtB98r6dK6DUbP+0dLltRI0XmqBuUcjnNUPDWgf2DazR/anufMbPzLjGM9sn1/QVhUi5Tirabl+5yaq7v93n+huIwdQy9KWq/+ofI+43X2qWTJiOzr2wetamZEXEMxVBu3nOB2NRPCAxM0gd+wJqVijxeXCMkj/vn3NMaQWpiikMe6VtqAg/McZ/pTAsJsjiwCAqjrUUrh4/nO2M9PVqcsCl98irnsB0FOWBFfd1x0yfu0gK9xZR6jpb2l0rLHIADtOCMHIP6VHa28dhZx2NpuMcYwCxyTk5OfzqxNKThUHB7+tLHEAnPU859KOVXuXzS5eW+m41I1DbcEtjlvSpAc5VuDjqO9OGcc8mkcZXjqORTIBAyrhjuPrQWVSASAT0HrQfnjO3uOKjKqyEJ1fn6ULRAPX5mLH6Con2rJ8h5J/L6U4ttbYzYzz8oNOOwqUTbluoH9aYxqA7myTn/AGR+P9aVCIozkEYPfqacSsS88/zJpoRmYO+M5+76UARMhyhfucY9BU69m6Ho1MuOV+nNAyyE5HznsMf54oAeAXAJOBwQAKfRRQIawyOuD2phYOwVhx/EPf0pZWAAB53cAf1pVX5MNyT1PrQAjDaCAMhug9DSBicqTww4IpwBKlW59/WoZGwduPmz+v8An9aBkq7VQ9uxHYGotjNGyjgK3CkY4p5XjcG5I+96elISoIOMcfMM/wCc0ACFxGST8uetRsGMmFPzA9asAbh02r6etJKhZMKBx60umgDVULiTq3RjnNSPxhv7vX6VGAWT5f4hjJ7U9H3gYB6c+1MBrEnoPlYYyePx/wA+1Jbn5Sp6g0MOChIAHTjJPp/n2pqcyNjgkZH+FAFimOdhD9uh/wA/5605TuXNDKGGCM0CBTuXOMUtMVwRhiNw4NOznpQAEA9RmihmCjLHFFAEMbnCjepLckAdO/rUpUn+Nh9MVXJHkoCxOMdx6VNGHWMAL+ZxS1uM57xyCnhG4G9tryxLIfVTIuap6ybGDxboENiYVuYbhkkSPhljaMnBx24rp7y0i1C0ktbxFkglGx0I6j61h6f4Q0631SK+jmvHuLcjy3lnL4XBG3ntSvrYd0Uf7c1AeDo73z/9IOoCEvsH3PO24xjHSo9d1m6s5b260/UJJUtJQjW4sgYRyNytJ1zz1zWtN4L0x5mcNdrG04uPIWc+Wr5zuC9OtF34U0u9lug092sVy/mywRTkIX7tt9eKY7orI+q6l4n1S1tdT+x21mYGRVt0cncuSMkdODWbp9zdaLZ+KNQW5ec291IojdFAL4T5+B79OlddbadDa6jd3sKsJbsIJC7cfKMDAqBfD9h9rvpCHZb9SLiEufLYnA3bex460CuZ2m3Wp2PiCzsdRvhfR3ts0oPlKhiZcZAx1HPeujYHJxzkZH1FZmmeHLLSro3MUlzPKI/KR7mYyeWn91c9BWkAjuwOG5yM80xMcW7ouT3pQGzyQfwpQAMhce9LQIKKKKACiimlQTk80AG/P3QWHqKY7cgsrADv6flUtMfn5R1P6UANUuygg9PpzUtRuRGd24Lnt603zCYtwZR9OaBk1Ndc8jqP1FMUvk/xYOMfgKUSMx+VOPXNACxnMY+mKUsFIBOCelNH7s/Mc7uenemiEb95J65qZN9BO/Qmopq5PJ79B6U6qAKKKKACiiigApnSUehHP+fzplzdw2dq9zcOFiQZZutMgu4b61Se2bejkFT+P/66V1exXLK3NbQs0VTs9Vs9Q8z7DMJ/KOH2gjB/GrW5v7n60Jp6oJRlF2krMjupo7eHzZpUiVT952AH5mpEO5AQwYHkEdxXO+JdDttRkivtQu5La3tl+dR357dcHnHQ1qWVzbLpcb20qi0RAEkJ4CjjqenTvUKfvNMuapKC5ZXl1XYuOzElVB+vvQqgMqjog/WkiYPErwukiMMgqcg/Q96eoIznqTmtDIXFLRRQAnXrTWj4+U4747U+ozLtfGCfZRnFJuwGTrOkNrH2fdcyW/kybjsGfT8jxwfetlcbflxj2rG0bSf7GNwfPmn89wxDp0/LPPPWs9tX1Oy8WC0vIt9pct+4aPHAzwff3zWN4wfO1Zvc6I4ZSnL2Tvpftex1J6UyD/UrVS81a105Y/t06R+aSqdeatw/6la2Uk9jHlaim1oySiiimSFFFFABUSjfIxPIBxTi2eU5xwRVKK+s2babuEyF8bAcsDnHTr19qBpN7Fu4RZ7eWDzNhkQruU8rkYyKpaFpf9kaYLfz2ny5fcwxjPYCq+o/2qus2osiv2LrcZ/X36dMVLca9Z2V/bWE/mCafaFIXIGTgZ+prO8b3fQ6FGpyckHdPWy8u5pSnETZGeMUkbGN/LbofummuHbywxA3HkAfj1pu8SxYbBfGeO3vVnOWFQLuK/xHJrl9VtdQ/tCz8/VEDPLhNqbRGcdcZ59OfWuit7hZ4lZWDAjIYfxCkkgtrh2EkcUjqNrZUEjuB+tAhLNbmG3CXs63EmeGRNuR7ipZGJJHYcnnrXM6v45sdCvpbGeGWW5jwWPReRnryeh9K1rHVrbW7KK5sX3RN1PdTjkH6VnGpBy5U9Tonha1OCqyjaL2ZdjxJIXPbhR6U5GAG3OSpxxzTGaKPG9xtHBLHAFL9oiDMinlMAgDpkZrUwJWZV+8QPqaTcMA9QT1FMQI7MwA69cUhRvnVTyR370CF8xY927gDnmm288M0ZkhljkUn7yMCPzFROsd/aNt/eJMhUlePlIIxzj3rO0waXo840u2nZ7kkuY35bJHrjHQVLbT8jaMFKDavf8AQ1wolZmycdiD+H+FAkznYNzH9B2pqozkhjtHcDvUgjCsQCwBHY1RkIi5Ys3zMO/YVLTE4JXOQOlPoERyLlHPcj+VJGdwT/dqQkdDVVWPlgLn72Cw7A0DLdQNKxwBwc8ds07zMNjd9N3GfoaTAkbp94c/T/69AAoO0lzyT8x/u1IzhWAPemHch+Xk9s/xe31piiI9sBjnngigCVmO7aoyfX0qFmC58zoDyf5ipI/lLbuMcfX3oJ3MTH6YPvSARTtUhxwcjB60ojAUlz83Un0qMOEJDLnJxzzj6n9acwIGHbOO3TI/xpgPDMwGGVTnGCKMMDl/n+nGPwpCdjBm69Dj09akJwMngUAN8wejf98mkibduA6A/j69KC27OflXHfgmmOcgbPkHQHufagB0pCkMSeOuOuKaR5dwpH3TSqxUbSmT1wOv401/mh+8Mr/CO1AEhba5285/Q0jhv4jnuAOPwpVXegLdxwB0FJs3qd3LA9z3oAX5flZMFTxx0pzBAMsBx3xUWQkZVudw4HeiOIvzJ2/hoATaZj8uQo6EnOaKnAx04ooC4AYGBS1HuG7/AFmSOoGKaJS2cZ6jgLgjP1oESYznPrmgf6w/Qf1pquzjKgAepPtSKS20s+1iBwBQMczHbxxyBn8cVGEAjV1yGOM8nn609o14zyM9CcinMvygLxgj+dACKEJPygN3GKQqd7MnUDGOxpX7YBzngjtTYyQx3jBY/rigB5KsgJ5BwR70m3fy/wCAB6U1QUbBUtgcH2qWgQ1V255yT3NOoooAKKYVYE7CBnrkZpVOVGevfHrQA6m7/wC6CaCxJwv4n0pQMAAdqAEy56AD6mmE7Gyxzu4PHSld/nCg49aUJz83zemaBjgoX7oA+gpGRW+8oP1FOooERSKVUbc8nGM8GnowZQR0pkqksMH2xjrTgrIvBz7GgZla7p19fG2bT7v7Nsf95kkbh26dcc8e9TjWbQa0NJAcThcj5fl6Zxn6U/VEmudMmhtJmt53XCSEEbe/XtxnmqME1tpFtaf2zcRG9I2G4ZCWfnpnGcYI5NYSlyy7Lv09C/bRty1Fok7PbV9+5srlMKeRjg0+mvwA3905NOrczCimlgP0pSwGM96ABm2qWPQDNDNtXPU9h60xzuRcfxHp6+tKctjPAHPWgDO1WWzitZBqpRLaRgrBgTu446c9s1T8OaZcabbslxeLPbvhrfYTgKec89M5/wA5rWvLC01KDyryISpnOMkc+vFPWJIoxGi7UVdqgcYAGBWTXvczOj2yjR9mur17eVvPuR2OmWemiT7FAsPmHL4JOfzq3TFLMowAAR1JpHkEKl5nVUAJLHgLjk5/CtEklZGMpSk7yd2Jc20N5bPb3KCSJxhlPeqZ0qzn0mTTQhjtidu1DyMHPX6jNZFz4wgi8VWtjDc2T2EsJeW480fI2GwN2cDoOvrU+meJ7e81aeyRF4Y+XKJQRLg44/n9Kym6aaUuun/AMpcifvddDZsLKLTrGO0t93lxggbjknnP9asU0NkkEEfWlyM4zz6VqkkrIpJJWQbhuxnn0paZIAV988H0p9MZE8hLKsfLE85HanooRcD8T60yNQwLnPzHPBxx2o3lMqBuOeKBktV543ktJoon8uUqwR8fdJBwf1pTIVbDvj12jODVbU3VtNnR7hbcyRtGs5O3YSMA81MrWY1HmfL3ON16WXQtNsItYVdSmaV2VnLHaPl4B4Jz711vh/Vf7X04zmEwkOV2k5z7iud0Hw5p+paUtveah9uktZ2cGMkBQQOPmHI+XORViXwzeWet3erabes91KG8uFlG0E9sk+nQEelcFNVab5krx006l1YSpOVJy92G2ju/v2Ovoqrpn2z+zYf7S2/asfvNuMZz7cdMVYkkWKJpJGCogLMx7Ad69BO6uYx1Q6ombcRtJweOO9Q2uoWupW4kspRNHuwSBjGPY1aUgjIoTT1Rbi4uzWpSu9QtNM8pb6dYhK2EPPJ/CsBfD3l6jb6nHHKZXn/eJ/d+fhsf7taD3Gl6/qj2M0JkmsyT+8GACCAcYPPOOtEUerNqF9DfMEsZEZIWjxuGeARjnOD371ne77o61Bwjo+V21v1T7FbUjqQiupLFJI5dkud27A9DknHTOMVHp9tcyWcc99btJPH5TFmXcwYOSxX/AIDjOOKjS4Ph5YtHihmvzcBnDH5Rk8bcc8cc8981RtfEmu32uWdlBaokcbBbmNUI2gNgk55GB+tYPEU1NKV77WOf21PmdGMl1126bfPsdDtuvt0pLzR/M+NqMRsxxjnHp2zmrGmeYkcyyK+MDa77huPOeGJrHs21m38ZXCTrJLYSAlDklU4yMdsjp+tbN/dG0MRlXfvb5hn7qDq34ZFdMZc3QqrS9m0rp3SehSS2nNjEuJkaOx+UKSuJB0HHf2qSSOdfthiWQSSeW24Z5X5d+Pfrx1q7PPDDJKJdiqiqcgHOWJArmtR1z7dDqlhbpNayQxEiba2Tg4PGMrntU1KiprU5pzUFqW7jQbTUpI/t9r5yMX3O0bIwGBgFs7sZzjJqew0pdKVU0+3kijF0w8sM2Cm0+vvjmqXgaeOHRkhmlkMglcZcHBOAcA9On9a3m1S3JiaASMJnC7ljI7E55HPSlSaqRVS1mzSFepUpJNu3a+hm+VcywzBopgpjVthD/eDcjk8nHpVmYS+ZJtWbyDJHkDcGKbOcd+uM1rc7mEq7lxkZwaeQskfzKCPQjNa31sTcwfIuZY23C4G23kMeGYHO47c+pxiq2rW+qXpRLGSa1n8xAXBcArt55HAGe2O1dG7bcKg+Y9Pao2IRdi8t1J9KGrqxpCbhJSRyes6lq+h+HbBrIhXjbyp/MTljjrg9R16VvWFlazzQ6q0CC6khVmkDE4yvT0/H0qe60y11CD7PexiRc7+pGfcEVZiigjRI4QoVAFVQeAAPSs1B813sbyrRdJRirS1u11TJG4Ib3x+dOpsnEbeuOKR1ZvunH49K1OQaFHl5BwRwW9aFkGPmbOenH9aETbIQ2CcZBxT2QOMN09KBiOPu4AOTgg+mKiXKtIp4LenbP/66duO7buX5e5prBhcL0zigB0u0cup28ZwOtSIMLk9TyaYrFpMPxjpx1NOI2cr07j/CgBxG4YNQB+zAEHhgeh96duErEc7QP++qRkjIUL1bgZPSgB8YDZbb3wAe1BJDbgOB196j2IJAgJX39T6U5h5K7g569DzmlcBzgEB+MjkE00gy5K9B0yKQE4DBdw/hGelPUl85O32Xv+NACoVx8vfr6037rYUb8fdGeB7U1o9oPp2+vb/CnIvl43c8fe9KYB8rYLfOzDge1N2qSeRn/ZHOaFH3k24Od2R2pHUD7m4nocevb/IoAWNSWG45J5JBx7EfmBTpVXy8DAPYU0Kzv8rbQDzjn8M0jsEZgD2+p+lADon/AHQz0HGaRnLsfJB6cmkijLoNx+XsB3qb7q4VfwFADY0UDcOSe5pT8r57N1+tMZ/LbPBJ6qP50AtLwWCj0FAEjSKv3jiio48AkKmcfxHuKKAHyHEZ5xxjPpUWcO20cbhnjGAO9S/eUo3BxzSqgUk9Se5oAZGcOyjpnj8AKQLvLKw4wR9cmpdoznvQVBz/ADHFAESRLjfwO+QORUgP7wj0Uf1pPLG0gFgPrTPmWYANuLDGSOnX/wCvQBNULk/vNgB4znPf/Ip5Hy5kbgenFDAfKo4Hp7UAPooooEFFFFACE4UmmrGu35hnPJ3UD5yCfujoPX3p2aAAAAYAwKWikJAGT0oAa4x8wHP86d16VGzknPVQ1KGITCjOOR7igY8HNLTFPQeozkf596fQIKKKKAI5Cdw5AABOSM1gR+HZbvVp7rVpUubcsWghJPyHPp6YGPet+XOOByDx7n0qPcV2hj8ucEHtxUShGeki1K0XG25IJVP3uP5GhJFA2lhkcZ9acQGAIP0IpgLNkFwMdcCrJB2BJ2kZKkZH6Uby5BCNgHnpzSAYyRg88PjrSEZ5B5/nUOaTsK6HqMNzgYBJHpms3Wr68tLHzdOtxcy7wNmCcD1wOT/9enx6lFLqkun4wYk3bhgKx4yPwDKfxpG1W0cD7NNDcHeqsFlX5dxxn/63eoneSsioyUZJtXLVvM720bSr5cjIGdM/dOORUm9WblgPxqv9vsw0q/aYQYRmQbx8g9/SgalZ+Q0wu4PKVtrP5gwD6fWpXZme7LKP8mB1HA96juY0ubZ4Jl8xJAUZfUEYI/ImqcGr2k1tHLJLHbmR2VVeQDdtYrkfl1p95qBtJooo4GuLifIRAwXAHJJJ6dRWu7uUczc+Brb/AISm0a30/GkeSfPHnn7+Gx1bd/d6Vf1PRNDso4GecWa28ZWFFkOQMk55ySdxJ4rXg1myltYppJVty7MvlzOFIZTgj8DVO/03R9b1eM3UyyTRKV8lZQN2Ceo68HPSsq0ZTjZJP1M6ico2Sv6kfhM2P9mvHZXZvlR8limNpPYA9uP51Po97f3klx/aNn9j2OBGCh+br+eOORxUumx6HpVrMdNe3hhUjzWWXIB7ZJNOg1mzlV55Z4oUErRRs8gAfacZFOlCUYRT6dtvxNKPuUuSSV/np6EV/a6hPrNpcW92YbWHBli5+fnnjvkcc9KsarrNvpNkZ7gSEFtihBkknP8AhWXo8S6PPfRpM1yGuIk3SOFHzDORnqfm/Gtme502dZobmW2lWLmVHKsFx3INVaXK2tG/mbV3f3YO9tnaxzWgJe6fq7w26yT6fdIJRcupGBtz64zzgjrXVrEQ33vl68HqaqG/03amy+tlBO1fnU8jsKtpuC4/u8cURj7ONgrVnValJa218/MUw7htbG0ccd6q6tpMOr2a205ZUDh8ocHI/wDrE1c8zC+9RF2LYjJJ7mr0kjOEpRalF6oy5dFistLntdFK2UsijEu4k5Hv1HGenrVjTYbmKxgiupjPcIPnlJPPPv8Almp55re1jXzpFRnO1TIcZPtmnrNFBG0txKkSDA3OwUD8TSSinoaOrOa5Xrrfz/zJPJY/ekbPtWXrkepSaa0elYd5DtZXwcocg9eKo+Idbu2kudK0u2lNyYg8c0Z69CcAdsZGfWtLQRd/2Bbf2jv+14IcP1zk4znnpisvaqpJ04mdOrFS5o6tPZobaww6Fo6+YUt0RQ8uzJG44B569f6Vl+Gr+41PVL+6gvHnswcRxOMbcnggduARxXR3EEN1bPb3MYkikGGU96wtBsrDw/fT6db3wknnYN5LIQVHbnoTzzWb5nUgl8K/MludWo21frft690J4h1lNHtpp7GG0lvdw82NSpcj1IHJx/Wse/8AiLs0OCWKxKXch4SQlkAHBORgmue8UQXmkeMLm5LMFeTzY2R8EZO4Y7jB/lWn42nuJtF0SWGPzTLES7NGCSdq/iOpzXFPE1JKoo+64+Xmb05RxMfq8FapvzO+yvol10WhjaLe69qDXJ0iWSFYlM0zKxHT+ZPp3rf8DaXqV5qjavNfKYtzxzR7yXckZ57dSDn2rV8JeHp9P0W6iu8xPeDAUD5o+ozz0PI+lO0HwpdaJqhNvf8AmWrD94hyMnBxx04z1qqOHkuRyu+v+X/BKq0sPUfLB2jFJrS3M136p6m4dUsYtWXT47hPtRGfLbvxnr61JLp/225aSdnCmMRhVOOO/wBc8flXnHj/AFG3t/ELRWlq0V9AE3XO/hgVz93HXkc57VtfDKcrb3ET+aS6iUsx+UYOMY9T/SuyOIvVdM9CrlrhhFiU+i0f9bfiW9e03Ub26ttOiDtC4iE1yEPG0t15x0Oea2pLGVpPIjlYx/ZUhaRl3F8E579f8ac2m3z+JTeG9xYlMG3BPXGOnTrzmpta0hdV037KsxtwHD7lGc47H161pquaSV2edXqtUowjZ2V9O77h/ZrGbJlAi83ztm3ndjHX07002kiQ20KuT9nKlW2Eg4GD/P1q5boYraKFWLCNAnmP1bAxmpCwX7x5/Wtlsc6uOQDbnGCeuTmlJAHPAqH7QOQqk+lIAGG6VskdQe1FgsZ2s3t7a2rS6XbfaZdwXAUnA7nA5rQtA32WJ5U2SugLr/dOORUifLgYxuyT7e1PpW1uaOScFG3zGFQz4YfKBwKfTT/rFPsR/n8qdVGY1+cD3pC+c7OT+lEgBjOegwTSl0X+ICgBSNw5/wD1VHuy+x2wQeg70jTrkgZIx2qPltvyNx6DFAyZ1b7q/d9BxUc7bZAR1UZpxmcD/Vke5rK1nVP7Ls/tLW7T5YIVDYxnuTiplJQjzPYTairs2F242Hr79/emOGyEU5yO/aore4e6tY5PJKl0DbW4K5GacrPG33cnHTvTvdDQ5xjgrjuvPf0puWO7jaw5fcM5/D0oMrs33cFeen+fWld1cfOpVh0OOlMDNsb6/m1a6gvLPybaL/VXG04fnjJPXI59q1AfNdTjIB/DpWUmieb4iGqPdu37sAw4GM4x+Xfp1rYX93hf4f4fb2rGkpWal3M4c1mpDWULz/Cevt7035ifkxuHU9h6/nU/WodnJQn3XPStjQepEgDA5HpTG+aQ/NwRjA6mh5dvK/ePVfSmpGzLkNtB9DkmgB20rgHO09Bn+ZocrtwXAx0UDikaFQvzMxPamfKDgrg9x6e+c0gBWdlCoMZ6mnGNUjbkF8c80oY7gckqD0PX3pC0e4sG5bg0tQ1Jk/1a/SmPLztj5Pr6VChJG0HAHU+tWFHl/L27GqAhMRP3gSc5Iz1FP2/Kdy7U7c8ipWJCnaMnsKRWDdiD3BFACY38NkMO4OM0UhCr8rgFeozRQAfekPOCv3aXeB97g0gBaPjnJyD6c0jDqCxPGPzOKAHeYO2T9BS7j2Q/jTqKBDQ46MNp96E/iz1zzSkZ60wxlcmM4z1FADHZmk2AdfzWnDIbdnKrxz/n/PNCjO5kGDjAzT0+7gAjHHNAx1FMI2cr07rTs56UCFprckA9D1p1NH+sbPXHFAAzYzjlsZC5603/AJahs8EYH+f89Kc+MAEBsnGDTPLbBwQue3XBoAfk7yO2BilZQw5//VTSrdVbLe/So3cjo5B7ggcUm7asBSNoILbe444NIpcAfKSQeOKdERxkHJ6E96Uy4bp8oOCSelF0MYGO47d3yjIG3nnrTt7iMtjPBINI0m7mPGVGcn0pBlcbucHkY9elGwEytuHoe49KWoN4EmVy2fTvUysGGVORTELUMi7/AJ/7pOP5VIyhsbhnFcrYEWHj27t/30guVLAn7q5+b8QOgPbpWVSpyOOm7sRKfK15nTKrPEckDdgn5en60Yi2YDKSDkHOcGlCgrzzg4/L1pap2TuU9xQ6vlSQT7d6jCbckDOSfx5pt05is5pAASkbMARxkCs4atLHHpjOF2XFu0soA6bUDcUtJBuVYNGvoZoLs3KvOs7SyREALh+GAbGemMZ9BTLWxubmN95tXnN1HLLJFNv+6wO3GOAAOBV069HNCWi8yJ/3bASw43K7AAgZ/DOaqabLpmkxvJA0oEwaRwy5KbG24xn+8cDrmrSXK7vUiTqc8VFadf0M1/CWrPezn7VG1sYpEjUyNzv9RjA55P0rXudHuf7Qa7t1hIWaKRI2bAbajKc8cfeyPpVRtQuh4iW5S4uWt23RiyCEuGCZ5Xp33ZzWnLraNDdeSJB5COWkaHKqyjkHntWNONr+vUcFa/qZkuhai2mi0R4cPHKhUOVCs7kg/dJIwQMcVrXtldfaLO8tTE0lsjIySMVDBgM84PcVDDqpkmu1ltpStsVA2LnfkA9Px/KnjW7ZhH5FvM8km8BUi+ZSpAYH860i31LVzmdUeWxZLTTpI59WO9nWF23LvYuflxhgMj379K0dN0+81Eb50jtwt1NJI2TvDMrLtxj/AGs5z2rmfFFte2+rN4hsZmD+ayZRSCm35Oeo6DHXnPSu0udXnt9O0mQzQQG7QGWSZSVU7N3TI78Vz0ZTlUmp6W29O440qqh7aezbSXp1+ZXTQLyOJHZYfNt/K2gzMVkCNnGNvA9OuKF0bUWtSqmELJJMzRo5UAuQQc7ckDkEcZrkYfiXba5qUTaZfTsLbiWPyvLSXk4ONx4OMc8jGcV1+l+Jbm7Fslza+Q73LRO3lkJgITxk8HIrSNVObhYV5J2atfbzJF0W9jUKTEyb7aRjuOQYwoYYxz901A3h26ktZosxsDHKsUhlPO855XHHvyeatWfjHTL6Od4RP+5K8NHy4ZtoKjPIyR71Y/tmOKaVpUkiRY1bymiw5ZmKgdeckdP8a1jKM1zRegRkpK6Idb0m8vY2itDEInt2j2l9mGPc4U5HtxWwpWGJQ5+YKAcVmz67FGq74riM7S7jyjmNQcbm9Bmi9untr2GGMIyywyyFmGT8oBH8zVDLzF5WGBtHapWHlRHZ29RmsySW+u/DMdzY7ReSwpIoPQMcE4z7E9asab9sOnwnUtpuiuHxjB5PBxxnH9ajm97lS+fQnm15TmPHs0MVhBJKHlmVz5ePugYBbP47ak0Nx4s8O41SYsVn6wkBgQOM4GO5pPHqCbS7ZTIoBkYGIkBiPUfTH61wGlalcWl4I9NuZrSHzAzL5hyw98cHivLqT5MQ/wAT1cHgY4he0oStUXxa6Le2lt3Y6Pxlpdxp8KyzajJ5cbf6HEuTgDA56BcDHIzmuw8K6nNqugwXVzIk1w2RKRxggkdAOuMVZ1GbSmsVn1UwSWjfcLrvVsjqODVV7vRdA0VbqzUGzLjb9nO/J69SfauiNP2U3UvvuYzcalG/I+dve2jstjmp/G2s3sDw6RZJ9rEv3VTe+zB/h5z061H4u1E2Nzpd1AUj1RkBu/KblGwvBA/EVmapPp8viFNc0+++x7nVvJEZEgOACQB8vPXr3rS8XWWgzWkd7aXpW4vpdytu3Ko6sCByPvA85Ncd5uMp3v21/LzO3D0Y06yxcU3Ga0ilpttrv3L81npFz43ttUmupLj7cg2QeSCnI8sZJPqOmOoqnr8ENnqs8+mRrqsquzTW7RuVtwCD/CRkDp6DvXQabaReF/Dyy63JFM1ocpIFyVBwMKTjvk/jXDa/rRj8RXF3o0jGC/gKmPGB8y4YEdCc81pUfJC8rK7v5/1c58L7b2zkp+5td326K666+h6FpniKx1eNGt7mMTMAHjyQQ2OQAeT+FST+JtJ0+5W1ubyCOZm27dxJBzj5sDj8cV5FEk2lXFv9okazlZg+CCCgzwT3HqMVs+JvCP8AZ9hDfW1xJePcSZaUjC8qGHvzknPtVfWq/s21HVf1sFXA8sW6c1Jv4P71t77JHVfa/DPiHxJJbtbtPeID+9IIjbaOe/PA9O1dQPs1pDErNbwK2FRWATJ9B0rlfCEttF50VxZRW13HDvnu+MPz644ByDwcGtvUrLTtVtbea/uFSGI7kkEgCsDjjP4CumhNyg56Xfy+844VFWaTlLk6X3Wm1vU1juQZw3HJw2f50cPwfn9l6Cmnc6lw/wAhGRjvTArO3yFiPU12GJjXGrXk3iOG002eJ4Yf+PtMDI5weT7Y6d+tTXp1Z9ZtfshjWxYjzwSM9eevPTpjvWK9rrH9v3L6TpyQDzCHuGH+sGfVjjnqdvNdisCc5GfSuWlzSclK+/y+X6jp81CbU0m/vWvb+txytGgwrKPxpkrKVJQgkjBGaXEaDDgZ+nWk2Bk3bNueg/xrqEK067lxzg80vnE/djY05lCpxxgg0+gCAmVmX5QuDkU7y5D96TH0FPYElcdjz+VOoAiMAI5ZifrSpGhUHaORnmpKan3foSP1oEKAB0GKWiml1BwWAP1oAUjIweRUNuoOWPrxTnmAX5Qx4644pItyxcKD360DKeu3V5ZaeJtNtvtE+8LtAJwPXA61PayPJEkk+IpmQFo/7pxyPwqbd+L9lx0pnlhvk5HqDyCfpUcr5r3JSd73AE/MHXJ25wOev+RSzSKLdgDk4xg9aRYzsJZlAz/EMj9aHTepUNnIwQBwP1qyhDDlmMZxtPT8KgvNRTTrOWe8DGKMfNtGTycVahPA/wBoc4xgEUyaNblmRkWRGXaQwyD9al3tpuJ3toY1j4sjvtSjtLe1lKSIWWZ+Mdeo/DGc9a2j5k3YLj86I7fyVVY0jCqMKoGAv0FSRv5jbgMADBqacZpe+7kwUkvedxIggjDAYJ6560bwr5HCnr/jSONkuR0f+dFKUmnYbeo4H5zuGW7fSmvy25enQtTSMpgAlwePpRITlBnIJBXHArRdyhVBU5BwrHBPcmpcKCBgZxUPys2dhYAfMv8AdpyMd6hzuOOMdP8AP+FMAljK4deq1IrLIvqD1BpfrVcMUciPBDdM0ATKcHaevb3FDkD5gRke/WmbS2G+9xnB/lUi7SMqB+VADS6MP730FFPK5PJP0zRQBGCBwrMABxuXgUD5mHzBsnnHoP8A69S1DGp8wv6k8+3YUATUUhz2GfxpEkV+nXuPSgQ6ikJ2jJpj5K/NwMgYH1oAcv32+tOqNBsYqTweRUlABTU4yPQ//X/rSbjkkY2jjn9aUf6xvoD/ADoAdTV5Zj+FOpsf+rHvyfrQAMNy4HB7UgLOvXaPbrSlgDjqfQU1X2llYYOcgdc5oAcpyOeo60x2AkPG5cDd7UjMWY7eD0x3NI2Fx9cAevsf8/8A1wZlaLpP9kGePz2uPPfdhzjZj+vPXvitRWCgOMehUDAX/CkKdMgEN8oH932p4QgEuSAOT/n/ACalRSVkXUnKpLmluN3gMP8AZ5wB1B9qdLFuXKk4HYdxQ0flx/u88dvb0pRIFG0de2R2+n6VRBGsT+owR6/qadGSNmTnIwff3FKu45TaMdRntTzGSQ247h09KVrAPqvdSw2du9xcSCKNOSxHT/P9anU7lzUdzbQ3ls9vcoJInGGU96He2g425lzbEVpcxX1uLm2YPE/3WHf/ACamplraQ2NuIbVBHEv3VHan1m/MmfLzPl2EdFljZHGVYEEeoNZcWhbFVZruWZIoWhgDKB5YYY7dTjitWlznrQmSZT6Gj+X+/YeXDFF93r5bbgfxok0G2ka+LM3+mYPQfu8HPH1bmtXGelB4p6juzKttGW3mgkEis8bO3yRKgbcu3t6fjUdx4fW7uppZJypkVxxCqsNwxyR94AGtO5i8+1kjDshdCoZTyMjFYvh3w6NBup5WvZJzKCNuzCjkc9T0/wAaOaV1obwjBwcpSs1srbk1/ojSxXf2e4IaUIwRlBUugAGfUHAyKreH9Iu7S3SbUiqzo0uEULjD7T24HK9q6UqDWVrelHVrMWpuDAN4YsBnP1HHFTJTvdCpyT9yVkm97ao4zxRqEWmXzWIhkkLiTEjAFf3h3ZAIPIJxkGku9J8a2+mQvZ3CyXkUxKIzxkou0rxv+Xv07V2lxPpmm21tDqcsbBcJC0y7iWAGWzg469avFyEViB83zDnpUezk5NuXy7HUq3so+7BWfdXvbt/keO+H7SG/8dXMWoQQ2M1sxa8kSNEj8wd8HggnpnqOa6qx8OXOq67/AGlfvJYx20wkjg8v5ZASSQDnp785zWtNPD4jvLnSLi2liW3k3iVW5JBx6e5x7U3W7240u803S9LYeY4VfnUEbchVBJ+h965nGnrJ/Df73/wDhlUWIqRd1FLTsm13Ldp4chhjMULqq5QgiFFbCsG5IGWPA5q7c6MlzcSyNM6OyRhGAHysjFgffk9K80+K3gjU/iB4k0awSW5sLOwkLrcwxFgd+3JzkAFdnH1NetbmIzgcc+mK7ac4zuo9CIzUrpdDNuNDkuuZb+TzHiMMzCNRvQnOMdupqe500T3EEpk2+VG8QAXs4A/pV47iARgexFNKOQSXXGORitSzjfDz+LBcQW15CIrOBhGQ6KMoOD7njoRXQ6xpH9saebdbh4fnDHvyOx5/H8q4HVPG+uW13c6bK0e8SFPNjGGTBwQCP681rnxPrWkaDNNcWon2qv2eeRGxKSR1Oeflye3TmvPjiKVnFts9TEXVSnOHKnJ2XL+b+fcw/Gjz6J4qsZhK0pggjaHfxjaSOfXkZPrmuej1dJtX+03cCgMD5ghUIW46jAwDSa9qtzrcsV/eTBpX3KYlziMA5GAeg5/Q1moFEe9ZMSA8LivIrVb1Woaa3PQUYKaw0fcqJpOSWje9vO6Z0UGuafNqEf2iyla0CFPIackjg87gBxk56V1HhnWIkgg02fSd9rdS5Uv8464zgjBxjqMV5xBcfZ2BVVbJ5yO3pXXXPjiPTbJbPw0kkaFt8r3ADMWPYduw7VvSrOLcpS28iMww1aKlGlOT8rX2fTbpp5kev39i1xcC50lbe/jIWJIvlQD/AGl7n6YBzWGmnG/0XU3e5aGeGPdsVeQCQuQe2Cwq7ca/aXVpeTzWW3UJ8GOZXOEOQWOPfnv+FYE93fSLctFeSpcXCMrTFySSR1Prz61zzrpVOXf5fmYUMdXwkpYFRlJ6Wdr2bV7Ppb8ipoWnLpWmvaS3cs5ZiyuRgA+mMnjj8zmqHiTxVH4aezW8guJvtBKJ5Y+7jHr/AL3SrWhWl9aWJh1GcXc7OSH3Fto44yevf86sXdzqlxqrW91DFbpZkxwyQncJUHQkg8nqfaj/AJeuU9V+Z0yhVpYxQS5FJJJpX31s9bbrp31Lt5czXTobl97ooQeygAAfkK7fwvrAubX+yPEERuYlHmxk/ejVVzjj2HrXBxkq3mbchOSSOBzjn8SK0NP1JrW1uVZFb7RhDKSdyDnO3nHI9a1jWdN80m3t/T/Jdis9hiaEIPD25E9Ul712+j6XZ6udT0PUtCSO4ke2t5MQKpGCCuD2z0456Vak0Cym0WPTGMuyF8oVb5geeemO5ridL1vwtZabHZXTXN4IXMiyNDt5OOAA38+K7Pw0l5HbyzXN017Hc7ZYWGeFIznnGM5HFetRmqm6V+vl6nlSUqcLq8Gnez7+Xmlvc14bZYraOEfcjQIi56ADApyIxjUiTjHYUg3Tht2VAJG0d/xpsE8Ak+ziWMS7Q4j3DdjHXHWuzRHnt9WPUSJu24YAng0sUgbIxggU9fvt+dQklLhtozkeuKYD5HCuvH3ep44zTfMbbkJlQxJOf/rUxy5kPKDgMQDnGD/9epec7D/EeoHbvQA9huQg9xilU7lBHcZpaan3PoSPyoEOoopAQc47HFAC03byTk8+9OooAYYwQcFh77jSp93GMEcEU6mN8rbu3Q0ARynEJX/ax/WpQMIAOMCopRmdB69anoGVm/1h3AH5h26VDqVvNdafNBYzNBO4+VyDgHPrjjjirXDSsByCuDinBwEy5wRwaTV1YcZOLTXQp6VZSW+mwJeS+fOq/NJuPP8AkVZO1MA/MRwFpELMqp90bRz6/wCcUvlBhgHDKetLZaBKTk3JieWX3MeDnO0etSgqEBGAuKYHzK2wFuBz2zSbTuw3PcCm9ESxWct93gevc0wHymBH3T1FOGWOFH1J7U4RLj5vmPqaiPM3diVxG3SrwML1BPekByKfGflKnqvFN2fOQPrRONwYgYI2TwDwTTWXzHzGu4EdTwP8/wCAp0qkKMHvg8flTxINvz/KR1FOKdrMa2GRIVjxubOfm+tIyEMCvDA5C9acoZm3ZxkYPFSBQvSrGMUb+W7fw+lKyZ5HBznNBYb+Bk9CafQIanc9D3HvTWyJBtHJ6+hpx4YH1606gBqtn2I6iihl3dyD6iigBjuGiGMbuOPfripFG1QB0AxUEkgZwqrltwwSPepkL4O8AHPBHegY6ozH6fr2+h7VJRQIaFAwcc+vWmsWJbA+4eB6nH/16kppjRjlkUn3FAEYk8xBhTu68dqeS+3hcH60u3DZHGeo9adSWwEO75AGwAOoJyTSJw24bU3AAAcg1KVBOeh9RSeWoJIyCe+aYxVbOQeCOoppfbJhct/eA7UFGJBDc+uKcibB70CGCQbiF5JNOGF5dhu9TWVpOsf219o/0R4PJcIN5znrz9RjpWkzeWWAboOh5qYyUldGlSnKnLlluJE3zucBixzlSOBihiBISeCR3HB9jSKNsYBOB2b0+hpRuYeYxU4PA9aZA5Y93LZGRjB64o3fMFJJHY/3vakE+D83TOMDqD/WiQFvvD6D0/8Ar0wHg7++B7f40AhGIJAB5HvWD4W0G70U3n269+0maQMoBPHXnnuc/pW+HBOBz7jpUQk5Ru1YqSipWi7r7hEOWY++P0pxOASegpqZ3uffFK/3DVkAgwvPU8mnUUUAIRmjApaKAEwPSsojV/8AhI+PL/szZ7Zzj885/DFa1FTKNy4y5b6J3Vv68xmcUpwBkUhHzUpHy1KMyKTO3A3Z7YHenR5dt7emMYx9acBmnAY6VUdhrYiZnVcKB8vUk9qc2flY8YOCPXNM86GSZkiljeWL76KwLL9R2qRyCF5G085/Wmu47NPUoX+n2d9ta7gEpibMeTgD/OKllmjgKPdyIgdgF8xwMn05okkRY2klYLHGuST2A71RurTTPFNrDcLK00cDkKUYrk8ZByPpWcpWvy2uKdSVlFO/ZGu/319Bj+dVdSm0+yjW81ERr5Z2pIyZZSfTvRJfWy8PcRh1Qs67huAHOcenHWuI8eeJba90eCztQZFmbeZhkBSuRtxjOeQfofes8RWjSpuTBpWu3ZXtezaT+Rq3viObVbdk0O2luFf91K5Q5UEcEY6Z55PTFbei6b/Y2n/ZjM06lyxZhjbntjnjiuW8J6tY+H/D8UV7uMs8zMuwAsV4GSOwzx+dblrf39ja3dx4jljjgjcFXUA8Zx/D26Y71FOom+aT1tr5Ho4hxjz0INJRevd/8MVtR8ZpYSXsHlCN4OImmORIcgdsYGDn3rGj1+LxNFENWu0094JMp5KsQ+fxOCMDntmsHxD4ikv7L7NqEMdxuPm206/LtHQgY6jjv6Vk2N4tu9sXt0QKTnfnDnrz+gxXBPGOUlbVHRh3GVCFWjTd23fq7LR26b7p9L2JPFqTWnivUEds7pi4IOchvmGffkVA3iLU4dHaFpGa3wzLHjIPHOB36ce/SkuZLm/S7vr8b5FmAc8KdzZJ49OD9KwNTv720a2ksIEnJl2vGzAcY68+n9a8ipKo8Q7Pf8j5rHvGRzB06r5uTttbT+vUltpzc26ykBd3OA2R+dTsmy1ec52p1ABJP0A69KtM1r/aExuFkeIbwgRhnP8ADyR06ZqsTnscZqopKTZ9hl8ZRqTqr3rKznre/ZLy01uyKOQSx7lDAf7SlT+RpwPXIIwevrTkRpJAiAlmOAB3NSy25hhjkZkPmZ+UHJGPWoiru/U5cMr1oczlKq4y5XLZauz1t1t3/Ig602aaO3iZ5DgKNzEKSQPoKfikIBpuOnNNanXWwbVP63jo+/FK9ut7LytZ7WfzH202+MPAwKuu4MDwVI/wNWUlt7RYpZSxkZjwuOAMc/rVSJFUKgwiKMAAcAUOyuyiRQwjOVJXp+NaU+fW+g6MMf8AV6rqtqT1WiemmiT0btoYnjW/D2V5aaWsnnrGG2qDzkjnv0/nVrQp7u50O2l1KNo7llPmKy4PBIHH0xUOqeIVsNetLAWjutyBmQNgLk46Y5xjJrVVg6hlOQRkH1qsTJxjyJp66Pujwfr1WtQcnUak3ZRkk7qztsrXvt5lDXDcDR5jaT+RIBkv0wO/Pb617j4F1mW+8Aadem3kDR2EeVI+aTbGpz9T/OvHJ7Fby2KzIXiz8w7H2r1z4eau17pqaZInlGxhWOHauMxjjH4cCuvLasYS9ls2ZVXh6Xs6UY8sre8ut7Jm5o2tpqluHfbayO5VY3cZfHdfXrWTcaXHrWrDUNC1MR3ELbZzkgAYwCOOeAfY1vXWg2l5qcF9M0pmgxtw+AcHIz+NTWek2On+Z9jt1i8w5fBJz+de06bnZT6HS50E+eC16LdL799NineX97a61a29ra+daygebMcnZyc8jgYHPPWtCQh5Plwcrj7ueanCqOigfhTHI81MEZzjrWkYtNts4oppvUYyO2QM4J9gMYqZVI5Y5bpmnUVYwpq9W+vH5U6mj/WH3AoAdTY+IwB24p1MQjaT2ycUAPopu9T0OfpzRv44Vj+GP50AOopuW7KPxNIS4YZK4PtQBCQBO2MLtHYd6l2s4Jc7V9BUUhH2gbefUClJL/eO7GMKOh/zikMkDZ+WIcevamFNpLZyR3I6n0qYdOOBUbt8x/uqMmmBj3urGy1i0sHt5JftAGJVY4XnA4746n61roofttHTaBxSjk4BwfQj+lMIZZHyfcH271Eb63LlKLSSVn+ZKGA4UcknimyKSAS2MHt2FLsCLu6sOSfWl37sgKSO/FWQNUhTtJyw6KvH6UFmLAN8ozg4/Tmo1bDKET5l4NSFGkUCTAoAQlY5gV6HhvanF9zZQZK9aynur8a+bP7F/oIjz9oIPXGevTrxitG3C89yOlRGSle3QmMlK9jO0dtXPnf22UwzfuRHtyR+Hb681pNGRz0zxgHoexp3yqWXoTyMdTTgpYfvPyFOKsrGtSfPLmsl6CABBw5weg60nzkgORjPReDimL1IQksCcn1qSMYLDOfU471RA4qNuBx6Y7UkY2gqeop9MP3+DhsfnQIUrluRnnrQnTHpxSCQYH97+6KaVLP8xwGHQUDHl1CgkjB6GioZEcHcMv2wDzRQFh4AaUsB07+/p+tSEgdaYNsf8RJ7jrn3oY5YblO36ZzQA4vg4AJ9cdqXNNV4wvBCgdulNc7mQxsDyR69qBEtFNRtyBsYyM0pOKAFpCQKaTmkqHLsK47cKNwptFLmYrjtwpGcfdXknpzSUm37xwDkc5OKpO40JO4t7WSYozmNC21erYGcCqGj6kusaYLnymt1VyuCc5xjnPGfy6itBdrgbxllHOR+tMxl84yMngH3xRZ3uapx5Gmte40uC4JBCE9u5qnqd41pazLabJb5V3pArckZHO3rwKvIwGeC2WOBkcHr3ql/ZFo2tNqwZ/tAXGM5X7uOnrj3pS5uhVLkUrz/AOH8h+mS3M9jFPfQGGdhhlx9z6DtWipBUbTkfWmomwDBx6jt+FDRhjnkH1FUtEZyacm0rCMc8pywP4UsZypOMDPAPamBnWPgAr2I7D6UqEYKlsHP0JpiHr3+pof7uPpSIMM2Onr7/wCcUjYL/iB+XNAiSiioQzyk7W2qDjp1oAmqNpOSAyrj1pjx4xvcnJ5JPApEVA3AMgI6gcUDF88BjzuHbinef32Nj1xQcghgoUDrz2pPMwSo3cknIXNIBwdX5U/hT85qAxhkLA8jkGnxsQxR+vY+tJd0IlpkjFEyBn8cUoJLN6DinVQGVZaXZWeqXF9GXWe4zvDNlRk5OOPWrZO9hwdmegqhcWeoDX/tX23/AEIrj7Pk9cenTrzmtPCoykg9Py/zmoj2tY3qttpuV9Pu8jirTxTI2oXY1aFhYSM0cUflg47YP4Hnr2rlPiLpun+INPtdO8OaxLpc9hOZwV37JSQMjcOQ3yjB6dRmvXrm1t59vnQxyMrZTeoOD6jPSsi58PaDZxma5toI137vMdiMH0znp7dK5/Z1YpWkm+7Qfu6kY83xLdpLVenc5CO8sb/Rpbma+26zHaiByzf61wgUtjH8QyPbNXfCEGn6tohsNYhiluLeRm8vJDFTjkkHnnj8BReeHLC1mgvtGsX1JLhm3jzSyr9NuCOp5Jqv4q8HTWl1/aGg7wAQ0sUZJYd8qB24rhUZxk6k1e266O/XsFCnhbvnlKLX3N6O9l1vf8B3iO50nw7dRXdhbxXNyj7PJLhki+XqR1z6ZrL/ALfk8Q3VxFc37Q6fcFRNHNg7BndwB2G3qMe+M1na5bGK3l8QyqIrW5mIuBNIoCOxzgE9j6/hWTbSwrdSShQI5EbywOdpI478jt9DXNVqTc30Xba//DnfHCrEOo1NucLNbLXtrvr3Ypla+kig2KiRZVBycDP+Nb2sQaenha1tjNHJqAlLB0JG0YXKsSMt7Hp71mWFhI2tW9jMnlXLyiMb+MNnHP41bv8ATLnT7+W31mJWaIbgYnBxnocjPHOcHmuaHtFF8yvfS/Y5lWxtOt7KtzNJO7Ttpb7Lstdde5onwnJodj9t1HVIYZJbd/3eC5Y46cDpjHPrXFq5ViRkZ461dudYv7q3jt7u4eeKHPlCRs7Og4PpwOKzpGmW9aOW3ZF2hw/AByM9Py/OiThUUeRWS+89DAUXiqdCc09mttbrRdtGrtt6feObrx0qHTtTZ9RntJ1khWHazFTuDo2cEe/ykYNQ6jZzXtvst7lrd1O5SrEZPuB1+hq0EUElVAJ6kDrXPGKim07vt2OShhVSdSpSqJyV/ddopa223326F+/ntDqLzaRHLBDn5FkYEr+Iqo8jyffYtznmmdKKaqOUvM7cHjfa14wpqUpxT7aK2qvbXXbo29xaaQdwIPHcUtFXKW0tmenisRzqFd+5PVWkm9G1vZ2S8yOS4iikSN2w7glVxycYz/MVRm1by9WtrEw5E7um4PyuFLZxjpxjr3FS6fqEWpwGRF2lThlPVT6H0NUY9GmHiybVGlV4JIlVVLklCMg4GMYPB69Qa0jUppVI1Vd201tZ/qfO5nmFfFc3sqmkGulr3v3e17fcbJUbSMcYxSWSSXOt2enWsaqJHXfJIwjjRO5LHjoDx9KfjNSPGYnAcHkAjHvWEae0pK5vPKJ1I069XW2qUdLybvfW1lts/Q910LUdDmRrDQZoituOY4lIA565PXnvzWhJZQuk/losUk6FXlRQGORjOa8N0HxEvh29N4WhiO1l3SvtXkY5JOMZwa6qT4g3cng9t8ynUJpmRJIiFKINp3YHrkivdp5hCEL1FZq+22n6nl5jTeCly4h3bTenrb7zv9KsF0ex+ztcNN85bJGMZ7AVd8zOPLw2TjnjtXC+APHMeuR/2ffJILuEYFw7bhL1PPoQBiu3k/dtvQjngivRp4hYiPtU9zmw/s/ZJU9kPVQ5LOoJ6DvWXqeji71a01D7U8f2Yj90Bw2Dn8PetMeUFAzuGO/NMcIqHYGAPtxVSSaszqhOVN3iWKKZGwZBj05p9UZhTT/rFPsR/n8qdUT/ADMOeFIH1zQAqqHQM2TuGSM8U4IoOQoB9cU6igBqfd57E/zp1MBCs+T7/wCfypNzP9zgepoAczhOv5Uw5kXcx2pjOB3oCjBCjdngsabJ8sYQHPOCTQMZGPmJ2Z4yBU28FgVyRjkgcUhUggqv3eOvUU9ZFboefQ0AIZFCnDA+2aZtJ6jcD0ZTSli8nyDO3uemaRcgZaQjP8IA60ANkycBgeoOWPA/pS88szZ2tkDGO1Kq8ll+UY6k5NB253JlyDyaAJNxP3Rn3PApqruZtx5zggcUiyMzcDI747fj3pQeVYAruPKn6f8A1qAK1/fWuk2sl3dyCOBAN7dcc4HA570afqUOqWi3NkwlhflHGQCM47jPUHtT7uwttT09rS+iEsEqjehJGec9Rz1FQ2dnbaVbpbWMQihiYqsYJOAeT1561n+85+nLb53/AMiPe5/L8bl0oWUhm6+nFRJ91fvFs8DsKeztjPCD36/lTI0LKcsQx+YVoWSSOEdSfx+lIHLLuYDb347U9VA7c96Qxg/dJX6UADqNvXbjofSiNgVwBtI6imlSPvAt6EdvwoHzLuZuR6dqAJDnHHBqPgrhc7ye/UH1oZyAFc4c9Md6VT85LKQx44Hb60AATyySuSD976+tOOHXKsDg8Ec0uQc4OcdahEuZNyg4wM0ASb8ff+X+RooAEnzMAR2BooEBjHUcN60o3HO4gemO1OooAaq4GDzjoaCisQWUEjpkU6igBD8q8cUynNTazluSwoooqQCiiigAooooAUKp6qM+pFJt+Y44IORRThy5PsM1pF3GmMC72YkYNKEO4nj8utOTnLepp1UMapJJ5BHt2pHAfC9upINVtUW7OnTHTMC7x+7Jx6+/HTPWm6Yt8mnxHUdhuSP3oXHXPHTjp+FTze9y2/yFze9YtNuBVfvAnr0Ip3yyD19iOlNGXcnldvHP+fpS7BnLZJ9fSqGMMezlclf7u4jFPTyycqBn6c04Ajqc1EUDTYwOmeaBiyyBVwDyfSs251q306+trCYMJbjBUgZAycDP41p+UpxkAD0FR/ZoZXEzxRtMhISRkBZeex7VElJr3SZXt7o4FJBgZc+pPT/PtWbqVoviDTmtortEKSDe0T7sEZ4IrVEajrk4GBntWdpGi22kef8AYmf982WDndjGcAfnSkm2lbTqVGc4TUodC5DE8NnHCcP5cYTczcnAxnp1pyblYM/Q9wOmaeS2OVz9DWBo97rUviK/h1KHy9PjB8hymM8jGD3yMmnKSi0rblqMpXZuSeWVONpP19aGIlOBwy9DWVomj/2M1w32qSdZXzyvT/6/vWs0WU4+91PuaIOTjeSszKLbV2rDUlKD5xwf4h3p/nJg8/pSfKQMlsf3KY0YwXVQB6GrKGsjMnmN1J6VXkvbeEt506gojSMgbLbQM529fWri5YlQfukZBrNXRLX+3H1E7jMBtKlvl6Y6fTiobdvdNKfI787OYj8QzeLbqWbwrPNb/YVUSQzqF3li2CMEg5AI56YqB5kW3u9N8X3c0lwR5wCNypCk4B9SD0xiuyWzttPt5jpNjBDIQZNkMYTzGxxnAHP1rj/Dei6bqkM1/qkxZ4psOrNtG3rlieeuec9q5qkWpJLd/cevh61P2cpSVoxtay97y1MTT/EOpaDpuyz4t5n3RyOM4wMHGRj0GMdqf8S9c1bUfBNvD4T1RrG7lKNJeQM0YON25AcbgckH6DvmtHxO+mTaZMdNRmfTlCkZBjaPdjg85+Zh+ZrkdN02812Zba0wqk52lvlHuf8AGuBVpU58kXdtaI6IwwGKxHNWbjJq7T0Vu/rt1+Q42Or+KPB8dj4k1Ka60+ziEklyGTzTKAwUnPzHLHBzxj35rT8C6To5uolv5BHHaBfIEkioHKkAA56/ge1VZprvw60+nzxeS7JtJBzuXr2OME4P4VRu7u2vliDp5Eq5DyIoCn/gI4H4e1ZTqRTvUd7dGVVwuFowqSbfI2nprZWVv899DuPHmjE6jbalaTQw3GAqr9xnYEnd6dxySOlQaloFtZeE9t/cKursclVbcQey4z0wOvrXPeIml07SdKvP7VhvoEykZR8lTkkDa2Djg9R7V1jrofjHVrS4tLmZbi4jSVlwGT7gO32YAfStl+8nKaWrtZX79TzKbr+7i0+aMU1G29k/tdFfdb6HmpXZKNwLYPOD1pkpBfK56dzXo/izwRqOoaxcXOlwwpblAyouF3EKMjA7kg+1cjqGhXenaKt1qds8MzzbE8w4OMd1/r7VyVcNOnJu2x7MalCVRYmk1KtbRN2tffaybWvQwqKWmnORz9a5JUk0Xicoo16TipNWbu1a8tfhvp126IdRRmoLq7gs0V7mQRq7hFyOrHoKUkor3dzLFfVsFh1Uo6T2VrX10tfX4fm7k1HSqmoX5sbE3EdtNdntHDjcfzIqvpF7NqGnjUJyYYZfmjjZcFB0wT35+lEaVl7Q46WHoYeft9XUsnK7vyrq3rbVPb7jUHzdO9XrLSWvLO6ljlUSW6hvJP3pMnBx9Ko2zC6kRbUiZnICiM7ic9Ole2+GfD8ej6Vb7LYx3bxL57Fud3BI/Pj8K7cPhXXm1Lb+rG2ZuUFapNTT2VldWs030fZ9OyPEwCrYIwR2NdFbQx65a28ChYbi3t3RZccOQS4z6Egkd+1dL408GTy3E2saekkkkjDzIETOOOWHOew496zvAU2p2t1f2tlbhjJAzfMOjqDt5+px+NaLD+zq8k9jSrPD16Ht4tuULe7eyT9PL7mcD4q8LXd7auhsxNfQoWRJR93JBJIbjp0z3ro/Cfh26uY7CS/sZmthMkbnBwcuM5I479q7fwbMj6ld/wBpl4dVkdgyMAoIyCcD13dq7QqQwCyHPYNxXRSwUalpSd1fY8DF008XKdZc1+jWiuvLouhnTadpdjf27tZ20MAidd3lADd8uMnHpmrelqTp8AdSNq/xDnHYflVjzGDbZcr7jvXNx+LpV1LVbdrPdFYqxTZkF8OF6/jnpxivTlOFJa6HNytRbS0W/kdEY/Llx/Cx60pUGRUPPfJ6n2qKxvBqWkxXTRNCJFzsbkjnFSRkAEOCWbGPeri1JJoE7q6JnAZsAc9z6CjDL0O4e9Kq7VwTk9z60pOBk9KoBjShQcghvQ0EbYTnqBn8etG3zDlhhewpsn7pflb/AICeaBk1ML5OE+Y/oKgMrOApIAxzQI2YHacj8s0BYl+RW3SMC38qY7h2BVWbHUY4NSJHGFBUZ9zTyQvWgCDzXbgFRnpg5psm9Vw6jrnIqT5jIWCfdGACacxYx7htx6YzQAIfMXO8j1AFMkUJjAyOgzTfKZT8pw3bHQ0sbruIk4OMc0AKGO3C8KvU/wA6Uny325wGI571Q0XRBpAuR9pe4E7bvnGMdf1561fOXCgfexgnt7ipi21qi5qKlaLuu4g7dS55IIzg9/alBbaTnbnk560EiMEE8g7h70DcWyi4GerVRAJmPcAPlXrnvWP4i8TRaDHbyvbSTrI5BKnGOP8A6/6VtCIcbvmPvXN+MrjUYrWO307TUv0uC0coaMvs4GOnTqee1YYibhSclv6XJlNQTk1c2LO9jv7aOW2lDxMoIKEdP8ambbsAG0AsOvOeRXJeCtA1DSmup9SAQuQEXeCPXPH0wPqa7AIXZSzk8ZBBp0ZucE5KzNJcl/cd15qz+4aXGNgxycEjk9anUADgdaasQDZJZiOm49KczYwByT0FbEjqKjIO4bjweOOOadsz1JI9DQIQuSP3Yz79qYVMjDkgA8nH6U92I4Xrjn2pwGBgdKAGKVClCPm7gDr70LvRfm+YfqP8aH+UkjPzDBx60iHy4R/EewHelrewEbSZQbGG4jBHr/8AX/8Ar0+Iqx4/h/n3NNaPgs2BnnntSRg7/kPCj+L0+v8AnvTGP3FCemSeV9KKUyoJCc54A4Gf5UUAPDA+x9DSqdy5/KmyjKj6jn0o5LYU4AHpxQIfRTdxB+YfkKQSKehzjqB1/KgBWptL5gJIII9yKCCKiSExKKKKgQUVHM7JjbxmiFy6ndjiq5Xa5N9bElFFFSUFLHzuPvgf5+uaQnCk+lCthQFVm9xjmriNBu2PtHTr9OakqIKWZsnnj8D1psj5RiOCBz7Gm3ZDZPSEBhgjI9DR06UtUBGf3bfKvBxwBUlFFABUcvBUr94fypx3H/ZH60mzacqee+T1oAaWJYFSQDgA5/8ArYpq5UsN0gAPoDz1/rShMSFWJ2nkDNNI2qcJypxndjNAyZfu8c/Wmq48xgeOB1IqND8oJJ5OGGe9SYXA4GPSpbsIczbUJ9Bmo0ZfL2I3OO9PMa444HsahMbeWCp6ngEdKbv0AVY8gHbwD0B96m2kdGP480gdVUAfQDvSNJhcH5WpjGgO5Y8AHjOKdGNo2sSSvc/pTNzYC/d7f5PtUF9fWmn+X9vuViEjYTcCd319ulJtJXY4xcnaKuy1LhRn8/emQ4Ctv43U2VedowOMkgUskqWamW5mSOIfxO2ADnpyaNELRI5CPR77UPHT6hc+fbw2xHlkKcPjgAH36nFaOqaLp0mkXem2fl2s16uQN5DMwII69vp60a5PqzXyRaTPBsMLOYvMXfnnnB59MYrjjoHim4VdS85jdRuPKimf58A5zh+MfWvOnJRvCMG73v8Aqb+0+sWpRaitFZ3Stu232KEOmX2grcw6nObO3bqGBPnYOQBtzn1649TWQNTbTr4z6NLLbsQQDxlcgjr9D14607UWn8iM3l4s83mP5kIYnYeOf7pz6gnpRpoa+1COzgto3eWQCMsBuHoMn+teTfmaUVZJ6dT3MPCWIh9YrRgowlaOt4tLR+W9uX0toSr9gtYy/iCLUJNRu42e3TaFTByFd2JycsDgAfw89ar6VYWd5dRw3t60Ctkkxxbyvt1H9a9Y1rSLi8trO+htoZdXt9uJWA+TudueOvrXm7wXvhq+vlu4rea4nt3i4Ify95+8MfdYdq6qtFReu39bjws54ynWdSS5noteno9LLv1KcTWqyHT7q3gktpsxs12u4ITwHx0+Xr+FdX4d8LRHTL121e3eOEZZrVWfaBzjkDjAPTr+Fchd6RJZ6bZXFwSs12XKwEchBgK34nd+VaWg2JXxPb6bfO1iSx3lxhgduQDn8PzrGh7s1Br+mZ06EIfuaElHl1lZb26rXX8T1fSdVtZ9C+0xNKYrZNrtIvzHaoye/bmvGvEV1dXmqSPcTyTrnKM/XH9PpXtKaho1tD5cd3YwxHJ2rKiqfXjNeM+JtTg1PWJZrW1jtoR8iIg4IHGfTJ9q78YoyjGMpHDhIKrikoRbu3pf7LTumYtGfmA702WQQxPI33UUsfwrNtre5OqXNxLI3lSBBGATxt3Enjgfexj2ryKaSTZ9JhqsaMf3UeZXs0rtprRb20SRptwMgEn0FZuqT6dLcW2nX8ZlkmcMiD+E84Y4OQODUa+JLI+JP7E2zfa9ud20bPu7sZznp7VJcof7ftne4t9u0hYZEXzM46qetOMHSvKS8zhcYYWlVxCipO7ulqrJ36/at+isLqcWsTPaxeHxGTv2yhscDjHXt1zjmvWbD4VWN7pMR1u4Z0mUNLCowNpwQM9QRWf8JvDzWV7NeNI5jjG4tIRudnyBnHbH8hXqFyX3c/d7V6uAw6nHnmvQ8KWZYpTqyXuqT2a1t0v8jlvDvwz8OeGb5tQ0tLlnCYiSabcsXOSVHrkZ5z7V0/nyf3v0FJHKUVhjIPY0yvZjBR2R5spuTv1LMEpYMZG4GKbHDAt68sUcYd1+d1UZbnue9RoR5bqTycYpYP8AXL/ntQ4oam9EZ02kWVzrEOoyxlZoiD+7wAxByCfXmtpZEk4BH0NUqlt03SZPRan2cY3aW5MZO/qWDGCMDgenaszUrSS1sbq50yOMXW3dlVwWx/M4z1q89wVlIXkDgipVcMgbpn1pr3Wm0aSfNGUE7XMXw/fy6lpMT3aFJQxVyf4sdMf56itlolYdwexz0p7KGGGGai2PHzG2R6GiclKTaVkKlGUKajKV2uvcBKU4lBz6jvQZVcYzgZ5+leaeK21X+3bm8eCSK2DCNeOG9MeuQM8d673Qd9xoVnNcxlZGiGQT27H8Rg/jXPTrRqXXVN6W6d7+ZNOdSUneDUej7l4yM/EQ4/vGnJCF5b5m9TS7wOgOOxAzSiQH+9/3ya2NxiD5yrdmJHv3pxjB5X5W9RUcrYjlCKWcjKrg8nHH06VUsLiWfck8+X2gmOSAoR69eo/zmgC2JPm6hAe56H6VICqn5fmY+nJqjYXsl2Zlk24YeZFx1jOQP5Z/EVU07U5XislkCrNKQZVA4ZTGWDD8vzBoCxs5CZLdWOcCmMW6N8o7AdTRGzMWZVXk9z/9aiQueCMHqNvOf8KAEcED1xyQSTx70p/eIMxHGOMGlUnJ+XIYZBLdaRBsjw74AOP8mgCP5o/vBiv1xUgXzFHzAAdAo6U4SDACgkHpnv8AnUZjI+eI49qAJVjVff60+oUnzw/BpzTAKSoJx7YoAV2JOxep6n0FRsio3PIYdT/n8fwqRAVXJ5Y8mmsvmEq3y46AfzoAapXcFYKB3GO/+f505mHy7Pm2nOFHtSH5MH7obsB3pwk8zhOD3PpSAXLEZGFHqeaEweQSfc0gRQ5HUAAgE5xUlMQhAIwelM3McoCAw6kipKaOZGPbAFACKhGQ20g9eOtG0r9wgD0Izin01icgLjPXJoAaSeVYbuP4RimDcGJ4VsYyelPyUJLkEHuBjFMkYs2EB6c+4oGLnemxRjI5yetM2Hv91OMegqVVVhknOPwx+FQl8AhcqSN3Xtn/AApAOZduPT1HWigoT8uATjO5ePw69KKAJn5G3u38qag2MV5PfJ705VxyTk+tLjnNMQtISF5PH9aWmRgFQx5J7/4e1AAcvwBgZByad1paKAGEY60lSUm0VHKKwwjIweaaqBM7e9SbaTaaVmKwlFO2+tKABRysLDHTKjPr0pJn2gLnGf0FI8uZMKN2OnuaaqbuW+Zz09qvYsFkI5VWIFBdgr5jPzc/TipZBiFlHpgUhyMeaw2+wwPxpgJ5zf8APNqQzArhkYA96V2Bb5fm+lN+YdQPwNZuTuTckjfevXJ70+q7KMhofvelSxyBx6EdRWgxxIVST0HWgZxyMGmueGU9xxT6AGupZeOo5FRBfNZj06EVPUPST5TjdyDQMPKIBBYtuOemMUMxVeEIb6ZFSZ3KCOKjdyjAFgB6457/AOFS1cQ1WYoQzL7g07zArfMpUAcAUilniOzoeNvp+PrSFlXB6HdkgU1a2g0Kzsd22NuuQT2rJtb7UrrWrqG5s/Jtov8AVTYPzc8c9Dkc8DjFazzrtPDAdz7VHFd29ym+CUMjDbuQhh+YpPVrU0i7Rd43/QzPEl7eWeh+fpnlmWMhmAwSB0PB46n+dZ2oXNxqGk6Tdf2QLtnOXV8/IeAcYPAOO/HStnWtXTSrH7T5LXJ3hQqnbjPcn8KmtJYbjy9zrHLIgk8gt84BHcdazklKTVzqpzdOnGXJ1evy201Jhcwi7CySxq7jCIzAFvoO9Ylx4Rgury6lnvJXW4fcI142HPrznHI6cCs++sIPE/ilodtxZyaeeZVOQ4DenGDk5Brd1ixv7z7P/ZN39m8tiZOSNw4x069+OlZ3VVO6ukc1JxnHlU1aV09Nrf5+RzeoX+meHPEomntromKJY0kQgg/JgHafbjOfwrsra4hvrWG5gTKzRh13DGARkZ/OuQ8da7/Zs1natHFL5p3yrLErrjOB1B9647xVrRuddlnsZGWGNgsDRsQNoGBj06ZrllXWGlLqr+m/5l0sHUVPncbRvdy0tb03dvxNC6s7KC/1PVoIba8t4ZNsMAyVZyeMjOcYDH0JHFU9V09tUsbXV7O1NpdXMmw28MeyMbQOV+uRx65qx4NvbS3W7h1NxHa3kZQs+DtYDIIB7jJxjua77SH0/RPDyvJfedbPISsjIcc9gvJ7H9a56VKniKTSdk/wdzacqFXBSw+Gbetlp31attv8zF8IXP8AZmi6hPfGXMAUyb+hYA8D3J/pXL3d7a6lqlzcLsgEpLrvbdhjycHGcnntit/xPPNeX11dWOsxvZQxKZLTc2OoHTG08kc54rzq4kVmEiuWds546VE5eySpdvxO7JaEaV6N7VGuvbXp12v6Hotx4fGs3GkS3OqWkc9vCiNEkoaQgElcAd8EVyGs2Udh4lmEF/Dc4Yv5m/OCecE+tZFlqstpfB7eT9/GMrk/d9D+dRyLtYc5yMnmsnX9ok+X5nflrxc6ilVSdNppNevbdFrdNcW7tIhaNGy0vOFzwMn8KpEkn2q7cQ20en20tvcea84PmRd4yD+oIxj/AOtVKsORPfc68LhaFb2k5RUZu6dmrq+6uvv+YE0fgD9RSVqaJ4fu9cW+a0kBkt40ZINhJcZIY5HplePrVRU5SaNud4aVR1LcmnLa7drW1+f/AATgdT8Pa34Sv7HxDqKi7g1GSWKEqSzgDAAbjjrwM/wmtq9sNON1b3t6ESaN1EcvfIO4DPX14r3LwVKupeDZtPvocLbu9pIpPLjHP0POPwqnD8NNB+xTWurW51OKSRZAsjFDHtzjlSD3NepLCzq8rTtpqfNRxkY0asKrd+ismtdHf8/yNXwsQfCtgwUBpIgztsALnsT68Y5rX3HGMnHpms+DQ7eDWIr2F3jhihEMdsowqgLtABz0wOnrWrIkW0lGII7V6lFOEFB9NDw5wSStK+n9IhooorcxDpUy/u1IHLHgnstQ0Z4A9KQ07CsQW4qWOZY48AHdUNFFgTadwqWbhY1HYZ4qKigL6FqAkQlmJx7+lKkqSdcA+h71EJV+zlBw2MfWoam1y+a1rFq4tYLuMx3ESSr6MoIpqK0a/IwwvG08YFFvlYyzHC1IrLLypw361LWpqpXVhiyhSR0x1X0rMv8AUtQg1e1itbPzbR8edMAfk5556DA55qHTiqz2iCKMzKhFwQCHDY53fU4607av2GIyjMC3splDDKgb5MZ9s7azkubqawai7tXNgkSNgH5XXkjjP0P41XNlCqyB5ZZGdDHuZ8lV7gen1+lUV2jT5J7cYSC5M0IA/gA+bHsfm/OkuWaLRl81W3XTGSVQQCFOWfqR0UY/KqJsXIbG2huFaCNIHVSn7sABgcdfU8CnLplun2fDc2q7UPcDbjn8KxXvv7S8KK2nkvNDJ5ceeDvUHb+P3TXJaprviBdFkjvYmiuLmUrM20oxQKMDA7Hd+lZTqxgrnbQwdSvLlTSd7a7npyOUZ1xnvxT2IKhtwbuAvf8AxrndDvRcX8dtHcfamtYGRphn5xlPX6EfhmtbSH26ZEMc4P8AM9a0Uk1c45xcJcrLYYKx4wE5H0NNlYlgUGT0OfSsmyml/tL7U8UipeEgM2MHHKYGcjKg9e5FbC4IwuTjpx1FDbtoSyPaQMNzn+LuD/n0qRGKjIBYkcqOxpHAUfOTz0C05XIwDtQdgB3pRfRiQhAlj3EAMPQ1EcxvhvmA96k3BWVh/F1XvSohdSegPfvVjMzVdc/sdLcG2a481ygKHGOnt154HtWrksQycDHU9/wqMp5T5jOT3GMmnRyEqFUDI4wTipV76lycXFJLXq+454yR13HtkCkXeyg5H0HFP3N3X8jURBLMFBHp85GKogcvDK394epOakY4HqewqLK7cKoDHkbec0M7Nt24Xvk84zx/WgB+5s4IBPoKAmFGSSR74pNjBeG754GM0m/YRliF77h0/GgBWX5TiPnHHShSR/yyYHHPI/xo8zAXPU4zjtmnghlBHQ9KBDQGYguAAOgpp5mOPTmlYlsqDgdCRUXlHJxzxwT2P5VLfQB5QHkcH1FRqWXeSf8AdwPzx+NSbSPusfoeaE+7g9Qai9hAHYsCF6L3OKKcKKfMwuMWN2GRIcdvenbZuzj8qeT8wHajd82Ku6Q7kRWb+LDfjS75QcFB+BqR3CDnr6DrSLliGyMY6Dn9aYyPzJN3MZx6Cl+0Y6oRU1Mc4ZevHJwKAGfaF/utQbkZGFOO9OZyBnBAHqOv+FLG25cZz/X3oAZ9oX0P4UfaF7K1P2lfudP7p6UB/mAIx65oAj+0HtGfzo3vI23Kp7Z5pS6hyQc98g8Cnv8AcyOmQf1pANEWxfl5OMGkDbIsfx5x/n8KmqJsbvMHKjg+/vQIcI1Hbn1pdo9KMHseKMHu36UreQhcD0FGB6U3BPTP54pcH/Jp/IY1k3NxwQOD6U1otzbk+VhUm32H50oGKFcEQiQE7ZhtYdDUuG7MCPcUMocYYZqlqMl3ZafNNYRfaJVGViIznn260N2Vyox5mootSBiMEg7uMCvNxe+K9U1yXT7edYhFJ+8ZCqYAOM5HJ/Dn1rvdPvZ7jT4Jr2AwXBGXjxjHOP5c4rJ1PQXnv0u9Dl+yTs5adskbgcf17dDXPWg5pNNnZhXClVana/S+qT/rY2oS8djHHI3mOECu5/iOOTUjS71wFzj8hSRxgli+Tg4wKCwZQQCqjsB/OujY427u4qgPgM4x2VaVdvmgRAfLnNRbQ3DAsOoySc0qFCpLHgcZ7UtkIkmjSe3lhky4lUo+30IxVfS9OttJszbWnmMpcud/Jyf/ANVZOo+IGs/Edtp8CxFCoMzsSNmeTz0GBzUeg6HdWOrtd2+qfaLGUFjHk/MSPyPrnrWHtVKdoq9tH5Dp1OfmpqVkt/VdCr4guhF460WNI5jv28ocL98j/wDX7UviGz1SLxNBeaJaM08ijdLwVXjaevA4x19a1fEuv/8ACPW0Un2cz+axC84Ckdunf/GuV0KbxL4j1G4ulvntYBICFLMFHOQAPYdjWElGNSUL3bd9Oh25fQnSlOs2uVrrt2toT6lq/iS41iPR3tfsnmOoW4jDDccYJ3Dtnngdqmkspk1uaxs9XnGpTBS7EFUPG4jcDn6ce1dhPqVnbXkNpPOqTzf6tCDz2rF8aTajp2hzX/h2yjm1TBRJDFuKDB5PqMgfnVToqKlKUm/0XyOZyjCM3JNKS/4a2my/pnN+NtJm1XVrK3TU7Zp7e2VHhlYqzv1JBxjJGOCRXlFre+IDqTW+qabHZiKfY8LxsGx65Jxx64wfat77R4jvrG21TxhF/pDOYzKiKokA6Z2/Lntx2AqGeRVuDLFKZCxyxPU56152Ikud26/kfT0cLiPZ0VTqWTVmnb1a87+ev4j9AuY9U8f2mgXUU32KZmYSBSgP7stwx+XJYBcdf511+pQjSrO/s1ia80/cp81T/qn7cjgHkg9zXJ3w0yee3udOilt5YAjlGfcDIpB3A9Rz9a0INWvItJmjkLxRXPUgECQcjn1HWpU4cj5Vr1a6nJVw068JYimr3teKXK5Wdrb9tmuhQuNVleHybf8AcIV2uEJ+cZzg/iOnTgU3SNFudd1JLK0eNJWUsvmEgHAzjjPpVNk6soOzPXFdX4L1ez0aSSWa3ae4ZhsO7GxcHJHvzWFJqpNc+n9dDtjWvh04U+ScdEmt7rZN2vZb79jnrjSZ7HUWt50jMycOYmV8e2R/KotT2NeH7GnlIMApIxOOOff1r07T/D9vDHqOo+Hp/tTXKmNIpVBVfmBI569OMiuVu/DlwltdalqsDQyNJ5axGPau5g3zDHpgcDjn0FavDzjHlS8/l6nBgsVOpH6tNcvK9Pv0S/zd7dTlMnj26e1RxTRThjDKkgB2kowOD6VPIgjfarB/delZ2kaDb6UlybLzCJCGfe2cY6Afma5Ipq8nv/SO6nGvSn9ZnBTu76KzT+HS7V7rv95erqPA91JpviqwMb71vN0Tovoemfoefwrl65O/8V3cXjQ6LDG0aJtYTDHzDaGIOR07ZGOa7MO25c0VqtT0cZiKdTD8srpy0t5+Z7LpXiD+wdK16Jp2e8a4mMICjCuONx+px+VSWen3TaXYajoWmX51EMsj3jXAKz8/OCN3TrximfD3R9H1nTpb6dpJ5AWRoHGEweM+ueG7+hrqbTwnbWUkQh1HUvs0L747X7RiNTnPbnGa9nD+0lHmex8bi504zcX8SfTZrujJ1nS5z4hv7rWNGutWtH2m2e3nx5CgcjaCOc10ujXVpe6Jaz6aZDbFNqeaSWGDgg571UvPDi3V5PPHq2p2ouTmWKG4+VuMcZ6cVpafZwaXp8NlZRhIIRhQeSfUk+ua7EmmedOUXGxPRTtynOUH/ATijCHoSPqM1RlYbRTtnoyn8cfzpCjAZKnHrigVmJRRRTAKKKKACiiigB7SlognpTV3FhszntikqSJ1jySMt2NLYe71HXd39kiDNC8y8KxQrwSQBkEjrmmy3TRtABbSmWTOEBXIA65Ocd/Wq9zG08LKGAYspyfZgf6VLfWkty8DiKKQJu3JI5XOcY5APpWbVjeMkxbi5wYQLeUzSZwilcrj15x+tcpJ8Qont7qO50qQIr+Sd78NnIIYY44B45rqWhmd7WW3jhDQBlaMyEAZGAM7f6VBeaIt7paW9wscjrOZypJCkliSMjkfePNZVIzfwux2YepQi/3sbr1tYbpU2nWukmSzhaKEbWMZOSxdVYd+fvAc0XMFjfRvLqlqwW0+fa/Ucf7J56ev4VXv3j0vSJvtICNJKhRIhlVKhdo5xx8lXY/O1HTZVcqi3EYMSrztBGckkDNaezfIm1oc/t06r5Ze9vvrqZ+iaRBpOqaheRCaISKX+zsoAAznggkHGCPatZ71R5Jhiklkkj8zYmM7eOuSPWmAXMonjuPLQuhVVQkgHnkkgflTfs08LQSweUzRw+U4dioPTnIHtWaShoiqlWVWXNN3Zbgdbm3ScPmORQwAGBg+tODKh+X7o6YGeKqRNBpltbw3EyAhQilyFLNjsDVxssAxPydCB6VZNhTJnpx2Hc1EWO8DJAzz6g/5/lUgKqpQ5Lew5PvTfJLtukOPYUxCMdq7MjcT/D3Puacu4rgggDghaf5YVCEXmmFzvBG3ng4z/OgB4dFGAQPbHP5Ux03uMDYeoPrQ8mGAIwc9aV3zGHTBweMmkmmIEkO7ZJw386dIuVzgErzzUUmWIDfe7DuPwp0cpkUL0Pc0xittVM7vm6g9zSBh5Z28seeh60q4jJXHuDSFfMc8Djn6Urq9hDll352jkdcnFKN7Z5AwewzSRx7PT8O/+cU5DlSf9o/zpgRSIFwxJ68kAA4pWH7vCsw7AHinZ3SFSOACD+n+NIxyxJ4C8UnoA3LrhQAffOKXft++Me/akJLMCg5HcjilwxYE4AHp3rMQ7OelJghsjkHrS0UhBRRRQA0uAw2kyEdv/r0m4swGApPcnIo3YiOfkHQkcEfhSkFkxjL9f92tWk9yxNqkhG4fqWPenqypkFhwc9eah6PiXhjySQDUkiZ+YN8vfnimA8SqeRnHrilXJYseMjpTBwMjHPTHQD2pclW5qHKwmxXTfwWOPShkGM4+YDr0NOznpQVBOSM/WrAjxJ0G73LY/pTXfcvbI6FTmpDFGeqindB6CgZHuLBXCFvl6dP50JuAVRhVJIHrT9mDlTj1pojwc7jn1wKAFEagAH5setKWzlVG719BTSFJ4XeffnFCgtnPCjgAcUAImUOw8/3TUmPXmmPGNpKjBHIpyOHXI/KgQ6imRv5ik4xzin0k01dAFFFFMAooooAp6ref2fpc915TS+Wudi9+cUadfi+02G7MTQ+aMiM8kc1gapreo6xpUg8HB/tcM6iTzFQZQhuRu46ge9b+mi5FjbjUMfa/KXzcYxuwM4x75rCNTmqWV7W+X3lyfI3SlBqS1v8AoJPcNbwTTiNmEYL7VGScDpWDN4oMfhptX+wOdsvleWGA/Hdjp2+tO1r7dpc95q738iWKR7BFGCzBmwoO3ofmIOetYml+JL/SLcSalKbqGcZt13Yc/NjJOMjoRz3xiuerWmp8uq36J+jM40sRWklTi9bq9up2mlagNQ0mC8SFoTKm4o/JX/Gp1iVGUN9cj1riLrQ/EF9aWsovTKpfztpfmMHByc9D7DpXb78yknAA55/lmuilOT0ktra9zWdOVJ8rafmuvfToVL3w7pt+8kk8H76RdplViGHv6Z461Q1vwhDqfhuHSba5e2SCQSByu8t97g8ju2a3xKp46NjgYzSPMsUTST/u0UFmY9ABRKhSkndb7mHs4t3S3KaaPay6La6feD7TFBGihmyCxVcbuDwarppt7Hri3EF2F05IwqWyk4GFxjHTrznr2qVNRsNT09ora9QefuiUhtrehwDznBqLSLeDw/pqW1zeKxeQlTIQuSewGfb9ado3VvvOqnFU1L+ba1tf+BYvTadZ3d3DeTQK88P+rck8d6muWdLWR4U8yRFLIn94gcD86rxXiSg/Z5UkCkqQGBwfTjvWRZ+IkurO/upreSGO0DM25vvYBOPr7e4qpSjFeovZ1Zxb1svwuec+JJNW1C7a81iwltYydv8Aq2CjjtuPsT+dc3dkeU32VtrMOOOldN4h8XXHiGzEbxRwQo4YRr3POCSevBrJ0XTBqmrw2su5FlO0sgyV98f54r52o+apyw19erPdw98PF03S1gm3fZuy11018tSbwx4Fn8X+H3+16o9ndW8vE6wg7s7sblyP4f1FdZP4Eu40sbOC7NxBFHteZwFKnucZ79eO+a6rRNCtNBszb2e87jl3c5ZjWlXt08InSSqKz8jxamaYmb5ovl8lra3qc9oXhCxsdNEWqwQ3k6yF1bblQMDAwevTPI71fi8P6VBdvcwWMUcsilWK5AwRggDoOPatKiuqOHpRSXKtDiq16lZpze23l6EVlaw6db+TZxiKPduwCTk/jS3lvBqFv5N7EsseQ2CSMH14qSir9nC1rC9tU5ue+vc4LVvhuhjmm0q4PmbtyQOOMem7P5VxDxfZvNjeXZKvyNGQevevdKwdU8HaVq17JdXKyrLIBuMbAcjjPTrXmYjL00nRXU9DD5jKmo06ivHmTe/z9e+vU8dNlPHcSTecJYCVACj/AFZx0/EgnNNvbJpHt4VikkMjAhVXO70H416be/D9IoVXRblo2Zv3n2h+o9ioqLSfBNzb+JEur1lNvbsHjZSAXI6cfXk1xLL6qmr/APDHqUamES9pOu5KF3GLVrPb5+X3mn4E0WXR9BIuoTDPM5LKTyF5xn35NdPRRXv0qcaUFCOyPltOgUUUVqAUUUUAFODsEK5+U9qbRQAUUUUAFFFFABRRRQAUUUUAPhKiQF+napZ5HVwBwOoPrVenF2KBSeBStqUpWVgMrF9/Q+1TfauRleO9V6KLISk0S3sC3thKqJHI+0+WJFyN2OM/jXI2viu6i8MzzyQ/aLuCUIqhQoAPQ8duDx9K6uOQxtkfiPWqU+p6dp+ow2Ij8uS6YNujjAAJOATj3rmrJxs+ay/zO6hiKNOL9pFN3Xl8r+ZjN4zcaLDcW9oLi9mOHjXOEPbI6nPYfXmum0x7i606Ga+i8idhlo8Yxz+nFNsdPtdL81bSBYWmbcTk4Y/069KuK5EZaTHHpWdOE4+9UZHM3F8ySu76dPL0M/VtDtdUWH7T5gELFl2Njr1z7cVcKttyqsqHqueakDeaFKg7c5JNKj78/KQPetvdvfuN1JOKi3othgKphl4XvT9+fuDPv2pHiDA44P8AOkDSPwoC44LH+lMgcxCqd74z36VGSjIdoZgRwcE4p0aA535ZhwSaUSFmwB3xnNMZHHhgH8vJbpk8Clkyu7oS/GzHWnKxI8scMOCfSmlcZHQ+tTKVhN2BeEBZQfZeBTTkksPlxyOP0zTjlh5gGP7wp8bEL90nk+nrQm2wuN++qvuPX247U9V2Nxkg9zUQ4kKg4Vu2OhqXD/3l/wC+f/r1QxxIX7xA+tMCjaSxbGT3x3oYMSmW/i7D2NNZGDZALjtz0/Ok3YQHCgFUJY8BmHf+dATGM846Uin5stxjgZpxdemcn0HNQ22IWimhi33V/M0vz+qn8MUhC0UgOR/MelLSAKKKKAGHcyEkjIxkjo3+TTlBT3JHT3pCwZgzL90Z45zShxjcPmZhnjnArYsdsUqQfm55PvUZzDwDlT2Pal8z94dqnOOfSnoQc55J557j/CgBMKqAryAMCm0q/u5Nn8J5HtTtmT6Cspxb2JaERscGpKZ5foaVm2rk1UbpWYIdTJCAOfypqS71yUOOnrTQVEbbV5ORwMfSq0aHuOzJsydo/DtT9mfvEn2pSoZSvYjFLTAa3CYHHbilAwMDpSP2A7kf40ueT7UALUQGGIHUcj3FSbh6j86j2uw3FhuByuO1LqA4OD0GPXNOpmBIu4ABv5GkLsW+Q8denFCuBLRUdxL5FrLNsZ/LQttXq2BnAriE1/Ur+e71LS33vAmBppLNu6DIAAz1zxzxisqlaNPRlRSfNd7Jvr0O6DA9D70wvnvtX1Pf6VnaRc3N3o8FzqkH2WdlJki5XZyfXkcc89Kkg1bT545HilAVE8xnZCo2/wB7JHI96qM1ON0RGSkrosRxwW6t9mhWMMSz7EC7j6n1NSk5VW/un9KXaGT2I7d6q3V7BYQ7bpsfu3kICk5VBlv0p2a1H70pHJ+ItAGp+I5G1BtQW2Zco0MLTIMLGAAFBIyfMzn0HrVrw9otvaaTDPqkEqSQEOjXJw0S7FLDHYB92AfrW3Za1aajYfboGZIlJRjLhcdDz271na/4ggs9LuXiC3UohDCPazKVY4ySBjHXv2qZSjyuT23NW50b811bcm0PX016O4lit3RYXC7yeo/Lr7e9P8Q6je6XpD3dpbi4kVhuBU/Kvrx/nmuU0SHW73RWazlFmI2MohXcpfI4579BjNaN5qfiSSws5bHTSszTMsy+WT8o27Tg8gHLc+1cccTL2XvJ3tvb9DkhiYwfNZtea3+SL/hQ37aabvUbhpPtJ3pGWOU65/P06U6TWDrml30Wj7mkUbCsygBt36dM9cVB4f1HV7nWL6y1WOIC3OVZcDHPTjqO/rXQ29lDCT5USoGO59q7dx/qfetqHvUko3tqtdzfDVKahzW1W1/J63PmrwhoXirwhcXkfiO2lspJJle3k83fvYfeYMP+A+9e9NpP2/RbNvEBKT2ykySKwUH6np0A6Vz/AMQY9fvPFehafpGhi709junuyhIjJbBBPRQAAeeTnAro/GGn29/pqyXdzLBBbnc3lrkvkgcDPX0PvUezcHOVr3senKtD2dJUVabbu1v2/ItaNpFrp6yNp771mIfduDjjOAD+Jqj4vinPhmb7Mpc7l3r/ALGe344/DNXdDn06XSoYdMfMaKflcgyLknqB0Oc1xM+uzyeN4G1yQafBanG0A8Yyeep5PBNXUqRjTUe5FKNSeKevvK71XbbTvtocXfJF5gaHCq3Vc8g9/wAK9A8NeGpdO1S1vIcvatAH3swzlk9OvU/lWRoun6d4g8e3Qhth9hjLybQ5AIBwD68kg49K7SWDVV1RoLZo4tO8kpGRjKHbge+QfwxXDg6EXN1Xrrpby/QWMmq1ZyjJNOOvM3o9LpLo7q5bk1WxivUtHuYxcOcCMHJz7+n41crn9H8LRWdwbzUW+03u8sH3Ehec9+pzzzXQV7VNzavNWPKqxhF2g79+3yCiiitTIKKKKACiiigCtf2n26xltvMaLzBjevbmquhaB/YdtKgunuVkIIZl24/DJ55/StOjNQ4RclPqbRr1I0nRT916hRRRVmIUUUUAFFFFABRRRQAUUUUAFFFFABRRRQAUUUUAFFFFABRRRQAUzyozOkzRI0kf3WZQSv0NPopNJ7gXfLUqe4PT2+lRrlh5bnGB+YqGOZk4zx6U7zfM/wBZgHsQOlQ4s3U0yxh+zLjt8v8A9ejftYK/U9CKYJG3YYqp9COtOCHBGcg9W7mpNB2/P3Qc+4xTeUbu27+dSUyQrtw3U9AKBDf4juOSf4VoZccsQFJGQKQh8bQFGBmkEqAg4JyM5wTikMUH5sKMANwTxipGUFTkA8dxUTuuSAw+YevQ/wCf5U7evl/K3Ucd8Ub6CGBPm2LkBgc808ZRXw2SpJ5H401dwQOo42/xGnSYUHcclu2cZpLRah0El2/MCQpwCMnvSpMGUcEtjoBRlV2OABkdB+f9KZtMTqR0b+dMZI27cp28A9M07Ld1/I0192w8AY56+lBdlxkA59KYCDncCMc9DSbMfcOPbtQ0gyrDODx0oyT90fiRWb3JYgLLIcrnPPBp29fX8COaa2UGd3JI6inDPOR+I70gGlgTkbwfZTQJB0c4Pvxmn0x2GOPvDkAUAOJOPlAP1NFREhj8q498/wCFFFgsZVz4lh0+91OGaE+XY2yXBkVuX3EgLjtyP1qpP4gupbW8stS042E09jLPAyzBwwC8g4AwwqufDl5ezaq+r3Vtu1C2SEfZg2IypJB56jpU0Wi6he3fn67eWrGO0ktoRbI38YwXOe+O1a2ZXNHuNs7mMQeEFnjkllnh+WQSldp8oEkj+LPvXVsrY459D3FcvZaFfIuh/a7m1f8AspnXMe4b0Me1eD39a6UPuyc4fsmaAunsLKjFlZeo7ZxRumz9wfnSoxaRscgcH2NSUARCbBxINpoLbpBgBxj8qXyk2lQMA+9NWL5jhip7gUle2oh5yBtVWA7FcUIuF+bknk1G4ePBViR3zzinBpSoOFpjJaZuOG7lT0pvmOud6ZxySDSJKg3EnBJzjFAD9235349B6UxUMh3PwOy0R5eRi46AYzU1AhnlR/3RSGIDlSV+hp235smo3uIPNMDTRiXbkpvG7Hrilcau9huWT5wwYHrgU7yxuBY5B6HA/KmkRNhFYsV6baAzRrtZflPTdSV+otSRlQnARWP06VVttMs7W6nuoYVS4lPzuO/fp2pLy7+wae9w2XCYComMuxOABnuTTJNRsYbJL24uAkMkXmqWfBIwDx69RRK1tSuZxTsyzOm63kDRl1KEFB1bjpXNy217Np13ZWyXr2ps3UR3aBWVxjaqkYJ7+o6U7T/iDot/MIQZ4svtDTKoA9CTk1d16c3Wnxx6fqUVrJI4KSGXaJF9iP6elYRqRcHOn7xm7qCmldPVeZQuo7o3cLWlrcxCMw7DtkJK7hvz82F4zkEHNU7u11ExSG1trpr4Q3IldwWViSMbe33c4x7VDe+INRMzpp+qWssUCKsnKhmYAbjhuSc/hium03Wre7EEaTRPutzLLLG3yqVwGBz061UKsal4o6EowUailF31te/3nks0GuaRCsd1FNCLg7ljcY3Y6/L+VdHqWj6k+ko8NjeRTraxhYo42bLb33Z9Dg5/HFdVqmi6fquoW+vR3QlSwXcY4yGV9hLYz2q//wAJFbGy0+4RHb7dIsap3Qk4OfoeKwhhmuZN6bI9PFZg6ijOnpLd2Wz2+enU5nSLTWf7CQXsNwjCWMSoyMWMYQgcAgkZ25ANGsyTaZp3mX5u5FNuEt2BKmNy7H5huz93Ayc8CuxbUrVvNEV1CTDzIRIvyDvnmufktLW88SJf319YTWeNiQyurEnHT04JzmumzjBRWv8AW55tLllK9R6b+vkRadppTxB/aFrFdCS5uPNMpP7owMu78ySOPWusubmGztnuLlxHEgyzHtVWfU7W1uYLRHR5XkWLy1cbkBBOSPTj9a4Lx/480i38U6R4UN7KLm/dQ5iAMS7n2qHYHIO5Txg+pxTt7OPuoijTpuai9IndXeuWVtpP9oecGhZSUYA/MeeAPXg1y0L3+s6hDq73iWmlBgj2s8p2MBjjkbSDnqferzajokl2mizwRNZKMpN52EBxng/iRnPU1xPxP1K2uPE9l4ft47gKbP8A1sJwqA9NvqcEfhisKkm1fovzPWwtOEZ8iTTl1euj207vv0PRtN0zTLXU7iawcNM64eJHBCAkHgDpmuE8XaNHL4ouIrLfPcuA/kKM7SRuOB+tZHgBbjQpk0vQxM9zI7tJLOwKhODtCkfKPl55zk8Yr1FtItTrp1bDC527evHTb9elYOEcXDlitE9/8vM8vFSUK6dRczVuvbTddreRwGjaRqVxfx2JgFoIHDTMoAOM9z6+n416bRRXoUKCoxsmZ4rFvE8qtZL+m36hRRRXQcYUUUUAFFFFABRRRQAUUUUAFFFFABRRRQAUUUUAFFFFABRRRQAUUUUAFFFFABRRRQAUUUUAFFFFABRRRQAUUUUATwHflH5AHAIqO+u4NLt/PuJhFFuC/MCcn0GKYCVYEHBFOvLez1KzEN/GJE3A7ckYI78c1jUUrPk3NFJ8tluWIrhbiNXhYbWUMG9QfSkkQPGdo99zHGaPJjWJI40CqqhVC9hjgUo+RwJQCezUkzZDUzKoLIcg+uBilUbZGDL2yMHoKnrHl8QaPDcPb3GpWqTRyFWVpQCDnoaB7mpGpyW37lYZFRCBm53YUgED0OKVWGMq+4t8yleQe9PXd5XLBVx1FCVhbCru8sAY6dW/wqKVJNyDzPlGCCRxkU8SZKRqdpxkjPOKZDd295bPJaSrKkbFSV5ww6imMXcu0AscqR8o/pQ8gkOw5HpkEVHPPBbSRRzSpFJO+2IH+NuuBU7MGXnAx156VDbaEIrl49v8XQ09wWxkhQDUB+WQMeAffmp9qAjgZPTPeqWwxqjcdu7IUcHFKDkYIwR1pc4kbr0A4FNbO7dtIHQ5oewmLSKCEAPUCloJwMmsiRrsRgL1NCpgfMc/jSKwySSCx7DtShyRkI36f40xiZKuwHfn7uaKRnyRtO1ueoooAr0UUV1nMFOVyBjtmm0UtxptO6LUMi429O4qas/JpdxxjPFRymvtF1Lnmpn7wppljLA7uR6VUop8ovaFwTIeh/SnghuhzVClDsO5o5QVTuXXK42scbuKQso++QCPWqWTnOTml3HdnPNLlY/aItyzRwRtJKwVACzMegA71xXjPxLKdGtpdCvfLEkpV2U7WOO3qB6/UV1M88K2k5vEDReW3mcdVxzXAXjaBGzX9j5jsnEdi6H73HJOeRjnGea5MS2o2uetgIUpt1JxcrdLXT8n/Vh9p8Qb2FI5rh47lI0CPCSqM7YPzevUc44rWlleW4sNfsNNlkuLhf3iSMWCcbfQdR36e1c/caR5us6PeWll9mnmVZRGo+TfvJU4P4ZHYVb0vUPFF94gtTNv+zRShJvKXCgZ53beM4/+tXJGpJaTu+x6db6sqarUko3Wqbs2trWW+p3P9tacL5bZb2EzSttVVO7npg46c+tXgGRdrFXye/Fef+EbGxg8VahaNayyyWjl455WIA2tgcepzkZ/SvQmx1Y4xXbSnKcW3Y8CvT9lVcYu60t9xl6lp9xe3FskEogjik81mwGO4D5cA8HnJ/KsPVLPU9H0yKWCGK8WzMwXcu7EbgHJUenI+mK6Sz1O11JnNhMsvlHa5wRj/HpVnYHLLL8wx0PQirl+8g+V79Tnfvx91nkPhmx1nUtXa90+2j2RT+Y25FVFY54Axjv0Ht7V2GtaXrFvoghs4lnUrJGY4ycrvcnOAMkYIGOxrr4LeG2j8u3iSJP7qDA/Knn7prnw+GdCnyuTbDD81OzqPmt32PLtU8Jaml0i6dY7BeOskjBiVi4GVJ7YOT+WK2tK8IarZ208F1PCyfZmhi2sW6sG9Ohwcj3rQ1fSNcu9YW5stU+zWuBmPewHT0Awfx+lXNGbVwlydWMYIb90EA5Hfp26e9RShGNV2i1+RssV7nsI0lFd7b9dznbizTUPE0scs32e8ZdywxLuj/1fQtxgkDnjpWxF4aMbQyRN+8R4WZWPyptIL7f94qD+FbYt4DIJhAqzsu3zNoJI9M1ZVdq46+p9a6qdPlcm+rMIR5W33OXm0DU7jzfOaJma3mi3eZwxdgQcbRgce9W9c0y7vVaGyMXlPbtHs3bMMe5wpyPbjpW3cRefbSw7mTzEK7l6rkYyK5aHSL/w2JbkaqGs442IR8gbyMD5eR1wc9aqUnF7aHXSpxqJ+9Z9F3ILE3N34hlsltgotbw3LTsfmI27MdPxHPSq8ngCC41CK+u7S0ku7OJI4ZWwxJDD5uVyvyg8A9TXR+HLu6udGE19LHJNIxKFccjtnHfOa0xNCLgwmaMzEZ8vcN2Pp1xURTcU5O5HLUoylC93qnYxLjSr5bm4ltjGIZbgy7A+wkeWq9dpxyDwOua5rT11jUbaWG2srYLbW6wBpo0J3AY4JGc5HToK7jUdVsdMVG1C5jgU8gMeT+HWud0nU7zW9cmv4ZmisYwFWAsSGyCMjtnPNTVSm1C/3G9Kk/ZSqtWSs76rrt53DwzoN1pZku9RuPNu7hcOo528gj5u54/DNdBRRXVTpxpR5YnmTqSqO8gooorQgKKKKACiiigAooooAKKKKACiiigAooooAKKKKACiiigAooooAKKKKACiiigAooooAKKKKACiiigAooooAKKKKACiiigAooooAmt5MNsJ4PT61M4LHBHFU6kSZgwLEkdCKzlG5pGVlZku4qwVidueCO9cLZtdPfeIba10FdREmoSjzXkRVQlQMEHn34rvMjaWGGX0AyTVLTtPi05ruW2DsLuczybmz8xAzj24qNepumc9axarZ/2V4atr9LeWGxM01x5YkJw2Aqg8Y56+lRW+t6vqbaPbQXUdrNcSXMVxKIQwJi/iUHp/9eug1LRbbVJIbiSa4tZowQk9rKUcA9V+hog8P2VnJpzwrJGLASCEBs5Lj5i3qaB3MVLO/j+IVmtzqbTSrpxZ3EKqHAkGVx2z1zUVtq981hBbWjxQXN7qc1us3lDEark52jAJwMc10VzpMFzqVrqAM8dzbjYrRyYEi5ztb1GRVc+HLBtPeyb7QP8ASGuUkWTDxyE5yrDp1oC5TvDqGn3mj297dRXbTXpUym3VTs2kj1wcjqMV0JVSu9AQB1561mw+H7ZDaeZcXc7205nSSabexcjHOe2OwxWqzKHwPm5yQPWi6FcRwpXavLHkc0iAYO4gOnAJ7ChQWkOPl6EA8/X+f60kgIk3/e24yMUbgOSVRuLZG49CPbFSZ3cFTjHeodo3Bv4W4NOZirEbixOB9KYAW2cNzim5DAM5GOwzUoj4wcY9AKaV2cjp39qhrsIA46cj0yMUoAGcetIWXbyRj3po4YFEOMY44qSRXjDrjO3nPFFBZh0TP40UD1KtFFFdZzBRRRQAUUUUAFFFFABRRRQAUUUUAIQCCCMg9QazbjR9OSK4uFsoRIsL4IXgYU846Z98Vp0jKHVlYZVgQQe4qZRUt0aQqTpv3XY5e9uL638V6Xbxm5ht5FQtHJJuDfNgngkYx2PSs1dF1NdQlfw5qPlJIPNWHzSCQDgD0PBB59a7q2gtod6iJVEg2s2OSPT6VFrOnXNzZJHps4tpUcFXyV2jGCMjkdvyrhq4dSu5a9rdPQ6ItV7Rm0ul7bFXRJb3ybF7+WVp7mMs/wB0oeMjAzwQMdBjmlivLhAkc7sfMuv3UmeqiXaUP+eh9q1LKwitI0OxDPsCvIFxuPc+2TzUv2WAoiGJSqP5ijHRs5z9ck10RVkkKyWm5ix2MOmnUJ7DdbtHMgCI3ytwp5B653H6dqtX8d3dNf29ncGGUQxmNsn5cls/TIFXpLa2kulkeBWlGDvK9MdKbNZW81wJJolZmGNx9qXIuXlWiJtHl5UU9FS7to5oL+4NzLFtBfJOcjPGfrWr9aiSJVmdlXBY5Y+uAMVNVRSikkCVlY5vxTrd7YSQ2enRESyjcZjjCrzkc8dsn0FaGlX0OrabHLBLHK6qFlZDjDgcjHX860pI1liaORQyOCrKe4PaszRdCstBW4WxDhZXBbe2cegH51naane+h2OpRlQ5bWkvx73/AEL/AO8RQQAxAx06CpOcg+3PtS7uMjmkwd2TV26nGOrM1y3lvNFuordFkcphVfoTkZ/H0960mO1SfQUzHyqp79abV1Y0hJwkpLoUtBtZrPRLeG5RY5VB3KnQc/5/GuZ8Z+GzqmoQNYTKlzO37xXlUZAAAIB5PHXHtXQ2WoajPrV3bXFl5VvHnypcH5ueOehyOeKNT0eCa4TUtskl1aoWjQNgOwyQD+Nc9SCqUuU6VKcKrbnyt9Y+epk+IPD2nto6TXv2i7eyt1iHlttLgcZPB9SaZ4QF4ujgXSBIP+WC8ZAyc9O3pWrpd9fXen51G1+yybiNm0jcPXB5FWq2p0lzKoiMRip+yeGnrrv29P8AMKKKK6TzAooooAKKKKACiiigAooooAKKKKACiiigAooooAKKKKACiiigAooooAKKKKACiiigAooooAKKKKACiiigAooooAKKKKACiiigAooooAKKKKAJIHCP8xIGKtjG0benbFUKekrIRg5HpUtXLjO2jJZVKkkAgZ5x/Omk71+ZgSOfTPt7VO7Awsynjaeaa6qMD14xWT0Oi5GwBI27T3OFpO4wOf1z9fSn8w5KjKnp7Ugw2R1B+8f71JuyuAEYiDMdxz1HHFOAwMDiimhSvQ8ehrBu5mO5DBh1H60oYFTxnLYx3phIbKg8+gPegZWQc7mI+Y46f54rWGxUdhqja2xxkZ45xzT2RRyVXeOVCilZA3ViQ3IPvSK+35G+VieWqyiQFnGR8o/Wgxgg55J9ad06UjDcvHXqKYiNQPvYGe5pScdOT2FNDZY7BwecntTguDknJ9aye4hNmfv/ADe3ainUUhFOiiiuw5wooooAKKKKACiiigAooooAKKKKACiiigA6VeVg6A9iKo1NbyYbaeh6fWpktC4OzJwdhweh6Gn0hGRg1AgeOfbyVPP/ANeszZssUjDcuKWigYxV2Ivt1OOtPoppbavqc4oAbKgcgd6MYTpx60isMNz8wOCfWnBMnLflWdrvQXoZt5dSQ3nlpMIh5W8ZiL7jk8YFV7XXm1PUjp9r/o9xDEXmMkeRuBAKjnsT+lbHkL9qM/O/Zs9sZzVaTT4JbozwqYJiCHmiwrMPQ8c9BTaldcuwmnpYryX88tnaSj90k0e6R1iMm08YGB268+1Vl195PEltpkce5XjLGcD5X+TdkD0/Gk8TNe6ZosL6FbyyTRusYSPc2Ex12jr0A/GtKwtt1lYSSxGCWOIExZ+6xUZB9cUm7y5UdUYKNP2kldO6Wuz7klhK01sXfG7zZFyO4Vyo/QUlhK9zaJNNyeece5/+tWPc6Hqa6hdS2mouLWSGXZblzw7Ke2MfeOc9apeEFaxtJLGe8Z7mKRi0AYYUcD09c9DSVR86i0TKnFQund76J6er6Gk17LJb2cjyLG065dtm7+EHpTxNO8NuPlSSVypYoeAAxztJ7gDg+tTR28cawhN2IBhOfbHNOliWZRuLAq25WU4KnBH9TXRZnHzRG28jyRt5mNyOyEqMA4PXFS0yKJYYwiZxkkknJJJySafVLYh2voFFFFMQUUUUAFFFFABRRRQAUUUUAFFFFABRRRQAUUUUAFFFFABRRRQAUUUUAFFFFABRRRQAUUUUAFFFFABRRRQAUUUUAFFFFABRRRQAUUUUAFABY4AyaKVWKtkUATwupjKOQKFJZizden+NRIm/7hww9afGhSME42kcnPesKq7G0btElMI2HI6dxT6RV8w5P3B+tYxTZSFX5sY6Glc7VKpye/tTSpDHysj1xSAqzBANrnrnv/jWkYpFJDfLUsJAwC9B7/WpVwuGHCnjH92qh1Syidw97bJJnDRtMo24/GrEbLJhwwkicAhgcqfp7VYxzEFii856/wCyaVo/MG4fe/h+lIVyxVR9R049KXr9zJb3PSgBsb9hwR1X/CnE/MRJ6cKO/wDjUTeWZCiSqZlG5kDc4PfHUVMgR1DbQc+vNAA+PlI9ccU3JJ+XjHUmnTZ8vI6imK67RsBb6f41EtyWPopu0n7xx7CioEVaKZvPmKvGduSKfXYcwUUUUDCiiigAooooAKKKKACiiigAooooAKM46UUZoAt+eojBY8nsKFkDhWHY4I9KqVNb8719RUOKsaxm27Fqimqdyg06oNQpnWTPZf505jtUmmAheOre1ADgAMnGM0gLNyAMds1R1TV7fS7YT3YkKFgoRFySef8ACrcEv2m3jnjb5JFDrx2IyKV1exfJJR5raEB1K2Op/wBnG4UXJXd5YBz0z16dOazvFaakuir/AGKZvP8ANXd5ZOduD6c9cVpjTLQal9vMKm6xjzOemMdOnSrdRKMpxcW7eg5OKs6badvLcwbvTtWvNP04296ba4jVTcbmOWOBnp15zx05rO1aYeFb651FZZLie9DeVCy/KvIJzzzjtXT3t5FYWcl1Pu8uMZO0ZPXH9a57WNWS6jtHfT1n0uZcyzyocxZJU4I+6R+vapqU3Gnz/j5nRhcQpVVQlZ6Xa0Tav/n/AJHI/wBtDTreMR6lOk0sm+YRnKj2znk46j39q72ygsLgf2tp8Gw3QO9jnPXnI6DkdqydN8E6Dc2Uc0JlmiZt6yMwJbtj7o44+tberatZ6FbwRyIVSUlEWNOFA6/TqKzoRlD3p2sduOq08RanQT5tb9Plb/Mlooor0D5wKKKKACiiigAooooAKKKKACiiigAooooAKKKKACiiigAooooAKKKKACiiigAooooAKKKKACiiigAooooAKKKKACiiigAooooAKKKKACiiigAooooAKKKKAHwsRKMd+DmrR+Vufut1qlU0c+1drjI/pUSVzSEktGKGVmCA4T3/AJVZ6VAhidWH8+v/ANelSQ/cPDdATWaTSszZaokLckKMnv7VDLHjBPIPBP8AWpwAowKYyswINDA8806OFtU1rzfDDasf7Sl/f7Yzt6fL8xz7/jW9dXmprry6PoiWcESWCzgzRkhMNt2gA/QUqeGr61vrySw16a0W6nado1t0YAt6E1eh0zyNWXUZblriYWa2snyAbsNuLcdyewpaXsU2iiupa1e6ld2ul/YUFgI1neVW/eyFdxC4PAx9ajvdb1drnVDpSWawaSo85ZVbMzbNxAweABVy78PTSahNfWGpz6a10FFykaK4fHAPPQ471FqPhb7Te3LW+qXFrHfoq3kaIp83A25zj5SRxxTDQg0q+W88W3V7HhFm0uCVd54XOTyai0/xHdHXrOznurG8hvGZT9kV18ohSRyThhxWnL4Wha9EtvcyQQtafY5YFUESRgEDk8gjPWobPwnLb3WnS3Gqy3CacT5EZhVQF27cEjqff2oDQyofEmtf2XDq1xHZvZG8+zPEqsHIMmzcDnGfarV7rmqbtVutPis/sWlSGOSOZWLzEAFsEcDrVseGoB4dXSGu2VUuvP8AMKjJPmb8YzRqHhQXN3deTqc9ta37b7q2RFIkIxnDHlcjrQGhtwOlxbRTx5CyoHUZPAIzRUiIsUaxxjaiKFUegFFZmZREeJmkJzlQuPTr/jT6KK6zmCiiigYUUUUAFFFFABRRRQAUUUUAFFFHWgAooooAKlt2xJjsaiqa2GZCfQVMtio7jbbUrS4vp7OCdXmhOXQA8ev61aLAHHf0FUk060t76S5tYAtxMT5jgn5u5/WrSblH8ArFX6nZPkv7m3mO5PLcKOcUgOF6ZZjkCkZj355wAOlO+6eBuY9ad7mZw9nB4oXxI661ai8srh8bWAeNBnqMfdwPWtJIr7xHps9nqMTacI5VMTKh+Yc8EE89ueldJMSYwUPDHB49aUoGl55GOlc6orWLbaN61b2/MpxWtttLW7evU5PxlrDaLosVlaXE4u0RGDr1ZR8vJznnrx6VLpmpjxZ4UNn55gv5IMSYzlSDjd7g4GcetdM1rA8qSvBG0ifccoCV+h7VkT+F7aTX4dVgkaCRW3SKo/1hzn14z39aJU537p6W8jojUw08P7GcbNa3/T0MjwX4TvNIkvH1grIJQEWPcGVhnkn/AOv710moW9pHo9wtxCHtY4izQrwMKM4GPpV+myRrLE0cihkcFWU9we1awpqEOSOxz1a8qtX2st9NvI5TwZqlzqJuGiSOLTIyUhiUglDkHGep4PJPetHTvD0NjHOJZvtZlkDr5yfcI79+eetS6RoNloQmSwDhZmDNvbOMdB+tXmkCnHJNYUYzSSlq0TOrySmqcnyy77kFFBOSTRXoHAFFFFMAooooAKKKKACiiigAooooAKKKKACiiigAooooAKKKKACiiigAooooAKKKKACiiigAooooAKKKKACiiigAooooAKKKKACiiigAooooAKKKKACiiigAooooAAcHIq0rCdQDwR1/+tVWlVirAjqKlq5UZcrLIk8ttjnIHf0qXIxnPHrTEdZFJA57imMrJyBlc/czWeq3OhahL8y7m4/uj1pqNhckjjjG37tSon8bnJP6Ux8Bt6DkdfepbsFwLssXBVsY7dvzpqr8/wA4zxwQMkj+Y/8ArU/qd8Q47/8A1venK3ZB15yTQk7gKj54OQw9R196Ut821cbuv0pBGOSwBJOc4pwAXoMVQEMiFW8zr/eGO1OKALuTkcED0qQ42nd075qCPAk2NyvbNIY4ydNvOe54FFDja2Au4HnGOlFRYmxVooorqOYKKKKACiiigAooooAKKKKACjBxntRWHrEt9Frtg9gzMIreaWSAHiZQyAj64Jx70m7FRjzOxuYJ6A08QyN/Dj61gS6lFI2pXKs89r9jgkRFlKZyz9COh6flWrJrTDV5LGGGFjEyq3m3ARm3AHKrjkDP86nmNFTLj27g/L8wqIgr1BH1qmurLbrKltbNJPLqD26I0xwzBdxbJHyjAPAqC1vrkQ6nLNAokS82mOWcKqDYn8Z7d+B3pKQOn2NLPNO3kZ2/KD2FU9Pv11CKVgqo0MpjcJIHUnAOQw6jBFW6vczd4uxYglLfIcDjg049eaqglehwalWZi67j8o4OO9ZTp8xSlpZkuCWUgZAPNPHyqzNx3JJ6CmefGOVySR0xTDtvIJbeYfLIhVsccEYNKMXFGkZRvYctxatbtcxyxNEoLGRCCBjryKjtb+21CAXFjKJU3FeARk+nNR6fo9rpunvZQhnhkJLiQ5LZGD+lUPDV1bXFtcw2Ng9ksEnRmJ3E+578dO3FRzO6T6nX7ODhKULuzXbY3qK5XXIL2bxZpdxbRSm3TbvcZ2j5iT9OPz6V0a3Awu7vnJ9KqLcm1bYzqwjTjF817r7ieo/NXy92ccdO9QSzliQhwtRVqo9zlc+w9pSRgcfSmUUVSSWxle4UUUUwCiiigAooooAKKKKACiiigAooooAKKKKACiiigAooooAKKKKACiiigAooooAKKKKACiiigAooooAKKKKACiiigAooooAKKKKACiiigAooooAKKKKACiiigAooooAKKKKAHI5jcMKtod/z9u2e1UqkhkC5Vs4JqJLTQuEraExODjt2pBljhfxPpT/Lz1pV+XCHj09651G7uzawzb5JyMlf4v8AGnKnBYEgtycGnPyAv944pgPlOFJ+U9PatSh2WXqNw9RS7x2yT6Y5pGLZ2p17k9qXhFJP4mgQYLHLfgKbKm9ePvDoacjq/wB0/hTqAI4m3AsfvdD7UVEcxcp9CKKB2IKKKK2OQKKKKACiiigAooooAKKKKACoGtVbU4b3eQ0MLxBMcHcVOc/8B/Wp6KQ02jJPh+Af2mIZmjXUFUFNmREQSTjnoSScVavdIm1WVxJcqLZyCVa3BdfZXzx9cHFXKUMy/dYj6GlyotVHfUqT6JtiaSK68udbxruKTy87WI27SM8jBPcVVOju1vIJLzzJ2uvtXmPACu7aFwVzyPx9K1Wdn+8c0lJRQOo+hU0+xNitxvmErzy+axWMIAdoXAAJ44q3RRVbENtu7CiiimIOx45qSFxHJlumMVHRSBOxFYa39u1i7sBbPH9nz+9J4bnH4Z6j2rQadF3dyOMVAJ2EezAxjFR1nGDW7OipVi37isOkkMjZPTsKbRRWhz7hRRRTAKKKKACiiigAooooAKKKKACiiigAooooAKKKKACiiigAooooAKKKKACiiigAooooAKKKKACiiigAooooAKKKKACiiigAooooAKKKKACiiigAooooAKKKKACiiigAooooAKKKKACiiigAooooAs28u4bD1HT6VI3zfKOvc+lVI22SBvSrXnRgZ3Dms5LU2hLTUMnzFVvQ4PrRJHvB5P0ppkjZuuQRj6U8Nt4Y8dm9ak0v2GRNhsNyT90k9RTivmZySADxjvUbYK5HqeB2560JKehKrj1Gc0DBkZW37sv2AHUVIZeAf0qIvlj+8AB6kDmiPl9o7cg9qm1lZCsPxkk5G7uu3OKKXDR/dyR9M0VQypRRRWxyBRRRQAUUUUAFFFFABRRRQAUUUUAFFFFABRRRQAUUUUAFFFFABRRRQAUUUUAFFFFABRRRQAUUUUAFFFFABRRRQAUUUUAFFFFABRRRQAUUUUAFFFFABRRRQAUUUUAFFFFABRRRQAUUUUAFFFFABRRRQAUUUUAFFFFABRRRQAUUUUAFFFFABRRRQAUUUUAFFFFABRRRQAUUUUAFFFFABVa/1C00y2FxfzeVEX2AhGbnGewPpVmnISGAB4JpMatfUyrDxHpGqXIt7C886VgSF8px068kYrTrmPD14+n+A7y7iG54HupFU9yGJFLa3Wo2N7o5uNRkvE1SJzIjooEbCPeCmOg7VKkaumm9DpqlVd8eTwAeo6j3rkNMfU38IvrNxq9xJN9imcRbVCggHaemcjGadJd6ppXhH+1zqU9zcXFvCAjouyNnKjcB7A96Td0OMOV7nYEFeXBwoGR13Uk8sa27SyfIsalmOCdoHNc/oFzqaay8M4vpbFrfcJb2NVZJMjgEdiP5VV1SW/1LUdehh1GS1t9Otl8uJFGJC0ZYls9u1Qa2OmgvYb2zintnDxTIHVwMblPTA6802a8t7S5toJJgst0zCFNpOSBk8j2rjYNQuhpvh/TLY3aRyacJ5Gs0VpGwAABnoPWpoZ7+fVPDp1VJFmS8uUDSoFaRRH8rEDjOP5UDsdm00Z/1rBEBxndjJori/ikZovD9qLcsM3QLbT0+RqKLgo3R1lFFFbnEFFFFABRRRQAUUUUAFFFFABRRRQAUUUUAFFFFABRRRQAUUUUAFFFFABRRRQAUUUUAFFFFABRRRQAUUUUAFFFFABRRRQAUUUUAFFFFABRRRQAUUUUAFFFFABRRRQAUUUUAFFFFABRRRQAUUUUAFFFFABRRRQAUUUUAFFFFABRRRQAUUUUAFFFFABRRRQAUUUUAFFFFABRRRQAUUUUAFAOCD6UUUAVrPTrWxsWs7eP9wxcsjndu3fe/nVWw8Pabp1ys9vFIXRDHH5kzOIlPUKD0rTopWRXNLuVYtNtYNI/syNGFr5TRbS3O1s55/GntYW0ulnT5IQ9oIREY2OcqMAc1PSqecHgHg0WQczKel6Ra6dcM8BuJHZdhM07SEKOdoz2qLUPDmn6ncvdXEcqzPGIpRHMyCVewYDrWh0p6uNxLjJPr3qXHsaQqdzPm8PabNY2VuFmQ2gCQSRSFXQYxjd+Hf0p0/hrT5LC3tjFLi3k8yKQzt5gY9TuznnNaDMVkUbcjOcDnPoalbONx+fPTB6VBsRTQxXUflzxJNhskSAEA0U4Blzuw47+xooAgooorY4wooooAKKKKACiiigAooooAKKKKACiiigAooooAKKKKACiiigAooooAKKKKACiiigAooooAKKKKACiiigAooooAKKKKACiiigAooooAKKKKACiiigAooooAKKKKACiiigAp4icgELwfemVcT/Vr9BSbKirlbyZP7v60eTJ/d/WrVFK5XKir5Mn939aPJk/u/rVqii4cqKvkyf3f1o8mT+7+tWqKLhyoq+TJ/d/WjyZP7v61aoouHKir5Mn939aPJk/u/rVqii4cqKvkyf3f1o8mT+7+tWqKLhyoq+TJ/d/WjyZP7v61aoouHKir5Mn939aPJk/u/rVqii4cqKvkyf3f1o8mT+7+tWqKLhyoq+TJ/d/WjyZP7v61aoouHKir5Mn939aPJk/u/rVqii4cqKvkyf3f1o8mT+7+tWqKLhyoq+TJ/d/WjyZP7v61aoouHKir5Mn939aPJk/u/rVqii4cqKvkyf3f1o8mT+7+tWqKLhyoq+TJ/d/WjyZP7v61aoouHKir5Mn939aPJk/u/rVqii4cqKvkyf3f1o8mT+7+tWqKLhyogjWRGGVyB0GelTFNxHXbnPXoaWnL91vpUsuOmgFCVABK49KKfRUln//Z)\n",
        "\n"
      ],
      "metadata": {
        "id": "f9-NzXeC7ptd"
      }
    },
    {
      "cell_type": "markdown",
      "source": [
        "Através desta ilustração fica simples de visualizarmos as regiões litorâneas. Compare com o gráfico hexabinário gerado pelas variáveis `longitude` e `latitudade` de todas hospedagens de nosso DataFrame:"
      ],
      "metadata": {
        "id": "nEt5fpIw-EMN"
      }
    },
    {
      "cell_type": "code",
      "source": [
        "df_clean.plot.hexbin(x = 'longitude', y='latitude', C='price', extent=(14.12,14.36,40.79,40.9), figsize=(10,5));"
      ],
      "metadata": {
        "colab": {
          "base_uri": "https://localhost:8080/",
          "height": 303
        },
        "id": "RIl-eo5f-cQ8",
        "outputId": "a0341edf-9f10-4187-8f12-977a7020ed4c"
      },
      "execution_count": 104,
      "outputs": [
        {
          "output_type": "display_data",
          "data": {
            "image/png": "[encoded data removed]",
            "text/plain": [
              "<Figure size 720x360 with 2 Axes>"
            ]
          },
          "metadata": {}
        }
      ]
    },
    {
      "cell_type": "markdown",
      "source": [
        "Vamos gerar mais dois gráficos hexabinários, desta vez segregando e ilustrando as hospedagens dos bairros de maior e menor preço médio de aluguel."
      ],
      "metadata": {
        "id": "vaKAii-a_sno"
      }
    },
    {
      "cell_type": "code",
      "source": [
        "# gráfico hexabinário das hospedagens dos bairros mais \"caros\"\n",
        "df_clean[(df_clean.neighbourhood == 'Poggioreale') | (df_clean.neighbourhood == 'Posillipo') | (df_clean.neighbourhood == 'San Ferdinando') | (df_clean.neighbourhood == 'San Giuseppe') | (df_clean.neighbourhood == 'Vomero')].plot.hexbin(x = 'longitude', y='latitude', C='price', extent=(14.12,14.36,40.79,40.9), figsize=(10,5));"
      ],
      "metadata": {
        "colab": {
          "base_uri": "https://localhost:8080/",
          "height": 303
        },
        "id": "uxls4pixAF19",
        "outputId": "e4f27f0f-cff3-4786-ebe9-2144d5e748b8"
      },
      "execution_count": 105,
      "outputs": [
        {
          "output_type": "display_data",
          "data": {
            "image/png": "[encoded data removed]",
            "text/plain": [
              "<Figure size 720x360 with 2 Axes>"
            ]
          },
          "metadata": {}
        }
      ]
    },
    {
      "cell_type": "code",
      "source": [
        "# gráfico hexabinário das hospedagens dos bairros mais \"baratos\"\n",
        "df_clean[(df_clean.neighbourhood == 'Bagnoli') | (df_clean.neighbourhood == 'Piscinola') | (df_clean.neighbourhood == 'Chiaiano') | (df_clean.neighbourhood == 'San Pietro a Patierno') | (df_clean.neighbourhood == 'Pianura')].plot.hexbin(x = 'longitude', y='latitude', C='price', extent=(14.12,14.36,40.79,40.9), figsize=(10,5));"
      ],
      "metadata": {
        "colab": {
          "base_uri": "https://localhost:8080/",
          "height": 313
        },
        "id": "kUdy-f7mK4vq",
        "outputId": "46aa813f-aba3-42f5-c0b3-e5b05a0b0f2c"
      },
      "execution_count": 106,
      "outputs": [
        {
          "output_type": "display_data",
          "data": {
            "image/png": "[encoded data removed]",
            "text/plain": [
              "<Figure size 720x360 with 2 Axes>"
            ]
          },
          "metadata": {}
        }
      ]
    },
    {
      "cell_type": "markdown",
      "source": [
        "Note que os três gráficos possuem a mesma escala e tamanho. Comparando os gráficos e a ilustração retirada do *Inside Airbnb*, é possível verificar que os bairros de maior preço médio de aluguel estão situados em uma região litorânea.\n",
        "\n",
        "Esse é um fator de extrema relevância e justifica a diferença no preço médio, tendo em vista que a região de Nápoles possui diversos pontos turísticos próximos ao litoral. O porto da cidade é um dos maiores da Itália e possui uma série de monumentos históricos que atraem diversos turistas.\n",
        "\n",
        "<br>\n",
        "<center><img alt=\"Porto de Nápoles\" width=\"60%\" src=\"https://www.planetware.com/photos-large/I/naples-and-its-harbor.jpg\"></center>\n",
        "<center>Região portuária de Nápoles</center>\n",
        "<br>"
      ],
      "metadata": {
        "id": "L6VcxaAsLN9B"
      }
    },
    {
      "cell_type": "markdown",
      "source": [
        "Para prosseguirmos com nossa análise, vamos criar um novo DataFrame com dados de alguns dos principais pontos turísticos da cidade. Assim conseguiremos visualizar a distribuição geográfica dos mesmos em relação às hospedagens."
      ],
      "metadata": {
        "id": "AOkP72uxOack"
      }
    },
    {
      "cell_type": "code",
      "source": [
        "pontos_turisticos = [\n",
        "    {'Nome': 'Palazzo Reale', 'latitude': 40.83709564833978, 'longitude': 14.250533867622323},\n",
        "    {'Nome': 'Castel Nuovo', 'latitude': 40.838694250146304, 'longitude': 14.253949514708827},\n",
        "    {'Nome': 'Piazza del Plebiscito', 'latitude': 40.836761746493686, 'longitude': 14.250884775196896},\n",
        "    {'Nome': \"Castel Sant'Elmo\", 'latitude': 40.8452139596658, 'longitude': 14.240397512855619},\n",
        "    {'Nome': 'Galleria Borbonica', 'latitude': 40.83404114972354, 'longitude': 14.245689529811578},\n",
        "    {'Nome': 'Napoli Sotterranea Percorso Ufficiale', 'latitude': 40.852628096753605, 'longitude': 14.261382761676549},\n",
        "    {'Nome': 'Duca di Martina National Ceramic Museum at Villa Floridiana', 'latitude': 40.840428498176905, 'longitude': 14.234129947560671},\n",
        "    {'Nome': \"Castel dell'Ovo\", 'latitude': 40.82946238581796, 'longitude': 14.25056329240208}\n",
        "]\n",
        "\n",
        "df_pontos_turisticos = pd.DataFrame(pontos_turisticos)\n",
        "df_pontos_turisticos.head()"
      ],
      "metadata": {
        "colab": {
          "base_uri": "https://localhost:8080/",
          "height": 206
        },
        "id": "58E6ZWhbPvHq",
        "outputId": "22dc7e50-72d0-46ce-cb13-15683dd959a2"
      },
      "execution_count": 107,
      "outputs": [
        {
          "output_type": "execute_result",
          "data": {
            "text/html": [
              "\n",
              "  <div id=\"df-d0bb9538-eb9d-4676-85aa-1d5fef884d67\">\n",
              "    <div class=\"colab-df-container\">\n",
              "      <div>\n",
              "<style scoped>\n",
              "    .dataframe tbody tr th:only-of-type {\n",
              "        vertical-align: middle;\n",
              "    }\n",
              "\n",
              "    .dataframe tbody tr th {\n",
              "        vertical-align: top;\n",
              "    }\n",
              "\n",
              "    .dataframe thead th {\n",
              "        text-align: right;\n",
              "    }\n",
              "</style>\n",
              "<table border=\"1\" class=\"dataframe\">\n",
              "  <thead>\n",
              "    <tr style=\"text-align: right;\">\n",
              "      <th></th>\n",
              "      <th>Nome</th>\n",
              "      <th>latitude</th>\n",
              "      <th>longitude</th>\n",
              "    </tr>\n",
              "  </thead>\n",
              "  <tbody>\n",
              "    <tr>\n",
              "      <th>0</th>\n",
              "      <td>Palazzo Reale</td>\n",
              "      <td>40.837096</td>\n",
              "      <td>14.250534</td>\n",
              "    </tr>\n",
              "    <tr>\n",
              "      <th>1</th>\n",
              "      <td>Castel Nuovo</td>\n",
              "      <td>40.838694</td>\n",
              "      <td>14.253950</td>\n",
              "    </tr>\n",
              "    <tr>\n",
              "      <th>2</th>\n",
              "      <td>Piazza del Plebiscito</td>\n",
              "      <td>40.836762</td>\n",
              "      <td>14.250885</td>\n",
              "    </tr>\n",
              "    <tr>\n",
              "      <th>3</th>\n",
              "      <td>Castel Sant'Elmo</td>\n",
              "      <td>40.845214</td>\n",
              "      <td>14.240398</td>\n",
              "    </tr>\n",
              "    <tr>\n",
              "      <th>4</th>\n",
              "      <td>Galleria Borbonica</td>\n",
              "      <td>40.834041</td>\n",
              "      <td>14.245690</td>\n",
              "    </tr>\n",
              "  </tbody>\n",
              "</table>\n",
              "</div>\n",
              "      <button class=\"colab-df-convert\" onclick=\"convertToInteractive('df-d0bb9538-eb9d-4676-85aa-1d5fef884d67')\"\n",
              "              title=\"Convert this dataframe to an interactive table.\"\n",
              "              style=\"display:none;\">\n",
              "        \n",
              "  <svg xmlns=\"http://www.w3.org/2000/svg\" height=\"24px\"viewBox=\"0 0 24 24\"\n",
              "       width=\"24px\">\n",
              "    <path d=\"M0 0h24v24H0V0z\" fill=\"none\"/>\n",
              "    <path d=\"M18.56 5.44l.94 2.06.94-2.06 2.06-.94-2.06-.94-.94-2.06-.94 2.06-2.06.94zm-11 1L8.5 8.5l.94-2.06 2.06-.94-2.06-.94L8.5 2.5l-.94 2.06-2.06.94zm10 10l.94 2.06.94-2.06 2.06-.94-2.06-.94-.94-2.06-.94 2.06-2.06.94z\"/><path d=\"M17.41 7.96l-1.37-1.37c-.4-.4-.92-.59-1.43-.59-.52 0-1.04.2-1.43.59L10.3 9.45l-7.72 7.72c-.78.78-.78 2.05 0 2.83L4 21.41c.39.39.9.59 1.41.59.51 0 1.02-.2 1.41-.59l7.78-7.78 2.81-2.81c.8-.78.8-2.07 0-2.86zM5.41 20L4 18.59l7.72-7.72 1.47 1.35L5.41 20z\"/>\n",
              "  </svg>\n",
              "      </button>\n",
              "      \n",
              "  <style>\n",
              "    .colab-df-container {\n",
              "      display:flex;\n",
              "      flex-wrap:wrap;\n",
              "      gap: 12px;\n",
              "    }\n",
              "\n",
              "    .colab-df-convert {\n",
              "      background-color: #E8F0FE;\n",
              "      border: none;\n",
              "      border-radius: 50%;\n",
              "      cursor: pointer;\n",
              "      display: none;\n",
              "      fill: #1967D2;\n",
              "      height: 32px;\n",
              "      padding: 0 0 0 0;\n",
              "      width: 32px;\n",
              "    }\n",
              "\n",
              "    .colab-df-convert:hover {\n",
              "      background-color: #E2EBFA;\n",
              "      box-shadow: 0px 1px 2px rgba(60, 64, 67, 0.3), 0px 1px 3px 1px rgba(60, 64, 67, 0.15);\n",
              "      fill: #174EA6;\n",
              "    }\n",
              "\n",
              "    [theme=dark] .colab-df-convert {\n",
              "      background-color: #3B4455;\n",
              "      fill: #D2E3FC;\n",
              "    }\n",
              "\n",
              "    [theme=dark] .colab-df-convert:hover {\n",
              "      background-color: #434B5C;\n",
              "      box-shadow: 0px 1px 3px 1px rgba(0, 0, 0, 0.15);\n",
              "      filter: drop-shadow(0px 1px 2px rgba(0, 0, 0, 0.3));\n",
              "      fill: #FFFFFF;\n",
              "    }\n",
              "  </style>\n",
              "\n",
              "      <script>\n",
              "        const buttonEl =\n",
              "          document.querySelector('#df-d0bb9538-eb9d-4676-85aa-1d5fef884d67 button.colab-df-convert');\n",
              "        buttonEl.style.display =\n",
              "          google.colab.kernel.accessAllowed ? 'block' : 'none';\n",
              "\n",
              "        async function convertToInteractive(key) {\n",
              "          const element = document.querySelector('#df-d0bb9538-eb9d-4676-85aa-1d5fef884d67');\n",
              "          const dataTable =\n",
              "            await google.colab.kernel.invokeFunction('convertToInteractive',\n",
              "                                                     [key], {});\n",
              "          if (!dataTable) return;\n",
              "\n",
              "          const docLinkHtml = 'Like what you see? Visit the ' +\n",
              "            '<a target=\"_blank\" href=https://colab.research.google.com/notebooks/data_table.ipynb>data table notebook</a>'\n",
              "            + ' to learn more about interactive tables.';\n",
              "          element.innerHTML = '';\n",
              "          dataTable['output_type'] = 'display_data';\n",
              "          await google.colab.output.renderOutput(dataTable, element);\n",
              "          const docLink = document.createElement('div');\n",
              "          docLink.innerHTML = docLinkHtml;\n",
              "          element.appendChild(docLink);\n",
              "        }\n",
              "      </script>\n",
              "    </div>\n",
              "  </div>\n",
              "  "
            ],
            "text/plain": [
              "                    Nome   latitude  longitude\n",
              "0          Palazzo Reale  40.837096  14.250534\n",
              "1           Castel Nuovo  40.838694  14.253950\n",
              "2  Piazza del Plebiscito  40.836762  14.250885\n",
              "3       Castel Sant'Elmo  40.845214  14.240398\n",
              "4     Galleria Borbonica  40.834041  14.245690"
            ]
          },
          "metadata": {},
          "execution_count": 107
        }
      ]
    },
    {
      "cell_type": "code",
      "source": [
        "# gráfico hexabinário das hospedagens dos bairros mais \"caros\"\n",
        "df_pontos_turisticos.plot.hexbin(x = 'longitude', y='latitude', C=1, extent=(14.12,14.36,40.79,40.9), figsize=(10,5));"
      ],
      "metadata": {
        "colab": {
          "base_uri": "https://localhost:8080/",
          "height": 303
        },
        "id": "Kp5XofR5SlLa",
        "outputId": "dafff55e-2bf9-434c-9303-4f42a801ab32"
      },
      "execution_count": 108,
      "outputs": [
        {
          "output_type": "display_data",
          "data": {
            "image/png": "[encoded data removed]",
            "text/plain": [
              "<Figure size 720x360 with 2 Axes>"
            ]
          },
          "metadata": {}
        }
      ]
    },
    {
      "cell_type": "code",
      "source": [
        "# relembrando o gráfico hexabinário das hospedagens dos bairros mais \"caros\"\n",
        "df_clean[(df_clean.neighbourhood == 'Poggioreale') | (df_clean.neighbourhood == 'Posillipo') | (df_clean.neighbourhood == 'San Ferdinando') | (df_clean.neighbourhood == 'San Giuseppe') | (df_clean.neighbourhood == 'Vomero')].plot.hexbin(x = 'longitude', y='latitude', C='price', extent=(14.12,14.36,40.79,40.9), figsize=(10,5));"
      ],
      "metadata": {
        "colab": {
          "base_uri": "https://localhost:8080/",
          "height": 303
        },
        "id": "Q3Fwy6lHS_gs",
        "outputId": "b64c7ce3-9136-47cc-a704-66d86cf7d13e"
      },
      "execution_count": 109,
      "outputs": [
        {
          "output_type": "display_data",
          "data": {
            "image/png": "[encoded data removed]",
            "text/plain": [
              "<Figure size 720x360 with 2 Axes>"
            ]
          },
          "metadata": {}
        }
      ]
    },
    {
      "cell_type": "markdown",
      "source": [
        "Comparando o gráfico hexabinário dos seletos pontos turísticos com o gráfico dos bairros com maior preço médio de aluguel, podemos verificar que os pontos turísticos estão situados na região de maior concentração das hospedagens destes bairros. Pode-se estipular um centro geométrico para facilitar a visualização.\n",
        "\n"
      ],
      "metadata": {
        "id": "ezh6sMq_TdjL"
      }
    },
    {
      "cell_type": "markdown",
      "source": [
        "#### Preço Máximo e Mínimo x Bairro"
      ],
      "metadata": {
        "id": "HJiSG4v1a3VR"
      }
    },
    {
      "cell_type": "markdown",
      "source": [
        "Para concluirmos a análise do preço relacionado à localização geográfica da hospedagem, vamos avaliar as opções de maior e menor preço para cada bairro, tendo em vista que até o momento trabalhamos apenas com o preço médio. Essa análise possibilitará visualizarmos o *delta* do preço naquela região, aumentando a visão geral das opções de hospedagem."
      ],
      "metadata": {
        "id": "opOoU74FV1AW"
      }
    },
    {
      "cell_type": "code",
      "source": [
        "# ver preços mínimos por bairro\n",
        "df_clean.groupby(['neighbourhood']).price.min().sort_values(ascending = False)"
      ],
      "metadata": {
        "colab": {
          "base_uri": "https://localhost:8080/"
        },
        "id": "SXypC6_oaX1l",
        "outputId": "624c1684-be31-4404-df9e-e04e9c72c685"
      },
      "execution_count": 110,
      "outputs": [
        {
          "output_type": "execute_result",
          "data": {
            "text/plain": [
              "neighbourhood\n",
              "Miano                      50\n",
              "Ponticelli                 35\n",
              "San Pietro a Patierno      32\n",
              "Soccavo                    30\n",
              "Pianura                    30\n",
              "Vomero                     29\n",
              "Bagnoli                    26\n",
              "Secondigliano              25\n",
              "Piscinola                  25\n",
              "Barra                      20\n",
              "Chiaia                     20\n",
              "Chiaiano                   20\n",
              "Poggioreale                20\n",
              "San Giuseppe               20\n",
              "San Giovanni a Teduccio    18\n",
              "Arenella                   18\n",
              "Fuorigrotta                18\n",
              "Zona Industriale           17\n",
              "San Ferdinando             16\n",
              "Porto                      15\n",
              "San Lorenzo                15\n",
              "Pendino                    15\n",
              "Montecalvario              15\n",
              "Mercato                    15\n",
              "Avvocata                   14\n",
              "Stella                     14\n",
              "Vicaria                    13\n",
              "Posillipo                  10\n",
              "San Carlo all'Arena        10\n",
              "Name: price, dtype: int64"
            ]
          },
          "metadata": {},
          "execution_count": 110
        }
      ]
    },
    {
      "cell_type": "markdown",
      "source": [
        "Vamos ver quais são as entradas que configuram as hospedagens de preço mais baixo:"
      ],
      "metadata": {
        "id": "QyLTQB5-je5r"
      }
    },
    {
      "cell_type": "code",
      "source": [
        "df_clean.loc[df_clean.price == 10]"
      ],
      "metadata": {
        "colab": {
          "base_uri": "https://localhost:8080/",
          "height": 263
        },
        "id": "Jghf7xDyjeZ1",
        "outputId": "b7f7a354-925a-4a11-990c-54477cea6fc3"
      },
      "execution_count": 119,
      "outputs": [
        {
          "output_type": "execute_result",
          "data": {
            "text/html": [
              "\n",
              "  <div id=\"df-96104373-20db-4063-9832-6b54b3661250\">\n",
              "    <div class=\"colab-df-container\">\n",
              "      <div>\n",
              "<style scoped>\n",
              "    .dataframe tbody tr th:only-of-type {\n",
              "        vertical-align: middle;\n",
              "    }\n",
              "\n",
              "    .dataframe tbody tr th {\n",
              "        vertical-align: top;\n",
              "    }\n",
              "\n",
              "    .dataframe thead th {\n",
              "        text-align: right;\n",
              "    }\n",
              "</style>\n",
              "<table border=\"1\" class=\"dataframe\">\n",
              "  <thead>\n",
              "    <tr style=\"text-align: right;\">\n",
              "      <th></th>\n",
              "      <th>id</th>\n",
              "      <th>name</th>\n",
              "      <th>host_id</th>\n",
              "      <th>host_name</th>\n",
              "      <th>neighbourhood</th>\n",
              "      <th>latitude</th>\n",
              "      <th>longitude</th>\n",
              "      <th>room_type</th>\n",
              "      <th>price</th>\n",
              "      <th>minimum_nights</th>\n",
              "      <th>number_of_reviews</th>\n",
              "      <th>reviews_per_month</th>\n",
              "      <th>calculated_host_listings_count</th>\n",
              "      <th>availability_365</th>\n",
              "      <th>number_of_reviews_ltm</th>\n",
              "    </tr>\n",
              "  </thead>\n",
              "  <tbody>\n",
              "    <tr>\n",
              "      <th>1105</th>\n",
              "      <td>14728176</td>\n",
              "      <td>Vista sulle Stelle del Cammino.</td>\n",
              "      <td>847572</td>\n",
              "      <td>Alfredo</td>\n",
              "      <td>Posillipo</td>\n",
              "      <td>40.803944</td>\n",
              "      <td>14.198655</td>\n",
              "      <td>Shared room</td>\n",
              "      <td>10</td>\n",
              "      <td>1</td>\n",
              "      <td>0</td>\n",
              "      <td>0.00</td>\n",
              "      <td>1</td>\n",
              "      <td>73</td>\n",
              "      <td>0</td>\n",
              "    </tr>\n",
              "    <tr>\n",
              "      <th>5963</th>\n",
              "      <td>47212315</td>\n",
              "      <td>Los Mochileros Hostel 8 Bed Dorm</td>\n",
              "      <td>357948143</td>\n",
              "      <td>Alessandro</td>\n",
              "      <td>San Carlo all'Arena</td>\n",
              "      <td>40.869150</td>\n",
              "      <td>14.270600</td>\n",
              "      <td>Shared room</td>\n",
              "      <td>10</td>\n",
              "      <td>1</td>\n",
              "      <td>77</td>\n",
              "      <td>7.48</td>\n",
              "      <td>5</td>\n",
              "      <td>0</td>\n",
              "      <td>77</td>\n",
              "    </tr>\n",
              "  </tbody>\n",
              "</table>\n",
              "</div>\n",
              "      <button class=\"colab-df-convert\" onclick=\"convertToInteractive('df-96104373-20db-4063-9832-6b54b3661250')\"\n",
              "              title=\"Convert this dataframe to an interactive table.\"\n",
              "              style=\"display:none;\">\n",
              "        \n",
              "  <svg xmlns=\"http://www.w3.org/2000/svg\" height=\"24px\"viewBox=\"0 0 24 24\"\n",
              "       width=\"24px\">\n",
              "    <path d=\"M0 0h24v24H0V0z\" fill=\"none\"/>\n",
              "    <path d=\"M18.56 5.44l.94 2.06.94-2.06 2.06-.94-2.06-.94-.94-2.06-.94 2.06-2.06.94zm-11 1L8.5 8.5l.94-2.06 2.06-.94-2.06-.94L8.5 2.5l-.94 2.06-2.06.94zm10 10l.94 2.06.94-2.06 2.06-.94-2.06-.94-.94-2.06-.94 2.06-2.06.94z\"/><path d=\"M17.41 7.96l-1.37-1.37c-.4-.4-.92-.59-1.43-.59-.52 0-1.04.2-1.43.59L10.3 9.45l-7.72 7.72c-.78.78-.78 2.05 0 2.83L4 21.41c.39.39.9.59 1.41.59.51 0 1.02-.2 1.41-.59l7.78-7.78 2.81-2.81c.8-.78.8-2.07 0-2.86zM5.41 20L4 18.59l7.72-7.72 1.47 1.35L5.41 20z\"/>\n",
              "  </svg>\n",
              "      </button>\n",
              "      \n",
              "  <style>\n",
              "    .colab-df-container {\n",
              "      display:flex;\n",
              "      flex-wrap:wrap;\n",
              "      gap: 12px;\n",
              "    }\n",
              "\n",
              "    .colab-df-convert {\n",
              "      background-color: #E8F0FE;\n",
              "      border: none;\n",
              "      border-radius: 50%;\n",
              "      cursor: pointer;\n",
              "      display: none;\n",
              "      fill: #1967D2;\n",
              "      height: 32px;\n",
              "      padding: 0 0 0 0;\n",
              "      width: 32px;\n",
              "    }\n",
              "\n",
              "    .colab-df-convert:hover {\n",
              "      background-color: #E2EBFA;\n",
              "      box-shadow: 0px 1px 2px rgba(60, 64, 67, 0.3), 0px 1px 3px 1px rgba(60, 64, 67, 0.15);\n",
              "      fill: #174EA6;\n",
              "    }\n",
              "\n",
              "    [theme=dark] .colab-df-convert {\n",
              "      background-color: #3B4455;\n",
              "      fill: #D2E3FC;\n",
              "    }\n",
              "\n",
              "    [theme=dark] .colab-df-convert:hover {\n",
              "      background-color: #434B5C;\n",
              "      box-shadow: 0px 1px 3px 1px rgba(0, 0, 0, 0.15);\n",
              "      filter: drop-shadow(0px 1px 2px rgba(0, 0, 0, 0.3));\n",
              "      fill: #FFFFFF;\n",
              "    }\n",
              "  </style>\n",
              "\n",
              "      <script>\n",
              "        const buttonEl =\n",
              "          document.querySelector('#df-96104373-20db-4063-9832-6b54b3661250 button.colab-df-convert');\n",
              "        buttonEl.style.display =\n",
              "          google.colab.kernel.accessAllowed ? 'block' : 'none';\n",
              "\n",
              "        async function convertToInteractive(key) {\n",
              "          const element = document.querySelector('#df-96104373-20db-4063-9832-6b54b3661250');\n",
              "          const dataTable =\n",
              "            await google.colab.kernel.invokeFunction('convertToInteractive',\n",
              "                                                     [key], {});\n",
              "          if (!dataTable) return;\n",
              "\n",
              "          const docLinkHtml = 'Like what you see? Visit the ' +\n",
              "            '<a target=\"_blank\" href=https://colab.research.google.com/notebooks/data_table.ipynb>data table notebook</a>'\n",
              "            + ' to learn more about interactive tables.';\n",
              "          element.innerHTML = '';\n",
              "          dataTable['output_type'] = 'display_data';\n",
              "          await google.colab.output.renderOutput(dataTable, element);\n",
              "          const docLink = document.createElement('div');\n",
              "          docLink.innerHTML = docLinkHtml;\n",
              "          element.appendChild(docLink);\n",
              "        }\n",
              "      </script>\n",
              "    </div>\n",
              "  </div>\n",
              "  "
            ],
            "text/plain": [
              "            id                              name    host_id   host_name  \\\n",
              "1105  14728176   Vista sulle Stelle del Cammino.     847572     Alfredo   \n",
              "5963  47212315  Los Mochileros Hostel 8 Bed Dorm  357948143  Alessandro   \n",
              "\n",
              "            neighbourhood   latitude  longitude    room_type  price  \\\n",
              "1105            Posillipo  40.803944  14.198655  Shared room     10   \n",
              "5963  San Carlo all'Arena  40.869150  14.270600  Shared room     10   \n",
              "\n",
              "      minimum_nights  number_of_reviews  reviews_per_month  \\\n",
              "1105               1                  0               0.00   \n",
              "5963               1                 77               7.48   \n",
              "\n",
              "      calculated_host_listings_count  availability_365  number_of_reviews_ltm  \n",
              "1105                               1                73                      0  \n",
              "5963                               5                 0                     77  "
            ]
          },
          "metadata": {},
          "execution_count": 119
        }
      ]
    },
    {
      "cell_type": "code",
      "source": [
        "# ver preços máximos por bairro\n",
        "df_clean.groupby(['neighbourhood']).price.max().sort_values(ascending = False)"
      ],
      "metadata": {
        "colab": {
          "base_uri": "https://localhost:8080/"
        },
        "id": "KVe3ixlOamL8",
        "outputId": "4e353ae0-e724-40a9-c581-454c49090c03"
      },
      "execution_count": 111,
      "outputs": [
        {
          "output_type": "execute_result",
          "data": {
            "text/plain": [
              "neighbourhood\n",
              "Arenella                   154\n",
              "Vomero                     154\n",
              "San Lorenzo                154\n",
              "San Giuseppe               153\n",
              "San Ferdinando             153\n",
              "Montecalvario              153\n",
              "Pendino                    151\n",
              "Avvocata                   150\n",
              "Vicaria                    150\n",
              "Stella                     150\n",
              "San Carlo all'Arena        150\n",
              "Posillipo                  150\n",
              "Porto                      150\n",
              "Zona Industriale           150\n",
              "Mercato                    150\n",
              "Fuorigrotta                150\n",
              "Chiaia                     150\n",
              "Poggioreale                140\n",
              "Secondigliano              140\n",
              "San Giovanni a Teduccio    129\n",
              "Bagnoli                    109\n",
              "Piscinola                  100\n",
              "San Pietro a Patierno      100\n",
              "Ponticelli                 100\n",
              "Chiaiano                    90\n",
              "Soccavo                     85\n",
              "Pianura                     80\n",
              "Barra                       71\n",
              "Miano                       60\n",
              "Name: price, dtype: int64"
            ]
          },
          "metadata": {},
          "execution_count": 111
        }
      ]
    },
    {
      "cell_type": "markdown",
      "source": [
        "Vamos ver quais são as entradas que configuram as hospedagens de preço mais elevado:"
      ],
      "metadata": {
        "id": "hHisljs1jVq1"
      }
    },
    {
      "cell_type": "code",
      "source": [
        "df_clean.loc[df_clean.price == 154]"
      ],
      "metadata": {
        "colab": {
          "base_uri": "https://localhost:8080/",
          "height": 294
        },
        "id": "p0BroPqojj5E",
        "outputId": "91047938-f55d-4cd9-8268-4bcc8a1bc35b"
      },
      "execution_count": 120,
      "outputs": [
        {
          "output_type": "execute_result",
          "data": {
            "text/html": [
              "\n",
              "  <div id=\"df-ff0deed9-9dae-420b-8223-b6b8c513ed68\">\n",
              "    <div class=\"colab-df-container\">\n",
              "      <div>\n",
              "<style scoped>\n",
              "    .dataframe tbody tr th:only-of-type {\n",
              "        vertical-align: middle;\n",
              "    }\n",
              "\n",
              "    .dataframe tbody tr th {\n",
              "        vertical-align: top;\n",
              "    }\n",
              "\n",
              "    .dataframe thead th {\n",
              "        text-align: right;\n",
              "    }\n",
              "</style>\n",
              "<table border=\"1\" class=\"dataframe\">\n",
              "  <thead>\n",
              "    <tr style=\"text-align: right;\">\n",
              "      <th></th>\n",
              "      <th>id</th>\n",
              "      <th>name</th>\n",
              "      <th>host_id</th>\n",
              "      <th>host_name</th>\n",
              "      <th>neighbourhood</th>\n",
              "      <th>latitude</th>\n",
              "      <th>longitude</th>\n",
              "      <th>room_type</th>\n",
              "      <th>price</th>\n",
              "      <th>minimum_nights</th>\n",
              "      <th>number_of_reviews</th>\n",
              "      <th>reviews_per_month</th>\n",
              "      <th>calculated_host_listings_count</th>\n",
              "      <th>availability_365</th>\n",
              "      <th>number_of_reviews_ltm</th>\n",
              "    </tr>\n",
              "  </thead>\n",
              "  <tbody>\n",
              "    <tr>\n",
              "      <th>2699</th>\n",
              "      <td>25470454</td>\n",
              "      <td>A Casa Tua</td>\n",
              "      <td>148692345</td>\n",
              "      <td>Mario</td>\n",
              "      <td>Vomero</td>\n",
              "      <td>40.84122</td>\n",
              "      <td>14.22572</td>\n",
              "      <td>Entire home/apt</td>\n",
              "      <td>154</td>\n",
              "      <td>1</td>\n",
              "      <td>8</td>\n",
              "      <td>0.22</td>\n",
              "      <td>1</td>\n",
              "      <td>42</td>\n",
              "      <td>0</td>\n",
              "    </tr>\n",
              "    <tr>\n",
              "      <th>5332</th>\n",
              "      <td>42595994</td>\n",
              "      <td>Quartino 109</td>\n",
              "      <td>339317933</td>\n",
              "      <td>Francesco</td>\n",
              "      <td>San Lorenzo</td>\n",
              "      <td>40.84896</td>\n",
              "      <td>14.25642</td>\n",
              "      <td>Entire home/apt</td>\n",
              "      <td>154</td>\n",
              "      <td>3</td>\n",
              "      <td>2</td>\n",
              "      <td>0.13</td>\n",
              "      <td>1</td>\n",
              "      <td>0</td>\n",
              "      <td>1</td>\n",
              "    </tr>\n",
              "    <tr>\n",
              "      <th>6018</th>\n",
              "      <td>48117072</td>\n",
              "      <td>Villa Montedonzelli B&amp;B, room Deluxe Tripla</td>\n",
              "      <td>387259094</td>\n",
              "      <td>Vincenzo</td>\n",
              "      <td>Arenella</td>\n",
              "      <td>40.85515</td>\n",
              "      <td>14.22895</td>\n",
              "      <td>Private room</td>\n",
              "      <td>154</td>\n",
              "      <td>1</td>\n",
              "      <td>0</td>\n",
              "      <td>0.00</td>\n",
              "      <td>3</td>\n",
              "      <td>0</td>\n",
              "      <td>0</td>\n",
              "    </tr>\n",
              "  </tbody>\n",
              "</table>\n",
              "</div>\n",
              "      <button class=\"colab-df-convert\" onclick=\"convertToInteractive('df-ff0deed9-9dae-420b-8223-b6b8c513ed68')\"\n",
              "              title=\"Convert this dataframe to an interactive table.\"\n",
              "              style=\"display:none;\">\n",
              "        \n",
              "  <svg xmlns=\"http://www.w3.org/2000/svg\" height=\"24px\"viewBox=\"0 0 24 24\"\n",
              "       width=\"24px\">\n",
              "    <path d=\"M0 0h24v24H0V0z\" fill=\"none\"/>\n",
              "    <path d=\"M18.56 5.44l.94 2.06.94-2.06 2.06-.94-2.06-.94-.94-2.06-.94 2.06-2.06.94zm-11 1L8.5 8.5l.94-2.06 2.06-.94-2.06-.94L8.5 2.5l-.94 2.06-2.06.94zm10 10l.94 2.06.94-2.06 2.06-.94-2.06-.94-.94-2.06-.94 2.06-2.06.94z\"/><path d=\"M17.41 7.96l-1.37-1.37c-.4-.4-.92-.59-1.43-.59-.52 0-1.04.2-1.43.59L10.3 9.45l-7.72 7.72c-.78.78-.78 2.05 0 2.83L4 21.41c.39.39.9.59 1.41.59.51 0 1.02-.2 1.41-.59l7.78-7.78 2.81-2.81c.8-.78.8-2.07 0-2.86zM5.41 20L4 18.59l7.72-7.72 1.47 1.35L5.41 20z\"/>\n",
              "  </svg>\n",
              "      </button>\n",
              "      \n",
              "  <style>\n",
              "    .colab-df-container {\n",
              "      display:flex;\n",
              "      flex-wrap:wrap;\n",
              "      gap: 12px;\n",
              "    }\n",
              "\n",
              "    .colab-df-convert {\n",
              "      background-color: #E8F0FE;\n",
              "      border: none;\n",
              "      border-radius: 50%;\n",
              "      cursor: pointer;\n",
              "      display: none;\n",
              "      fill: #1967D2;\n",
              "      height: 32px;\n",
              "      padding: 0 0 0 0;\n",
              "      width: 32px;\n",
              "    }\n",
              "\n",
              "    .colab-df-convert:hover {\n",
              "      background-color: #E2EBFA;\n",
              "      box-shadow: 0px 1px 2px rgba(60, 64, 67, 0.3), 0px 1px 3px 1px rgba(60, 64, 67, 0.15);\n",
              "      fill: #174EA6;\n",
              "    }\n",
              "\n",
              "    [theme=dark] .colab-df-convert {\n",
              "      background-color: #3B4455;\n",
              "      fill: #D2E3FC;\n",
              "    }\n",
              "\n",
              "    [theme=dark] .colab-df-convert:hover {\n",
              "      background-color: #434B5C;\n",
              "      box-shadow: 0px 1px 3px 1px rgba(0, 0, 0, 0.15);\n",
              "      filter: drop-shadow(0px 1px 2px rgba(0, 0, 0, 0.3));\n",
              "      fill: #FFFFFF;\n",
              "    }\n",
              "  </style>\n",
              "\n",
              "      <script>\n",
              "        const buttonEl =\n",
              "          document.querySelector('#df-ff0deed9-9dae-420b-8223-b6b8c513ed68 button.colab-df-convert');\n",
              "        buttonEl.style.display =\n",
              "          google.colab.kernel.accessAllowed ? 'block' : 'none';\n",
              "\n",
              "        async function convertToInteractive(key) {\n",
              "          const element = document.querySelector('#df-ff0deed9-9dae-420b-8223-b6b8c513ed68');\n",
              "          const dataTable =\n",
              "            await google.colab.kernel.invokeFunction('convertToInteractive',\n",
              "                                                     [key], {});\n",
              "          if (!dataTable) return;\n",
              "\n",
              "          const docLinkHtml = 'Like what you see? Visit the ' +\n",
              "            '<a target=\"_blank\" href=https://colab.research.google.com/notebooks/data_table.ipynb>data table notebook</a>'\n",
              "            + ' to learn more about interactive tables.';\n",
              "          element.innerHTML = '';\n",
              "          dataTable['output_type'] = 'display_data';\n",
              "          await google.colab.output.renderOutput(dataTable, element);\n",
              "          const docLink = document.createElement('div');\n",
              "          docLink.innerHTML = docLinkHtml;\n",
              "          element.appendChild(docLink);\n",
              "        }\n",
              "      </script>\n",
              "    </div>\n",
              "  </div>\n",
              "  "
            ],
            "text/plain": [
              "            id                                         name    host_id  \\\n",
              "2699  25470454                                   A Casa Tua  148692345   \n",
              "5332  42595994                                 Quartino 109  339317933   \n",
              "6018  48117072  Villa Montedonzelli B&B, room Deluxe Tripla  387259094   \n",
              "\n",
              "      host_name neighbourhood  latitude  longitude        room_type  price  \\\n",
              "2699      Mario        Vomero  40.84122   14.22572  Entire home/apt    154   \n",
              "5332  Francesco   San Lorenzo  40.84896   14.25642  Entire home/apt    154   \n",
              "6018   Vincenzo      Arenella  40.85515   14.22895     Private room    154   \n",
              "\n",
              "      minimum_nights  number_of_reviews  reviews_per_month  \\\n",
              "2699               1                  8               0.22   \n",
              "5332               3                  2               0.13   \n",
              "6018               1                  0               0.00   \n",
              "\n",
              "      calculated_host_listings_count  availability_365  number_of_reviews_ltm  \n",
              "2699                               1                42                      0  \n",
              "5332                               1                 0                      1  \n",
              "6018                               3                 0                      0  "
            ]
          },
          "metadata": {},
          "execution_count": 120
        }
      ]
    },
    {
      "cell_type": "code",
      "source": [
        "# comparar preço mínimo, médio e máximo por bairro\n",
        "pd.concat([df_clean.groupby(['neighbourhood']).price.min().rename('Preço mínimo'),\n",
        "           df_clean.groupby(['neighbourhood']).price.mean().rename('Preço médio'),\n",
        "           df_clean.groupby(['neighbourhood']).price.max().rename('Preço máximo')],\n",
        "          axis=1).sort_values('Preço máximo').plot.barh(figsize = (15, 20));"
      ],
      "metadata": {
        "colab": {
          "base_uri": "https://localhost:8080/",
          "height": 1000
        },
        "id": "FDEzt53ibFcU",
        "outputId": "75dbc2d9-e2fc-48f9-a4fa-7318ece88195"
      },
      "execution_count": 112,
      "outputs": [
        {
          "output_type": "display_data",
          "data": {
            "image/png": "[encoded data removed]",
            "text/plain": [
              "<Figure size 1080x1440 with 1 Axes>"
            ]
          },
          "metadata": {}
        }
      ]
    },
    {
      "cell_type": "markdown",
      "source": [
        "#### Tipos de Imóveis"
      ],
      "metadata": {
        "id": "sx45eu7AbDC8"
      }
    },
    {
      "cell_type": "markdown",
      "source": [
        "Com mais essa análise conseguimos transcorrer um resumo dos aluguéis e entender quais as correlações do preço e a localização geográfica das hospedagens na cidade de Nápoles. Mas que *insights* conseguiremos extrair das informações relacionadas aos tipos de imóveis para alugar na região?\n",
        "\n",
        "É o que iremos verificar nas próximas operações. Começando pela verificação da quantidade disponível de cada tipo de imóvel."
      ],
      "metadata": {
        "id": "CZNY2PnEcYaB"
      }
    },
    {
      "cell_type": "code",
      "metadata": {
        "id": "ueLPNWvPHgfB",
        "colab": {
          "base_uri": "https://localhost:8080/"
        },
        "outputId": "318c44fe-bf30-4953-9b72-205c01238686"
      },
      "source": [
        "# mostrar a quantidade de cada tipo de imóvel disponível\n",
        "df_clean.room_type.value_counts().sort_values(ascending=False)"
      ],
      "execution_count": 113,
      "outputs": [
        {
          "output_type": "execute_result",
          "data": {
            "text/plain": [
              "Entire home/apt    3791\n",
              "Private room       2361\n",
              "Hotel room          236\n",
              "Shared room          38\n",
              "Name: room_type, dtype: int64"
            ]
          },
          "metadata": {},
          "execution_count": 113
        }
      ]
    },
    {
      "cell_type": "code",
      "metadata": {
        "id": "EvwoO-XAHhIm",
        "colab": {
          "base_uri": "https://localhost:8080/"
        },
        "outputId": "3f526981-3d84-4553-b94b-13412fd5155c"
      },
      "source": [
        "# mostrar a porcentagem de cada tipo de imóvel disponível\n",
        "df_clean.room_type.value_counts() / df_clean.shape[0]*100"
      ],
      "execution_count": 114,
      "outputs": [
        {
          "output_type": "execute_result",
          "data": {
            "text/plain": [
              "Entire home/apt    58.994709\n",
              "Private room       36.741363\n",
              "Hotel room          3.672580\n",
              "Shared room         0.591348\n",
              "Name: room_type, dtype: float64"
            ]
          },
          "metadata": {},
          "execution_count": 114
        }
      ]
    },
    {
      "cell_type": "markdown",
      "source": [
        "Já obtivemos as informações brutas, vamos inserir as mesmas em um gráfico para facilitar a nossa visualização e leitura."
      ],
      "metadata": {
        "id": "wVsXHHpyNOL3"
      }
    },
    {
      "cell_type": "code",
      "source": [
        "fig, ax = plt.subplots(figsize=(15,5))\n",
        "\n",
        "sns.set(style=\"whitegrid\", color_codes=True)\n",
        "data = df_clean.groupby(\"room_type\").size() \n",
        "pal = sns.color_palette(\"Blues_d\", len(data))\n",
        "rank = data.argsort().argsort() \n",
        "\n",
        "ax2 = sns.barplot(x= df_clean.room_type.value_counts().values, y= df_clean.room_type.value_counts().index, palette=np.array(pal[::-1])[rank], ax = ax)\n",
        "ax2.set_xlabel('Quantidade')\n",
        "ax2.set_ylabel('Tipos de imóveis')\n",
        "ax2.set_title(\"Quantidade x Tipos de imóveis\");"
      ],
      "metadata": {
        "colab": {
          "base_uri": "https://localhost:8080/",
          "height": 355
        },
        "id": "3QjlkqrUNWx9",
        "outputId": "a029a069-0d7b-43a5-861c-bebe7e6af677"
      },
      "execution_count": 115,
      "outputs": [
        {
          "output_type": "display_data",
          "data": {
            "image/png": "[encoded data removed]",
            "text/plain": [
              "<Figure size 1080x360 with 1 Axes>"
            ]
          },
          "metadata": {}
        }
      ]
    },
    {
      "cell_type": "markdown",
      "source": [
        "Será que há uma discrepância muito significativa no preço médio de aluguel dentre os quatro tipos de imóveis disponíveis?\n",
        "\n",
        "Vamos verificar."
      ],
      "metadata": {
        "id": "QZkJR6N-scZj"
      }
    },
    {
      "cell_type": "code",
      "source": [
        "# média dos preços por bairro\n",
        "df_clean.groupby(['room_type']).price.mean().sort_values(ascending = False)"
      ],
      "metadata": {
        "colab": {
          "base_uri": "https://localhost:8080/"
        },
        "id": "NKfP9yTsspRl",
        "outputId": "e87e6f63-34b8-416e-be04-d8e255c30209"
      },
      "execution_count": 121,
      "outputs": [
        {
          "output_type": "execute_result",
          "data": {
            "text/plain": [
              "room_type\n",
              "Hotel room         78.588983\n",
              "Entire home/apt    69.316275\n",
              "Private room       65.174502\n",
              "Shared room        31.973684\n",
              "Name: price, dtype: float64"
            ]
          },
          "metadata": {},
          "execution_count": 121
        }
      ]
    },
    {
      "cell_type": "markdown",
      "metadata": {
        "id": "GkvAg623RjoR"
      },
      "source": [
        "## Conclusões\n"
      ]
    },
    {
      "cell_type": "markdown",
      "metadata": {
        "id": "rbZ3Hsy9Ypw8"
      },
      "source": [
        "No decorrer da análise nos deparamos com uma série de dados ausentes e *outliers*, sendo necessário o tratamento dos dados para extração das informações de forma mais confiável e relevante. As variáveis de valores nulos foram rapidamente resolvidas, sem impacto às avaliações posteriores. Já os *outliers* exigiram uma minuciosa avaliação estatística de duas variáveis específicas: o preço (`price`) e a quantidade mínima de noites (`minimum_nights`). Ao final do processo de tratamentos dos dados, reduzimos de 7151 para 6426 entradas, configurando uma redução de 725 linhas.\n",
        "\n",
        "Em nossa avaliação preliminar de correlação das variáveis numéricas não conseguimos identificar nenhum grau de correlação alto suficiente para dedicarmos tempo à analisá-lo.\n",
        "\n",
        "Ao calcularmos os preços médios do aluguel, para uma diária, de cada bairro, conseguimos extrair uma série de informações um tanto quanto interessantes. Vimos que os bairros com maior e menor preço médio são *Poggioreale* (€89.13) e *Pianura* (€47.71), enquanto o preço médio geral da cidade é de €67.91.\n",
        "\n",
        "Estes dados nos trouxeram alguns *insights*, nos levando a procurar entender o porquê desta diferença significativa no preço entre os bairros. Vimos, através dos gráficos hexabinários, que a localização dos bairros mais caros é mais próxima à área litorânea da cidade, região que também abriga diversos dos mais famosos pontos turísticos de Nápoles.\n",
        "\n",
        "<br>\n",
        "\n",
        "<center><img alt=\"Posillipo\" width=\"70%\" src=\"https://www.sorrentoreview.com/uploads/2/6/3/6/26365745/posillipo-naples-8_orig.jpg\"></center>\n",
        "<center>Praia no bairro <i>Posillipo</i></center>\n",
        "\n",
        "<br>\n",
        "\n",
        "<center><img alt=\"Stazione Marittima\" width=\"70%\" src=\"https://dynamic-media-cdn.tripadvisor.com/media/photo-o/19/de/69/f0/smart-hotel-napoli.jpg?w=900&h=-1&s=1\"></center>\n",
        "<center><i>Stazione Marittima di Napoli</i></center>\n",
        "\n",
        "<br>\n",
        "\n",
        "Na sequência foram avaliados os preços máximos e mínimos de cada bairro, onde foi possível verificar que o preço mínimo de hospedagem é de €10 a diária. Preço válido para dois imóveis, um em *San Carlo all'Arena* e um em *Posillipo*. Já o preço máximo de hospedagem é de €154 a diária. Preço válido para três imóveis, um em *Vomero*, um em *San Lorenzo* e um em *Arenella*.\n",
        "\n",
        "E, por fim, avaliamos quais os tipos de imóveis disponíveis e suas respectivas quantidades. Nesta análise foi possível verificar que, em Nápoles, há uma maior disponibilidade de casas/apartamentos privados do que os demais tipos de imóveis, em um total de 3791 unidades. Já o tipo de imóvel com o menor número de opções na região é o de quarto compartilhado, com apenas 38 unidades.\n",
        "\n",
        "--------\n",
        "\n",
        "De maneira resumida, esta análise dos dados do *Airbnb* da cidade de Nápoles, na Itália, nos dá uma rápida e direta leitura do cenário de hospedagens na região. Tais informações são extremamente relevantes e podem ajudar não somente os turistas em escolher sua hospedagem, mas também imobiliárias, investidores e construtoras à tomarem suas decisões baseadas em dados.\n",
        "\n",
        "Porém vale salientar que este *dataset* é uma versão resumida, ideal apenas para uma abordagem inicial. Recomenda-se que seja usado, em uma próxima análise exploratória, o conjunto de dados completos, com 106 atributos disponíveis."
      ]
    }
  ]
}