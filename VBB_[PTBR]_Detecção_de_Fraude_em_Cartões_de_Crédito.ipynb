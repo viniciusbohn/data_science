{
  "nbformat": 4,
  "nbformat_minor": 0,
  "metadata": {
    "colab": {
      "name": "VBB [PTBR] - Detecção de Fraude em Cartões de Crédito.ipynb",
      "provenance": [],
      "include_colab_link": true
    },
    "kernelspec": {
      "name": "python3",
      "display_name": "Python 3"
    }
  },
  "cells": [
    {
      "cell_type": "markdown",
      "metadata": {
        "id": "view-in-github",
        "colab_type": "text"
      },
      "source": [
        "<a href=\"https://colab.research.google.com/github/viniciusbohn/data_science/blob/main/VBB_%5BPTBR%5D_Detec%C3%A7%C3%A3o_de_Fraude_em_Cart%C3%B5es_de_Cr%C3%A9dito.ipynb\" target=\"_parent\"><img src=\"https://colab.research.google.com/assets/colab-badge.svg\" alt=\"Open In Colab\"/></a>"
      ]
    },
    {
      "cell_type": "markdown",
      "source": [
        "#**Detecção de Fraudes em Cartões de Crédito**"
      ],
      "metadata": {
        "id": "m6BM5HxgnE0U"
      }
    },
    {
      "cell_type": "markdown",
      "source": [
        "## Introdução"
      ],
      "metadata": {
        "id": "S63H0SsTnJtI"
      }
    },
    {
      "cell_type": "markdown",
      "metadata": {
        "id": "IR56trFcPcC1"
      },
      "source": [
        "\n",
        "Dentre os diversos casos de fraudes mais recorrentemente visualizados hoje em dia, destacam-se aqueles envolvendo cartões de crédito, em função da proporção do prejuízo que a a situação pode gerar, tanto para o consumidor quanto para a insituição financeira. Tendo conhecimento dessa situação, as empresas estão investindo significativamente em mecanismos de detecção de transações fraudulentas e o que melhor do que a Inteligência Artificial para isso?\n",
        "\n",
        "<br>\n",
        "<p align=center>\n",
        "<img src=\"https://deliciouskitchenstories.com/wp-content/uploads/2022/02/shutterstock_223094779.jpg\" width=\"50%\"></p>\n",
        "</br>\n",
        "\n",
        "Com a quantidade de dados obtidos pelo histórico das transações do cartão de crédito, é possível desenvolver algoritmos de Machine Learning de alta eficiência e, assim, reduzir significativamente o impacto das fraudes. Mas é necessário muito cuidado ao desenvolver e implantar tal algoritmo, pois de nada adianta o mesmo ser efetivo contra operações fraudulentas mas bloquear preventivamente uma série de cartões sem necessidade (falsos positivos), gerando uma péssima experiência para os clientes verossímeis.\n",
        "\n",
        "E é este o desafio deste projeto: desenvolver um algoritmo com o intuito de inibir ou evitar transações fraudulentas, de forma efetiva e com viabilidade real para negócios."
      ]
    },
    {
      "cell_type": "markdown",
      "source": [
        "## Importando os Dados"
      ],
      "metadata": {
        "id": "i1L9go0inRiw"
      }
    },
    {
      "cell_type": "markdown",
      "metadata": {
        "id": "0HVmpIxQWT4Y"
      },
      "source": [
        "Para a realização deste projeto serão utilizados dados de cartão de crédito de empresas européias. O *dataset* é composto pelos dados das operações financeiras realizadas através dos cartões e abrange um período de dois dias.\n",
        "\n",
        "No período mencionado foram registradas quase 290 mil transações, sendo que destas, apenas uma quantidade muito baixa de operações foram classificadas como fraudes. Isso significa que estamos lidando com um conjunto de dados extremamente desbalanceado, visto que as fraudes representam apenas 0,17% do total de entradas.\n",
        "\n",
        "Outro detalhe interessante é que as *features* são todas numéricas, e foram descaracterizadas (por problemas ligados à privacidade e segurança). Assim, os nomes das colunas são representados por $[V1, V2, V3, \\dots, V28]$ \n",
        "\n",
        "<br>\n",
        "<p align=center>\n",
        "<img src=\"https://w0.peakpx.com/wallpaper/124/992/HD-wallpaper-online-shopping-modern-technology-payment-online-e-commerce-business-concepts-credit-card-payment-laptop.jpg\" width=\"50%\"></p>\n",
        "</br>\n",
        "\n",
        "É importante salientar, também, que as variáveis passaram por uma transformação conhecida como Análise de Componentes Principais (*Principal Component Analysis* - PCA), conforme informado na [página original dos dados](https://www.kaggle.com/mlg-ulb/creditcardfraud). A PCA permite a redução da dimensionalidade enquanto mantém o maior número possível de informações. Para conseguir isso, o algoritmo encontra um conjunto novo de recursos - os chamados **componentes**. Esses componentes são em número menor or igual às variáveis originais. No caso deste projeto, os componentes achados pela transformação da PCA são as próprias colunas $[V1, V2, V3, \\dots, V28]$."
      ]
    },
    {
      "cell_type": "code",
      "metadata": {
        "id": "oQ4bNy7udtEE"
      },
      "source": [
        "!pip install -q scikit-plot\n",
        "\n",
        "from warnings import simplefilter\n",
        "simplefilter(action='ignore', category=FutureWarning)\n",
        "\n",
        "import pandas as pd\n",
        "import numpy as np\n",
        "import matplotlib.pyplot as plt\n",
        "import scikitplot as skplt\n",
        "import seaborn as sns\n",
        "\n",
        "from sklearn.model_selection import train_test_split\n",
        "from sklearn.preprocessing import StandardScaler\n",
        "from sklearn.linear_model import LogisticRegression\n",
        "from sklearn.metrics import classification_report\n",
        "from sklearn.metrics import roc_auc_score, roc_curve, accuracy_score\n",
        "\n",
        "from imblearn.under_sampling import RandomUnderSampler\n",
        "\n",
        "sns.set_style('dark')"
      ],
      "execution_count": 1,
      "outputs": []
    },
    {
      "cell_type": "markdown",
      "metadata": {
        "id": "g5XDTWW5LRVe"
      },
      "source": [
        "Agora que já instalamos os pacotes necessários e configuramos alguns parâmetros, vamos importar os dados para um DataFrame:"
      ]
    },
    {
      "cell_type": "code",
      "metadata": {
        "id": "4NxUOfDOj2j8"
      },
      "source": [
        "df = pd.read_csv(\"https://www.dropbox.com/s/b44o3t3ehmnx2b7/creditcard.csv?dl=1\")"
      ],
      "execution_count": 2,
      "outputs": []
    },
    {
      "cell_type": "markdown",
      "source": [
        "O próximo passo é criarmos o conjunto de teste e de treino. Para o teste, criaremos um novo DataFrame composto por 15% das entradas do conjunto original, selecionados de forma aleatória, enquanto que, para o conjunto de treino, utilizaremos o DataFrame original decrescido das entradas utilizadas no conjunto de teste. Assim conseguimos testar e treinar o modelo evitando uma situação de Overfitting."
      ],
      "metadata": {
        "id": "I4RRFbYZdwT2"
      }
    },
    {
      "cell_type": "code",
      "source": [
        "print(\"Dimensões do DataFrame Original: \", df.shape)\n",
        "\n",
        "# Criação do DataFrame de Teste\n",
        "test = df.sample(frac=0.15, random_state=0)\n",
        "\n",
        "# Remoção das entradas de teste para utilização do DataFrame de Treino\n",
        "df = df.drop(test.index)\n",
        "\n",
        "print(\"Dimensões do DataFrame de Teste: \", test.shape)\n",
        "print(\"Dimensões do DataFrame de Treino: \", df.shape)"
      ],
      "metadata": {
        "colab": {
          "base_uri": "https://localhost:8080/"
        },
        "id": "rPMODtmVepg9",
        "outputId": "b6297b3c-aa9d-47e5-b4f9-996481829755"
      },
      "execution_count": 3,
      "outputs": [
        {
          "output_type": "stream",
          "name": "stdout",
          "text": [
            "Dimensões do DataFrame Original:  (284807, 31)\n",
            "Dimensões do DataFrame de Teste:  (42721, 31)\n",
            "Dimensões do DataFrame de Treino:  (242086, 31)\n"
          ]
        }
      ]
    },
    {
      "cell_type": "markdown",
      "source": [
        "Certo, temos os dados divididos nos DataFrames necessários para desenvolvimento do modelo, podemos dar sequência no projeto. Inicialmente será feita uma breve análise exploratória dos dados, de forma a nos permitir visualizar de maneira prévia alguns comportamentos."
      ],
      "metadata": {
        "id": "D096kVuTjoyj"
      }
    },
    {
      "cell_type": "markdown",
      "source": [
        "## Análise Exploratória Prévia"
      ],
      "metadata": {
        "id": "UelQXKNUk2ec"
      }
    },
    {
      "cell_type": "markdown",
      "source": [
        "Vamos começar verificando as 5 primeiras entradas do dataset."
      ],
      "metadata": {
        "id": "FVVh4xVxlFte"
      }
    },
    {
      "cell_type": "code",
      "source": [
        "df.head()"
      ],
      "metadata": {
        "colab": {
          "base_uri": "https://localhost:8080/",
          "height": 299
        },
        "id": "3R7_Go6klKR3",
        "outputId": "0940a7d8-6b8a-4432-8ca8-e43a3866516c"
      },
      "execution_count": 4,
      "outputs": [
        {
          "output_type": "execute_result",
          "data": {
            "text/plain": [
              "   Time        V1        V2        V3        V4        V5        V6        V7  \\\n",
              "0   0.0 -1.359807 -0.072781  2.536347  1.378155 -0.338321  0.462388  0.239599   \n",
              "1   0.0  1.191857  0.266151  0.166480  0.448154  0.060018 -0.082361 -0.078803   \n",
              "2   1.0 -1.358354 -1.340163  1.773209  0.379780 -0.503198  1.800499  0.791461   \n",
              "3   1.0 -0.966272 -0.185226  1.792993 -0.863291 -0.010309  1.247203  0.237609   \n",
              "4   2.0 -1.158233  0.877737  1.548718  0.403034 -0.407193  0.095921  0.592941   \n",
              "\n",
              "         V8        V9  ...       V21       V22       V23       V24       V25  \\\n",
              "0  0.098698  0.363787  ... -0.018307  0.277838 -0.110474  0.066928  0.128539   \n",
              "1  0.085102 -0.255425  ... -0.225775 -0.638672  0.101288 -0.339846  0.167170   \n",
              "2  0.247676 -1.514654  ...  0.247998  0.771679  0.909412 -0.689281 -0.327642   \n",
              "3  0.377436 -1.387024  ... -0.108300  0.005274 -0.190321 -1.175575  0.647376   \n",
              "4 -0.270533  0.817739  ... -0.009431  0.798278 -0.137458  0.141267 -0.206010   \n",
              "\n",
              "        V26       V27       V28  Amount  Class  \n",
              "0 -0.189115  0.133558 -0.021053  149.62      0  \n",
              "1  0.125895 -0.008983  0.014724    2.69      0  \n",
              "2 -0.139097 -0.055353 -0.059752  378.66      0  \n",
              "3 -0.221929  0.062723  0.061458  123.50      0  \n",
              "4  0.502292  0.219422  0.215153   69.99      0  \n",
              "\n",
              "[5 rows x 31 columns]"
            ],
            "text/html": [
              "\n",
              "  <div id=\"df-7887f0c0-ae5a-4667-b6ab-611113643364\">\n",
              "    <div class=\"colab-df-container\">\n",
              "      <div>\n",
              "<style scoped>\n",
              "    .dataframe tbody tr th:only-of-type {\n",
              "        vertical-align: middle;\n",
              "    }\n",
              "\n",
              "    .dataframe tbody tr th {\n",
              "        vertical-align: top;\n",
              "    }\n",
              "\n",
              "    .dataframe thead th {\n",
              "        text-align: right;\n",
              "    }\n",
              "</style>\n",
              "<table border=\"1\" class=\"dataframe\">\n",
              "  <thead>\n",
              "    <tr style=\"text-align: right;\">\n",
              "      <th></th>\n",
              "      <th>Time</th>\n",
              "      <th>V1</th>\n",
              "      <th>V2</th>\n",
              "      <th>V3</th>\n",
              "      <th>V4</th>\n",
              "      <th>V5</th>\n",
              "      <th>V6</th>\n",
              "      <th>V7</th>\n",
              "      <th>V8</th>\n",
              "      <th>V9</th>\n",
              "      <th>...</th>\n",
              "      <th>V21</th>\n",
              "      <th>V22</th>\n",
              "      <th>V23</th>\n",
              "      <th>V24</th>\n",
              "      <th>V25</th>\n",
              "      <th>V26</th>\n",
              "      <th>V27</th>\n",
              "      <th>V28</th>\n",
              "      <th>Amount</th>\n",
              "      <th>Class</th>\n",
              "    </tr>\n",
              "  </thead>\n",
              "  <tbody>\n",
              "    <tr>\n",
              "      <th>0</th>\n",
              "      <td>0.0</td>\n",
              "      <td>-1.359807</td>\n",
              "      <td>-0.072781</td>\n",
              "      <td>2.536347</td>\n",
              "      <td>1.378155</td>\n",
              "      <td>-0.338321</td>\n",
              "      <td>0.462388</td>\n",
              "      <td>0.239599</td>\n",
              "      <td>0.098698</td>\n",
              "      <td>0.363787</td>\n",
              "      <td>...</td>\n",
              "      <td>-0.018307</td>\n",
              "      <td>0.277838</td>\n",
              "      <td>-0.110474</td>\n",
              "      <td>0.066928</td>\n",
              "      <td>0.128539</td>\n",
              "      <td>-0.189115</td>\n",
              "      <td>0.133558</td>\n",
              "      <td>-0.021053</td>\n",
              "      <td>149.62</td>\n",
              "      <td>0</td>\n",
              "    </tr>\n",
              "    <tr>\n",
              "      <th>1</th>\n",
              "      <td>0.0</td>\n",
              "      <td>1.191857</td>\n",
              "      <td>0.266151</td>\n",
              "      <td>0.166480</td>\n",
              "      <td>0.448154</td>\n",
              "      <td>0.060018</td>\n",
              "      <td>-0.082361</td>\n",
              "      <td>-0.078803</td>\n",
              "      <td>0.085102</td>\n",
              "      <td>-0.255425</td>\n",
              "      <td>...</td>\n",
              "      <td>-0.225775</td>\n",
              "      <td>-0.638672</td>\n",
              "      <td>0.101288</td>\n",
              "      <td>-0.339846</td>\n",
              "      <td>0.167170</td>\n",
              "      <td>0.125895</td>\n",
              "      <td>-0.008983</td>\n",
              "      <td>0.014724</td>\n",
              "      <td>2.69</td>\n",
              "      <td>0</td>\n",
              "    </tr>\n",
              "    <tr>\n",
              "      <th>2</th>\n",
              "      <td>1.0</td>\n",
              "      <td>-1.358354</td>\n",
              "      <td>-1.340163</td>\n",
              "      <td>1.773209</td>\n",
              "      <td>0.379780</td>\n",
              "      <td>-0.503198</td>\n",
              "      <td>1.800499</td>\n",
              "      <td>0.791461</td>\n",
              "      <td>0.247676</td>\n",
              "      <td>-1.514654</td>\n",
              "      <td>...</td>\n",
              "      <td>0.247998</td>\n",
              "      <td>0.771679</td>\n",
              "      <td>0.909412</td>\n",
              "      <td>-0.689281</td>\n",
              "      <td>-0.327642</td>\n",
              "      <td>-0.139097</td>\n",
              "      <td>-0.055353</td>\n",
              "      <td>-0.059752</td>\n",
              "      <td>378.66</td>\n",
              "      <td>0</td>\n",
              "    </tr>\n",
              "    <tr>\n",
              "      <th>3</th>\n",
              "      <td>1.0</td>\n",
              "      <td>-0.966272</td>\n",
              "      <td>-0.185226</td>\n",
              "      <td>1.792993</td>\n",
              "      <td>-0.863291</td>\n",
              "      <td>-0.010309</td>\n",
              "      <td>1.247203</td>\n",
              "      <td>0.237609</td>\n",
              "      <td>0.377436</td>\n",
              "      <td>-1.387024</td>\n",
              "      <td>...</td>\n",
              "      <td>-0.108300</td>\n",
              "      <td>0.005274</td>\n",
              "      <td>-0.190321</td>\n",
              "      <td>-1.175575</td>\n",
              "      <td>0.647376</td>\n",
              "      <td>-0.221929</td>\n",
              "      <td>0.062723</td>\n",
              "      <td>0.061458</td>\n",
              "      <td>123.50</td>\n",
              "      <td>0</td>\n",
              "    </tr>\n",
              "    <tr>\n",
              "      <th>4</th>\n",
              "      <td>2.0</td>\n",
              "      <td>-1.158233</td>\n",
              "      <td>0.877737</td>\n",
              "      <td>1.548718</td>\n",
              "      <td>0.403034</td>\n",
              "      <td>-0.407193</td>\n",
              "      <td>0.095921</td>\n",
              "      <td>0.592941</td>\n",
              "      <td>-0.270533</td>\n",
              "      <td>0.817739</td>\n",
              "      <td>...</td>\n",
              "      <td>-0.009431</td>\n",
              "      <td>0.798278</td>\n",
              "      <td>-0.137458</td>\n",
              "      <td>0.141267</td>\n",
              "      <td>-0.206010</td>\n",
              "      <td>0.502292</td>\n",
              "      <td>0.219422</td>\n",
              "      <td>0.215153</td>\n",
              "      <td>69.99</td>\n",
              "      <td>0</td>\n",
              "    </tr>\n",
              "  </tbody>\n",
              "</table>\n",
              "<p>5 rows × 31 columns</p>\n",
              "</div>\n",
              "      <button class=\"colab-df-convert\" onclick=\"convertToInteractive('df-7887f0c0-ae5a-4667-b6ab-611113643364')\"\n",
              "              title=\"Convert this dataframe to an interactive table.\"\n",
              "              style=\"display:none;\">\n",
              "        \n",
              "  <svg xmlns=\"http://www.w3.org/2000/svg\" height=\"24px\"viewBox=\"0 0 24 24\"\n",
              "       width=\"24px\">\n",
              "    <path d=\"M0 0h24v24H0V0z\" fill=\"none\"/>\n",
              "    <path d=\"M18.56 5.44l.94 2.06.94-2.06 2.06-.94-2.06-.94-.94-2.06-.94 2.06-2.06.94zm-11 1L8.5 8.5l.94-2.06 2.06-.94-2.06-.94L8.5 2.5l-.94 2.06-2.06.94zm10 10l.94 2.06.94-2.06 2.06-.94-2.06-.94-.94-2.06-.94 2.06-2.06.94z\"/><path d=\"M17.41 7.96l-1.37-1.37c-.4-.4-.92-.59-1.43-.59-.52 0-1.04.2-1.43.59L10.3 9.45l-7.72 7.72c-.78.78-.78 2.05 0 2.83L4 21.41c.39.39.9.59 1.41.59.51 0 1.02-.2 1.41-.59l7.78-7.78 2.81-2.81c.8-.78.8-2.07 0-2.86zM5.41 20L4 18.59l7.72-7.72 1.47 1.35L5.41 20z\"/>\n",
              "  </svg>\n",
              "      </button>\n",
              "      \n",
              "  <style>\n",
              "    .colab-df-container {\n",
              "      display:flex;\n",
              "      flex-wrap:wrap;\n",
              "      gap: 12px;\n",
              "    }\n",
              "\n",
              "    .colab-df-convert {\n",
              "      background-color: #E8F0FE;\n",
              "      border: none;\n",
              "      border-radius: 50%;\n",
              "      cursor: pointer;\n",
              "      display: none;\n",
              "      fill: #1967D2;\n",
              "      height: 32px;\n",
              "      padding: 0 0 0 0;\n",
              "      width: 32px;\n",
              "    }\n",
              "\n",
              "    .colab-df-convert:hover {\n",
              "      background-color: #E2EBFA;\n",
              "      box-shadow: 0px 1px 2px rgba(60, 64, 67, 0.3), 0px 1px 3px 1px rgba(60, 64, 67, 0.15);\n",
              "      fill: #174EA6;\n",
              "    }\n",
              "\n",
              "    [theme=dark] .colab-df-convert {\n",
              "      background-color: #3B4455;\n",
              "      fill: #D2E3FC;\n",
              "    }\n",
              "\n",
              "    [theme=dark] .colab-df-convert:hover {\n",
              "      background-color: #434B5C;\n",
              "      box-shadow: 0px 1px 3px 1px rgba(0, 0, 0, 0.15);\n",
              "      filter: drop-shadow(0px 1px 2px rgba(0, 0, 0, 0.3));\n",
              "      fill: #FFFFFF;\n",
              "    }\n",
              "  </style>\n",
              "\n",
              "      <script>\n",
              "        const buttonEl =\n",
              "          document.querySelector('#df-7887f0c0-ae5a-4667-b6ab-611113643364 button.colab-df-convert');\n",
              "        buttonEl.style.display =\n",
              "          google.colab.kernel.accessAllowed ? 'block' : 'none';\n",
              "\n",
              "        async function convertToInteractive(key) {\n",
              "          const element = document.querySelector('#df-7887f0c0-ae5a-4667-b6ab-611113643364');\n",
              "          const dataTable =\n",
              "            await google.colab.kernel.invokeFunction('convertToInteractive',\n",
              "                                                     [key], {});\n",
              "          if (!dataTable) return;\n",
              "\n",
              "          const docLinkHtml = 'Like what you see? Visit the ' +\n",
              "            '<a target=\"_blank\" href=https://colab.research.google.com/notebooks/data_table.ipynb>data table notebook</a>'\n",
              "            + ' to learn more about interactive tables.';\n",
              "          element.innerHTML = '';\n",
              "          dataTable['output_type'] = 'display_data';\n",
              "          await google.colab.output.renderOutput(dataTable, element);\n",
              "          const docLink = document.createElement('div');\n",
              "          docLink.innerHTML = docLinkHtml;\n",
              "          element.appendChild(docLink);\n",
              "        }\n",
              "      </script>\n",
              "    </div>\n",
              "  </div>\n",
              "  "
            ]
          },
          "metadata": {},
          "execution_count": 4
        }
      ]
    },
    {
      "cell_type": "markdown",
      "source": [
        "Ao avaliarmos as primeiras entradas podemos detectar alguns pontos interessantes:\n",
        "\n",
        "*   A transformação PCA deixou as features descaracterizadas (anônimas) e em valores numéricos;\n",
        "\n",
        "*   Apenas as colunas `Time` e `Amount` foram preservadas, mantendo seu valor original;\n",
        "\n",
        "* A variável alvo está representada na coluna `Class`, onde:\n",
        "    * **0:** Transação normal; e\n",
        "    * **1:** Transação fraudulenta;"
      ],
      "metadata": {
        "id": "YOkvVyoklkMJ"
      }
    },
    {
      "cell_type": "markdown",
      "source": [
        "Vamos verificar agora o resumo estatístico do DataFrame."
      ],
      "metadata": {
        "id": "odyan6gPnVYs"
      }
    },
    {
      "cell_type": "code",
      "source": [
        "df.describe()"
      ],
      "metadata": {
        "colab": {
          "base_uri": "https://localhost:8080/",
          "height": 393
        },
        "id": "r77TVHLcnbfL",
        "outputId": "41f2b42f-3291-4b14-9e35-256ceb188297"
      },
      "execution_count": 5,
      "outputs": [
        {
          "output_type": "execute_result",
          "data": {
            "text/plain": [
              "                Time             V1             V2             V3  \\\n",
              "count  242086.000000  242086.000000  242086.000000  242086.000000   \n",
              "mean    94857.597379       0.001456      -0.000800      -0.001004   \n",
              "std     47490.660832       1.956513       1.654883       1.514580   \n",
              "min         0.000000     -56.407510     -72.715728     -33.680984   \n",
              "25%     54234.000000      -0.920406      -0.598659      -0.893374   \n",
              "50%     84747.000000       0.019230       0.064567       0.177607   \n",
              "75%    139362.000000       1.316034       0.803174       1.026561   \n",
              "max    172792.000000       2.451888      22.057729       9.382558   \n",
              "\n",
              "                  V4             V5             V6             V7  \\\n",
              "count  242086.000000  242086.000000  242086.000000  242086.000000   \n",
              "mean        0.000647      -0.000986      -0.001196      -0.000033   \n",
              "std         1.417228       1.366284       1.326879       1.223095   \n",
              "min        -5.683171     -42.147898     -26.160506     -43.557242   \n",
              "25%        -0.848236      -0.693615      -0.769025      -0.553805   \n",
              "50%        -0.018959      -0.054544      -0.274310       0.040344   \n",
              "75%         0.743691       0.611455       0.397688       0.570104   \n",
              "max        16.875344      34.801666      23.917837      44.054461   \n",
              "\n",
              "                  V8             V9  ...            V21            V22  \\\n",
              "count  242086.000000  242086.000000  ...  242086.000000  242086.000000   \n",
              "mean       -0.000416      -0.000725  ...      -0.000015       0.000606   \n",
              "std         1.199718       1.099350  ...       0.734189       0.726284   \n",
              "min       -73.216718     -13.434066  ...     -34.830382     -10.933144   \n",
              "25%        -0.208857      -0.645058  ...      -0.228492      -0.542962   \n",
              "50%         0.022160      -0.051370  ...      -0.028987       0.007162   \n",
              "75%         0.327186       0.597195  ...       0.187064       0.529814   \n",
              "max        20.007208      15.594995  ...      27.202839      10.503090   \n",
              "\n",
              "                 V23            V24            V25            V26  \\\n",
              "count  242086.000000  242086.000000  242086.000000  242086.000000   \n",
              "mean       -0.000482       0.000199       0.000048      -0.000269   \n",
              "std         0.629651       0.605150       0.521574       0.482084   \n",
              "min       -44.807735      -2.822684     -10.295397      -2.604551   \n",
              "25%        -0.161941      -0.354494      -0.316853      -0.327387   \n",
              "50%        -0.011175       0.040764       0.017175      -0.052337   \n",
              "75%         0.147358       0.439320       0.350795       0.241214   \n",
              "max        22.528412       4.022866       7.519589       3.517346   \n",
              "\n",
              "                 V27            V28         Amount          Class  \n",
              "count  242086.000000  242086.000000  242086.000000  242086.000000  \n",
              "mean       -0.000727       0.000065      88.612429       0.001727  \n",
              "std         0.401490       0.327734     247.655020       0.041517  \n",
              "min       -22.565679     -11.710896       0.000000       0.000000  \n",
              "25%        -0.070744      -0.052903       5.662500       0.000000  \n",
              "50%         0.001131       0.011209      22.000000       0.000000  \n",
              "75%         0.090776       0.078234      77.580000       0.000000  \n",
              "max        12.152401      33.847808   19656.530000       1.000000  \n",
              "\n",
              "[8 rows x 31 columns]"
            ],
            "text/html": [
              "\n",
              "  <div id=\"df-d56ba792-dd0c-4698-b63e-2fd819154e63\">\n",
              "    <div class=\"colab-df-container\">\n",
              "      <div>\n",
              "<style scoped>\n",
              "    .dataframe tbody tr th:only-of-type {\n",
              "        vertical-align: middle;\n",
              "    }\n",
              "\n",
              "    .dataframe tbody tr th {\n",
              "        vertical-align: top;\n",
              "    }\n",
              "\n",
              "    .dataframe thead th {\n",
              "        text-align: right;\n",
              "    }\n",
              "</style>\n",
              "<table border=\"1\" class=\"dataframe\">\n",
              "  <thead>\n",
              "    <tr style=\"text-align: right;\">\n",
              "      <th></th>\n",
              "      <th>Time</th>\n",
              "      <th>V1</th>\n",
              "      <th>V2</th>\n",
              "      <th>V3</th>\n",
              "      <th>V4</th>\n",
              "      <th>V5</th>\n",
              "      <th>V6</th>\n",
              "      <th>V7</th>\n",
              "      <th>V8</th>\n",
              "      <th>V9</th>\n",
              "      <th>...</th>\n",
              "      <th>V21</th>\n",
              "      <th>V22</th>\n",
              "      <th>V23</th>\n",
              "      <th>V24</th>\n",
              "      <th>V25</th>\n",
              "      <th>V26</th>\n",
              "      <th>V27</th>\n",
              "      <th>V28</th>\n",
              "      <th>Amount</th>\n",
              "      <th>Class</th>\n",
              "    </tr>\n",
              "  </thead>\n",
              "  <tbody>\n",
              "    <tr>\n",
              "      <th>count</th>\n",
              "      <td>242086.000000</td>\n",
              "      <td>242086.000000</td>\n",
              "      <td>242086.000000</td>\n",
              "      <td>242086.000000</td>\n",
              "      <td>242086.000000</td>\n",
              "      <td>242086.000000</td>\n",
              "      <td>242086.000000</td>\n",
              "      <td>242086.000000</td>\n",
              "      <td>242086.000000</td>\n",
              "      <td>242086.000000</td>\n",
              "      <td>...</td>\n",
              "      <td>242086.000000</td>\n",
              "      <td>242086.000000</td>\n",
              "      <td>242086.000000</td>\n",
              "      <td>242086.000000</td>\n",
              "      <td>242086.000000</td>\n",
              "      <td>242086.000000</td>\n",
              "      <td>242086.000000</td>\n",
              "      <td>242086.000000</td>\n",
              "      <td>242086.000000</td>\n",
              "      <td>242086.000000</td>\n",
              "    </tr>\n",
              "    <tr>\n",
              "      <th>mean</th>\n",
              "      <td>94857.597379</td>\n",
              "      <td>0.001456</td>\n",
              "      <td>-0.000800</td>\n",
              "      <td>-0.001004</td>\n",
              "      <td>0.000647</td>\n",
              "      <td>-0.000986</td>\n",
              "      <td>-0.001196</td>\n",
              "      <td>-0.000033</td>\n",
              "      <td>-0.000416</td>\n",
              "      <td>-0.000725</td>\n",
              "      <td>...</td>\n",
              "      <td>-0.000015</td>\n",
              "      <td>0.000606</td>\n",
              "      <td>-0.000482</td>\n",
              "      <td>0.000199</td>\n",
              "      <td>0.000048</td>\n",
              "      <td>-0.000269</td>\n",
              "      <td>-0.000727</td>\n",
              "      <td>0.000065</td>\n",
              "      <td>88.612429</td>\n",
              "      <td>0.001727</td>\n",
              "    </tr>\n",
              "    <tr>\n",
              "      <th>std</th>\n",
              "      <td>47490.660832</td>\n",
              "      <td>1.956513</td>\n",
              "      <td>1.654883</td>\n",
              "      <td>1.514580</td>\n",
              "      <td>1.417228</td>\n",
              "      <td>1.366284</td>\n",
              "      <td>1.326879</td>\n",
              "      <td>1.223095</td>\n",
              "      <td>1.199718</td>\n",
              "      <td>1.099350</td>\n",
              "      <td>...</td>\n",
              "      <td>0.734189</td>\n",
              "      <td>0.726284</td>\n",
              "      <td>0.629651</td>\n",
              "      <td>0.605150</td>\n",
              "      <td>0.521574</td>\n",
              "      <td>0.482084</td>\n",
              "      <td>0.401490</td>\n",
              "      <td>0.327734</td>\n",
              "      <td>247.655020</td>\n",
              "      <td>0.041517</td>\n",
              "    </tr>\n",
              "    <tr>\n",
              "      <th>min</th>\n",
              "      <td>0.000000</td>\n",
              "      <td>-56.407510</td>\n",
              "      <td>-72.715728</td>\n",
              "      <td>-33.680984</td>\n",
              "      <td>-5.683171</td>\n",
              "      <td>-42.147898</td>\n",
              "      <td>-26.160506</td>\n",
              "      <td>-43.557242</td>\n",
              "      <td>-73.216718</td>\n",
              "      <td>-13.434066</td>\n",
              "      <td>...</td>\n",
              "      <td>-34.830382</td>\n",
              "      <td>-10.933144</td>\n",
              "      <td>-44.807735</td>\n",
              "      <td>-2.822684</td>\n",
              "      <td>-10.295397</td>\n",
              "      <td>-2.604551</td>\n",
              "      <td>-22.565679</td>\n",
              "      <td>-11.710896</td>\n",
              "      <td>0.000000</td>\n",
              "      <td>0.000000</td>\n",
              "    </tr>\n",
              "    <tr>\n",
              "      <th>25%</th>\n",
              "      <td>54234.000000</td>\n",
              "      <td>-0.920406</td>\n",
              "      <td>-0.598659</td>\n",
              "      <td>-0.893374</td>\n",
              "      <td>-0.848236</td>\n",
              "      <td>-0.693615</td>\n",
              "      <td>-0.769025</td>\n",
              "      <td>-0.553805</td>\n",
              "      <td>-0.208857</td>\n",
              "      <td>-0.645058</td>\n",
              "      <td>...</td>\n",
              "      <td>-0.228492</td>\n",
              "      <td>-0.542962</td>\n",
              "      <td>-0.161941</td>\n",
              "      <td>-0.354494</td>\n",
              "      <td>-0.316853</td>\n",
              "      <td>-0.327387</td>\n",
              "      <td>-0.070744</td>\n",
              "      <td>-0.052903</td>\n",
              "      <td>5.662500</td>\n",
              "      <td>0.000000</td>\n",
              "    </tr>\n",
              "    <tr>\n",
              "      <th>50%</th>\n",
              "      <td>84747.000000</td>\n",
              "      <td>0.019230</td>\n",
              "      <td>0.064567</td>\n",
              "      <td>0.177607</td>\n",
              "      <td>-0.018959</td>\n",
              "      <td>-0.054544</td>\n",
              "      <td>-0.274310</td>\n",
              "      <td>0.040344</td>\n",
              "      <td>0.022160</td>\n",
              "      <td>-0.051370</td>\n",
              "      <td>...</td>\n",
              "      <td>-0.028987</td>\n",
              "      <td>0.007162</td>\n",
              "      <td>-0.011175</td>\n",
              "      <td>0.040764</td>\n",
              "      <td>0.017175</td>\n",
              "      <td>-0.052337</td>\n",
              "      <td>0.001131</td>\n",
              "      <td>0.011209</td>\n",
              "      <td>22.000000</td>\n",
              "      <td>0.000000</td>\n",
              "    </tr>\n",
              "    <tr>\n",
              "      <th>75%</th>\n",
              "      <td>139362.000000</td>\n",
              "      <td>1.316034</td>\n",
              "      <td>0.803174</td>\n",
              "      <td>1.026561</td>\n",
              "      <td>0.743691</td>\n",
              "      <td>0.611455</td>\n",
              "      <td>0.397688</td>\n",
              "      <td>0.570104</td>\n",
              "      <td>0.327186</td>\n",
              "      <td>0.597195</td>\n",
              "      <td>...</td>\n",
              "      <td>0.187064</td>\n",
              "      <td>0.529814</td>\n",
              "      <td>0.147358</td>\n",
              "      <td>0.439320</td>\n",
              "      <td>0.350795</td>\n",
              "      <td>0.241214</td>\n",
              "      <td>0.090776</td>\n",
              "      <td>0.078234</td>\n",
              "      <td>77.580000</td>\n",
              "      <td>0.000000</td>\n",
              "    </tr>\n",
              "    <tr>\n",
              "      <th>max</th>\n",
              "      <td>172792.000000</td>\n",
              "      <td>2.451888</td>\n",
              "      <td>22.057729</td>\n",
              "      <td>9.382558</td>\n",
              "      <td>16.875344</td>\n",
              "      <td>34.801666</td>\n",
              "      <td>23.917837</td>\n",
              "      <td>44.054461</td>\n",
              "      <td>20.007208</td>\n",
              "      <td>15.594995</td>\n",
              "      <td>...</td>\n",
              "      <td>27.202839</td>\n",
              "      <td>10.503090</td>\n",
              "      <td>22.528412</td>\n",
              "      <td>4.022866</td>\n",
              "      <td>7.519589</td>\n",
              "      <td>3.517346</td>\n",
              "      <td>12.152401</td>\n",
              "      <td>33.847808</td>\n",
              "      <td>19656.530000</td>\n",
              "      <td>1.000000</td>\n",
              "    </tr>\n",
              "  </tbody>\n",
              "</table>\n",
              "<p>8 rows × 31 columns</p>\n",
              "</div>\n",
              "      <button class=\"colab-df-convert\" onclick=\"convertToInteractive('df-d56ba792-dd0c-4698-b63e-2fd819154e63')\"\n",
              "              title=\"Convert this dataframe to an interactive table.\"\n",
              "              style=\"display:none;\">\n",
              "        \n",
              "  <svg xmlns=\"http://www.w3.org/2000/svg\" height=\"24px\"viewBox=\"0 0 24 24\"\n",
              "       width=\"24px\">\n",
              "    <path d=\"M0 0h24v24H0V0z\" fill=\"none\"/>\n",
              "    <path d=\"M18.56 5.44l.94 2.06.94-2.06 2.06-.94-2.06-.94-.94-2.06-.94 2.06-2.06.94zm-11 1L8.5 8.5l.94-2.06 2.06-.94-2.06-.94L8.5 2.5l-.94 2.06-2.06.94zm10 10l.94 2.06.94-2.06 2.06-.94-2.06-.94-.94-2.06-.94 2.06-2.06.94z\"/><path d=\"M17.41 7.96l-1.37-1.37c-.4-.4-.92-.59-1.43-.59-.52 0-1.04.2-1.43.59L10.3 9.45l-7.72 7.72c-.78.78-.78 2.05 0 2.83L4 21.41c.39.39.9.59 1.41.59.51 0 1.02-.2 1.41-.59l7.78-7.78 2.81-2.81c.8-.78.8-2.07 0-2.86zM5.41 20L4 18.59l7.72-7.72 1.47 1.35L5.41 20z\"/>\n",
              "  </svg>\n",
              "      </button>\n",
              "      \n",
              "  <style>\n",
              "    .colab-df-container {\n",
              "      display:flex;\n",
              "      flex-wrap:wrap;\n",
              "      gap: 12px;\n",
              "    }\n",
              "\n",
              "    .colab-df-convert {\n",
              "      background-color: #E8F0FE;\n",
              "      border: none;\n",
              "      border-radius: 50%;\n",
              "      cursor: pointer;\n",
              "      display: none;\n",
              "      fill: #1967D2;\n",
              "      height: 32px;\n",
              "      padding: 0 0 0 0;\n",
              "      width: 32px;\n",
              "    }\n",
              "\n",
              "    .colab-df-convert:hover {\n",
              "      background-color: #E2EBFA;\n",
              "      box-shadow: 0px 1px 2px rgba(60, 64, 67, 0.3), 0px 1px 3px 1px rgba(60, 64, 67, 0.15);\n",
              "      fill: #174EA6;\n",
              "    }\n",
              "\n",
              "    [theme=dark] .colab-df-convert {\n",
              "      background-color: #3B4455;\n",
              "      fill: #D2E3FC;\n",
              "    }\n",
              "\n",
              "    [theme=dark] .colab-df-convert:hover {\n",
              "      background-color: #434B5C;\n",
              "      box-shadow: 0px 1px 3px 1px rgba(0, 0, 0, 0.15);\n",
              "      filter: drop-shadow(0px 1px 2px rgba(0, 0, 0, 0.3));\n",
              "      fill: #FFFFFF;\n",
              "    }\n",
              "  </style>\n",
              "\n",
              "      <script>\n",
              "        const buttonEl =\n",
              "          document.querySelector('#df-d56ba792-dd0c-4698-b63e-2fd819154e63 button.colab-df-convert');\n",
              "        buttonEl.style.display =\n",
              "          google.colab.kernel.accessAllowed ? 'block' : 'none';\n",
              "\n",
              "        async function convertToInteractive(key) {\n",
              "          const element = document.querySelector('#df-d56ba792-dd0c-4698-b63e-2fd819154e63');\n",
              "          const dataTable =\n",
              "            await google.colab.kernel.invokeFunction('convertToInteractive',\n",
              "                                                     [key], {});\n",
              "          if (!dataTable) return;\n",
              "\n",
              "          const docLinkHtml = 'Like what you see? Visit the ' +\n",
              "            '<a target=\"_blank\" href=https://colab.research.google.com/notebooks/data_table.ipynb>data table notebook</a>'\n",
              "            + ' to learn more about interactive tables.';\n",
              "          element.innerHTML = '';\n",
              "          dataTable['output_type'] = 'display_data';\n",
              "          await google.colab.output.renderOutput(dataTable, element);\n",
              "          const docLink = document.createElement('div');\n",
              "          docLink.innerHTML = docLinkHtml;\n",
              "          element.appendChild(docLink);\n",
              "        }\n",
              "      </script>\n",
              "    </div>\n",
              "  </div>\n",
              "  "
            ]
          },
          "metadata": {},
          "execution_count": 5
        }
      ]
    },
    {
      "cell_type": "markdown",
      "source": [
        "Ao avaliarmos o resumo estatístico, não podemos detectar nenhuma discrepância aparente nas variáveis relativas aos componentes principais, transformadas pelo método PCA. O mesmo ocorre para as colunas `Time` e `Class`.\n",
        "\n",
        "Já para a variável `Amount` é possível identificarmos algumas peculiaridades. Note que o valor mínimo é 0, ou seja, há transações registradas sem valor. Outro ponto a ser mencionado é que o valor máximo (19.656,53) é muito discrepante da mediana (22) e, inclusive, do terceiro quartil (77,58). O que é, de certa forma, esperado, já que a grande maioria das transações não engloba valores tão elevados.\n",
        "\n"
      ],
      "metadata": {
        "id": "Ki43Pndeob3o"
      }
    },
    {
      "cell_type": "markdown",
      "source": [
        "Dando continuidade na nossa análise, vamos verificar a presença de valores ausentes no dataset:"
      ],
      "metadata": {
        "id": "y0qdzuO8JDx9"
      }
    },
    {
      "cell_type": "code",
      "source": [
        "df.isnull().sum().max()"
      ],
      "metadata": {
        "colab": {
          "base_uri": "https://localhost:8080/"
        },
        "id": "JYcGOeFuJMcT",
        "outputId": "25ace38e-047b-43c0-99f6-9a56a1309bcc"
      },
      "execution_count": 6,
      "outputs": [
        {
          "output_type": "execute_result",
          "data": {
            "text/plain": [
              "0"
            ]
          },
          "metadata": {},
          "execution_count": 6
        }
      ]
    },
    {
      "cell_type": "markdown",
      "source": [
        "Note que não há a presença de nenhum valor nulo no DataFrame, logo não será necessária nenhuma operação de limpeza."
      ],
      "metadata": {
        "id": "_fD15Y30LdVd"
      }
    },
    {
      "cell_type": "markdown",
      "source": [
        "Como mencionado anteriormente, a quantidade de entradas classificadas como fraudes, em relação ao volume total de transações, é muito baixa. Para quantificarmos isso, vamos verificar o percentual de transações fraudulentas e plotar um gráfico de barras para tornar mais fácil tal visualização."
      ],
      "metadata": {
        "id": "uMJubp4KL48j"
      }
    },
    {
      "cell_type": "code",
      "source": [
        "# ver o balanceamento das classes\n",
        "print(df.Class.value_counts())\n",
        "print(\"\\nFraudes representam {:.4f}% do dataset.\\n\".format((df[df.Class == 1].shape[0] / df.shape[0]) * 100))\n",
        "\n",
        "fig, ax = plt.subplots()\n",
        "sns.countplot('Class', data=df, ax=ax)\n",
        "ax.set_title('Distribuição das Classes')\n",
        "plt.plot();"
      ],
      "metadata": {
        "colab": {
          "base_uri": "https://localhost:8080/",
          "height": 406
        },
        "id": "CfaGyt7GNED0",
        "outputId": "572dd58e-ff48-4592-b38e-0c00baac211a"
      },
      "execution_count": 7,
      "outputs": [
        {
          "output_type": "stream",
          "name": "stdout",
          "text": [
            "0    241668\n",
            "1       418\n",
            "Name: Class, dtype: int64\n",
            "\n",
            "Fraudes representam 0.1727% do dataset.\n",
            "\n"
          ]
        },
        {
          "output_type": "display_data",
          "data": {
            "text/plain": [
              "<Figure size 432x288 with 1 Axes>"
            ],
            "image/png": "[encoded data removed]"
          },
          "metadata": {
            "needs_background": "light"
          }
        }
      ]
    },
    {
      "cell_type": "markdown",
      "source": [
        "Note a desproporcionalidade entre a quantidade de entradas no campo de classificação. Isso irá interferir diretamente no modelo, logo, para conseguirmos desenvolver um modelo de classificação eficiente, será necessária uma etapa prévia de balanceamento dos dados."
      ],
      "metadata": {
        "id": "pMFWjnRHOGeL"
      }
    },
    {
      "cell_type": "markdown",
      "source": [
        "Mas antes disso, vamos analisar de forma mais aprofundada as variáveis `Time` e `Amount` em relação à classificação (`Class`), tendo em vista que isso pode nos trazer informações relevantes. Primeiramente vamos verificar a distribuição das transações normais e fraudulentas em relação ao tempo."
      ],
      "metadata": {
        "id": "O6X6Nq7i_5_P"
      }
    },
    {
      "cell_type": "code",
      "source": [
        "fig, ax = plt.subplots(nrows=2, ncols=1, figsize=(10,5))\n",
        "\n",
        "num_bins = 45\n",
        "\n",
        "ax[0].hist(df.Time[df.Class==0], bins=num_bins)\n",
        "ax[0].set_title('Normal Transactions');\n",
        "\n",
        "ax[1].hist(df.Time[df.Class==1], bins=num_bins)\n",
        "ax[1].set_title('Fraud Transactions');\n",
        "\n",
        "plt.tight_layout()"
      ],
      "metadata": {
        "colab": {
          "base_uri": "https://localhost:8080/",
          "height": 369
        },
        "id": "VpvZ4e2jEv01",
        "outputId": "4297c454-9045-45cd-db99-32e3ef8a7f09"
      },
      "execution_count": 8,
      "outputs": [
        {
          "output_type": "display_data",
          "data": {
            "text/plain": [
              "<Figure size 720x360 with 2 Axes>"
            ],
            "image/png": "[encoded data removed]"
          },
          "metadata": {
            "needs_background": "light"
          }
        }
      ]
    },
    {
      "cell_type": "markdown",
      "source": [
        "Não foi possível extrair nenhuma informação relevante desta análise. Vamos verificar a distribuição das quantias das transações normais e fraudulentas utilizando a ferramenta *BoxPlot*."
      ],
      "metadata": {
        "id": "4rcWYKE6HkF9"
      }
    },
    {
      "cell_type": "code",
      "source": [
        "fig, ax = plt.subplots(figsize=(6,10), sharex=True)\n",
        "\n",
        "sns.boxplot(df.Class, df.Amount, showmeans=True, ax=ax)\n",
        "plt.ylim((-10, 500))\n",
        "plt.xticks([0, 1], ['Normal', 'Fraud'])\n",
        "\n",
        "plt.tight_layout()"
      ],
      "metadata": {
        "colab": {
          "base_uri": "https://localhost:8080/",
          "height": 729
        },
        "id": "UeUg7Z8xIM48",
        "outputId": "84f04e39-5123-4d58-821f-b4d3b7cd04d4"
      },
      "execution_count": 9,
      "outputs": [
        {
          "output_type": "display_data",
          "data": {
            "text/plain": [
              "<Figure size 432x720 with 1 Axes>"
            ],
            "image/png": "[encoded data removed]"
          },
          "metadata": {
            "needs_background": "light"
          }
        }
      ]
    },
    {
      "cell_type": "markdown",
      "source": [
        "Neste gráfico podemos verificar que há um diferença relevante na distribuição da variável `Amount` dentre as transações normais e fraudes. Essa variável provavelmente irá nos ajudar no treinamento do modelo de classificação nas próximas etapas."
      ],
      "metadata": {
        "id": "t6O_KGjzJxa0"
      }
    },
    {
      "cell_type": "markdown",
      "source": [
        "Para finalizar essa análise prévia, vamos gerar os gráficos de densidade para as variáveis, divididas entre as entradas de transações normais e fraudulentas."
      ],
      "metadata": {
        "id": "DtzXMWbyu11p"
      }
    },
    {
      "cell_type": "code",
      "source": [
        "column_names = df.drop(['Class', 'Amount', 'Time'], axis=1).columns\n",
        "num_plots = len(column_names)\n",
        "df_class0 = df[df.Class == 0]\n",
        "df_class1 = df[df.Class == 1]\n",
        "\n",
        "fig, ax = plt.subplots(nrows=7, ncols=4, figsize=(18,18))\n",
        "fig.subplots_adjust(hspace=1, wspace=1)\n",
        "\n",
        "idx = 0\n",
        "for col in column_names:\n",
        "  idx += 1\n",
        "  plt.subplot(7, 4, idx)\n",
        "  sns.kdeplot(df_class0[col], label=\"Class 0\", color='blue', shade=True)\n",
        "  sns.kdeplot(df_class1[col], label=\"Class 1\", color='red', shade=True)\n",
        "  plt.title(col, fontsize=10)\n",
        "\n",
        "plt.tight_layout()"
      ],
      "metadata": {
        "colab": {
          "base_uri": "https://localhost:8080/",
          "height": 1000
        },
        "id": "Q2aGTzhYwo-l",
        "outputId": "61050f92-0087-4e43-8ba1-9b190104720c"
      },
      "execution_count": 10,
      "outputs": [
        {
          "output_type": "display_data",
          "data": {
            "text/plain": [
              "<Figure size 1296x1296 with 28 Axes>"
            ],
            "image/png": "[encoded data removed]"
          },
          "metadata": {
            "needs_background": "light"
          }
        }
      ]
    },
    {
      "cell_type": "markdown",
      "source": [
        "É possível identificar comportamentos diferentes para uma série de variáveis, por exemplo: **V12, V14, V17, etc.** Enquanto outras variáveis possuem distribuição similar para casos normais e de fraudes: **V15, V23, V28, etc.**\n",
        "\n",
        "São as variáveis com distribuições diferentes entre as transações normais e fraudulentas que nos permitiram desenvolver o modelo de classificação.\n"
      ],
      "metadata": {
        "id": "dfDGFzuEMs8Z"
      }
    },
    {
      "cell_type": "markdown",
      "metadata": {
        "id": "ULe7z0jZt0EH"
      },
      "source": [
        "## Preparação dos Dados"
      ]
    },
    {
      "cell_type": "markdown",
      "source": [
        "Aqui faremos a preparação dos dados para posterior desenvolvimento do modelo de Machine Learning. Esta etapa consiste da divisão do conjunto de dados entre treino e validação, balanceamento dos dados e a normalização das variáveis `Time` e `Amount`."
      ],
      "metadata": {
        "id": "ZQHQiy1LZB-6"
      }
    },
    {
      "cell_type": "markdown",
      "source": [
        "### **Normalização das variáveis `Time` e `Amount`**"
      ],
      "metadata": {
        "id": "D6fgIloGaCdr"
      }
    },
    {
      "cell_type": "markdown",
      "source": [
        "Conforme identificamos durante nossa análise exploratória, as variáveis `Time` e `Amount` não foram pré-processadas e, portanto, devemos normalizar seus respectivos dados antes de darmos sequência no desenvolvimento do modelo. Para tal operação, será realizada a padronização através da classe `StandardScaler`."
      ],
      "metadata": {
        "id": "B28LwXjKXtSr"
      }
    },
    {
      "cell_type": "code",
      "metadata": {
        "id": "IqfjG_SUSTi-",
        "colab": {
          "base_uri": "https://localhost:8080/",
          "height": 0
        },
        "outputId": "9c375f72-de42-47e8-8bd4-17fda8621f87"
      },
      "source": [
        "df_clean = df.copy()\n",
        "\n",
        "std_scaler = StandardScaler()\n",
        "df_clean['std_amount'] = std_scaler.fit_transform(df_clean['Amount'].values.reshape(-1, 1))\n",
        "df_clean['std_time'] = std_scaler.fit_transform(df_clean['Time'].values.reshape(-1, 1))\n",
        "\n",
        "df_clean.drop(['Time', 'Amount'], axis=1, inplace=True)\n",
        "\n",
        "df_clean.head()"
      ],
      "execution_count": 11,
      "outputs": [
        {
          "output_type": "execute_result",
          "data": {
            "text/plain": [
              "         V1        V2        V3        V4        V5        V6        V7  \\\n",
              "0 -1.359807 -0.072781  2.536347  1.378155 -0.338321  0.462388  0.239599   \n",
              "1  1.191857  0.266151  0.166480  0.448154  0.060018 -0.082361 -0.078803   \n",
              "2 -1.358354 -1.340163  1.773209  0.379780 -0.503198  1.800499  0.791461   \n",
              "3 -0.966272 -0.185226  1.792993 -0.863291 -0.010309  1.247203  0.237609   \n",
              "4 -1.158233  0.877737  1.548718  0.403034 -0.407193  0.095921  0.592941   \n",
              "\n",
              "         V8        V9       V10  ...       V22       V23       V24       V25  \\\n",
              "0  0.098698  0.363787  0.090794  ...  0.277838 -0.110474  0.066928  0.128539   \n",
              "1  0.085102 -0.255425 -0.166974  ... -0.638672  0.101288 -0.339846  0.167170   \n",
              "2  0.247676 -1.514654  0.207643  ...  0.771679  0.909412 -0.689281 -0.327642   \n",
              "3  0.377436 -1.387024 -0.054952  ...  0.005274 -0.190321 -1.175575  0.647376   \n",
              "4 -0.270533  0.817739  0.753074  ...  0.798278 -0.137458  0.141267 -0.206010   \n",
              "\n",
              "        V26       V27       V28  Class  std_amount  std_time  \n",
              "0 -0.189115  0.133558 -0.021053      0    0.246341 -1.997399  \n",
              "1  0.125895 -0.008983  0.014724      0   -0.346945 -1.997399  \n",
              "2 -0.139097 -0.055353 -0.059752      0    1.171178 -1.997378  \n",
              "3 -0.221929  0.062723  0.061458      0    0.140872 -1.997378  \n",
              "4  0.502292  0.219422  0.215153      0   -0.075195 -1.997357  \n",
              "\n",
              "[5 rows x 31 columns]"
            ],
            "text/html": [
              "\n",
              "  <div id=\"df-250cc176-0c8a-4477-a8b4-0ce74fcd0650\">\n",
              "    <div class=\"colab-df-container\">\n",
              "      <div>\n",
              "<style scoped>\n",
              "    .dataframe tbody tr th:only-of-type {\n",
              "        vertical-align: middle;\n",
              "    }\n",
              "\n",
              "    .dataframe tbody tr th {\n",
              "        vertical-align: top;\n",
              "    }\n",
              "\n",
              "    .dataframe thead th {\n",
              "        text-align: right;\n",
              "    }\n",
              "</style>\n",
              "<table border=\"1\" class=\"dataframe\">\n",
              "  <thead>\n",
              "    <tr style=\"text-align: right;\">\n",
              "      <th></th>\n",
              "      <th>V1</th>\n",
              "      <th>V2</th>\n",
              "      <th>V3</th>\n",
              "      <th>V4</th>\n",
              "      <th>V5</th>\n",
              "      <th>V6</th>\n",
              "      <th>V7</th>\n",
              "      <th>V8</th>\n",
              "      <th>V9</th>\n",
              "      <th>V10</th>\n",
              "      <th>...</th>\n",
              "      <th>V22</th>\n",
              "      <th>V23</th>\n",
              "      <th>V24</th>\n",
              "      <th>V25</th>\n",
              "      <th>V26</th>\n",
              "      <th>V27</th>\n",
              "      <th>V28</th>\n",
              "      <th>Class</th>\n",
              "      <th>std_amount</th>\n",
              "      <th>std_time</th>\n",
              "    </tr>\n",
              "  </thead>\n",
              "  <tbody>\n",
              "    <tr>\n",
              "      <th>0</th>\n",
              "      <td>-1.359807</td>\n",
              "      <td>-0.072781</td>\n",
              "      <td>2.536347</td>\n",
              "      <td>1.378155</td>\n",
              "      <td>-0.338321</td>\n",
              "      <td>0.462388</td>\n",
              "      <td>0.239599</td>\n",
              "      <td>0.098698</td>\n",
              "      <td>0.363787</td>\n",
              "      <td>0.090794</td>\n",
              "      <td>...</td>\n",
              "      <td>0.277838</td>\n",
              "      <td>-0.110474</td>\n",
              "      <td>0.066928</td>\n",
              "      <td>0.128539</td>\n",
              "      <td>-0.189115</td>\n",
              "      <td>0.133558</td>\n",
              "      <td>-0.021053</td>\n",
              "      <td>0</td>\n",
              "      <td>0.246341</td>\n",
              "      <td>-1.997399</td>\n",
              "    </tr>\n",
              "    <tr>\n",
              "      <th>1</th>\n",
              "      <td>1.191857</td>\n",
              "      <td>0.266151</td>\n",
              "      <td>0.166480</td>\n",
              "      <td>0.448154</td>\n",
              "      <td>0.060018</td>\n",
              "      <td>-0.082361</td>\n",
              "      <td>-0.078803</td>\n",
              "      <td>0.085102</td>\n",
              "      <td>-0.255425</td>\n",
              "      <td>-0.166974</td>\n",
              "      <td>...</td>\n",
              "      <td>-0.638672</td>\n",
              "      <td>0.101288</td>\n",
              "      <td>-0.339846</td>\n",
              "      <td>0.167170</td>\n",
              "      <td>0.125895</td>\n",
              "      <td>-0.008983</td>\n",
              "      <td>0.014724</td>\n",
              "      <td>0</td>\n",
              "      <td>-0.346945</td>\n",
              "      <td>-1.997399</td>\n",
              "    </tr>\n",
              "    <tr>\n",
              "      <th>2</th>\n",
              "      <td>-1.358354</td>\n",
              "      <td>-1.340163</td>\n",
              "      <td>1.773209</td>\n",
              "      <td>0.379780</td>\n",
              "      <td>-0.503198</td>\n",
              "      <td>1.800499</td>\n",
              "      <td>0.791461</td>\n",
              "      <td>0.247676</td>\n",
              "      <td>-1.514654</td>\n",
              "      <td>0.207643</td>\n",
              "      <td>...</td>\n",
              "      <td>0.771679</td>\n",
              "      <td>0.909412</td>\n",
              "      <td>-0.689281</td>\n",
              "      <td>-0.327642</td>\n",
              "      <td>-0.139097</td>\n",
              "      <td>-0.055353</td>\n",
              "      <td>-0.059752</td>\n",
              "      <td>0</td>\n",
              "      <td>1.171178</td>\n",
              "      <td>-1.997378</td>\n",
              "    </tr>\n",
              "    <tr>\n",
              "      <th>3</th>\n",
              "      <td>-0.966272</td>\n",
              "      <td>-0.185226</td>\n",
              "      <td>1.792993</td>\n",
              "      <td>-0.863291</td>\n",
              "      <td>-0.010309</td>\n",
              "      <td>1.247203</td>\n",
              "      <td>0.237609</td>\n",
              "      <td>0.377436</td>\n",
              "      <td>-1.387024</td>\n",
              "      <td>-0.054952</td>\n",
              "      <td>...</td>\n",
              "      <td>0.005274</td>\n",
              "      <td>-0.190321</td>\n",
              "      <td>-1.175575</td>\n",
              "      <td>0.647376</td>\n",
              "      <td>-0.221929</td>\n",
              "      <td>0.062723</td>\n",
              "      <td>0.061458</td>\n",
              "      <td>0</td>\n",
              "      <td>0.140872</td>\n",
              "      <td>-1.997378</td>\n",
              "    </tr>\n",
              "    <tr>\n",
              "      <th>4</th>\n",
              "      <td>-1.158233</td>\n",
              "      <td>0.877737</td>\n",
              "      <td>1.548718</td>\n",
              "      <td>0.403034</td>\n",
              "      <td>-0.407193</td>\n",
              "      <td>0.095921</td>\n",
              "      <td>0.592941</td>\n",
              "      <td>-0.270533</td>\n",
              "      <td>0.817739</td>\n",
              "      <td>0.753074</td>\n",
              "      <td>...</td>\n",
              "      <td>0.798278</td>\n",
              "      <td>-0.137458</td>\n",
              "      <td>0.141267</td>\n",
              "      <td>-0.206010</td>\n",
              "      <td>0.502292</td>\n",
              "      <td>0.219422</td>\n",
              "      <td>0.215153</td>\n",
              "      <td>0</td>\n",
              "      <td>-0.075195</td>\n",
              "      <td>-1.997357</td>\n",
              "    </tr>\n",
              "  </tbody>\n",
              "</table>\n",
              "<p>5 rows × 31 columns</p>\n",
              "</div>\n",
              "      <button class=\"colab-df-convert\" onclick=\"convertToInteractive('df-250cc176-0c8a-4477-a8b4-0ce74fcd0650')\"\n",
              "              title=\"Convert this dataframe to an interactive table.\"\n",
              "              style=\"display:none;\">\n",
              "        \n",
              "  <svg xmlns=\"http://www.w3.org/2000/svg\" height=\"24px\"viewBox=\"0 0 24 24\"\n",
              "       width=\"24px\">\n",
              "    <path d=\"M0 0h24v24H0V0z\" fill=\"none\"/>\n",
              "    <path d=\"M18.56 5.44l.94 2.06.94-2.06 2.06-.94-2.06-.94-.94-2.06-.94 2.06-2.06.94zm-11 1L8.5 8.5l.94-2.06 2.06-.94-2.06-.94L8.5 2.5l-.94 2.06-2.06.94zm10 10l.94 2.06.94-2.06 2.06-.94-2.06-.94-.94-2.06-.94 2.06-2.06.94z\"/><path d=\"M17.41 7.96l-1.37-1.37c-.4-.4-.92-.59-1.43-.59-.52 0-1.04.2-1.43.59L10.3 9.45l-7.72 7.72c-.78.78-.78 2.05 0 2.83L4 21.41c.39.39.9.59 1.41.59.51 0 1.02-.2 1.41-.59l7.78-7.78 2.81-2.81c.8-.78.8-2.07 0-2.86zM5.41 20L4 18.59l7.72-7.72 1.47 1.35L5.41 20z\"/>\n",
              "  </svg>\n",
              "      </button>\n",
              "      \n",
              "  <style>\n",
              "    .colab-df-container {\n",
              "      display:flex;\n",
              "      flex-wrap:wrap;\n",
              "      gap: 12px;\n",
              "    }\n",
              "\n",
              "    .colab-df-convert {\n",
              "      background-color: #E8F0FE;\n",
              "      border: none;\n",
              "      border-radius: 50%;\n",
              "      cursor: pointer;\n",
              "      display: none;\n",
              "      fill: #1967D2;\n",
              "      height: 32px;\n",
              "      padding: 0 0 0 0;\n",
              "      width: 32px;\n",
              "    }\n",
              "\n",
              "    .colab-df-convert:hover {\n",
              "      background-color: #E2EBFA;\n",
              "      box-shadow: 0px 1px 2px rgba(60, 64, 67, 0.3), 0px 1px 3px 1px rgba(60, 64, 67, 0.15);\n",
              "      fill: #174EA6;\n",
              "    }\n",
              "\n",
              "    [theme=dark] .colab-df-convert {\n",
              "      background-color: #3B4455;\n",
              "      fill: #D2E3FC;\n",
              "    }\n",
              "\n",
              "    [theme=dark] .colab-df-convert:hover {\n",
              "      background-color: #434B5C;\n",
              "      box-shadow: 0px 1px 3px 1px rgba(0, 0, 0, 0.15);\n",
              "      filter: drop-shadow(0px 1px 2px rgba(0, 0, 0, 0.3));\n",
              "      fill: #FFFFFF;\n",
              "    }\n",
              "  </style>\n",
              "\n",
              "      <script>\n",
              "        const buttonEl =\n",
              "          document.querySelector('#df-250cc176-0c8a-4477-a8b4-0ce74fcd0650 button.colab-df-convert');\n",
              "        buttonEl.style.display =\n",
              "          google.colab.kernel.accessAllowed ? 'block' : 'none';\n",
              "\n",
              "        async function convertToInteractive(key) {\n",
              "          const element = document.querySelector('#df-250cc176-0c8a-4477-a8b4-0ce74fcd0650');\n",
              "          const dataTable =\n",
              "            await google.colab.kernel.invokeFunction('convertToInteractive',\n",
              "                                                     [key], {});\n",
              "          if (!dataTable) return;\n",
              "\n",
              "          const docLinkHtml = 'Like what you see? Visit the ' +\n",
              "            '<a target=\"_blank\" href=https://colab.research.google.com/notebooks/data_table.ipynb>data table notebook</a>'\n",
              "            + ' to learn more about interactive tables.';\n",
              "          element.innerHTML = '';\n",
              "          dataTable['output_type'] = 'display_data';\n",
              "          await google.colab.output.renderOutput(dataTable, element);\n",
              "          const docLink = document.createElement('div');\n",
              "          docLink.innerHTML = docLinkHtml;\n",
              "          element.appendChild(docLink);\n",
              "        }\n",
              "      </script>\n",
              "    </div>\n",
              "  </div>\n",
              "  "
            ]
          },
          "metadata": {},
          "execution_count": 11
        }
      ]
    },
    {
      "cell_type": "markdown",
      "source": [
        "Note que criamos duas novas colunas `std_amount`, referente à quantia (`Amount`) padronizada, e `std_time`, referente ao tempo padronizado. Além de padronizar a ordem de grandeza com as demais variáveis, remove os *outliers* que detectamos anteriormente na variável `Amount`.\n",
        "\n",
        "Note também que removemos as colunas originais, `Amount` e `Time`."
      ],
      "metadata": {
        "id": "2VioyWpYeiWz"
      }
    },
    {
      "cell_type": "markdown",
      "source": [
        "### **Divisão dos Dados: Treino e Validação**"
      ],
      "metadata": {
        "id": "FYPCSURpgo4a"
      }
    },
    {
      "cell_type": "markdown",
      "source": [
        "Para podermos avançar à etapa de balanceamento dos dados, precisamos, primeiramente, separar os dados nos conjuntos de treino e validação. É essencial que isso seja feito antes do balanceamento, assim temos os parâmetros para verificarmos se os dados estão balanceados de forma adequada."
      ],
      "metadata": {
        "id": "hG3mgLLBhlre"
      }
    },
    {
      "cell_type": "code",
      "source": [
        "X = df_clean.drop('Class', axis=1)\n",
        "y = df.Class\n",
        "\n",
        "X_train, X_val, y_train, y_val = train_test_split(X, y, stratify=y, shuffle=True)"
      ],
      "metadata": {
        "id": "_2EdHixrlh6n"
      },
      "execution_count": 12,
      "outputs": []
    },
    {
      "cell_type": "markdown",
      "source": [
        "Agora separamos os dados em quatro novos conjuntos, sendo os DataFrames `X_train` e `Y_train` utilizados para treinamento do modelo e `X_val` e `Y_val` responsáveis pela validação do modelo. Os conjuntos referenciados por \"X\" (`X_train` e `X_val`) são compostos por todas as variáveis do DataFrame original, exceto `Class`, enquanto os conjuntos referenciados por \"Y\" (`Y_train` e `Y_val`) são compostos apenas pelas entradas da variável de classificação, `Class`. \n",
        "\n",
        "\n",
        "\n"
      ],
      "metadata": {
        "id": "hWl2grMAm-mv"
      }
    },
    {
      "cell_type": "markdown",
      "source": [
        "### **Balanceamento dos Dados**"
      ],
      "metadata": {
        "id": "FxfGMa-Io88y"
      }
    },
    {
      "cell_type": "markdown",
      "source": [
        "Temos os dados separados nos conjuntos de treino e validação, podemos prosseguir com a etapa de balanceamento dos dados. Para essa situação optou-se por utilizar o método *Under-Sampling*, que consiste em balancear os dados preservando a classe minoritária que, no nosso caso, é a de fraudes `[Class == 1]`."
      ],
      "metadata": {
        "id": "86v8g7g_pdoz"
      }
    },
    {
      "cell_type": "code",
      "source": [
        "from imblearn.under_sampling import RandomUnderSampler\n",
        "\n",
        "rus = RandomUnderSampler()\n",
        "X_rus, y_rus = rus.fit_resample(X_train, y_train)"
      ],
      "metadata": {
        "id": "FbcIlfFKq5-5"
      },
      "execution_count": 13,
      "outputs": []
    },
    {
      "cell_type": "markdown",
      "source": [
        "Esse método criou dois novos conjuntos, a partir dos dados de treino, com o balanceamento adequado entre as classes. Note que o conjunto `y_rus` está com exatamento 313 entradas classificadas como transações normais e o mesmo valor para transações fraudulentas."
      ],
      "metadata": {
        "id": "dQQxvONtsfjU"
      }
    },
    {
      "cell_type": "code",
      "source": [
        "print(y_rus.value_counts())"
      ],
      "metadata": {
        "colab": {
          "base_uri": "https://localhost:8080/"
        },
        "id": "g-N3ge6jsGfk",
        "outputId": "d4936873-bfe8-4ae1-864a-1cc5d85c3d21"
      },
      "execution_count": 14,
      "outputs": [
        {
          "output_type": "stream",
          "name": "stdout",
          "text": [
            "0    313\n",
            "1    313\n",
            "Name: Class, dtype: int64\n"
          ]
        }
      ]
    },
    {
      "cell_type": "markdown",
      "source": [
        "Outro fator interessante é que, agora com os dados balanceados, podemos plotar a matriz de correlação e identificar quais variáveis estão mais relacionadas com as outras. Vamos verificar a matriz de correlação dos dados não-balanceados e balanceados, para evidenciar a diferença."
      ],
      "metadata": {
        "id": "2LVN0Tnyuz6_"
      }
    },
    {
      "cell_type": "code",
      "source": [
        "corr = X_train.corr()\n",
        "corr_rus = X_rus.corr()\n",
        "\n",
        "fig, ax = plt.subplots(nrows=1, ncols=2, figsize = (18,8))\n",
        "fig.suptitle(\"Matrizes de Correlação\")\n",
        "\n",
        "sns.heatmap(corr, xticklabels=corr.columns, yticklabels=corr.columns,\n",
        "            linewidths=.1, cmap=\"coolwarm\", ax=ax[0])\n",
        "ax[0].set_title('Conjunto Desbalanceado')\n",
        "\n",
        "sns.heatmap(corr_rus, xticklabels=corr_rus.columns, yticklabels=corr_rus.columns,\n",
        "            linewidths=.1, cmap=\"coolwarm\", ax=ax[1])\n",
        "ax[1].set_title('Conjunto Balanceado')\n",
        "\n",
        "plt.show()"
      ],
      "metadata": {
        "colab": {
          "base_uri": "https://localhost:8080/",
          "height": 0
        },
        "id": "833zsZKBvKqR",
        "outputId": "0ac6eed6-4281-4807-b2b5-3839687592f9"
      },
      "execution_count": 15,
      "outputs": [
        {
          "output_type": "display_data",
          "data": {
            "text/plain": [
              "<Figure size 1296x576 with 4 Axes>"
            ],
            "image/png": "[encoded data removed]"
          },
          "metadata": {
            "needs_background": "light"
          }
        }
      ]
    },
    {
      "cell_type": "markdown",
      "source": [
        "Veja como a matriz dos dados desbalanceados não nos traz muita informação relevante, enquanto a matriz de correlação dos dados balanceados nos permite identificar relações muito fortes entre diversas variáveis."
      ],
      "metadata": {
        "id": "tRLjZR4AxVTD"
      }
    },
    {
      "cell_type": "markdown",
      "source": [
        "Agora com a preparação dos dados concluída, podemos dar início a construção do modelo de Machine Learning para classificação das transações."
      ],
      "metadata": {
        "id": "4GF2BkjIyViW"
      }
    },
    {
      "cell_type": "markdown",
      "metadata": {
        "id": "wJNH5qcjRxfX"
      },
      "source": [
        "## Modelo de Machine Learning"
      ]
    },
    {
      "cell_type": "markdown",
      "source": [
        "Para criação do nosso modelo de classificação, utilizaremos a Regressão Logística. Na fase de treinamento utilizaremos os conjuntos de dados balanceados `X_rus` e `y_rus`."
      ],
      "metadata": {
        "id": "o1hEXFGuy7mt"
      }
    },
    {
      "cell_type": "code",
      "metadata": {
        "id": "lDySx8XUSMw_"
      },
      "source": [
        "np.random.seed(2)\n",
        "model = LogisticRegression()\n",
        "model.fit(X_rus, y_rus)\n",
        "\n",
        "y_pred = model.predict(X_val)\n",
        "y_proba = model.predict_proba(X_val)"
      ],
      "execution_count": 16,
      "outputs": []
    },
    {
      "cell_type": "markdown",
      "source": [
        "Certo, já fizemos o treinamento do modelo e as previsões. A próxima etapa é a avaliação de desempenho do nosso modelo de classificação."
      ],
      "metadata": {
        "id": "-FMVq27C1htE"
      }
    },
    {
      "cell_type": "markdown",
      "source": [
        "A primeira ferramenta que utilizaremos para avaliação do desempenho é a matriz de confusão."
      ],
      "metadata": {
        "id": "NjLZdWZK3axx"
      }
    },
    {
      "cell_type": "code",
      "source": [
        "skplt.metrics.plot_confusion_matrix(y_val, y_pred, normalize=True);"
      ],
      "metadata": {
        "colab": {
          "base_uri": "https://localhost:8080/",
          "height": 295
        },
        "id": "6Er6D8AY1hDI",
        "outputId": "12539d1d-6d92-4965-e571-495e785dfab7"
      },
      "execution_count": 17,
      "outputs": [
        {
          "output_type": "display_data",
          "data": {
            "text/plain": [
              "<Figure size 432x288 with 2 Axes>"
            ],
            "image/png": "[encoded data removed]"
          },
          "metadata": {
            "needs_background": "light"
          }
        }
      ]
    },
    {
      "cell_type": "markdown",
      "source": [
        "A matriz de confusão é uma ferramenta muito interessante. De maneira resumida, ela nos apresenta a taxa de acertos para Verdadeiros Positivos (97%) e Verdadeiros Negativos (90%) que no nosso caso significariam, respectivamente, que temos 97% de taxa de acerto em reconhecer transações Normais e 90% de taxa de acerto em reconhecer transações Fraudulentas.\n",
        "\n",
        "Ela também nos apresenta o percentual de Falsos Positivos (3%) e de Falsos Negativos (10%). Isso significa que o modelo previu incorretamente 10% das fraudes como transações normais e 3% das transações normais como fraudes."
      ],
      "metadata": {
        "id": "ra7tPqFw4iZq"
      }
    },
    {
      "cell_type": "markdown",
      "source": [
        "Agora vamos verificar o relatório de classificação. Importante salientar que, para casos como o nosso, em que os dados estavam originalmente desbalanceados, não devemos avaliar o desempenho através da acurácia, a fim de evitar o Paradoxo da Acurácia."
      ],
      "metadata": {
        "id": "6BDkZzoW6nNq"
      }
    },
    {
      "cell_type": "code",
      "source": [
        "print(\"Relatório de Classificação:\\n\", classification_report(y_val, y_pred, digits=4))"
      ],
      "metadata": {
        "colab": {
          "base_uri": "https://localhost:8080/"
        },
        "id": "W0TIzVON8HEZ",
        "outputId": "61cf1884-9969-4641-872d-390aa4d3d181"
      },
      "execution_count": 18,
      "outputs": [
        {
          "output_type": "stream",
          "name": "stdout",
          "text": [
            "Relatório de Classificação:\n",
            "               precision    recall  f1-score   support\n",
            "\n",
            "           0     0.9998    0.9673    0.9833     60417\n",
            "           1     0.0458    0.9048    0.0873       105\n",
            "\n",
            "    accuracy                         0.9672     60522\n",
            "   macro avg     0.5228    0.9360    0.5353     60522\n",
            "weighted avg     0.9982    0.9672    0.9817     60522\n",
            "\n"
          ]
        }
      ]
    },
    {
      "cell_type": "markdown",
      "source": [
        "Ao avaliarmos a coluna `recall` do nosso relatório de classificação, temos os mesmos resultados apresentados na matrix de confusão, referente às taxas de acerto de transações normais e fraudulentas."
      ],
      "metadata": {
        "id": "F2sMNEwB9dfx"
      }
    },
    {
      "cell_type": "markdown",
      "source": [
        "Para finalizar a análise de desempenho, vamos utilizar a métrica **AUC ROC**, ou área sob a curva. A curva ROC mostra o quão bom o modelo criado pode distinguir entre duas coisas (já que é utilizado para classificação) e, por sua vez, o valor AUC nada mais é do que uma forma de representar a curva ROC em um único valor numérico. Quanto mais próximo de 1.0 melhor a eficácia de nosso modelo."
      ],
      "metadata": {
        "id": "TRcaDgQs9x9s"
      }
    },
    {
      "cell_type": "code",
      "source": [
        "print(\"AUC: {:.4f}\\n\".format(roc_auc_score(y_val, y_pred)))"
      ],
      "metadata": {
        "colab": {
          "base_uri": "https://localhost:8080/"
        },
        "id": "_QR76Nsm-5cn",
        "outputId": "5c00470c-5200-491f-8f7c-4f7f6e8f1cfb"
      },
      "execution_count": 19,
      "outputs": [
        {
          "output_type": "stream",
          "name": "stdout",
          "text": [
            "AUC: 0.9360\n",
            "\n"
          ]
        }
      ]
    },
    {
      "cell_type": "markdown",
      "source": [
        "O AUC de nosso modelo de classificação ficou bem alto (0,93 ou 93%), uma ótima eficácia."
      ],
      "metadata": {
        "id": "B3fT2U3QQD6w"
      }
    },
    {
      "cell_type": "markdown",
      "source": [
        "## Simulação com Conjunto de Teste"
      ],
      "metadata": {
        "id": "Hu01pxWHQk9v"
      }
    },
    {
      "cell_type": "markdown",
      "source": [
        "Agora que fizemos as avaliações de desempenho, utilizando os dados de validação, chegou a hora de utilizar nosso modelo com os dados de teste, que separamos em um DataFrame logo no início do projeto.\n",
        "\n",
        "Importante relembrarmos que o conjunto de teste não passou pelas etapas de preparação dos dados, logo, para termos uma comparação adequada, precisamos realizar alguns ajustes no *dataset*. Neste conjunto iremos apenas padronizar as colunas `Time` e `Amount`, não realizando o balanceamento dos dados. Para essa situação queremos simular uma condição \"real\" de proporção."
      ],
      "metadata": {
        "id": "2NV8epWWWV16"
      }
    },
    {
      "cell_type": "code",
      "source": [
        "test_clean = test.copy()\n",
        "\n",
        "std_scaler = StandardScaler()\n",
        "test_clean['std_amount'] = std_scaler.fit_transform(test_clean['Amount'].values.reshape(-1, 1))\n",
        "test_clean['std_time'] = std_scaler.fit_transform(test_clean['Time'].values.reshape(-1, 1))\n",
        "\n",
        "test_clean.drop(['Time', 'Amount'], axis=1, inplace=True)\n",
        "\n",
        "test_clean.head()"
      ],
      "metadata": {
        "colab": {
          "base_uri": "https://localhost:8080/",
          "height": 299
        },
        "id": "TdBvrWkSZLSO",
        "outputId": "dc80d546-427b-42fe-fc49-6204c7337ad6"
      },
      "execution_count": 20,
      "outputs": [
        {
          "output_type": "execute_result",
          "data": {
            "text/plain": [
              "              V1        V2        V3        V4        V5        V6        V7  \\\n",
              "183484 -0.323334  1.057455 -0.048341 -0.607204  1.259821 -0.091761  1.159101   \n",
              "255448 -0.349718  0.932619  0.142992 -0.657071  1.169784 -0.733369  1.009985   \n",
              "244749 -1.614711 -2.406570  0.326194  0.665520  2.369268 -1.775367 -1.139049   \n",
              "63919  -2.477184  0.860613  1.441850  1.051019 -1.856621  2.078384  0.510828   \n",
              "11475   1.338831 -0.547264  0.737389 -0.212383 -1.110039 -0.525744 -0.801403   \n",
              "\n",
              "              V8        V9       V10  ...       V22       V23       V24  \\\n",
              "183484 -0.124335 -0.174640 -1.644401  ... -0.433890 -0.261613 -0.046651   \n",
              "255448 -0.071069 -0.302083 -1.192404  ... -0.833209 -0.030360  0.490035   \n",
              "244749  0.329904  0.903813 -0.219013  ...  1.134489  0.965054  0.640981   \n",
              "63919  -0.243399 -0.260691  0.133040  ...  0.692245  0.150121 -0.260777   \n",
              "11475  -0.063672  0.997276  0.113386  ... -0.074719  0.067055  0.333122   \n",
              "\n",
              "             V25       V26       V27       V28  Class  std_amount  std_time  \n",
              "183484  0.211512  0.008297  0.108494  0.161139      0   -0.177738  0.658372  \n",
              "255448 -0.404816  0.134350  0.076830  0.175562      0   -0.321945  1.320094  \n",
              "244749 -1.801998 -1.041114  0.286285  0.437322      0    0.034666  1.219742  \n",
              "63919   0.005183 -0.177847 -0.510060 -0.660533      0    0.838765 -0.919236  \n",
              "11475   0.379087 -0.268706 -0.002769  0.003272      0   -0.310490 -1.572827  \n",
              "\n",
              "[5 rows x 31 columns]"
            ],
            "text/html": [
              "\n",
              "  <div id=\"df-e4112399-302b-413d-82a9-2d0a517f292d\">\n",
              "    <div class=\"colab-df-container\">\n",
              "      <div>\n",
              "<style scoped>\n",
              "    .dataframe tbody tr th:only-of-type {\n",
              "        vertical-align: middle;\n",
              "    }\n",
              "\n",
              "    .dataframe tbody tr th {\n",
              "        vertical-align: top;\n",
              "    }\n",
              "\n",
              "    .dataframe thead th {\n",
              "        text-align: right;\n",
              "    }\n",
              "</style>\n",
              "<table border=\"1\" class=\"dataframe\">\n",
              "  <thead>\n",
              "    <tr style=\"text-align: right;\">\n",
              "      <th></th>\n",
              "      <th>V1</th>\n",
              "      <th>V2</th>\n",
              "      <th>V3</th>\n",
              "      <th>V4</th>\n",
              "      <th>V5</th>\n",
              "      <th>V6</th>\n",
              "      <th>V7</th>\n",
              "      <th>V8</th>\n",
              "      <th>V9</th>\n",
              "      <th>V10</th>\n",
              "      <th>...</th>\n",
              "      <th>V22</th>\n",
              "      <th>V23</th>\n",
              "      <th>V24</th>\n",
              "      <th>V25</th>\n",
              "      <th>V26</th>\n",
              "      <th>V27</th>\n",
              "      <th>V28</th>\n",
              "      <th>Class</th>\n",
              "      <th>std_amount</th>\n",
              "      <th>std_time</th>\n",
              "    </tr>\n",
              "  </thead>\n",
              "  <tbody>\n",
              "    <tr>\n",
              "      <th>183484</th>\n",
              "      <td>-0.323334</td>\n",
              "      <td>1.057455</td>\n",
              "      <td>-0.048341</td>\n",
              "      <td>-0.607204</td>\n",
              "      <td>1.259821</td>\n",
              "      <td>-0.091761</td>\n",
              "      <td>1.159101</td>\n",
              "      <td>-0.124335</td>\n",
              "      <td>-0.174640</td>\n",
              "      <td>-1.644401</td>\n",
              "      <td>...</td>\n",
              "      <td>-0.433890</td>\n",
              "      <td>-0.261613</td>\n",
              "      <td>-0.046651</td>\n",
              "      <td>0.211512</td>\n",
              "      <td>0.008297</td>\n",
              "      <td>0.108494</td>\n",
              "      <td>0.161139</td>\n",
              "      <td>0</td>\n",
              "      <td>-0.177738</td>\n",
              "      <td>0.658372</td>\n",
              "    </tr>\n",
              "    <tr>\n",
              "      <th>255448</th>\n",
              "      <td>-0.349718</td>\n",
              "      <td>0.932619</td>\n",
              "      <td>0.142992</td>\n",
              "      <td>-0.657071</td>\n",
              "      <td>1.169784</td>\n",
              "      <td>-0.733369</td>\n",
              "      <td>1.009985</td>\n",
              "      <td>-0.071069</td>\n",
              "      <td>-0.302083</td>\n",
              "      <td>-1.192404</td>\n",
              "      <td>...</td>\n",
              "      <td>-0.833209</td>\n",
              "      <td>-0.030360</td>\n",
              "      <td>0.490035</td>\n",
              "      <td>-0.404816</td>\n",
              "      <td>0.134350</td>\n",
              "      <td>0.076830</td>\n",
              "      <td>0.175562</td>\n",
              "      <td>0</td>\n",
              "      <td>-0.321945</td>\n",
              "      <td>1.320094</td>\n",
              "    </tr>\n",
              "    <tr>\n",
              "      <th>244749</th>\n",
              "      <td>-1.614711</td>\n",
              "      <td>-2.406570</td>\n",
              "      <td>0.326194</td>\n",
              "      <td>0.665520</td>\n",
              "      <td>2.369268</td>\n",
              "      <td>-1.775367</td>\n",
              "      <td>-1.139049</td>\n",
              "      <td>0.329904</td>\n",
              "      <td>0.903813</td>\n",
              "      <td>-0.219013</td>\n",
              "      <td>...</td>\n",
              "      <td>1.134489</td>\n",
              "      <td>0.965054</td>\n",
              "      <td>0.640981</td>\n",
              "      <td>-1.801998</td>\n",
              "      <td>-1.041114</td>\n",
              "      <td>0.286285</td>\n",
              "      <td>0.437322</td>\n",
              "      <td>0</td>\n",
              "      <td>0.034666</td>\n",
              "      <td>1.219742</td>\n",
              "    </tr>\n",
              "    <tr>\n",
              "      <th>63919</th>\n",
              "      <td>-2.477184</td>\n",
              "      <td>0.860613</td>\n",
              "      <td>1.441850</td>\n",
              "      <td>1.051019</td>\n",
              "      <td>-1.856621</td>\n",
              "      <td>2.078384</td>\n",
              "      <td>0.510828</td>\n",
              "      <td>-0.243399</td>\n",
              "      <td>-0.260691</td>\n",
              "      <td>0.133040</td>\n",
              "      <td>...</td>\n",
              "      <td>0.692245</td>\n",
              "      <td>0.150121</td>\n",
              "      <td>-0.260777</td>\n",
              "      <td>0.005183</td>\n",
              "      <td>-0.177847</td>\n",
              "      <td>-0.510060</td>\n",
              "      <td>-0.660533</td>\n",
              "      <td>0</td>\n",
              "      <td>0.838765</td>\n",
              "      <td>-0.919236</td>\n",
              "    </tr>\n",
              "    <tr>\n",
              "      <th>11475</th>\n",
              "      <td>1.338831</td>\n",
              "      <td>-0.547264</td>\n",
              "      <td>0.737389</td>\n",
              "      <td>-0.212383</td>\n",
              "      <td>-1.110039</td>\n",
              "      <td>-0.525744</td>\n",
              "      <td>-0.801403</td>\n",
              "      <td>-0.063672</td>\n",
              "      <td>0.997276</td>\n",
              "      <td>0.113386</td>\n",
              "      <td>...</td>\n",
              "      <td>-0.074719</td>\n",
              "      <td>0.067055</td>\n",
              "      <td>0.333122</td>\n",
              "      <td>0.379087</td>\n",
              "      <td>-0.268706</td>\n",
              "      <td>-0.002769</td>\n",
              "      <td>0.003272</td>\n",
              "      <td>0</td>\n",
              "      <td>-0.310490</td>\n",
              "      <td>-1.572827</td>\n",
              "    </tr>\n",
              "  </tbody>\n",
              "</table>\n",
              "<p>5 rows × 31 columns</p>\n",
              "</div>\n",
              "      <button class=\"colab-df-convert\" onclick=\"convertToInteractive('df-e4112399-302b-413d-82a9-2d0a517f292d')\"\n",
              "              title=\"Convert this dataframe to an interactive table.\"\n",
              "              style=\"display:none;\">\n",
              "        \n",
              "  <svg xmlns=\"http://www.w3.org/2000/svg\" height=\"24px\"viewBox=\"0 0 24 24\"\n",
              "       width=\"24px\">\n",
              "    <path d=\"M0 0h24v24H0V0z\" fill=\"none\"/>\n",
              "    <path d=\"M18.56 5.44l.94 2.06.94-2.06 2.06-.94-2.06-.94-.94-2.06-.94 2.06-2.06.94zm-11 1L8.5 8.5l.94-2.06 2.06-.94-2.06-.94L8.5 2.5l-.94 2.06-2.06.94zm10 10l.94 2.06.94-2.06 2.06-.94-2.06-.94-.94-2.06-.94 2.06-2.06.94z\"/><path d=\"M17.41 7.96l-1.37-1.37c-.4-.4-.92-.59-1.43-.59-.52 0-1.04.2-1.43.59L10.3 9.45l-7.72 7.72c-.78.78-.78 2.05 0 2.83L4 21.41c.39.39.9.59 1.41.59.51 0 1.02-.2 1.41-.59l7.78-7.78 2.81-2.81c.8-.78.8-2.07 0-2.86zM5.41 20L4 18.59l7.72-7.72 1.47 1.35L5.41 20z\"/>\n",
              "  </svg>\n",
              "      </button>\n",
              "      \n",
              "  <style>\n",
              "    .colab-df-container {\n",
              "      display:flex;\n",
              "      flex-wrap:wrap;\n",
              "      gap: 12px;\n",
              "    }\n",
              "\n",
              "    .colab-df-convert {\n",
              "      background-color: #E8F0FE;\n",
              "      border: none;\n",
              "      border-radius: 50%;\n",
              "      cursor: pointer;\n",
              "      display: none;\n",
              "      fill: #1967D2;\n",
              "      height: 32px;\n",
              "      padding: 0 0 0 0;\n",
              "      width: 32px;\n",
              "    }\n",
              "\n",
              "    .colab-df-convert:hover {\n",
              "      background-color: #E2EBFA;\n",
              "      box-shadow: 0px 1px 2px rgba(60, 64, 67, 0.3), 0px 1px 3px 1px rgba(60, 64, 67, 0.15);\n",
              "      fill: #174EA6;\n",
              "    }\n",
              "\n",
              "    [theme=dark] .colab-df-convert {\n",
              "      background-color: #3B4455;\n",
              "      fill: #D2E3FC;\n",
              "    }\n",
              "\n",
              "    [theme=dark] .colab-df-convert:hover {\n",
              "      background-color: #434B5C;\n",
              "      box-shadow: 0px 1px 3px 1px rgba(0, 0, 0, 0.15);\n",
              "      filter: drop-shadow(0px 1px 2px rgba(0, 0, 0, 0.3));\n",
              "      fill: #FFFFFF;\n",
              "    }\n",
              "  </style>\n",
              "\n",
              "      <script>\n",
              "        const buttonEl =\n",
              "          document.querySelector('#df-e4112399-302b-413d-82a9-2d0a517f292d button.colab-df-convert');\n",
              "        buttonEl.style.display =\n",
              "          google.colab.kernel.accessAllowed ? 'block' : 'none';\n",
              "\n",
              "        async function convertToInteractive(key) {\n",
              "          const element = document.querySelector('#df-e4112399-302b-413d-82a9-2d0a517f292d');\n",
              "          const dataTable =\n",
              "            await google.colab.kernel.invokeFunction('convertToInteractive',\n",
              "                                                     [key], {});\n",
              "          if (!dataTable) return;\n",
              "\n",
              "          const docLinkHtml = 'Like what you see? Visit the ' +\n",
              "            '<a target=\"_blank\" href=https://colab.research.google.com/notebooks/data_table.ipynb>data table notebook</a>'\n",
              "            + ' to learn more about interactive tables.';\n",
              "          element.innerHTML = '';\n",
              "          dataTable['output_type'] = 'display_data';\n",
              "          await google.colab.output.renderOutput(dataTable, element);\n",
              "          const docLink = document.createElement('div');\n",
              "          docLink.innerHTML = docLinkHtml;\n",
              "          element.appendChild(docLink);\n",
              "        }\n",
              "      </script>\n",
              "    </div>\n",
              "  </div>\n",
              "  "
            ]
          },
          "metadata": {},
          "execution_count": 20
        }
      ]
    },
    {
      "cell_type": "code",
      "source": [
        "X_test = test_clean.drop('Class', axis=1)\n",
        "y_test = test['Class']\n",
        "\n",
        "y_pred2 = model.predict(X_test)\n",
        "y_proba2 = model.predict_proba(X_test)"
      ],
      "metadata": {
        "id": "eLwIstdNbf4o"
      },
      "execution_count": 21,
      "outputs": []
    },
    {
      "cell_type": "markdown",
      "source": [
        "Vamos ver como foi o desempenho do modelo na classificação dos dados de teste:"
      ],
      "metadata": {
        "id": "g03wrK8ocLsB"
      }
    },
    {
      "cell_type": "code",
      "source": [
        "skplt.metrics.plot_confusion_matrix(y_test, y_pred2, normalize=True);\n",
        "\n",
        "# imprimir relatório de classificação\n",
        "print(\"Relatório de Classificação:\\n\", classification_report(y_test, y_pred2, digits=4))\n",
        "\n",
        "# imprimir a área sob da curva\n",
        "print(\"AUC: {:.4f}\\n\".format(roc_auc_score(y_test, y_pred2)))"
      ],
      "metadata": {
        "colab": {
          "base_uri": "https://localhost:8080/",
          "height": 516
        },
        "id": "rVn1vwQ7dN1q",
        "outputId": "308410f3-0512-40d3-8e56-cba410477f51"
      },
      "execution_count": 22,
      "outputs": [
        {
          "output_type": "stream",
          "name": "stdout",
          "text": [
            "Relatório de Classificação:\n",
            "               precision    recall  f1-score   support\n",
            "\n",
            "           0     0.9999    0.9688    0.9841     42647\n",
            "           1     0.0507    0.9595    0.0963        74\n",
            "\n",
            "    accuracy                         0.9688     42721\n",
            "   macro avg     0.5253    0.9641    0.5402     42721\n",
            "weighted avg     0.9983    0.9688    0.9826     42721\n",
            "\n",
            "AUC: 0.9641\n",
            "\n"
          ]
        },
        {
          "output_type": "display_data",
          "data": {
            "text/plain": [
              "<Figure size 432x288 with 2 Axes>"
            ],
            "image/png": "[encoded data removed]"
          },
          "metadata": {
            "needs_background": "light"
          }
        }
      ]
    },
    {
      "cell_type": "markdown",
      "source": [
        "Note que o desempenho do modelo de classificação foi extremamente eficiente, apresentando um valor **AUC** ainda maior do que o obtido com os dados de validação."
      ],
      "metadata": {
        "id": "vYFeLYB6oukk"
      }
    },
    {
      "cell_type": "markdown",
      "metadata": {
        "id": "0Bj7zRZMSfO7"
      },
      "source": [
        "## Conclusão"
      ]
    },
    {
      "cell_type": "markdown",
      "source": [
        "Mesmo tratando-se de um processo complexo, esse projeto evidencia a eficiência com que os modelos de Machine Learning são capazes de operar e, dessa forma, agregar imenso valor para os mais diferentes segmentos de negócios. Utilizando como referência os resultados da simulação com os dados de teste, a aplicação deste modelo representaria uma redução de 92% de transações fraudulentas. O impacto financeiro e o melhoria na experiência do cliente são muito significativos.\n",
        "\n",
        "<br>\n",
        "<p align=center>\n",
        "<img src=\"https://www.cio.com/wp-content/uploads/2021/12/data_analytics_risk_assessment_tracking_trends_graphs_by_ipopba_gettyimages-1150397416_2400x1600-100828857-orig-6.jpg?quality=50&strip=all&w=1024\" width=\"50%\"></p>\n",
        "</br>"
      ],
      "metadata": {
        "id": "qpn1oBczp1cO"
      }
    }
  ]
}